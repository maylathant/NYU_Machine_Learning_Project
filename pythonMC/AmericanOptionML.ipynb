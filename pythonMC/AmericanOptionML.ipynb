{
 "cells": [
  {
   "cell_type": "code",
   "execution_count": 3,
   "metadata": {
    "collapsed": true
   },
   "outputs": [],
   "source": [
    "import proj_helpers.FinObj as fin\n",
    "import numpy as np\n",
    "import proj_helpers.riskEngine as risk"
   ]
  },
  {
   "cell_type": "code",
   "execution_count": 4,
   "metadata": {
    "collapsed": true
   },
   "outputs": [],
   "source": [
    "#Map for units of time\n",
    "t_map = {'2y':0.5,'year':1,'semester':2,'quarter':4,'month':12,'week':52,'2day':180,'day':360}"
   ]
  },
  {
   "cell_type": "code",
   "execution_count": 5,
   "metadata": {
    "collapsed": true
   },
   "outputs": [],
   "source": [
    "#MC Parameters\n",
    "paths = 1000000\n",
    "t_del = 1\n",
    "\n",
    "t_unit = 200 #Unit of time: default = 1 for years, 12 for months, 360 for days etc...\n",
    "time_s = 200 #Total number of time steps in t_units"
   ]
  },
  {
   "cell_type": "code",
   "execution_count": 6,
   "metadata": {
    "collapsed": true
   },
   "outputs": [],
   "source": [
    "#Stock Parameters\n",
    "spot = 100\n",
    "vol = 0.11 #vol per year\n",
    "rate = 0.01 #Rate in years\n",
    "div = 0.0\n",
    "expr = time_s/t_unit\n",
    "\n",
    "#Share object\n",
    "share1 = fin.Stock(spot,vol,t_unit,rate)"
   ]
  },
  {
   "cell_type": "code",
   "execution_count": 7,
   "metadata": {
    "collapsed": true
   },
   "outputs": [],
   "source": [
    "strike=100\n",
    "payoff=fin.amCallVec #Define option payoff\n",
    "\n",
    "#Option Parameters\n",
    "myOption = fin.Option(share1,payoff,time_s,strike,t_unit)\n",
    "\n",
    "callbs=risk.BSCall(spot, strike, div, rate, vol, expr) #Compute black scholes price"
   ]
  },
  {
   "cell_type": "code",
   "execution_count": null,
   "metadata": {},
   "outputs": [
    {
     "name": "stderr",
     "output_type": "stream",
     "text": [
      "/Users/anthonymaylath/Documents/Schoolwork/NYU/High_Performance_Computing/Thesis/proposal/proj_helpers/FinObj.py:308: FutureWarning: `rcond` parameter will change to the default of machine precision times ``max(M, N)`` where M and N are the input matrix dimensions.\n",
      "To use the future default and silence this warning we advise to pass `rcond=None`, to keep using the old, explicitly pass `rcond=-1`.\n",
      "  betas = np.linalg.lstsq(X,Ct1)[0]\n"
     ]
    },
    {
     "name": "stdout",
     "output_type": "stream",
     "text": [
      "Time : 0.08104395866394043, Paths : 10 LSM Price : 4.708796322867672 BS Price : 4.879844122033347\n",
      "Time : 0.057517051696777344, Paths : 100 LSM Price : 5.044380555736719 BS Price : 4.879844122033347\n",
      "Time : 0.06676912307739258, Paths : 250 LSM Price : 4.573981710984233 BS Price : 4.879844122033347\n",
      "Time : 0.09985089302062988, Paths : 500 LSM Price : 4.978169152076109 BS Price : 4.879844122033347\n",
      "Time : 0.11223483085632324, Paths : 1000 LSM Price : 5.046243430620663 BS Price : 4.879844122033347\n",
      "Time : 0.1846299171447754, Paths : 2000 LSM Price : 4.873162255583476 BS Price : 4.879844122033347\n",
      "Time : 0.3657991886138916, Paths : 5000 LSM Price : 4.929237239942869 BS Price : 4.879844122033347\n",
      "Time : 0.5012831687927246, Paths : 7500 LSM Price : 4.836615548741757 BS Price : 4.879844122033347\n",
      "Time : 0.673529863357544, Paths : 10000 LSM Price : 4.857545194831319 BS Price : 4.879844122033347\n",
      "Time : 1.6947999000549316, Paths : 25000 LSM Price : 4.838647159816546 BS Price : 4.879844122033347\n",
      "Time : 4.179031133651733, Paths : 50000 LSM Price : 4.899466880025656 BS Price : 4.879844122033347\n",
      "Time : 8.257575988769531, Paths : 100000 LSM Price : 4.857487495081474 BS Price : 4.879844122033347\n",
      "Time : 48.433887004852295, Paths : 500000 LSM Price : 4.8676783939815 BS Price : 4.879844122033347\n"
     ]
    }
   ],
   "source": [
    "#Test against BS Call Price for paths\n",
    "import time\n",
    "call_p = {} #Call prices as a function of path size\n",
    "path_array = [10,100,250,500,1000,2000,5000,7500,10000,25000,50000,100000,500000,1000000]\n",
    "for paths in path_array:\n",
    "    t0=time.time()\n",
    "    test=fin.bridgePayoffs(share1,myOption,paths,time_s,t_unit,scheme=fin.mc_Mil,anti=True,num_basis=4)\n",
    "    call_p[paths]=np.mean(test)\n",
    "    print(\"Time : \"+str(time.time()-t0)+\", Paths : \"+str(paths)\\\n",
    "         +\" LSM Price : \"+str(call_p[paths])+\" BS Price : \"+str(callbs))"
   ]
  },
  {
   "cell_type": "code",
   "execution_count": null,
   "metadata": {
    "collapsed": true
   },
   "outputs": [],
   "source": [
    "#Test against BS Call Price for time steps\n",
    "paths = 75000\n",
    "call_pst = {} #Call prices as a function of path size\n",
    "step_array = [2,10,25,50,75,100,150,200]\n",
    "for t in step_array:\n",
    "    t0=time.time()\n",
    "    test=fin.bridgePayoffs(share1,myOption,paths,t,t_unit,scheme=fin.mc_Mil,anti=True,num_basis=4)\n",
    "    call_pst[t]=np.mean(test)\n",
    "    print(\"Time : \"+str(time.time()-t0)+\", Time Steps : \"+str(t)\\\n",
    "         +\" LSM Price : \"+str(call_pst[t])+\" BS Price : \"+str(callbs))"
   ]
  },
  {
   "cell_type": "code",
   "execution_count": null,
   "metadata": {
    "collapsed": true
   },
   "outputs": [],
   "source": []
  }
 ],
 "metadata": {
  "kernelspec": {
   "display_name": "Python 3",
   "language": "python",
   "name": "python3"
  },
  "language_info": {
   "codemirror_mode": {
    "name": "ipython",
    "version": 3
   },
   "file_extension": ".py",
   "mimetype": "text/x-python",
   "name": "python",
   "nbconvert_exporter": "python",
   "pygments_lexer": "ipython3",
   "version": "3.6.3"
  }
 },
 "nbformat": 4,
 "nbformat_minor": 2
}
