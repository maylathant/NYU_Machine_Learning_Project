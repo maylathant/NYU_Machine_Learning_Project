{
 "cells": [
  {
   "cell_type": "code",
   "execution_count": 1,
   "metadata": {
    "collapsed": true
   },
   "outputs": [],
   "source": [
    "import proj_helpers.FinObj as fin\n",
    "import numpy as np\n",
    "import proj_helpers.riskEngine as risk\n",
    "import matplotlib.pyplot as pplot\n",
    "import time"
   ]
  },
  {
   "cell_type": "code",
   "execution_count": 2,
   "metadata": {
    "collapsed": true
   },
   "outputs": [],
   "source": [
    "#Map for units of time\n",
    "t_map = {'2y':0.5,'year':1,'semester':2,'quarter':4,'month':12,'week':52,'2day':180,'day':360}"
   ]
  },
  {
   "cell_type": "code",
   "execution_count": 3,
   "metadata": {
    "collapsed": true
   },
   "outputs": [],
   "source": [
    "#MC Parameters\n",
    "paths = 1000\n",
    "t_del = 1\n",
    "\n",
    "t_unit = 200 #Unit of time: default = 1 for years, 12 for months, 360 for days etc...\n",
    "time_s = 200 #Total number of time steps in t_units"
   ]
  },
  {
   "cell_type": "code",
   "execution_count": 4,
   "metadata": {
    "collapsed": true
   },
   "outputs": [],
   "source": [
    "#Stock Parameters\n",
    "spot = 100\n",
    "vol = 0.2 #vol per year\n",
    "rate = 0.02 #Rate in years\n",
    "div = 0.0\n",
    "expr = time_s/t_unit\n",
    "\n",
    "#Share object\n",
    "share1 = fin.Stock(spot,vol,t_unit,rate)"
   ]
  },
  {
   "cell_type": "code",
   "execution_count": 5,
   "metadata": {
    "collapsed": true
   },
   "outputs": [],
   "source": [
    "strike=100\n",
    "payoff=fin.amCallDigVec #Define option payoff\n",
    "\n",
    "#Option Parameters\n",
    "myOption = fin.Option(share1,payoff,time_s,strike,t_unit)"
   ]
  },
  {
   "cell_type": "code",
   "execution_count": 17,
   "metadata": {
    "scrolled": true
   },
   "outputs": [
    {
     "name": "stderr",
     "output_type": "stream",
     "text": [
      "/Users/anthonymaylath/Documents/Schoolwork/NYU/High_Performance_Computing/Thesis/NYU_Machine_Learning_Project/pythonMC/proj_helpers/FinObj.py:359: FutureWarning: `rcond` parameter will change to the default of machine precision times ``max(M, N)`` where M and N are the input matrix dimensions.\n",
      "To use the future default and silence this warning we advise to pass `rcond=None`, to keep using the old, explicitly pass `rcond=-1`.\n",
      "  betas = np.linalg.lstsq(X,Ct1)[0]\n"
     ]
    },
    {
     "name": "stdout",
     "output_type": "stream",
     "text": [
      "Warning: No Paths in the Money. Price May Round to Zero.\n",
      "Warning: No Paths in the Money. Price May Round to Zero.\n",
      "Spot : 80.0 BS Price : 0.129652332858702 LSM Price 0.2447930374102112 LSM RF Price 0.2440791143230149\n"
     ]
    },
    {
     "name": "stderr",
     "output_type": "stream",
     "text": [
      "/Users/anthonymaylath/Documents/Schoolwork/NYU/High_Performance_Computing/Thesis/NYU_Machine_Learning_Project/pythonMC/proj_helpers/FinObj.py:359: FutureWarning: `rcond` parameter will change to the default of machine precision times ``max(M, N)`` where M and N are the input matrix dimensions.\n",
      "To use the future default and silence this warning we advise to pass `rcond=None`, to keep using the old, explicitly pass `rcond=-1`.\n",
      "  betas = np.linalg.lstsq(X,Ct1)[0]\n"
     ]
    },
    {
     "name": "stdout",
     "output_type": "stream",
     "text": [
      "Warning: No Paths in the Money. Price May Round to Zero.\n",
      "Warning: No Paths in the Money. Price May Round to Zero.\n",
      "Spot : 80.68620689655172 BS Price : 0.13882818952081477 LSM Price 0.26276203289077155 LSM RF Price 0.2624399584310254"
     ]
    },
    {
     "name": "stderr",
     "output_type": "stream",
     "text": [
      "/Users/anthonymaylath/Documents/Schoolwork/NYU/High_Performance_Computing/Thesis/NYU_Machine_Learning_Project/pythonMC/proj_helpers/FinObj.py:359: FutureWarning: `rcond` parameter will change to the default of machine precision times ``max(M, N)`` where M and N are the input matrix dimensions.\n",
      "To use the future default and silence this warning we advise to pass `rcond=None`, to keep using the old, explicitly pass `rcond=-1`.\n",
      "  betas = np.linalg.lstsq(X,Ct1)[0]\n"
     ]
    },
    {
     "name": "stdout",
     "output_type": "stream",
     "text": [
      "\n",
      "Warning: No Paths in the Money. Price May Round to Zero.\n",
      "Warning: No Paths in the Money. Price May Round to Zero.\n",
      "Spot : 81.37241379310345 BS Price : 0.1483510641523971 LSM Price 0.28093350038500686 LSM RF Price 0.2807466875557188\n"
     ]
    },
    {
     "name": "stderr",
     "output_type": "stream",
     "text": [
      "/Users/anthonymaylath/Documents/Schoolwork/NYU/High_Performance_Computing/Thesis/NYU_Machine_Learning_Project/pythonMC/proj_helpers/FinObj.py:359: FutureWarning: `rcond` parameter will change to the default of machine precision times ``max(M, N)`` where M and N are the input matrix dimensions.\n",
      "To use the future default and silence this warning we advise to pass `rcond=None`, to keep using the old, explicitly pass `rcond=-1`.\n",
      "  betas = np.linalg.lstsq(X,Ct1)[0]\n"
     ]
    },
    {
     "name": "stdout",
     "output_type": "stream",
     "text": [
      "Warning: No Paths in the Money. Price May Round to Zero.\n",
      "Warning: No Paths in the Money. Price May Round to Zero.\n",
      "Spot : 82.05862068965517 BS Price : 0.1582133670766666 LSM Price 0.30051359905517916 LSM RF Price 0.3001164417066373\n"
     ]
    },
    {
     "name": "stderr",
     "output_type": "stream",
     "text": [
      "/Users/anthonymaylath/Documents/Schoolwork/NYU/High_Performance_Computing/Thesis/NYU_Machine_Learning_Project/pythonMC/proj_helpers/FinObj.py:359: FutureWarning: `rcond` parameter will change to the default of machine precision times ``max(M, N)`` where M and N are the input matrix dimensions.\n",
      "To use the future default and silence this warning we advise to pass `rcond=None`, to keep using the old, explicitly pass `rcond=-1`.\n",
      "  betas = np.linalg.lstsq(X,Ct1)[0]\n"
     ]
    },
    {
     "name": "stdout",
     "output_type": "stream",
     "text": [
      "Warning: No Paths in the Money. Price May Round to Zero.\n",
      "Warning: No Paths in the Money. Price May Round to Zero.\n",
      "Spot : 82.7448275862069 BS Price : 0.16840629895469794 LSM Price 0.32059108525561386 LSM RF Price 0.3197193913129411\n"
     ]
    },
    {
     "name": "stderr",
     "output_type": "stream",
     "text": [
      "/Users/anthonymaylath/Documents/Schoolwork/NYU/High_Performance_Computing/Thesis/NYU_Machine_Learning_Project/pythonMC/proj_helpers/FinObj.py:359: FutureWarning: `rcond` parameter will change to the default of machine precision times ``max(M, N)`` where M and N are the input matrix dimensions.\n",
      "To use the future default and silence this warning we advise to pass `rcond=None`, to keep using the old, explicitly pass `rcond=-1`.\n",
      "  betas = np.linalg.lstsq(X,Ct1)[0]\n"
     ]
    },
    {
     "name": "stdout",
     "output_type": "stream",
     "text": [
      "Warning: No Paths in the Money. Price May Round to Zero.\n",
      "Warning: No Paths in the Money. Price May Round to Zero.\n",
      "Spot : 83.43103448275862 BS Price : 0.17891989920990775 LSM Price 0.3403693843609295 LSM RF Price 0.3404577624806606\n"
     ]
    },
    {
     "name": "stderr",
     "output_type": "stream",
     "text": [
      "/Users/anthonymaylath/Documents/Schoolwork/NYU/High_Performance_Computing/Thesis/NYU_Machine_Learning_Project/pythonMC/proj_helpers/FinObj.py:359: FutureWarning: `rcond` parameter will change to the default of machine precision times ``max(M, N)`` where M and N are the input matrix dimensions.\n",
      "To use the future default and silence this warning we advise to pass `rcond=None`, to keep using the old, explicitly pass `rcond=-1`.\n",
      "  betas = np.linalg.lstsq(X,Ct1)[0]\n"
     ]
    },
    {
     "name": "stdout",
     "output_type": "stream",
     "text": [
      "Warning: No Paths in the Money. Price May Round to Zero.\n",
      "Warning: No Paths in the Money. Price May Round to Zero.\n",
      "Spot : 84.11724137931034 BS Price : 0.18974310145907555 LSM Price 0.3617203747975898 LSM RF Price 0.36124747846578886\n"
     ]
    },
    {
     "name": "stderr",
     "output_type": "stream",
     "text": [
      "/Users/anthonymaylath/Documents/Schoolwork/NYU/High_Performance_Computing/Thesis/NYU_Machine_Learning_Project/pythonMC/proj_helpers/FinObj.py:359: FutureWarning: `rcond` parameter will change to the default of machine precision times ``max(M, N)`` where M and N are the input matrix dimensions.\n",
      "To use the future default and silence this warning we advise to pass `rcond=None`, to keep using the old, explicitly pass `rcond=-1`.\n",
      "  betas = np.linalg.lstsq(X,Ct1)[0]\n"
     ]
    },
    {
     "name": "stdout",
     "output_type": "stream",
     "text": [
      "Warning: No Paths in the Money. Price May Round to Zero.\n",
      "Warning: No Paths in the Money. Price May Round to Zero.\n",
      "Spot : 84.80344827586207 BS Price : 0.20086379527444115 LSM Price 0.3832761056066604 LSM RF Price 0.38415797545033376\n"
     ]
    },
    {
     "name": "stderr",
     "output_type": "stream",
     "text": [
      "/Users/anthonymaylath/Documents/Schoolwork/NYU/High_Performance_Computing/Thesis/NYU_Machine_Learning_Project/pythonMC/proj_helpers/FinObj.py:359: FutureWarning: `rcond` parameter will change to the default of machine precision times ``max(M, N)`` where M and N are the input matrix dimensions.\n",
      "To use the future default and silence this warning we advise to pass `rcond=None`, to keep using the old, explicitly pass `rcond=-1`.\n",
      "  betas = np.linalg.lstsq(X,Ct1)[0]\n"
     ]
    },
    {
     "name": "stdout",
     "output_type": "stream",
     "text": [
      "Warning: No Paths in the Money. Price May Round to Zero.\n",
      "Warning: No Paths in the Money. Price May Round to Zero.\n",
      "Spot : 85.48965517241379 BS Price : 0.21226889356565035 LSM Price 0.40651689359395293 LSM RF Price 0.40596320735705843"
     ]
    },
    {
     "name": "stderr",
     "output_type": "stream",
     "text": [
      "/Users/anthonymaylath/Documents/Schoolwork/NYU/High_Performance_Computing/Thesis/NYU_Machine_Learning_Project/pythonMC/proj_helpers/FinObj.py:359: FutureWarning: `rcond` parameter will change to the default of machine precision times ``max(M, N)`` where M and N are the input matrix dimensions.\n",
      "To use the future default and silence this warning we advise to pass `rcond=None`, to keep using the old, explicitly pass `rcond=-1`.\n",
      "  betas = np.linalg.lstsq(X,Ct1)[0]\n"
     ]
    },
    {
     "name": "stdout",
     "output_type": "stream",
     "text": [
      "\n",
      "Warning: No Paths in the Money. Price May Round to Zero.\n",
      "Warning: No Paths in the Money. Price May Round to Zero.\n",
      "Spot : 86.17586206896551 BS Price : 0.22394440484496664 LSM Price 0.4291181733966984 LSM RF Price 0.42845277806292614\n"
     ]
    },
    {
     "name": "stderr",
     "output_type": "stream",
     "text": [
      "/Users/anthonymaylath/Documents/Schoolwork/NYU/High_Performance_Computing/Thesis/NYU_Machine_Learning_Project/pythonMC/proj_helpers/FinObj.py:359: FutureWarning: `rcond` parameter will change to the default of machine precision times ``max(M, N)`` where M and N are the input matrix dimensions.\n",
      "To use the future default and silence this warning we advise to pass `rcond=None`, to keep using the old, explicitly pass `rcond=-1`.\n",
      "  betas = np.linalg.lstsq(X,Ct1)[0]\n"
     ]
    },
    {
     "name": "stdout",
     "output_type": "stream",
     "text": [
      "Warning: No Paths in the Money. Price May Round to Zero.\n",
      "Warning: No Paths in the Money. Price May Round to Zero.\n",
      "Spot : 86.86206896551724 BS Price : 0.235875509623894 LSM Price 0.4521803756787711 LSM RF Price 0.4521739456401034\n"
     ]
    },
    {
     "name": "stderr",
     "output_type": "stream",
     "text": [
      "/Users/anthonymaylath/Documents/Schoolwork/NYU/High_Performance_Computing/Thesis/NYU_Machine_Learning_Project/pythonMC/proj_helpers/FinObj.py:359: FutureWarning: `rcond` parameter will change to the default of machine precision times ``max(M, N)`` where M and N are the input matrix dimensions.\n",
      "To use the future default and silence this warning we advise to pass `rcond=None`, to keep using the old, explicitly pass `rcond=-1`.\n",
      "  betas = np.linalg.lstsq(X,Ct1)[0]\n"
     ]
    },
    {
     "name": "stdout",
     "output_type": "stream",
     "text": [
      "Warning: No Paths in the Money. Price May Round to Zero.\n",
      "Warning: No Paths in the Money. Price May Round to Zero.\n",
      "Spot : 87.54827586206896 BS Price : 0.24804664018366954 LSM Price 0.47584551249570917 LSM RF Price 0.4771398362288903\n"
     ]
    },
    {
     "name": "stderr",
     "output_type": "stream",
     "text": [
      "/Users/anthonymaylath/Documents/Schoolwork/NYU/High_Performance_Computing/Thesis/NYU_Machine_Learning_Project/pythonMC/proj_helpers/FinObj.py:359: FutureWarning: `rcond` parameter will change to the default of machine precision times ``max(M, N)`` where M and N are the input matrix dimensions.\n",
      "To use the future default and silence this warning we advise to pass `rcond=None`, to keep using the old, explicitly pass `rcond=-1`.\n",
      "  betas = np.linalg.lstsq(X,Ct1)[0]\n"
     ]
    },
    {
     "name": "stdout",
     "output_type": "stream",
     "text": [
      "Warning: No Paths in the Money. Price May Round to Zero.\n",
      "Warning: No Paths in the Money. Price May Round to Zero.\n",
      "Spot : 88.23448275862069 BS Price : 0.2604415629654041 LSM Price 0.501096112655977 LSM RF Price 0.5003353823721871\n"
     ]
    },
    {
     "name": "stderr",
     "output_type": "stream",
     "text": [
      "/Users/anthonymaylath/Documents/Schoolwork/NYU/High_Performance_Computing/Thesis/NYU_Machine_Learning_Project/pythonMC/proj_helpers/FinObj.py:359: FutureWarning: `rcond` parameter will change to the default of machine precision times ``max(M, N)`` where M and N are the input matrix dimensions.\n",
      "To use the future default and silence this warning we advise to pass `rcond=None`, to keep using the old, explicitly pass `rcond=-1`.\n",
      "  betas = np.linalg.lstsq(X,Ct1)[0]\n"
     ]
    },
    {
     "name": "stdout",
     "output_type": "stream",
     "text": [
      "Warning: No Paths in the Money. Price May Round to Zero.\n",
      "Warning: No Paths in the Money. Price May Round to Zero.\n",
      "Spot : 88.92068965517241 BS Price : 0.2730434628372981 LSM Price 0.5260414128595979 LSM RF Price 0.5259559346150117"
     ]
    },
    {
     "name": "stderr",
     "output_type": "stream",
     "text": [
      "/Users/anthonymaylath/Documents/Schoolwork/NYU/High_Performance_Computing/Thesis/NYU_Machine_Learning_Project/pythonMC/proj_helpers/FinObj.py:359: FutureWarning: `rcond` parameter will change to the default of machine precision times ``max(M, N)`` where M and N are the input matrix dimensions.\n",
      "To use the future default and silence this warning we advise to pass `rcond=None`, to keep using the old, explicitly pass `rcond=-1`.\n",
      "  betas = np.linalg.lstsq(X,Ct1)[0]\n"
     ]
    },
    {
     "name": "stdout",
     "output_type": "stream",
     "text": [
      "\n",
      "Warning: No Paths in the Money. Price May Round to Zero.\n",
      "Warning: No Paths in the Money. Price May Round to Zero.\n",
      "Spot : 89.60689655172413 BS Price : 0.2858350285156006 LSM Price 0.5508681818235022 LSM RF Price 0.551605313515246\n"
     ]
    },
    {
     "name": "stderr",
     "output_type": "stream",
     "text": [
      "/Users/anthonymaylath/Documents/Schoolwork/NYU/High_Performance_Computing/Thesis/NYU_Machine_Learning_Project/pythonMC/proj_helpers/FinObj.py:359: FutureWarning: `rcond` parameter will change to the default of machine precision times ``max(M, N)`` where M and N are the input matrix dimensions.\n",
      "To use the future default and silence this warning we advise to pass `rcond=None`, to keep using the old, explicitly pass `rcond=-1`.\n",
      "  betas = np.linalg.lstsq(X,Ct1)[0]\n"
     ]
    },
    {
     "name": "stdout",
     "output_type": "stream",
     "text": [
      "Warning: No Paths in the Money. Price May Round to Zero.\n",
      "Warning: No Paths in the Money. Price May Round to Zero.\n",
      "Spot : 90.29310344827587 BS Price : 0.29879853844200505 LSM Price 0.5766636696508824 LSM RF Price 0.5773502634251979"
     ]
    },
    {
     "name": "stderr",
     "output_type": "stream",
     "text": [
      "/Users/anthonymaylath/Documents/Schoolwork/NYU/High_Performance_Computing/Thesis/NYU_Machine_Learning_Project/pythonMC/proj_helpers/FinObj.py:359: FutureWarning: `rcond` parameter will change to the default of machine precision times ``max(M, N)`` where M and N are the input matrix dimensions.\n",
      "To use the future default and silence this warning we advise to pass `rcond=None`, to keep using the old, explicitly pass `rcond=-1`.\n",
      "  betas = np.linalg.lstsq(X,Ct1)[0]\n"
     ]
    },
    {
     "name": "stdout",
     "output_type": "stream",
     "text": [
      "\n",
      "Warning: No Paths in the Money. Price May Round to Zero.\n",
      "Warning: No Paths in the Money. Price May Round to Zero.\n",
      "Spot : 90.97931034482758 BS Price : 0.31191594645217235 LSM Price 0.6034744382995642 LSM RF Price 0.6040535485488628\n"
     ]
    },
    {
     "name": "stderr",
     "output_type": "stream",
     "text": [
      "/Users/anthonymaylath/Documents/Schoolwork/NYU/High_Performance_Computing/Thesis/NYU_Machine_Learning_Project/pythonMC/proj_helpers/FinObj.py:359: FutureWarning: `rcond` parameter will change to the default of machine precision times ``max(M, N)`` where M and N are the input matrix dimensions.\n",
      "To use the future default and silence this warning we advise to pass `rcond=None`, to keep using the old, explicitly pass `rcond=-1`.\n",
      "  betas = np.linalg.lstsq(X,Ct1)[0]\n"
     ]
    },
    {
     "name": "stdout",
     "output_type": "stream",
     "text": [
      "Warning: No Paths in the Money. Price May Round to Zero.\n",
      "Warning: No Paths in the Money. Price May Round to Zero.\n",
      "Spot : 91.66551724137932 BS Price : 0.3251689666072103 LSM Price 0.6298005559813565 LSM RF Price 0.6294692496530246\n"
     ]
    },
    {
     "name": "stderr",
     "output_type": "stream",
     "text": [
      "/Users/anthonymaylath/Documents/Schoolwork/NYU/High_Performance_Computing/Thesis/NYU_Machine_Learning_Project/pythonMC/proj_helpers/FinObj.py:359: FutureWarning: `rcond` parameter will change to the default of machine precision times ``max(M, N)`` where M and N are the input matrix dimensions.\n",
      "To use the future default and silence this warning we advise to pass `rcond=None`, to keep using the old, explicitly pass `rcond=-1`.\n",
      "  betas = np.linalg.lstsq(X,Ct1)[0]\n"
     ]
    },
    {
     "name": "stdout",
     "output_type": "stream",
     "text": [
      "Warning: No Paths in the Money. Price May Round to Zero.\n",
      "Warning: No Paths in the Money. Price May Round to Zero.\n",
      "Spot : 92.35172413793103 BS Price : 0.33853915660132705 LSM Price 0.6579166461746339 LSM RF Price 0.6573337213442618"
     ]
    },
    {
     "name": "stderr",
     "output_type": "stream",
     "text": [
      "/Users/anthonymaylath/Documents/Schoolwork/NYU/High_Performance_Computing/Thesis/NYU_Machine_Learning_Project/pythonMC/proj_helpers/FinObj.py:359: FutureWarning: `rcond` parameter will change to the default of machine precision times ``max(M, N)`` where M and N are the input matrix dimensions.\n",
      "To use the future default and silence this warning we advise to pass `rcond=None`, to keep using the old, explicitly pass `rcond=-1`.\n",
      "  betas = np.linalg.lstsq(X,Ct1)[0]\n"
     ]
    },
    {
     "name": "stdout",
     "output_type": "stream",
     "text": [
      "\n",
      "Warning: No Paths in the Money. Price May Round to Zero.\n",
      "Warning: No Paths in the Money. Price May Round to Zero.\n",
      "Spot : 93.03793103448277 BS Price : 0.3520079992037796 LSM Price 0.6836632897543697 LSM RF Price 0.6835459919639469\n"
     ]
    },
    {
     "name": "stderr",
     "output_type": "stream",
     "text": [
      "/Users/anthonymaylath/Documents/Schoolwork/NYU/High_Performance_Computing/Thesis/NYU_Machine_Learning_Project/pythonMC/proj_helpers/FinObj.py:359: FutureWarning: `rcond` parameter will change to the default of machine precision times ``max(M, N)`` where M and N are the input matrix dimensions.\n",
      "To use the future default and silence this warning we advise to pass `rcond=None`, to keep using the old, explicitly pass `rcond=-1`.\n",
      "  betas = np.linalg.lstsq(X,Ct1)[0]\n"
     ]
    },
    {
     "name": "stdout",
     "output_type": "stream",
     "text": [
      "Spot : 93.72413793103449 BS Price : 0.3655569812407171 LSM Price 0.7115829195623432 LSM RF Price 0.7113788292902498\n"
     ]
    },
    {
     "name": "stderr",
     "output_type": "stream",
     "text": [
      "/Users/anthonymaylath/Documents/Schoolwork/NYU/High_Performance_Computing/Thesis/NYU_Machine_Learning_Project/pythonMC/proj_helpers/FinObj.py:359: FutureWarning: `rcond` parameter will change to the default of machine precision times ``max(M, N)`` where M and N are the input matrix dimensions.\n",
      "To use the future default and silence this warning we advise to pass `rcond=None`, to keep using the old, explicitly pass `rcond=-1`.\n",
      "  betas = np.linalg.lstsq(X,Ct1)[0]\n"
     ]
    },
    {
     "name": "stdout",
     "output_type": "stream",
     "text": [
      "Spot : 94.41034482758621 BS Price : 0.3791676696719685 LSM Price 0.7386390988679598 LSM RF Price 0.7392476950564456\n"
     ]
    },
    {
     "name": "stderr",
     "output_type": "stream",
     "text": [
      "/Users/anthonymaylath/Documents/Schoolwork/NYU/High_Performance_Computing/Thesis/NYU_Machine_Learning_Project/pythonMC/proj_helpers/FinObj.py:359: FutureWarning: `rcond` parameter will change to the default of machine precision times ``max(M, N)`` where M and N are the input matrix dimensions.\n",
      "To use the future default and silence this warning we advise to pass `rcond=None`, to keep using the old, explicitly pass `rcond=-1`.\n",
      "  betas = np.linalg.lstsq(X,Ct1)[0]\n"
     ]
    },
    {
     "name": "stdout",
     "output_type": "stream",
     "text": [
      "Spot : 95.09655172413794 BS Price : 0.392821784368338 LSM Price 0.7667776796406091 LSM RF Price 0.7663759300241999\n"
     ]
    },
    {
     "name": "stderr",
     "output_type": "stream",
     "text": [
      "/Users/anthonymaylath/Documents/Schoolwork/NYU/High_Performance_Computing/Thesis/NYU_Machine_Learning_Project/pythonMC/proj_helpers/FinObj.py:359: FutureWarning: `rcond` parameter will change to the default of machine precision times ``max(M, N)`` where M and N are the input matrix dimensions.\n",
      "To use the future default and silence this warning we advise to pass `rcond=None`, to keep using the old, explicitly pass `rcond=-1`.\n",
      "  betas = np.linalg.lstsq(X,Ct1)[0]\n"
     ]
    },
    {
     "name": "stdout",
     "output_type": "stream",
     "text": [
      "Spot : 95.78275862068966 BS Price : 0.40650126724602953 LSM Price 0.7941955452783881 LSM RF Price 0.7947315160132028\n"
     ]
    },
    {
     "name": "stderr",
     "output_type": "stream",
     "text": [
      "/Users/anthonymaylath/Documents/Schoolwork/NYU/High_Performance_Computing/Thesis/NYU_Machine_Learning_Project/pythonMC/proj_helpers/FinObj.py:359: FutureWarning: `rcond` parameter will change to the default of machine precision times ``max(M, N)`` where M and N are the input matrix dimensions.\n",
      "To use the future default and silence this warning we advise to pass `rcond=None`, to keep using the old, explicitly pass `rcond=-1`.\n",
      "  betas = np.linalg.lstsq(X,Ct1)[0]\n"
     ]
    },
    {
     "name": "stdout",
     "output_type": "stream",
     "text": [
      "Spot : 96.46896551724139 BS Price : 0.4201883474656911 LSM Price 0.822521005787935 LSM RF Price 0.8226705019402483\n"
     ]
    },
    {
     "name": "stderr",
     "output_type": "stream",
     "text": [
      "/Users/anthonymaylath/Documents/Schoolwork/NYU/High_Performance_Computing/Thesis/NYU_Machine_Learning_Project/pythonMC/proj_helpers/FinObj.py:359: FutureWarning: `rcond` parameter will change to the default of machine precision times ``max(M, N)`` where M and N are the input matrix dimensions.\n",
      "To use the future default and silence this warning we advise to pass `rcond=None`, to keep using the old, explicitly pass `rcond=-1`.\n",
      "  betas = np.linalg.lstsq(X,Ct1)[0]\n"
     ]
    },
    {
     "name": "stdout",
     "output_type": "stream",
     "text": [
      "Spot : 97.15517241379311 BS Price : 0.4338656024537362 LSM Price 0.8501986798252237 LSM RF Price 0.8508718346599742\n"
     ]
    },
    {
     "name": "stderr",
     "output_type": "stream",
     "text": [
      "/Users/anthonymaylath/Documents/Schoolwork/NYU/High_Performance_Computing/Thesis/NYU_Machine_Learning_Project/pythonMC/proj_helpers/FinObj.py:359: FutureWarning: `rcond` parameter will change to the default of machine precision times ``max(M, N)`` where M and N are the input matrix dimensions.\n",
      "To use the future default and silence this warning we advise to pass `rcond=None`, to keep using the old, explicitly pass `rcond=-1`.\n",
      "  betas = np.linalg.lstsq(X,Ct1)[0]\n"
     ]
    },
    {
     "name": "stdout",
     "output_type": "stream",
     "text": [
      "Spot : 97.84137931034483 BS Price : 0.4475160145525389 LSM Price 0.879104164589734 LSM RF Price 0.8789801360653863\n"
     ]
    },
    {
     "name": "stderr",
     "output_type": "stream",
     "text": [
      "/Users/anthonymaylath/Documents/Schoolwork/NYU/High_Performance_Computing/Thesis/NYU_Machine_Learning_Project/pythonMC/proj_helpers/FinObj.py:359: FutureWarning: `rcond` parameter will change to the default of machine precision times ``max(M, N)`` where M and N are the input matrix dimensions.\n",
      "To use the future default and silence this warning we advise to pass `rcond=None`, to keep using the old, explicitly pass `rcond=-1`.\n",
      "  betas = np.linalg.lstsq(X,Ct1)[0]\n"
     ]
    },
    {
     "name": "stdout",
     "output_type": "stream",
     "text": [
      "Spot : 98.52758620689656 BS Price : 0.4611230231533807 LSM Price 0.9063213385060943 LSM RF Price 0.9066353524714559\n"
     ]
    },
    {
     "name": "stderr",
     "output_type": "stream",
     "text": [
      "/Users/anthonymaylath/Documents/Schoolwork/NYU/High_Performance_Computing/Thesis/NYU_Machine_Learning_Project/pythonMC/proj_helpers/FinObj.py:359: FutureWarning: `rcond` parameter will change to the default of machine precision times ``max(M, N)`` where M and N are the input matrix dimensions.\n",
      "To use the future default and silence this warning we advise to pass `rcond=None`, to keep using the old, explicitly pass `rcond=-1`.\n",
      "  betas = np.linalg.lstsq(X,Ct1)[0]\n"
     ]
    },
    {
     "name": "stdout",
     "output_type": "stream",
     "text": [
      "Spot : 99.21379310344828 BS Price : 0.4746705722112515 LSM Price 0.9324733859966435 LSM RF Price 0.9328857059611183\n"
     ]
    },
    {
     "name": "stderr",
     "output_type": "stream",
     "text": [
      "/Users/anthonymaylath/Documents/Schoolwork/NYU/High_Performance_Computing/Thesis/NYU_Machine_Learning_Project/pythonMC/proj_helpers/FinObj.py:359: FutureWarning: `rcond` parameter will change to the default of machine precision times ``max(M, N)`` where M and N are the input matrix dimensions.\n",
      "To use the future default and silence this warning we advise to pass `rcond=None`, to keep using the old, explicitly pass `rcond=-1`.\n",
      "  betas = np.linalg.lstsq(X,Ct1)[0]\n"
     ]
    },
    {
     "ename": "KeyboardInterrupt",
     "evalue": "",
     "output_type": "error",
     "traceback": [
      "\u001b[0;31m---------------------------------------------------------------------------\u001b[0m",
      "\u001b[0;31mKeyboardInterrupt\u001b[0m                         Traceback (most recent call last)",
      "\u001b[0;32m<ipython-input-17-b171fd86e68a>\u001b[0m in \u001b[0;36m<module>\u001b[0;34m()\u001b[0m\n\u001b[1;32m      8\u001b[0m     \u001b[0mcall_dig_bs\u001b[0m\u001b[0;34m[\u001b[0m\u001b[0ms\u001b[0m\u001b[0;34m]\u001b[0m \u001b[0;34m=\u001b[0m \u001b[0mrisk\u001b[0m\u001b[0;34m.\u001b[0m\u001b[0mBSCallDig\u001b[0m\u001b[0;34m(\u001b[0m\u001b[0ms\u001b[0m\u001b[0;34m,\u001b[0m \u001b[0mstrike\u001b[0m\u001b[0;34m,\u001b[0m \u001b[0mdiv\u001b[0m\u001b[0;34m,\u001b[0m \u001b[0mrate\u001b[0m\u001b[0;34m,\u001b[0m \u001b[0mvol\u001b[0m\u001b[0;34m,\u001b[0m \u001b[0mexpr\u001b[0m\u001b[0;34m)\u001b[0m\u001b[0;34m\u001b[0m\u001b[0m\n\u001b[1;32m      9\u001b[0m     \u001b[0mcall_dig_lsm\u001b[0m\u001b[0;34m[\u001b[0m\u001b[0ms\u001b[0m\u001b[0;34m]\u001b[0m \u001b[0;34m=\u001b[0m \u001b[0mfin\u001b[0m\u001b[0;34m.\u001b[0m\u001b[0mpriceLSM\u001b[0m\u001b[0;34m(\u001b[0m\u001b[0mshare1\u001b[0m\u001b[0;34m,\u001b[0m\u001b[0mmyOption\u001b[0m\u001b[0;34m,\u001b[0m\u001b[0mpaths\u001b[0m\u001b[0;34m,\u001b[0m\u001b[0mtime_s\u001b[0m\u001b[0;34m,\u001b[0m\u001b[0mt_unit\u001b[0m\u001b[0;34m,\u001b[0m\u001b[0manti\u001b[0m\u001b[0;34m=\u001b[0m\u001b[0;32mTrue\u001b[0m\u001b[0;34m,\u001b[0m\u001b[0mregressor\u001b[0m\u001b[0;34m=\u001b[0m\u001b[0mfin\u001b[0m\u001b[0;34m.\u001b[0m\u001b[0mgetCont\u001b[0m\u001b[0;34m,\u001b[0m\u001b[0mnum_basis\u001b[0m\u001b[0;34m=\u001b[0m\u001b[0;36m3\u001b[0m\u001b[0;34m)\u001b[0m\u001b[0;34m\u001b[0m\u001b[0m\n\u001b[0;32m---> 10\u001b[0;31m     \u001b[0mcall_dig_lsmrf\u001b[0m\u001b[0;34m[\u001b[0m\u001b[0ms\u001b[0m\u001b[0;34m]\u001b[0m \u001b[0;34m=\u001b[0m \u001b[0mfin\u001b[0m\u001b[0;34m.\u001b[0m\u001b[0mpriceLSM\u001b[0m\u001b[0;34m(\u001b[0m\u001b[0mshare1\u001b[0m\u001b[0;34m,\u001b[0m\u001b[0mmyOption\u001b[0m\u001b[0;34m,\u001b[0m\u001b[0mpaths\u001b[0m\u001b[0;34m,\u001b[0m\u001b[0mtime_s\u001b[0m\u001b[0;34m,\u001b[0m\u001b[0mt_unit\u001b[0m\u001b[0;34m,\u001b[0m                              \u001b[0manti\u001b[0m\u001b[0;34m=\u001b[0m\u001b[0;32mTrue\u001b[0m\u001b[0;34m,\u001b[0m\u001b[0mregressor\u001b[0m\u001b[0;34m=\u001b[0m\u001b[0mfin\u001b[0m\u001b[0;34m.\u001b[0m\u001b[0mgetContRF\u001b[0m\u001b[0;34m,\u001b[0m\u001b[0mnum_trees\u001b[0m\u001b[0;34m=\u001b[0m\u001b[0;36m5\u001b[0m\u001b[0;34m,\u001b[0m\u001b[0mmax_depth\u001b[0m\u001b[0;34m=\u001b[0m\u001b[0;36m2\u001b[0m\u001b[0;34m,\u001b[0m\u001b[0mmin_samples_leaf\u001b[0m\u001b[0;34m=\u001b[0m\u001b[0;36m0.1\u001b[0m\u001b[0;34m)\u001b[0m\u001b[0;34m\u001b[0m\u001b[0m\n\u001b[0m\u001b[1;32m     11\u001b[0m     \u001b[0mprint\u001b[0m\u001b[0;34m(\u001b[0m\u001b[0;34m\"Spot : \"\u001b[0m \u001b[0;34m+\u001b[0m \u001b[0mstr\u001b[0m\u001b[0;34m(\u001b[0m\u001b[0ms\u001b[0m\u001b[0;34m)\u001b[0m \u001b[0;34m+\u001b[0m \u001b[0;34m\" BS Price : \"\u001b[0m \u001b[0;34m+\u001b[0m \u001b[0mstr\u001b[0m\u001b[0;34m(\u001b[0m\u001b[0mcall_dig_bs\u001b[0m\u001b[0;34m[\u001b[0m\u001b[0ms\u001b[0m\u001b[0;34m]\u001b[0m\u001b[0;34m)\u001b[0m \u001b[0;34m+\u001b[0m           \u001b[0;34m\" LSM Price \"\u001b[0m \u001b[0;34m+\u001b[0m \u001b[0mstr\u001b[0m\u001b[0;34m(\u001b[0m\u001b[0mcall_dig_lsm\u001b[0m\u001b[0;34m[\u001b[0m\u001b[0ms\u001b[0m\u001b[0;34m]\u001b[0m\u001b[0;34m)\u001b[0m \u001b[0;34m+\u001b[0m \u001b[0;34m\" LSM RF Price \"\u001b[0m \u001b[0;34m+\u001b[0m \u001b[0mstr\u001b[0m\u001b[0;34m(\u001b[0m\u001b[0mcall_dig_lsmrf\u001b[0m\u001b[0;34m[\u001b[0m\u001b[0ms\u001b[0m\u001b[0;34m]\u001b[0m\u001b[0;34m)\u001b[0m\u001b[0;34m)\u001b[0m\u001b[0;34m\u001b[0m\u001b[0m\n\u001b[1;32m     12\u001b[0m \u001b[0mshare1\u001b[0m\u001b[0;34m.\u001b[0m\u001b[0msetSpot\u001b[0m\u001b[0;34m(\u001b[0m\u001b[0mspot\u001b[0m\u001b[0;34m)\u001b[0m \u001b[0;31m#Reset spot\u001b[0m\u001b[0;34m\u001b[0m\u001b[0m\n",
      "\u001b[0;32m~/Documents/Schoolwork/NYU/High_Performance_Computing/Thesis/NYU_Machine_Learning_Project/pythonMC/proj_helpers/FinObj.py\u001b[0m in \u001b[0;36mpriceLSM\u001b[0;34m(stock, opt, paths, t_steps, t_unit, anti, regressor, **kwargs)\u001b[0m\n\u001b[1;32m    634\u001b[0m     \u001b[0mnum_basis\u001b[0m \u001b[0;34m:\u001b[0m \u001b[0mnumber\u001b[0m \u001b[0mof\u001b[0m \u001b[0mbasis\u001b[0m \u001b[0mvectors\u001b[0m \u001b[0mto\u001b[0m \u001b[0muse\u001b[0m \u001b[0;32min\u001b[0m \u001b[0mLaguerre\u001b[0m \u001b[0mexpansion\u001b[0m\u001b[0;34m\u001b[0m\u001b[0m\n\u001b[1;32m    635\u001b[0m     '''\n\u001b[0;32m--> 636\u001b[0;31m     \u001b[0;32mreturn\u001b[0m \u001b[0mnp\u001b[0m\u001b[0;34m.\u001b[0m\u001b[0mmean\u001b[0m\u001b[0;34m(\u001b[0m\u001b[0mbridgePayoffs\u001b[0m\u001b[0;34m(\u001b[0m\u001b[0mstock\u001b[0m\u001b[0;34m,\u001b[0m \u001b[0mopt\u001b[0m\u001b[0;34m,\u001b[0m \u001b[0mpaths\u001b[0m\u001b[0;34m,\u001b[0m \u001b[0mt_steps\u001b[0m\u001b[0;34m,\u001b[0m \u001b[0mt_unit\u001b[0m\u001b[0;34m,\u001b[0m\u001b[0manti\u001b[0m\u001b[0;34m,\u001b[0m\u001b[0mregressor\u001b[0m\u001b[0;34m,\u001b[0m\u001b[0mkwargs\u001b[0m\u001b[0;34m)\u001b[0m\u001b[0;34m)\u001b[0m\u001b[0;34m\u001b[0m\u001b[0m\n\u001b[0m\u001b[1;32m    637\u001b[0m \u001b[0;34m\u001b[0m\u001b[0m\n\u001b[1;32m    638\u001b[0m \u001b[0;32mdef\u001b[0m \u001b[0msaveCont\u001b[0m\u001b[0;34m(\u001b[0m\u001b[0mFO\u001b[0m\u001b[0;34m,\u001b[0m\u001b[0mSt\u001b[0m\u001b[0;34m,\u001b[0m\u001b[0mC\u001b[0m\u001b[0;34m,\u001b[0m\u001b[0mt\u001b[0m\u001b[0;34m,\u001b[0m\u001b[0mregressor\u001b[0m\u001b[0;34m,\u001b[0m\u001b[0mstock\u001b[0m\u001b[0;34m)\u001b[0m\u001b[0;34m:\u001b[0m\u001b[0;34m\u001b[0m\u001b[0m\n",
      "\u001b[0;32m~/Documents/Schoolwork/NYU/High_Performance_Computing/Thesis/NYU_Machine_Learning_Project/pythonMC/proj_helpers/FinObj.py\u001b[0m in \u001b[0;36mbridgePayoffs\u001b[0;34m(stock, opt, paths, t_steps, t_unit, anti, regressor, kwargs)\u001b[0m\n\u001b[1;32m    546\u001b[0m     \u001b[0mdr\u001b[0m \u001b[0;34m=\u001b[0m \u001b[0mnp\u001b[0m\u001b[0;34m.\u001b[0m\u001b[0mexp\u001b[0m\u001b[0;34m(\u001b[0m\u001b[0;34m-\u001b[0m\u001b[0mstock\u001b[0m\u001b[0;34m.\u001b[0m\u001b[0mrepo\u001b[0m\u001b[0;34m)\u001b[0m \u001b[0;31m#Instantanious discounting (using original scaling)\u001b[0m\u001b[0;34m\u001b[0m\u001b[0m\n\u001b[1;32m    547\u001b[0m \u001b[0;34m\u001b[0m\u001b[0m\n\u001b[0;32m--> 548\u001b[0;31m     \u001b[0msim_ran\u001b[0m \u001b[0;34m=\u001b[0m \u001b[0mnp\u001b[0m\u001b[0;34m.\u001b[0m\u001b[0mrandom\u001b[0m\u001b[0;34m.\u001b[0m\u001b[0mnormal\u001b[0m\u001b[0;34m(\u001b[0m\u001b[0;36m0\u001b[0m\u001b[0;34m,\u001b[0m\u001b[0;36m1\u001b[0m\u001b[0;34m,\u001b[0m\u001b[0;34m(\u001b[0m\u001b[0mpaths\u001b[0m\u001b[0;34m,\u001b[0m\u001b[0mt_steps\u001b[0m\u001b[0;34m-\u001b[0m\u001b[0;36m1\u001b[0m\u001b[0;34m)\u001b[0m\u001b[0;34m)\u001b[0m \u001b[0;31m#Get random realizations all at once\u001b[0m\u001b[0;34m\u001b[0m\u001b[0m\n\u001b[0m\u001b[1;32m    549\u001b[0m \u001b[0;34m\u001b[0m\u001b[0m\n\u001b[1;32m    550\u001b[0m     \u001b[0mtimings\u001b[0m\u001b[0;34m[\u001b[0m\u001b[0;36m0\u001b[0m\u001b[0;34m]\u001b[0m \u001b[0;34m=\u001b[0m \u001b[0mt0\u001b[0m \u001b[0;34m-\u001b[0m \u001b[0mtime\u001b[0m\u001b[0;34m.\u001b[0m\u001b[0mtime\u001b[0m\u001b[0;34m(\u001b[0m\u001b[0;34m)\u001b[0m\u001b[0;34m\u001b[0m\u001b[0m\n",
      "\u001b[0;31mKeyboardInterrupt\u001b[0m: "
     ]
    }
   ],
   "source": [
    "#Plot BS vs. LSM vs. LSM RF digit call against spot\n",
    "spots=np.linspace(80,99.9,30)\n",
    "call_dig_bs = {}\n",
    "call_dig_lsm = {}\n",
    "call_dig_lsmrf = {}\n",
    "for s in spots:\n",
    "    share1.setSpot(s) #Change spot price for LSM\n",
    "    call_dig_bs[s] = risk.BSCallDig(s, strike, div, rate, vol, expr)\n",
    "    call_dig_lsm[s] = fin.priceLSM(share1,myOption,paths,time_s,t_unit,anti=True,regressor=fin.getCont,num_basis=3)\n",
    "    call_dig_lsmrf[s] = fin.priceLSM(share1,myOption,paths,time_s,t_unit,\\\n",
    "                              anti=True,regressor=fin.getContRF,num_trees=5,max_depth=2,min_samples_leaf=0.1)\n",
    "    print(\"Spot : \" + str(s) + \" BS Price : \" + str(call_dig_bs[s]) + \\\n",
    "          \" LSM Price \" + str(call_dig_lsm[s]) + \" LSM RF Price \" + str(call_dig_lsmrf[s]))\n",
    "share1.setSpot(spot) #Reset spot"
   ]
  },
  {
   "cell_type": "code",
   "execution_count": 8,
   "metadata": {
    "scrolled": true
   },
   "outputs": [
    {
     "name": "stderr",
     "output_type": "stream",
     "text": [
      "/Users/anthonymaylath/Documents/Schoolwork/NYU/High_Performance_Computing/Thesis/NYU_Machine_Learning_Project/pythonMC/proj_helpers/FinObj.py:358: FutureWarning: `rcond` parameter will change to the default of machine precision times ``max(M, N)`` where M and N are the input matrix dimensions.\n",
      "To use the future default and silence this warning we advise to pass `rcond=None`, to keep using the old, explicitly pass `rcond=-1`.\n",
      "  betas = np.linalg.lstsq(X,Ct1)[0]\n"
     ]
    },
    {
     "name": "stdout",
     "output_type": "stream",
     "text": [
      "Warning: No Paths in the Money. Price May Round to Zero.\n",
      "Spot : 60.0 BS Price : 3.237078081301157e-05 LSM Price 6.761282004094247e-05\n",
      "Warning: No Paths in the Money. Price May Round to Zero.\n",
      "Spot : 68.88888888888889 BS Price : 0.007658014515197209 LSM Price 0.007778470432797083\n",
      "Warning: No Paths in the Money. Price May Round to Zero.\n",
      "Spot : 77.77777777777777 BS Price : 0.23836671561424794 LSM Price 0.23979348284153806\n",
      "Warning: No Paths in the Money. Price May Round to Zero.\n",
      "Spot : 86.66666666666667 BS Price : 1.9463947334178435 LSM Price 1.943452376627341\n",
      "Warning: No Paths in the Money. Price May Round to Zero.\n",
      "Spot : 95.55555555555556 BS Price : 6.783069786891069 LSM Price 6.792681564334765\n",
      "Spot : 104.44444444444444 BS Price : 14.290382799834887 LSM Price 14.254797338828931\n"
     ]
    },
    {
     "ename": "KeyboardInterrupt",
     "evalue": "",
     "output_type": "error",
     "traceback": [
      "\u001b[0;31m---------------------------------------------------------------------------\u001b[0m",
      "\u001b[0;31mKeyboardInterrupt\u001b[0m                         Traceback (most recent call last)",
      "\u001b[0;32m<ipython-input-8-38bbbc632b8d>\u001b[0m in \u001b[0;36m<module>\u001b[0;34m()\u001b[0m\n\u001b[1;32m      6\u001b[0m     \u001b[0mcall_bs\u001b[0m\u001b[0;34m[\u001b[0m\u001b[0ms\u001b[0m\u001b[0;34m]\u001b[0m \u001b[0;34m=\u001b[0m \u001b[0mrisk\u001b[0m\u001b[0;34m.\u001b[0m\u001b[0mBSCall\u001b[0m\u001b[0;34m(\u001b[0m\u001b[0ms\u001b[0m\u001b[0;34m,\u001b[0m \u001b[0mstrike\u001b[0m\u001b[0;34m,\u001b[0m \u001b[0mdiv\u001b[0m\u001b[0;34m,\u001b[0m \u001b[0mrate\u001b[0m\u001b[0;34m,\u001b[0m \u001b[0mvol\u001b[0m\u001b[0;34m,\u001b[0m \u001b[0mexpr\u001b[0m\u001b[0;34m)\u001b[0m\u001b[0;34m\u001b[0m\u001b[0m\n\u001b[1;32m      7\u001b[0m     \u001b[0mshare1\u001b[0m\u001b[0;34m.\u001b[0m\u001b[0msetSpot\u001b[0m\u001b[0;34m(\u001b[0m\u001b[0ms\u001b[0m\u001b[0;34m)\u001b[0m \u001b[0;31m#Change spot price for LSM\u001b[0m\u001b[0;34m\u001b[0m\u001b[0m\n\u001b[0;32m----> 8\u001b[0;31m     \u001b[0mcall_lsm\u001b[0m\u001b[0;34m[\u001b[0m\u001b[0ms\u001b[0m\u001b[0;34m]\u001b[0m \u001b[0;34m=\u001b[0m \u001b[0mfin\u001b[0m\u001b[0;34m.\u001b[0m\u001b[0mpriceLSM\u001b[0m\u001b[0;34m(\u001b[0m\u001b[0mshare1\u001b[0m\u001b[0;34m,\u001b[0m\u001b[0mmyOption\u001b[0m\u001b[0;34m,\u001b[0m\u001b[0mpaths\u001b[0m\u001b[0;34m,\u001b[0m\u001b[0mtime_s\u001b[0m\u001b[0;34m,\u001b[0m\u001b[0mt_unit\u001b[0m\u001b[0;34m,\u001b[0m\u001b[0manti\u001b[0m\u001b[0;34m=\u001b[0m\u001b[0;32mTrue\u001b[0m\u001b[0;34m,\u001b[0m\u001b[0mregressor\u001b[0m\u001b[0;34m=\u001b[0m\u001b[0mfin\u001b[0m\u001b[0;34m.\u001b[0m\u001b[0mgetCont\u001b[0m\u001b[0;34m,\u001b[0m\u001b[0mnum_basis\u001b[0m\u001b[0;34m=\u001b[0m\u001b[0;36m4\u001b[0m\u001b[0;34m)\u001b[0m\u001b[0;34m\u001b[0m\u001b[0m\n\u001b[0m\u001b[1;32m      9\u001b[0m     \u001b[0mprint\u001b[0m\u001b[0;34m(\u001b[0m\u001b[0;34m\"Spot : \"\u001b[0m \u001b[0;34m+\u001b[0m \u001b[0mstr\u001b[0m\u001b[0;34m(\u001b[0m\u001b[0ms\u001b[0m\u001b[0;34m)\u001b[0m \u001b[0;34m+\u001b[0m \u001b[0;34m\" BS Price : \"\u001b[0m \u001b[0;34m+\u001b[0m \u001b[0mstr\u001b[0m\u001b[0;34m(\u001b[0m\u001b[0mcall_bs\u001b[0m\u001b[0;34m[\u001b[0m\u001b[0ms\u001b[0m\u001b[0;34m]\u001b[0m\u001b[0;34m)\u001b[0m \u001b[0;34m+\u001b[0m \u001b[0;34m\" LSM Price \"\u001b[0m \u001b[0;34m+\u001b[0m \u001b[0mstr\u001b[0m\u001b[0;34m(\u001b[0m\u001b[0mcall_lsm\u001b[0m\u001b[0;34m[\u001b[0m\u001b[0ms\u001b[0m\u001b[0;34m]\u001b[0m\u001b[0;34m)\u001b[0m\u001b[0;34m)\u001b[0m\u001b[0;34m\u001b[0m\u001b[0m\n",
      "\u001b[0;32m~/Documents/Schoolwork/NYU/High_Performance_Computing/Thesis/NYU_Machine_Learning_Project/pythonMC/proj_helpers/FinObj.py\u001b[0m in \u001b[0;36mpriceLSM\u001b[0;34m(stock, opt, paths, t_steps, t_unit, anti, regressor, **kwargs)\u001b[0m\n\u001b[1;32m    631\u001b[0m     \u001b[0mnum_basis\u001b[0m \u001b[0;34m:\u001b[0m \u001b[0mnumber\u001b[0m \u001b[0mof\u001b[0m \u001b[0mbasis\u001b[0m \u001b[0mvectors\u001b[0m \u001b[0mto\u001b[0m \u001b[0muse\u001b[0m \u001b[0;32min\u001b[0m \u001b[0mLaguerre\u001b[0m \u001b[0mexpansion\u001b[0m\u001b[0;34m\u001b[0m\u001b[0m\n\u001b[1;32m    632\u001b[0m     '''\n\u001b[0;32m--> 633\u001b[0;31m     \u001b[0;32mreturn\u001b[0m \u001b[0mnp\u001b[0m\u001b[0;34m.\u001b[0m\u001b[0mmean\u001b[0m\u001b[0;34m(\u001b[0m\u001b[0mbridgePayoffs\u001b[0m\u001b[0;34m(\u001b[0m\u001b[0mstock\u001b[0m\u001b[0;34m,\u001b[0m \u001b[0mopt\u001b[0m\u001b[0;34m,\u001b[0m \u001b[0mpaths\u001b[0m\u001b[0;34m,\u001b[0m \u001b[0mt_steps\u001b[0m\u001b[0;34m,\u001b[0m \u001b[0mt_unit\u001b[0m\u001b[0;34m,\u001b[0m\u001b[0manti\u001b[0m\u001b[0;34m,\u001b[0m\u001b[0mregressor\u001b[0m\u001b[0;34m,\u001b[0m\u001b[0mkwargs\u001b[0m\u001b[0;34m)\u001b[0m\u001b[0;34m)\u001b[0m\u001b[0;34m\u001b[0m\u001b[0m\n\u001b[0m\u001b[1;32m    634\u001b[0m \u001b[0;34m\u001b[0m\u001b[0m\n",
      "\u001b[0;32m~/Documents/Schoolwork/NYU/High_Performance_Computing/Thesis/NYU_Machine_Learning_Project/pythonMC/proj_helpers/FinObj.py\u001b[0m in \u001b[0;36mbridgePayoffs\u001b[0;34m(stock, opt, paths, t_steps, t_unit, anti, regressor, kwargs)\u001b[0m\n\u001b[1;32m    573\u001b[0m         \u001b[0mt0\u001b[0m \u001b[0;34m=\u001b[0m \u001b[0mtime\u001b[0m\u001b[0;34m.\u001b[0m\u001b[0mtime\u001b[0m\u001b[0;34m(\u001b[0m\u001b[0;34m)\u001b[0m\u001b[0;34m\u001b[0m\u001b[0m\n\u001b[1;32m    574\u001b[0m         \u001b[0mCt\u001b[0m \u001b[0;34m=\u001b[0m \u001b[0mnp\u001b[0m\u001b[0;34m.\u001b[0m\u001b[0mzeros\u001b[0m\u001b[0;34m(\u001b[0m\u001b[0mpaths\u001b[0m\u001b[0;34m)\u001b[0m\u001b[0;34m\u001b[0m\u001b[0m\n\u001b[0;32m--> 575\u001b[0;31m         \u001b[0mCt\u001b[0m\u001b[0;34m[\u001b[0m\u001b[0mmoneymask\u001b[0m\u001b[0;34m]\u001b[0m \u001b[0;34m=\u001b[0m \u001b[0mregressor\u001b[0m\u001b[0;34m(\u001b[0m\u001b[0mFO\u001b[0m\u001b[0;34m[\u001b[0m\u001b[0mmoneymask\u001b[0m\u001b[0;34m]\u001b[0m\u001b[0;34m,\u001b[0m\u001b[0mSt\u001b[0m\u001b[0;34m[\u001b[0m\u001b[0mmoneymask\u001b[0m\u001b[0;34m]\u001b[0m\u001b[0;34m,\u001b[0m\u001b[0mkwargs\u001b[0m\u001b[0;34m)\u001b[0m \u001b[0;31m#Obtain continuation values\u001b[0m\u001b[0;34m\u001b[0m\u001b[0m\n\u001b[0m\u001b[1;32m    576\u001b[0m         \u001b[0mtimings\u001b[0m\u001b[0;34m[\u001b[0m\u001b[0;36m5\u001b[0m\u001b[0;34m]\u001b[0m \u001b[0;34m=\u001b[0m \u001b[0mt0\u001b[0m \u001b[0;34m-\u001b[0m \u001b[0mtime\u001b[0m\u001b[0;34m.\u001b[0m\u001b[0mtime\u001b[0m\u001b[0;34m(\u001b[0m\u001b[0;34m)\u001b[0m\u001b[0;34m\u001b[0m\u001b[0m\n\u001b[1;32m    577\u001b[0m \u001b[0;34m\u001b[0m\u001b[0m\n",
      "\u001b[0;32m~/Documents/Schoolwork/NYU/High_Performance_Computing/Thesis/NYU_Machine_Learning_Project/pythonMC/proj_helpers/FinObj.py\u001b[0m in \u001b[0;36mgetCont\u001b[0;34m(Ct1, St, kwargs)\u001b[0m\n\u001b[1;32m    356\u001b[0m \u001b[0;34m\u001b[0m\u001b[0m\n\u001b[1;32m    357\u001b[0m     \u001b[0;31m#Fit regression coefficients\u001b[0m\u001b[0;34m\u001b[0m\u001b[0;34m\u001b[0m\u001b[0m\n\u001b[0;32m--> 358\u001b[0;31m     \u001b[0mbetas\u001b[0m \u001b[0;34m=\u001b[0m \u001b[0mnp\u001b[0m\u001b[0;34m.\u001b[0m\u001b[0mlinalg\u001b[0m\u001b[0;34m.\u001b[0m\u001b[0mlstsq\u001b[0m\u001b[0;34m(\u001b[0m\u001b[0mX\u001b[0m\u001b[0;34m,\u001b[0m\u001b[0mCt1\u001b[0m\u001b[0;34m)\u001b[0m\u001b[0;34m[\u001b[0m\u001b[0;36m0\u001b[0m\u001b[0;34m]\u001b[0m\u001b[0;34m\u001b[0m\u001b[0m\n\u001b[0m\u001b[1;32m    359\u001b[0m \u001b[0;34m\u001b[0m\u001b[0m\n\u001b[1;32m    360\u001b[0m     \u001b[0;31m#Return fitted values\u001b[0m\u001b[0;34m\u001b[0m\u001b[0;34m\u001b[0m\u001b[0m\n",
      "\u001b[0;32m~/anaconda3/lib/python3.6/site-packages/numpy/linalg/linalg.py\u001b[0m in \u001b[0;36mlstsq\u001b[0;34m(a, b, rcond)\u001b[0m\n\u001b[1;32m   2039\u001b[0m         \u001b[0mwork\u001b[0m \u001b[0;34m=\u001b[0m \u001b[0mzeros\u001b[0m\u001b[0;34m(\u001b[0m\u001b[0;34m(\u001b[0m\u001b[0mlwork\u001b[0m\u001b[0;34m,\u001b[0m\u001b[0;34m)\u001b[0m\u001b[0;34m,\u001b[0m \u001b[0mt\u001b[0m\u001b[0;34m)\u001b[0m\u001b[0;34m\u001b[0m\u001b[0m\n\u001b[1;32m   2040\u001b[0m         results = lapack_routine(m, n, n_rhs, a, m, bstar, ldb, s, rcond,\n\u001b[0;32m-> 2041\u001b[0;31m                                  0, work, lwork, iwork, 0)\n\u001b[0m\u001b[1;32m   2042\u001b[0m     \u001b[0;32mif\u001b[0m \u001b[0mresults\u001b[0m\u001b[0;34m[\u001b[0m\u001b[0;34m'info'\u001b[0m\u001b[0;34m]\u001b[0m \u001b[0;34m>\u001b[0m \u001b[0;36m0\u001b[0m\u001b[0;34m:\u001b[0m\u001b[0;34m\u001b[0m\u001b[0m\n\u001b[1;32m   2043\u001b[0m         \u001b[0;32mraise\u001b[0m \u001b[0mLinAlgError\u001b[0m\u001b[0;34m(\u001b[0m\u001b[0;34m'SVD did not converge in Linear Least Squares'\u001b[0m\u001b[0;34m)\u001b[0m\u001b[0;34m\u001b[0m\u001b[0m\n",
      "\u001b[0;31mKeyboardInterrupt\u001b[0m: "
     ]
    }
   ],
   "source": [
    "#Plot BS call vs. LSM call against spot\n",
    "spots=np.linspace(60,140,10)\n",
    "call_bs = {}\n",
    "call_lsm = {}\n",
    "for s in spots:\n",
    "    call_bs[s] = risk.BSCall(s, strike, div, rate, vol, expr)\n",
    "    share1.setSpot(s) #Change spot price for LSM\n",
    "    call_lsm[s] = fin.priceLSM(share1,myOption,paths,time_s,t_unit,anti=True,regressor=fin.getCont,num_basis=4)\n",
    "    print(\"Spot : \" + str(s) + \" BS Price : \" + str(call_bs[s]) + \" LSM Price \" + str(call_lsm[s]))"
   ]
  },
  {
   "cell_type": "code",
   "execution_count": 10,
   "metadata": {},
   "outputs": [
    {
     "data": {
      "image/png": "[encoded data removed]",
      "text/plain": [
       "<matplotlib.figure.Figure at 0x1109dc438>"
      ]
     },
     "metadata": {},
     "output_type": "display_data"
    }
   ],
   "source": [
    "pplot.plot(spots,call_bs.values(),label='Black Scholes Call')\n",
    "pplot.plot(spots,call_lsm.values(),label='My LSM Call')\n",
    "pplot.legend()\n",
    "pplot.xlabel('Spot')\n",
    "pplot.ylabel('Price')\n",
    "pplot.show()"
   ]
  },
  {
   "cell_type": "code",
   "execution_count": 14,
   "metadata": {
    "scrolled": true
   },
   "outputs": [
    {
     "name": "stderr",
     "output_type": "stream",
     "text": [
      "/Users/anthonymaylath/Documents/Schoolwork/NYU/High_Performance_Computing/Thesis/NYU_Machine_Learning_Project/pythonMC/proj_helpers/FinObj.py:358: FutureWarning: `rcond` parameter will change to the default of machine precision times ``max(M, N)`` where M and N are the input matrix dimensions.\n",
      "To use the future default and silence this warning we advise to pass `rcond=None`, to keep using the old, explicitly pass `rcond=-1`.\n",
      "  betas = np.linalg.lstsq(X,Ct1)[0]\n"
     ]
    },
    {
     "name": "stdout",
     "output_type": "stream",
     "text": [
      "Spot : 80.0 BS Price : 10.930714889579036 LSM Price 19.990002499583387 LSM Random Forest 20.021925208819134\n"
     ]
    },
    {
     "name": "stderr",
     "output_type": "stream",
     "text": [
      "/Users/anthonymaylath/Documents/Schoolwork/NYU/High_Performance_Computing/Thesis/NYU_Machine_Learning_Project/pythonMC/proj_helpers/FinObj.py:358: FutureWarning: `rcond` parameter will change to the default of machine precision times ``max(M, N)`` where M and N are the input matrix dimensions.\n",
      "To use the future default and silence this warning we advise to pass `rcond=None`, to keep using the old, explicitly pass `rcond=-1`.\n",
      "  betas = np.linalg.lstsq(X,Ct1)[0]\n"
     ]
    },
    {
     "name": "stdout",
     "output_type": "stream",
     "text": [
      "Spot : 81.37931034482759 BS Price : 9.740221801563607 LSM Price 18.611381637543154 LSM Random Forest 18.611381637543154\n"
     ]
    },
    {
     "name": "stderr",
     "output_type": "stream",
     "text": [
      "/Users/anthonymaylath/Documents/Schoolwork/NYU/High_Performance_Computing/Thesis/NYU_Machine_Learning_Project/pythonMC/proj_helpers/FinObj.py:358: FutureWarning: `rcond` parameter will change to the default of machine precision times ``max(M, N)`` where M and N are the input matrix dimensions.\n",
      "To use the future default and silence this warning we advise to pass `rcond=None`, to keep using the old, explicitly pass `rcond=-1`.\n",
      "  betas = np.linalg.lstsq(X,Ct1)[0]\n"
     ]
    },
    {
     "name": "stdout",
     "output_type": "stream",
     "text": [
      "Spot : 82.75862068965517 BS Price : 8.605668394236886 LSM Price 17.23276077550292 LSM Random Forest 17.283769948843368\n"
     ]
    },
    {
     "name": "stderr",
     "output_type": "stream",
     "text": [
      "/Users/anthonymaylath/Documents/Schoolwork/NYU/High_Performance_Computing/Thesis/NYU_Machine_Learning_Project/pythonMC/proj_helpers/FinObj.py:358: FutureWarning: `rcond` parameter will change to the default of machine precision times ``max(M, N)`` where M and N are the input matrix dimensions.\n",
      "To use the future default and silence this warning we advise to pass `rcond=None`, to keep using the old, explicitly pass `rcond=-1`.\n",
      "  betas = np.linalg.lstsq(X,Ct1)[0]\n"
     ]
    },
    {
     "name": "stdout",
     "output_type": "stream",
     "text": [
      "Spot : 84.13793103448276 BS Price : 7.53535304757942 LSM Price 15.854139913462687 LSM Random Forest 15.885523522316424\n"
     ]
    },
    {
     "name": "stderr",
     "output_type": "stream",
     "text": [
      "/Users/anthonymaylath/Documents/Schoolwork/NYU/High_Performance_Computing/Thesis/NYU_Machine_Learning_Project/pythonMC/proj_helpers/FinObj.py:358: FutureWarning: `rcond` parameter will change to the default of machine precision times ``max(M, N)`` where M and N are the input matrix dimensions.\n",
      "To use the future default and silence this warning we advise to pass `rcond=None`, to keep using the old, explicitly pass `rcond=-1`.\n",
      "  betas = np.linalg.lstsq(X,Ct1)[0]\n"
     ]
    },
    {
     "name": "stdout",
     "output_type": "stream",
     "text": [
      "Spot : 85.51724137931035 BS Price : 6.536648141460873 LSM Price 14.47551905142245 LSM Random Forest 14.519707048370648\n"
     ]
    },
    {
     "name": "stderr",
     "output_type": "stream",
     "text": [
      "/Users/anthonymaylath/Documents/Schoolwork/NYU/High_Performance_Computing/Thesis/NYU_Machine_Learning_Project/pythonMC/proj_helpers/FinObj.py:358: FutureWarning: `rcond` parameter will change to the default of machine precision times ``max(M, N)`` where M and N are the input matrix dimensions.\n",
      "To use the future default and silence this warning we advise to pass `rcond=None`, to keep using the old, explicitly pass `rcond=-1`.\n",
      "  betas = np.linalg.lstsq(X,Ct1)[0]\n"
     ]
    },
    {
     "name": "stdout",
     "output_type": "stream",
     "text": [
      "Spot : 86.89655172413794 BS Price : 5.615545967377841 LSM Price 13.096898189382214 LSM Random Forest 13.110692048827712\n"
     ]
    },
    {
     "name": "stderr",
     "output_type": "stream",
     "text": [
      "/Users/anthonymaylath/Documents/Schoolwork/NYU/High_Performance_Computing/Thesis/NYU_Machine_Learning_Project/pythonMC/proj_helpers/FinObj.py:358: FutureWarning: `rcond` parameter will change to the default of machine precision times ``max(M, N)`` where M and N are the input matrix dimensions.\n",
      "To use the future default and silence this warning we advise to pass `rcond=None`, to keep using the old, explicitly pass `rcond=-1`.\n",
      "  betas = np.linalg.lstsq(X,Ct1)[0]\n"
     ]
    },
    {
     "name": "stdout",
     "output_type": "stream",
     "text": [
      "Spot : 88.27586206896552 BS Price : 4.776302547464482 LSM Price 11.718277327341982 LSM Random Forest 11.796707510570153\n"
     ]
    },
    {
     "name": "stderr",
     "output_type": "stream",
     "text": [
      "/Users/anthonymaylath/Documents/Schoolwork/NYU/High_Performance_Computing/Thesis/NYU_Machine_Learning_Project/pythonMC/proj_helpers/FinObj.py:358: FutureWarning: `rcond` parameter will change to the default of machine precision times ``max(M, N)`` where M and N are the input matrix dimensions.\n",
      "To use the future default and silence this warning we advise to pass `rcond=None`, to keep using the old, explicitly pass `rcond=-1`.\n",
      "  betas = np.linalg.lstsq(X,Ct1)[0]\n"
     ]
    },
    {
     "name": "stdout",
     "output_type": "stream",
     "text": [
      "Spot : 89.65517241379311 BS Price : 4.021214001819942 LSM Price 10.339656465301745 LSM Random Forest 10.360676570630625\n"
     ]
    },
    {
     "name": "stderr",
     "output_type": "stream",
     "text": [
      "/Users/anthonymaylath/Documents/Schoolwork/NYU/High_Performance_Computing/Thesis/NYU_Machine_Learning_Project/pythonMC/proj_helpers/FinObj.py:358: FutureWarning: `rcond` parameter will change to the default of machine precision times ``max(M, N)`` where M and N are the input matrix dimensions.\n",
      "To use the future default and silence this warning we advise to pass `rcond=None`, to keep using the old, explicitly pass `rcond=-1`.\n",
      "  betas = np.linalg.lstsq(X,Ct1)[0]\n"
     ]
    },
    {
     "name": "stdout",
     "output_type": "stream",
     "text": [
      "Spot : 91.0344827586207 BS Price : 3.350542099278286 LSM Price 8.961035603261509 LSM Random Forest 9.01104072772431\n"
     ]
    },
    {
     "name": "stderr",
     "output_type": "stream",
     "text": [
      "/Users/anthonymaylath/Documents/Schoolwork/NYU/High_Performance_Computing/Thesis/NYU_Machine_Learning_Project/pythonMC/proj_helpers/FinObj.py:358: FutureWarning: `rcond` parameter will change to the default of machine precision times ``max(M, N)`` where M and N are the input matrix dimensions.\n",
      "To use the future default and silence this warning we advise to pass `rcond=None`, to keep using the old, explicitly pass `rcond=-1`.\n",
      "  betas = np.linalg.lstsq(X,Ct1)[0]\n"
     ]
    },
    {
     "name": "stdout",
     "output_type": "stream",
     "text": [
      "Spot : 92.41379310344828 BS Price : 2.7625867173811756 LSM Price 7.582414741221274 LSM Random Forest 7.642160384720168\n"
     ]
    },
    {
     "name": "stderr",
     "output_type": "stream",
     "text": [
      "/Users/anthonymaylath/Documents/Schoolwork/NYU/High_Performance_Computing/Thesis/NYU_Machine_Learning_Project/pythonMC/proj_helpers/FinObj.py:358: FutureWarning: `rcond` parameter will change to the default of machine precision times ``max(M, N)`` where M and N are the input matrix dimensions.\n",
      "To use the future default and silence this warning we advise to pass `rcond=None`, to keep using the old, explicitly pass `rcond=-1`.\n",
      "  betas = np.linalg.lstsq(X,Ct1)[0]\n"
     ]
    },
    {
     "name": "stdout",
     "output_type": "stream",
     "text": [
      "Spot : 93.79310344827586 BS Price : 2.253886301698479 LSM Price 6.2037938791810525 LSM Random Forest 6.368277473740987\n"
     ]
    },
    {
     "name": "stderr",
     "output_type": "stream",
     "text": [
      "/Users/anthonymaylath/Documents/Schoolwork/NYU/High_Performance_Computing/Thesis/NYU_Machine_Learning_Project/pythonMC/proj_helpers/FinObj.py:358: FutureWarning: `rcond` parameter will change to the default of machine precision times ``max(M, N)`` where M and N are the input matrix dimensions.\n",
      "To use the future default and silence this warning we advise to pass `rcond=None`, to keep using the old, explicitly pass `rcond=-1`.\n",
      "  betas = np.linalg.lstsq(X,Ct1)[0]\n"
     ]
    },
    {
     "name": "stdout",
     "output_type": "stream",
     "text": [
      "Spot : 95.17241379310344 BS Price : 1.8195153660653354 LSM Price 4.825173017140822 LSM Random Forest 5.1434234195171085\n"
     ]
    },
    {
     "name": "stderr",
     "output_type": "stream",
     "text": [
      "/Users/anthonymaylath/Documents/Schoolwork/NYU/High_Performance_Computing/Thesis/NYU_Machine_Learning_Project/pythonMC/proj_helpers/FinObj.py:358: FutureWarning: `rcond` parameter will change to the default of machine precision times ``max(M, N)`` where M and N are the input matrix dimensions.\n",
      "To use the future default and silence this warning we advise to pass `rcond=None`, to keep using the old, explicitly pass `rcond=-1`.\n",
      "  betas = np.linalg.lstsq(X,Ct1)[0]\n"
     ]
    },
    {
     "name": "stdout",
     "output_type": "stream",
     "text": [
      "Spot : 96.55172413793103 BS Price : 1.4534417518811367 LSM Price 3.5080918658702727 LSM Random Forest 4.083732703254826\n"
     ]
    },
    {
     "name": "stderr",
     "output_type": "stream",
     "text": [
      "/Users/anthonymaylath/Documents/Schoolwork/NYU/High_Performance_Computing/Thesis/NYU_Machine_Learning_Project/pythonMC/proj_helpers/FinObj.py:358: FutureWarning: `rcond` parameter will change to the default of machine precision times ``max(M, N)`` where M and N are the input matrix dimensions.\n",
      "To use the future default and silence this warning we advise to pass `rcond=None`, to keep using the old, explicitly pass `rcond=-1`.\n",
      "  betas = np.linalg.lstsq(X,Ct1)[0]\n"
     ]
    },
    {
     "name": "stdout",
     "output_type": "stream",
     "text": [
      "Spot : 97.93103448275862 BS Price : 1.1489057312280657 LSM Price 2.552349018541993 LSM Random Forest 3.0751317482569736\n"
     ]
    },
    {
     "name": "stderr",
     "output_type": "stream",
     "text": [
      "/Users/anthonymaylath/Documents/Schoolwork/NYU/High_Performance_Computing/Thesis/NYU_Machine_Learning_Project/pythonMC/proj_helpers/FinObj.py:358: FutureWarning: `rcond` parameter will change to the default of machine precision times ``max(M, N)`` where M and N are the input matrix dimensions.\n",
      "To use the future default and silence this warning we advise to pass `rcond=None`, to keep using the old, explicitly pass `rcond=-1`.\n",
      "  betas = np.linalg.lstsq(X,Ct1)[0]\n"
     ]
    },
    {
     "name": "stdout",
     "output_type": "stream",
     "text": [
      "Spot : 99.3103448275862 BS Price : 0.8987871322306766 LSM Price 1.9000301540316626 LSM Random Forest 2.3899058272566673\n"
     ]
    },
    {
     "name": "stderr",
     "output_type": "stream",
     "text": [
      "/Users/anthonymaylath/Documents/Schoolwork/NYU/High_Performance_Computing/Thesis/NYU_Machine_Learning_Project/pythonMC/proj_helpers/FinObj.py:358: FutureWarning: `rcond` parameter will change to the default of machine precision times ``max(M, N)`` where M and N are the input matrix dimensions.\n",
      "To use the future default and silence this warning we advise to pass `rcond=None`, to keep using the old, explicitly pass `rcond=-1`.\n",
      "  betas = np.linalg.lstsq(X,Ct1)[0]\n"
     ]
    },
    {
     "name": "stdout",
     "output_type": "stream",
     "text": [
      "Spot : 100.6896551724138 BS Price : 0.6959339714724031 LSM Price 1.4267719168096669 LSM Random Forest 1.8055037827345055\n"
     ]
    },
    {
     "name": "stderr",
     "output_type": "stream",
     "text": [
      "/Users/anthonymaylath/Documents/Schoolwork/NYU/High_Performance_Computing/Thesis/NYU_Machine_Learning_Project/pythonMC/proj_helpers/FinObj.py:358: FutureWarning: `rcond` parameter will change to the default of machine precision times ``max(M, N)`` where M and N are the input matrix dimensions.\n",
      "To use the future default and silence this warning we advise to pass `rcond=None`, to keep using the old, explicitly pass `rcond=-1`.\n",
      "  betas = np.linalg.lstsq(X,Ct1)[0]\n"
     ]
    },
    {
     "name": "stdout",
     "output_type": "stream",
     "text": [
      "Spot : 102.06896551724138 BS Price : 0.5334349251119495 LSM Price 1.0846534518877256 LSM Random Forest 1.4256347699104992\n",
      "Warning: No Paths in the Money. Price May Round to Zero.\n"
     ]
    },
    {
     "name": "stderr",
     "output_type": "stream",
     "text": [
      "/Users/anthonymaylath/Documents/Schoolwork/NYU/High_Performance_Computing/Thesis/NYU_Machine_Learning_Project/pythonMC/proj_helpers/FinObj.py:358: FutureWarning: `rcond` parameter will change to the default of machine precision times ``max(M, N)`` where M and N are the input matrix dimensions.\n",
      "To use the future default and silence this warning we advise to pass `rcond=None`, to keep using the old, explicitly pass `rcond=-1`.\n",
      "  betas = np.linalg.lstsq(X,Ct1)[0]\n"
     ]
    },
    {
     "name": "stdout",
     "output_type": "stream",
     "text": [
      "Warning: No Paths in the Money. Price May Round to Zero.\n",
      "Spot : 103.44827586206897 BS Price : 0.4048268504074102 LSM Price 0.7535347503928658 LSM Random Forest 1.031523933830729\n",
      "Warning: No Paths in the Money. Price May Round to Zero.\n"
     ]
    },
    {
     "name": "stderr",
     "output_type": "stream",
     "text": [
      "/Users/anthonymaylath/Documents/Schoolwork/NYU/High_Performance_Computing/Thesis/NYU_Machine_Learning_Project/pythonMC/proj_helpers/FinObj.py:358: FutureWarning: `rcond` parameter will change to the default of machine precision times ``max(M, N)`` where M and N are the input matrix dimensions.\n",
      "To use the future default and silence this warning we advise to pass `rcond=None`, to keep using the old, explicitly pass `rcond=-1`.\n",
      "  betas = np.linalg.lstsq(X,Ct1)[0]\n"
     ]
    },
    {
     "name": "stdout",
     "output_type": "stream",
     "text": [
      "Warning: No Paths in the Money. Price May Round to Zero.\n",
      "Spot : 104.82758620689656 BS Price : 0.30423634680453127 LSM Price 0.6297481651835867 LSM Random Forest 0.7132803806478902\n",
      "Warning: No Paths in the Money. Price May Round to Zero.\n"
     ]
    },
    {
     "name": "stderr",
     "output_type": "stream",
     "text": [
      "/Users/anthonymaylath/Documents/Schoolwork/NYU/High_Performance_Computing/Thesis/NYU_Machine_Learning_Project/pythonMC/proj_helpers/FinObj.py:358: FutureWarning: `rcond` parameter will change to the default of machine precision times ``max(M, N)`` where M and N are the input matrix dimensions.\n",
      "To use the future default and silence this warning we advise to pass `rcond=None`, to keep using the old, explicitly pass `rcond=-1`.\n",
      "  betas = np.linalg.lstsq(X,Ct1)[0]\n"
     ]
    },
    {
     "name": "stdout",
     "output_type": "stream",
     "text": [
      "Warning: No Paths in the Money. Price May Round to Zero.\n",
      "Spot : 106.20689655172414 BS Price : 0.22646033812637079 LSM Price 0.43399590279770306 LSM Random Forest 0.5747226500584691\n",
      "Warning: No Paths in the Money. Price May Round to Zero.\n"
     ]
    },
    {
     "name": "stderr",
     "output_type": "stream",
     "text": [
      "/Users/anthonymaylath/Documents/Schoolwork/NYU/High_Performance_Computing/Thesis/NYU_Machine_Learning_Project/pythonMC/proj_helpers/FinObj.py:358: FutureWarning: `rcond` parameter will change to the default of machine precision times ``max(M, N)`` where M and N are the input matrix dimensions.\n",
      "To use the future default and silence this warning we advise to pass `rcond=None`, to keep using the old, explicitly pass `rcond=-1`.\n",
      "  betas = np.linalg.lstsq(X,Ct1)[0]\n"
     ]
    },
    {
     "name": "stdout",
     "output_type": "stream",
     "text": [
      "Warning: No Paths in the Money. Price May Round to Zero.\n",
      "Spot : 107.58620689655173 BS Price : 0.1669946147672139 LSM Price 0.289806190059755 LSM Random Forest 0.35032367372747175\n",
      "Warning: No Paths in the Money. Price May Round to Zero.\n"
     ]
    },
    {
     "name": "stderr",
     "output_type": "stream",
     "text": [
      "/Users/anthonymaylath/Documents/Schoolwork/NYU/High_Performance_Computing/Thesis/NYU_Machine_Learning_Project/pythonMC/proj_helpers/FinObj.py:358: FutureWarning: `rcond` parameter will change to the default of machine precision times ``max(M, N)`` where M and N are the input matrix dimensions.\n",
      "To use the future default and silence this warning we advise to pass `rcond=None`, to keep using the old, explicitly pass `rcond=-1`.\n",
      "  betas = np.linalg.lstsq(X,Ct1)[0]\n"
     ]
    },
    {
     "name": "stdout",
     "output_type": "stream",
     "text": [
      "Warning: No Paths in the Money. Price May Round to Zero.\n",
      "Spot : 108.96551724137932 BS Price : 0.12202129158159458 LSM Price 0.20117580480789468 LSM Random Forest 0.3324809290954349\n",
      "Warning: No Paths in the Money. Price May Round to Zero.\n"
     ]
    },
    {
     "name": "stderr",
     "output_type": "stream",
     "text": [
      "/Users/anthonymaylath/Documents/Schoolwork/NYU/High_Performance_Computing/Thesis/NYU_Machine_Learning_Project/pythonMC/proj_helpers/FinObj.py:358: FutureWarning: `rcond` parameter will change to the default of machine precision times ``max(M, N)`` where M and N are the input matrix dimensions.\n",
      "To use the future default and silence this warning we advise to pass `rcond=None`, to keep using the old, explicitly pass `rcond=-1`.\n",
      "  betas = np.linalg.lstsq(X,Ct1)[0]\n"
     ]
    },
    {
     "name": "stdout",
     "output_type": "stream",
     "text": [
      "Warning: No Paths in the Money. Price May Round to Zero.\n",
      "Spot : 110.34482758620689 BS Price : 0.08836653438231723 LSM Price 0.14043324454101166 LSM Random Forest 0.21912994318653684\n",
      "Warning: No Paths in the Money. Price May Round to Zero.\n"
     ]
    },
    {
     "name": "stderr",
     "output_type": "stream",
     "text": [
      "/Users/anthonymaylath/Documents/Schoolwork/NYU/High_Performance_Computing/Thesis/NYU_Machine_Learning_Project/pythonMC/proj_helpers/FinObj.py:358: FutureWarning: `rcond` parameter will change to the default of machine precision times ``max(M, N)`` where M and N are the input matrix dimensions.\n",
      "To use the future default and silence this warning we advise to pass `rcond=None`, to keep using the old, explicitly pass `rcond=-1`.\n",
      "  betas = np.linalg.lstsq(X,Ct1)[0]\n"
     ]
    },
    {
     "name": "stdout",
     "output_type": "stream",
     "text": [
      "Warning: No Paths in the Money. Price May Round to Zero.\n",
      "Spot : 111.72413793103448 BS Price : 0.06343911645952716 LSM Price 0.11924396094974143 LSM Random Forest 0.135750111084571\n",
      "Warning: No Paths in the Money. Price May Round to Zero.\n"
     ]
    },
    {
     "name": "stderr",
     "output_type": "stream",
     "text": [
      "/Users/anthonymaylath/Documents/Schoolwork/NYU/High_Performance_Computing/Thesis/NYU_Machine_Learning_Project/pythonMC/proj_helpers/FinObj.py:358: FutureWarning: `rcond` parameter will change to the default of machine precision times ``max(M, N)`` where M and N are the input matrix dimensions.\n",
      "To use the future default and silence this warning we advise to pass `rcond=None`, to keep using the old, explicitly pass `rcond=-1`.\n",
      "  betas = np.linalg.lstsq(X,Ct1)[0]\n"
     ]
    },
    {
     "name": "stdout",
     "output_type": "stream",
     "text": [
      "Warning: No Paths in the Money. Price May Round to Zero.\n",
      "Spot : 113.10344827586206 BS Price : 0.045158831230762475 LSM Price 0.10229058861594469 LSM Random Forest 0.11461766934643018\n",
      "Warning: No Paths in the Money. Price May Round to Zero.\n"
     ]
    },
    {
     "name": "stderr",
     "output_type": "stream",
     "text": [
      "/Users/anthonymaylath/Documents/Schoolwork/NYU/High_Performance_Computing/Thesis/NYU_Machine_Learning_Project/pythonMC/proj_helpers/FinObj.py:358: FutureWarning: `rcond` parameter will change to the default of machine precision times ``max(M, N)`` where M and N are the input matrix dimensions.\n",
      "To use the future default and silence this warning we advise to pass `rcond=None`, to keep using the old, explicitly pass `rcond=-1`.\n",
      "  betas = np.linalg.lstsq(X,Ct1)[0]\n"
     ]
    },
    {
     "name": "stdout",
     "output_type": "stream",
     "text": [
      "Warning: No Paths in the Money. Price May Round to Zero.\n",
      "Spot : 114.48275862068965 BS Price : 0.031881901311206384 LSM Price 0.06761181684561414 LSM Random Forest 0.0769683995077463\n",
      "Warning: No Paths in the Money. Price May Round to Zero.\n"
     ]
    },
    {
     "name": "stderr",
     "output_type": "stream",
     "text": [
      "/Users/anthonymaylath/Documents/Schoolwork/NYU/High_Performance_Computing/Thesis/NYU_Machine_Learning_Project/pythonMC/proj_helpers/FinObj.py:358: FutureWarning: `rcond` parameter will change to the default of machine precision times ``max(M, N)`` where M and N are the input matrix dimensions.\n",
      "To use the future default and silence this warning we advise to pass `rcond=None`, to keep using the old, explicitly pass `rcond=-1`.\n",
      "  betas = np.linalg.lstsq(X,Ct1)[0]\n"
     ]
    },
    {
     "name": "stdout",
     "output_type": "stream",
     "text": [
      "Warning: No Paths in the Money. Price May Round to Zero.\n",
      "Spot : 115.86206896551724 BS Price : 0.02232859419412081 LSM Price 0.04453047978871936 LSM Random Forest 0.05537287684974939\n",
      "Warning: No Paths in the Money. Price May Round to Zero.\n"
     ]
    },
    {
     "name": "stderr",
     "output_type": "stream",
     "text": [
      "/Users/anthonymaylath/Documents/Schoolwork/NYU/High_Performance_Computing/Thesis/NYU_Machine_Learning_Project/pythonMC/proj_helpers/FinObj.py:358: FutureWarning: `rcond` parameter will change to the default of machine precision times ``max(M, N)`` where M and N are the input matrix dimensions.\n",
      "To use the future default and silence this warning we advise to pass `rcond=None`, to keep using the old, explicitly pass `rcond=-1`.\n",
      "  betas = np.linalg.lstsq(X,Ct1)[0]\n"
     ]
    },
    {
     "name": "stdout",
     "output_type": "stream",
     "text": [
      "Warning: No Paths in the Money. Price May Round to Zero.\n",
      "Spot : 117.24137931034483 BS Price : 0.015516489305944847 LSM Price 0.041648794735756084 LSM Random Forest 0.03467762529038507\n",
      "Warning: No Paths in the Money. Price May Round to Zero.\n"
     ]
    },
    {
     "name": "stderr",
     "output_type": "stream",
     "text": [
      "/Users/anthonymaylath/Documents/Schoolwork/NYU/High_Performance_Computing/Thesis/NYU_Machine_Learning_Project/pythonMC/proj_helpers/FinObj.py:358: FutureWarning: `rcond` parameter will change to the default of machine precision times ``max(M, N)`` where M and N are the input matrix dimensions.\n",
      "To use the future default and silence this warning we advise to pass `rcond=None`, to keep using the old, explicitly pass `rcond=-1`.\n",
      "  betas = np.linalg.lstsq(X,Ct1)[0]\n"
     ]
    },
    {
     "name": "stdout",
     "output_type": "stream",
     "text": [
      "Warning: No Paths in the Money. Price May Round to Zero.\n",
      "Spot : 118.62068965517241 BS Price : 0.01070135942756617 LSM Price 0.029858750049101115 LSM Random Forest 0.036111214722069726\n",
      "Warning: No Paths in the Money. Price May Round to Zero.\n"
     ]
    },
    {
     "name": "stderr",
     "output_type": "stream",
     "text": [
      "/Users/anthonymaylath/Documents/Schoolwork/NYU/High_Performance_Computing/Thesis/NYU_Machine_Learning_Project/pythonMC/proj_helpers/FinObj.py:358: FutureWarning: `rcond` parameter will change to the default of machine precision times ``max(M, N)`` where M and N are the input matrix dimensions.\n",
      "To use the future default and silence this warning we advise to pass `rcond=None`, to keep using the old, explicitly pass `rcond=-1`.\n",
      "  betas = np.linalg.lstsq(X,Ct1)[0]\n"
     ]
    },
    {
     "name": "stdout",
     "output_type": "stream",
     "text": [
      "Warning: No Paths in the Money. Price May Round to Zero.\n",
      "Spot : 120.0 BS Price : 0.007326477559185196 LSM Price 0.013790304552797419 LSM Random Forest 0.013076203391855851\n"
     ]
    }
   ],
   "source": [
    "payoff=fin.amPutVec #Define option payoff\n",
    "\n",
    "#Option Parameters\n",
    "myOption = fin.Option(share1,payoff,time_s,strike,t_unit)\n",
    "\n",
    "spots=np.linspace(80,120,30)\n",
    "put_bs = {}\n",
    "put_lsm = {}\n",
    "put_lsmrf = {} #Random Forest\n",
    "for s in spots:\n",
    "    put_bs[s] = risk.BSPut(s, strike, div, rate, vol, expr)\n",
    "    share1.setSpot(s) #Change spot price for LSM\n",
    "    put_lsm[s] = fin.priceLSM(share1,myOption,paths,time_s,t_unit,\\\n",
    "                              anti=True,regressor=fin.getCont,num_basis=4) #Least squares\n",
    "    put_lsmrf[s] = fin.priceLSM(share1,myOption,paths,time_s,t_unit,\\\n",
    "                              anti=True,regressor=fin.getContRF,num_trees=5,max_depth=4) #Random Forest\n",
    "    print(\"Spot : \" + str(s) + \" BS Price : \" + str(put_bs[s]) + \\\n",
    "          \" LSM Price \" + str(put_lsm[s]) + \" LSM Random Forest \" + str(put_lsmrf[s]))"
   ]
  },
  {
   "cell_type": "code",
   "execution_count": 16,
   "metadata": {},
   "outputs": [
    {
     "data": {
      "image/png": "[encoded data removed]",
      "text/plain": [
       "<matplotlib.figure.Figure at 0x115a0eda0>"
      ]
     },
     "metadata": {},
     "output_type": "display_data"
    }
   ],
   "source": [
    "pplot.plot(spots,put_bs.values(),label='Black Scholes Put')\n",
    "pplot.plot(spots,put_lsm.values(),label='My LSM Put')\n",
    "pplot.plot(spots,put_lsmrf.values(),label='LSM Random Forest Put')\n",
    "pplot.legend()\n",
    "pplot.xlabel('Spot')\n",
    "pplot.ylabel('Price')\n",
    "pplot.show()"
   ]
  },
  {
   "cell_type": "code",
   "execution_count": 104,
   "metadata": {
    "scrolled": true
   },
   "outputs": [
    {
     "name": "stdout",
     "output_type": "stream",
     "text": [
      "Warning: No Paths in the Money. Price May Round to Zero.\n",
      "Warning: No Paths in the Money. Price May Round to Zero.\n",
      "Time : 16.31224298477173, Paths : 10 LSM Price : 0.6963572075945326 LSM RF Price : 0.44724834789099105 BS Price : 0.31056710561746875\n",
      "Warning: No Paths in the Money. Price May Round to Zero.\n",
      "Warning: No Paths in the Money. Price May Round to Zero.\n",
      "Time : 16.801737070083618, Paths : 100 LSM Price : 0.5563202924613091 LSM RF Price : 0.5762901818253107 BS Price : 0.31056710561746875\n",
      "Warning: No Paths in the Money. Price May Round to Zero.\n",
      "Warning: No Paths in the Money. Price May Round to Zero.\n",
      "Time : 17.146178007125854, Paths : 250 LSM Price : 0.5583506139435116 LSM RF Price : 0.5643867285935124 BS Price : 0.31056710561746875\n",
      "Warning: No Paths in the Money. Price May Round to Zero.\n",
      "Warning: No Paths in the Money. Price May Round to Zero.\n",
      "Time : 17.611583948135376, Paths : 500 LSM Price : 0.6029800251086405 LSM RF Price : 0.6090682549358589 BS Price : 0.31056710561746875\n",
      "Warning: No Paths in the Money. Price May Round to Zero.\n",
      "Warning: No Paths in the Money. Price May Round to Zero.\n",
      "Time : 18.56777000427246, Paths : 1000 LSM Price : 0.5988882519800542 LSM RF Price : 0.6046845190453104 BS Price : 0.31056710561746875\n",
      "Warning: No Paths in the Money. Price May Round to Zero.\n",
      "Warning: No Paths in the Money. Price May Round to Zero.\n",
      "Time : 21.502826929092407, Paths : 2000 LSM Price : 0.6019851507697663 LSM RF Price : 0.611937993731628 BS Price : 0.31056710561746875\n",
      "Warning: No Paths in the Money. Price May Round to Zero.\n",
      "Warning: No Paths in the Money. Price May Round to Zero.\n",
      "Time : 27.956195831298828, Paths : 5000 LSM Price : 0.607539437722278 LSM RF Price : 0.598441829149839 BS Price : 0.31056710561746875\n",
      "Warning: No Paths in the Money. Price May Round to Zero.\n",
      "Warning: No Paths in the Money. Price May Round to Zero.\n",
      "Time : 33.53912305831909, Paths : 7500 LSM Price : 0.60390146866633 LSM RF Price : 0.594081554541323 BS Price : 0.31056710561746875\n",
      "Warning: No Paths in the Money. Price May Round to Zero.\n",
      "Warning: No Paths in the Money. Price May Round to Zero.\n",
      "Time : 43.652148962020874, Paths : 10000 LSM Price : 0.6029670398764329 LSM RF Price : 0.595441568317605 BS Price : 0.31056710561746875\n",
      "Warning: No Paths in the Money. Price May Round to Zero.\n",
      "Warning: No Paths in the Money. Price May Round to Zero.\n",
      "Time : 81.01067209243774, Paths : 25000 LSM Price : 0.5988098537330964 LSM RF Price : 0.6019958567026881 BS Price : 0.31056710561746875\n",
      "Warning: No Paths in the Money. Price May Round to Zero.\n",
      "Warning: No Paths in the Money. Price May Round to Zero.\n",
      "Time : 159.25619506835938, Paths : 50000 LSM Price : 0.5996978333940483 LSM RF Price : 0.6034093590126552 BS Price : 0.31056710561746875\n",
      "Warning: No Paths in the Money. Price May Round to Zero.\n",
      "Warning: No Paths in the Money. Price May Round to Zero.\n",
      "Time : 308.870402097702, Paths : 100000 LSM Price : 0.601824108980771 LSM RF Price : 0.6017697333217958 BS Price : 0.31056710561746875\n",
      "Warning: No Paths in the Money. Price May Round to Zero.\n"
     ]
    },
    {
     "ename": "KeyboardInterrupt",
     "evalue": "",
     "output_type": "error",
     "traceback": [
      "\u001b[0;31m---------------------------------------------------------------------------\u001b[0m",
      "\u001b[0;31mKeyboardInterrupt\u001b[0m                         Traceback (most recent call last)",
      "\u001b[0;32m<ipython-input-104-e515ef41037d>\u001b[0m in \u001b[0;36m<module>\u001b[0;34m()\u001b[0m\n\u001b[1;32m     17\u001b[0m     \u001b[0mt0\u001b[0m\u001b[0;34m=\u001b[0m\u001b[0mtime\u001b[0m\u001b[0;34m.\u001b[0m\u001b[0mtime\u001b[0m\u001b[0;34m(\u001b[0m\u001b[0;34m)\u001b[0m\u001b[0;34m\u001b[0m\u001b[0m\n\u001b[1;32m     18\u001b[0m     \u001b[0mput_p_lsm\u001b[0m\u001b[0;34m[\u001b[0m\u001b[0mpaths\u001b[0m\u001b[0;34m]\u001b[0m\u001b[0;34m=\u001b[0m\u001b[0mfin\u001b[0m\u001b[0;34m.\u001b[0m\u001b[0mpriceLSM\u001b[0m\u001b[0;34m(\u001b[0m\u001b[0mshare1\u001b[0m\u001b[0;34m,\u001b[0m\u001b[0mmyOption\u001b[0m\u001b[0;34m,\u001b[0m\u001b[0mpaths\u001b[0m\u001b[0;34m,\u001b[0m\u001b[0mtime_s\u001b[0m\u001b[0;34m,\u001b[0m\u001b[0mt_unit\u001b[0m\u001b[0;34m,\u001b[0m                              \u001b[0manti\u001b[0m\u001b[0;34m=\u001b[0m\u001b[0;32mTrue\u001b[0m\u001b[0;34m,\u001b[0m\u001b[0mregressor\u001b[0m\u001b[0;34m=\u001b[0m\u001b[0mfin\u001b[0m\u001b[0;34m.\u001b[0m\u001b[0mgetCont\u001b[0m\u001b[0;34m,\u001b[0m\u001b[0mnum_basis\u001b[0m\u001b[0;34m=\u001b[0m\u001b[0;36m4\u001b[0m\u001b[0;34m)\u001b[0m \u001b[0;31m#Least squaresnp.mean(test)\u001b[0m\u001b[0;34m\u001b[0m\u001b[0m\n\u001b[0;32m---> 19\u001b[0;31m     \u001b[0mput_p_lsmrf\u001b[0m\u001b[0;34m[\u001b[0m\u001b[0mpaths\u001b[0m\u001b[0;34m]\u001b[0m\u001b[0;34m=\u001b[0m\u001b[0mfin\u001b[0m\u001b[0;34m.\u001b[0m\u001b[0mpriceLSM\u001b[0m\u001b[0;34m(\u001b[0m\u001b[0mshare1\u001b[0m\u001b[0;34m,\u001b[0m\u001b[0mmyOption\u001b[0m\u001b[0;34m,\u001b[0m\u001b[0mpaths\u001b[0m\u001b[0;34m,\u001b[0m\u001b[0mtime_s\u001b[0m\u001b[0;34m,\u001b[0m\u001b[0mt_unit\u001b[0m\u001b[0;34m,\u001b[0m                              \u001b[0manti\u001b[0m\u001b[0;34m=\u001b[0m\u001b[0;32mTrue\u001b[0m\u001b[0;34m,\u001b[0m\u001b[0mregressor\u001b[0m\u001b[0;34m=\u001b[0m\u001b[0mfin\u001b[0m\u001b[0;34m.\u001b[0m\u001b[0mgetContRF\u001b[0m\u001b[0;34m,\u001b[0m\u001b[0mnum_trees\u001b[0m\u001b[0;34m=\u001b[0m\u001b[0;36m100\u001b[0m\u001b[0;34m,\u001b[0m\u001b[0mmax_depth\u001b[0m\u001b[0;34m=\u001b[0m\u001b[0;36m3\u001b[0m\u001b[0;34m)\u001b[0m\u001b[0;34m\u001b[0m\u001b[0m\n\u001b[0m\u001b[1;32m     20\u001b[0m     \u001b[0mprint\u001b[0m\u001b[0;34m(\u001b[0m\u001b[0;34m\"Time : \"\u001b[0m\u001b[0;34m+\u001b[0m\u001b[0mstr\u001b[0m\u001b[0;34m(\u001b[0m\u001b[0mtime\u001b[0m\u001b[0;34m.\u001b[0m\u001b[0mtime\u001b[0m\u001b[0;34m(\u001b[0m\u001b[0;34m)\u001b[0m\u001b[0;34m-\u001b[0m\u001b[0mt0\u001b[0m\u001b[0;34m)\u001b[0m\u001b[0;34m+\u001b[0m\u001b[0;34m\", Paths : \"\u001b[0m\u001b[0;34m+\u001b[0m\u001b[0mstr\u001b[0m\u001b[0;34m(\u001b[0m\u001b[0mpaths\u001b[0m\u001b[0;34m)\u001b[0m         \u001b[0;34m+\u001b[0m\u001b[0;34m\" LSM Price : \"\u001b[0m\u001b[0;34m+\u001b[0m\u001b[0mstr\u001b[0m\u001b[0;34m(\u001b[0m\u001b[0mput_p_lsm\u001b[0m\u001b[0;34m[\u001b[0m\u001b[0mpaths\u001b[0m\u001b[0;34m]\u001b[0m\u001b[0;34m)\u001b[0m\u001b[0;34m+\u001b[0m\u001b[0;34m\" LSM RF Price : \"\u001b[0m\u001b[0;34m+\u001b[0m\u001b[0mstr\u001b[0m\u001b[0;34m(\u001b[0m\u001b[0mput_p_lsmrf\u001b[0m\u001b[0;34m[\u001b[0m\u001b[0mpaths\u001b[0m\u001b[0;34m]\u001b[0m\u001b[0;34m)\u001b[0m\u001b[0;34m+\u001b[0m          \u001b[0;34m\" BS Price : \"\u001b[0m\u001b[0;34m+\u001b[0m\u001b[0mstr\u001b[0m\u001b[0;34m(\u001b[0m\u001b[0mput_bs\u001b[0m\u001b[0;34m)\u001b[0m\u001b[0;34m)\u001b[0m\u001b[0;34m\u001b[0m\u001b[0m\n",
      "\u001b[0;32m~/Documents/Schoolwork/NYU/High_Performance_Computing/Thesis/NYU_Machine_Learning_Project/pythonMC/proj_helpers/FinObj.py\u001b[0m in \u001b[0;36mpriceLSM\u001b[0;34m(stock, opt, paths, t_steps, t_unit, anti, regressor, **kwargs)\u001b[0m\n\u001b[1;32m    631\u001b[0m     \u001b[0mnum_basis\u001b[0m \u001b[0;34m:\u001b[0m \u001b[0mnumber\u001b[0m \u001b[0mof\u001b[0m \u001b[0mbasis\u001b[0m \u001b[0mvectors\u001b[0m \u001b[0mto\u001b[0m \u001b[0muse\u001b[0m \u001b[0;32min\u001b[0m \u001b[0mLaguerre\u001b[0m \u001b[0mexpansion\u001b[0m\u001b[0;34m\u001b[0m\u001b[0m\n\u001b[1;32m    632\u001b[0m     '''\n\u001b[0;32m--> 633\u001b[0;31m     \u001b[0;32mreturn\u001b[0m \u001b[0mnp\u001b[0m\u001b[0;34m.\u001b[0m\u001b[0mmean\u001b[0m\u001b[0;34m(\u001b[0m\u001b[0mbridgePayoffs\u001b[0m\u001b[0;34m(\u001b[0m\u001b[0mstock\u001b[0m\u001b[0;34m,\u001b[0m \u001b[0mopt\u001b[0m\u001b[0;34m,\u001b[0m \u001b[0mpaths\u001b[0m\u001b[0;34m,\u001b[0m \u001b[0mt_steps\u001b[0m\u001b[0;34m,\u001b[0m \u001b[0mt_unit\u001b[0m\u001b[0;34m,\u001b[0m\u001b[0manti\u001b[0m\u001b[0;34m,\u001b[0m\u001b[0mregressor\u001b[0m\u001b[0;34m,\u001b[0m\u001b[0mkwargs\u001b[0m\u001b[0;34m)\u001b[0m\u001b[0;34m)\u001b[0m\u001b[0;34m\u001b[0m\u001b[0m\n\u001b[0m\u001b[1;32m    634\u001b[0m \u001b[0;34m\u001b[0m\u001b[0m\n",
      "\u001b[0;32m~/Documents/Schoolwork/NYU/High_Performance_Computing/Thesis/NYU_Machine_Learning_Project/pythonMC/proj_helpers/FinObj.py\u001b[0m in \u001b[0;36mbridgePayoffs\u001b[0;34m(stock, opt, paths, t_steps, t_unit, anti, regressor, kwargs)\u001b[0m\n\u001b[1;32m    573\u001b[0m         \u001b[0mt0\u001b[0m \u001b[0;34m=\u001b[0m \u001b[0mtime\u001b[0m\u001b[0;34m.\u001b[0m\u001b[0mtime\u001b[0m\u001b[0;34m(\u001b[0m\u001b[0;34m)\u001b[0m\u001b[0;34m\u001b[0m\u001b[0m\n\u001b[1;32m    574\u001b[0m         \u001b[0mCt\u001b[0m \u001b[0;34m=\u001b[0m \u001b[0mnp\u001b[0m\u001b[0;34m.\u001b[0m\u001b[0mzeros\u001b[0m\u001b[0;34m(\u001b[0m\u001b[0mpaths\u001b[0m\u001b[0;34m)\u001b[0m\u001b[0;34m\u001b[0m\u001b[0m\n\u001b[0;32m--> 575\u001b[0;31m         \u001b[0mCt\u001b[0m\u001b[0;34m[\u001b[0m\u001b[0mmoneymask\u001b[0m\u001b[0;34m]\u001b[0m \u001b[0;34m=\u001b[0m \u001b[0mregressor\u001b[0m\u001b[0;34m(\u001b[0m\u001b[0mFO\u001b[0m\u001b[0;34m[\u001b[0m\u001b[0mmoneymask\u001b[0m\u001b[0;34m]\u001b[0m\u001b[0;34m,\u001b[0m\u001b[0mSt\u001b[0m\u001b[0;34m[\u001b[0m\u001b[0mmoneymask\u001b[0m\u001b[0;34m]\u001b[0m\u001b[0;34m,\u001b[0m\u001b[0mkwargs\u001b[0m\u001b[0;34m)\u001b[0m \u001b[0;31m#Obtain continuation values\u001b[0m\u001b[0;34m\u001b[0m\u001b[0m\n\u001b[0m\u001b[1;32m    576\u001b[0m         \u001b[0mtimings\u001b[0m\u001b[0;34m[\u001b[0m\u001b[0;36m5\u001b[0m\u001b[0;34m]\u001b[0m \u001b[0;34m=\u001b[0m \u001b[0mt0\u001b[0m \u001b[0;34m-\u001b[0m \u001b[0mtime\u001b[0m\u001b[0;34m.\u001b[0m\u001b[0mtime\u001b[0m\u001b[0;34m(\u001b[0m\u001b[0;34m)\u001b[0m\u001b[0;34m\u001b[0m\u001b[0m\n\u001b[1;32m    577\u001b[0m \u001b[0;34m\u001b[0m\u001b[0m\n",
      "\u001b[0;32m~/Documents/Schoolwork/NYU/High_Performance_Computing/Thesis/NYU_Machine_Learning_Project/pythonMC/proj_helpers/FinObj.py\u001b[0m in \u001b[0;36mgetContRF\u001b[0;34m(Ct1, St, kwargs)\u001b[0m\n\u001b[1;32m    374\u001b[0m     \u001b[0mclf\u001b[0m\u001b[0;34m=\u001b[0m\u001b[0mRandomForestRegressor\u001b[0m\u001b[0;34m(\u001b[0m\u001b[0mn_estimators\u001b[0m\u001b[0;34m=\u001b[0m\u001b[0mkwargs\u001b[0m\u001b[0;34m[\u001b[0m\u001b[0;34m\"num_trees\"\u001b[0m\u001b[0;34m]\u001b[0m\u001b[0;34m,\u001b[0m\u001b[0mmax_depth\u001b[0m\u001b[0;34m=\u001b[0m\u001b[0mkwargs\u001b[0m\u001b[0;34m[\u001b[0m\u001b[0;34m\"max_depth\"\u001b[0m\u001b[0;34m]\u001b[0m\u001b[0;34m)\u001b[0m\u001b[0;34m\u001b[0m\u001b[0m\n\u001b[1;32m    375\u001b[0m     \u001b[0mtempSt\u001b[0m\u001b[0;34m=\u001b[0m\u001b[0mnp\u001b[0m\u001b[0;34m.\u001b[0m\u001b[0mreshape\u001b[0m\u001b[0;34m(\u001b[0m\u001b[0mSt\u001b[0m\u001b[0;34m,\u001b[0m\u001b[0;34m(\u001b[0m\u001b[0mlen\u001b[0m\u001b[0;34m(\u001b[0m\u001b[0mSt\u001b[0m\u001b[0;34m)\u001b[0m\u001b[0;34m,\u001b[0m\u001b[0;36m1\u001b[0m\u001b[0;34m)\u001b[0m\u001b[0;34m)\u001b[0m\u001b[0;34m\u001b[0m\u001b[0m\n\u001b[0;32m--> 376\u001b[0;31m     \u001b[0mclf\u001b[0m\u001b[0;34m.\u001b[0m\u001b[0mfit\u001b[0m\u001b[0;34m(\u001b[0m\u001b[0mtempSt\u001b[0m\u001b[0;34m,\u001b[0m\u001b[0mCt1\u001b[0m\u001b[0;34m)\u001b[0m\u001b[0;34m\u001b[0m\u001b[0m\n\u001b[0m\u001b[1;32m    377\u001b[0m     \u001b[0;32mreturn\u001b[0m \u001b[0mclf\u001b[0m\u001b[0;34m.\u001b[0m\u001b[0mpredict\u001b[0m\u001b[0;34m(\u001b[0m\u001b[0mtempSt\u001b[0m\u001b[0;34m)\u001b[0m\u001b[0;34m\u001b[0m\u001b[0m\n\u001b[1;32m    378\u001b[0m \u001b[0;34m\u001b[0m\u001b[0m\n",
      "\u001b[0;32m~/anaconda3/lib/python3.6/site-packages/sklearn/ensemble/forest.py\u001b[0m in \u001b[0;36mfit\u001b[0;34m(self, X, y, sample_weight)\u001b[0m\n\u001b[1;32m    326\u001b[0m                     \u001b[0mt\u001b[0m\u001b[0;34m,\u001b[0m \u001b[0mself\u001b[0m\u001b[0;34m,\u001b[0m \u001b[0mX\u001b[0m\u001b[0;34m,\u001b[0m \u001b[0my\u001b[0m\u001b[0;34m,\u001b[0m \u001b[0msample_weight\u001b[0m\u001b[0;34m,\u001b[0m \u001b[0mi\u001b[0m\u001b[0;34m,\u001b[0m \u001b[0mlen\u001b[0m\u001b[0;34m(\u001b[0m\u001b[0mtrees\u001b[0m\u001b[0;34m)\u001b[0m\u001b[0;34m,\u001b[0m\u001b[0;34m\u001b[0m\u001b[0m\n\u001b[1;32m    327\u001b[0m                     verbose=self.verbose, class_weight=self.class_weight)\n\u001b[0;32m--> 328\u001b[0;31m                 for i, t in enumerate(trees))\n\u001b[0m\u001b[1;32m    329\u001b[0m \u001b[0;34m\u001b[0m\u001b[0m\n\u001b[1;32m    330\u001b[0m             \u001b[0;31m# Collect newly grown trees\u001b[0m\u001b[0;34m\u001b[0m\u001b[0;34m\u001b[0m\u001b[0m\n",
      "\u001b[0;32m~/anaconda3/lib/python3.6/site-packages/sklearn/externals/joblib/parallel.py\u001b[0m in \u001b[0;36m__call__\u001b[0;34m(self, iterable)\u001b[0m\n\u001b[1;32m    777\u001b[0m             \u001b[0;31m# was dispatched. In particular this covers the edge\u001b[0m\u001b[0;34m\u001b[0m\u001b[0;34m\u001b[0m\u001b[0m\n\u001b[1;32m    778\u001b[0m             \u001b[0;31m# case of Parallel used with an exhausted iterator.\u001b[0m\u001b[0;34m\u001b[0m\u001b[0;34m\u001b[0m\u001b[0m\n\u001b[0;32m--> 779\u001b[0;31m             \u001b[0;32mwhile\u001b[0m \u001b[0mself\u001b[0m\u001b[0;34m.\u001b[0m\u001b[0mdispatch_one_batch\u001b[0m\u001b[0;34m(\u001b[0m\u001b[0miterator\u001b[0m\u001b[0;34m)\u001b[0m\u001b[0;34m:\u001b[0m\u001b[0;34m\u001b[0m\u001b[0m\n\u001b[0m\u001b[1;32m    780\u001b[0m                 \u001b[0mself\u001b[0m\u001b[0;34m.\u001b[0m\u001b[0m_iterating\u001b[0m \u001b[0;34m=\u001b[0m \u001b[0;32mTrue\u001b[0m\u001b[0;34m\u001b[0m\u001b[0m\n\u001b[1;32m    781\u001b[0m             \u001b[0;32melse\u001b[0m\u001b[0;34m:\u001b[0m\u001b[0;34m\u001b[0m\u001b[0m\n",
      "\u001b[0;32m~/anaconda3/lib/python3.6/site-packages/sklearn/externals/joblib/parallel.py\u001b[0m in \u001b[0;36mdispatch_one_batch\u001b[0;34m(self, iterator)\u001b[0m\n\u001b[1;32m    623\u001b[0m                 \u001b[0;32mreturn\u001b[0m \u001b[0;32mFalse\u001b[0m\u001b[0;34m\u001b[0m\u001b[0m\n\u001b[1;32m    624\u001b[0m             \u001b[0;32melse\u001b[0m\u001b[0;34m:\u001b[0m\u001b[0;34m\u001b[0m\u001b[0m\n\u001b[0;32m--> 625\u001b[0;31m                 \u001b[0mself\u001b[0m\u001b[0;34m.\u001b[0m\u001b[0m_dispatch\u001b[0m\u001b[0;34m(\u001b[0m\u001b[0mtasks\u001b[0m\u001b[0;34m)\u001b[0m\u001b[0;34m\u001b[0m\u001b[0m\n\u001b[0m\u001b[1;32m    626\u001b[0m                 \u001b[0;32mreturn\u001b[0m \u001b[0;32mTrue\u001b[0m\u001b[0;34m\u001b[0m\u001b[0m\n\u001b[1;32m    627\u001b[0m \u001b[0;34m\u001b[0m\u001b[0m\n",
      "\u001b[0;32m~/anaconda3/lib/python3.6/site-packages/sklearn/externals/joblib/parallel.py\u001b[0m in \u001b[0;36m_dispatch\u001b[0;34m(self, batch)\u001b[0m\n\u001b[1;32m    586\u001b[0m         \u001b[0mdispatch_timestamp\u001b[0m \u001b[0;34m=\u001b[0m \u001b[0mtime\u001b[0m\u001b[0;34m.\u001b[0m\u001b[0mtime\u001b[0m\u001b[0;34m(\u001b[0m\u001b[0;34m)\u001b[0m\u001b[0;34m\u001b[0m\u001b[0m\n\u001b[1;32m    587\u001b[0m         \u001b[0mcb\u001b[0m \u001b[0;34m=\u001b[0m \u001b[0mBatchCompletionCallBack\u001b[0m\u001b[0;34m(\u001b[0m\u001b[0mdispatch_timestamp\u001b[0m\u001b[0;34m,\u001b[0m \u001b[0mlen\u001b[0m\u001b[0;34m(\u001b[0m\u001b[0mbatch\u001b[0m\u001b[0;34m)\u001b[0m\u001b[0;34m,\u001b[0m \u001b[0mself\u001b[0m\u001b[0;34m)\u001b[0m\u001b[0;34m\u001b[0m\u001b[0m\n\u001b[0;32m--> 588\u001b[0;31m         \u001b[0mjob\u001b[0m \u001b[0;34m=\u001b[0m \u001b[0mself\u001b[0m\u001b[0;34m.\u001b[0m\u001b[0m_backend\u001b[0m\u001b[0;34m.\u001b[0m\u001b[0mapply_async\u001b[0m\u001b[0;34m(\u001b[0m\u001b[0mbatch\u001b[0m\u001b[0;34m,\u001b[0m \u001b[0mcallback\u001b[0m\u001b[0;34m=\u001b[0m\u001b[0mcb\u001b[0m\u001b[0;34m)\u001b[0m\u001b[0;34m\u001b[0m\u001b[0m\n\u001b[0m\u001b[1;32m    589\u001b[0m         \u001b[0mself\u001b[0m\u001b[0;34m.\u001b[0m\u001b[0m_jobs\u001b[0m\u001b[0;34m.\u001b[0m\u001b[0mappend\u001b[0m\u001b[0;34m(\u001b[0m\u001b[0mjob\u001b[0m\u001b[0;34m)\u001b[0m\u001b[0;34m\u001b[0m\u001b[0m\n\u001b[1;32m    590\u001b[0m \u001b[0;34m\u001b[0m\u001b[0m\n",
      "\u001b[0;32m~/anaconda3/lib/python3.6/site-packages/sklearn/externals/joblib/_parallel_backends.py\u001b[0m in \u001b[0;36mapply_async\u001b[0;34m(self, func, callback)\u001b[0m\n\u001b[1;32m    109\u001b[0m     \u001b[0;32mdef\u001b[0m \u001b[0mapply_async\u001b[0m\u001b[0;34m(\u001b[0m\u001b[0mself\u001b[0m\u001b[0;34m,\u001b[0m \u001b[0mfunc\u001b[0m\u001b[0;34m,\u001b[0m \u001b[0mcallback\u001b[0m\u001b[0;34m=\u001b[0m\u001b[0;32mNone\u001b[0m\u001b[0;34m)\u001b[0m\u001b[0;34m:\u001b[0m\u001b[0;34m\u001b[0m\u001b[0m\n\u001b[1;32m    110\u001b[0m         \u001b[0;34m\"\"\"Schedule a func to be run\"\"\"\u001b[0m\u001b[0;34m\u001b[0m\u001b[0m\n\u001b[0;32m--> 111\u001b[0;31m         \u001b[0mresult\u001b[0m \u001b[0;34m=\u001b[0m \u001b[0mImmediateResult\u001b[0m\u001b[0;34m(\u001b[0m\u001b[0mfunc\u001b[0m\u001b[0;34m)\u001b[0m\u001b[0;34m\u001b[0m\u001b[0m\n\u001b[0m\u001b[1;32m    112\u001b[0m         \u001b[0;32mif\u001b[0m \u001b[0mcallback\u001b[0m\u001b[0;34m:\u001b[0m\u001b[0;34m\u001b[0m\u001b[0m\n\u001b[1;32m    113\u001b[0m             \u001b[0mcallback\u001b[0m\u001b[0;34m(\u001b[0m\u001b[0mresult\u001b[0m\u001b[0;34m)\u001b[0m\u001b[0;34m\u001b[0m\u001b[0m\n",
      "\u001b[0;32m~/anaconda3/lib/python3.6/site-packages/sklearn/externals/joblib/_parallel_backends.py\u001b[0m in \u001b[0;36m__init__\u001b[0;34m(self, batch)\u001b[0m\n\u001b[1;32m    330\u001b[0m         \u001b[0;31m# Don't delay the application, to avoid keeping the input\u001b[0m\u001b[0;34m\u001b[0m\u001b[0;34m\u001b[0m\u001b[0m\n\u001b[1;32m    331\u001b[0m         \u001b[0;31m# arguments in memory\u001b[0m\u001b[0;34m\u001b[0m\u001b[0;34m\u001b[0m\u001b[0m\n\u001b[0;32m--> 332\u001b[0;31m         \u001b[0mself\u001b[0m\u001b[0;34m.\u001b[0m\u001b[0mresults\u001b[0m \u001b[0;34m=\u001b[0m \u001b[0mbatch\u001b[0m\u001b[0;34m(\u001b[0m\u001b[0;34m)\u001b[0m\u001b[0;34m\u001b[0m\u001b[0m\n\u001b[0m\u001b[1;32m    333\u001b[0m \u001b[0;34m\u001b[0m\u001b[0m\n\u001b[1;32m    334\u001b[0m     \u001b[0;32mdef\u001b[0m \u001b[0mget\u001b[0m\u001b[0;34m(\u001b[0m\u001b[0mself\u001b[0m\u001b[0;34m)\u001b[0m\u001b[0;34m:\u001b[0m\u001b[0;34m\u001b[0m\u001b[0m\n",
      "\u001b[0;32m~/anaconda3/lib/python3.6/site-packages/sklearn/externals/joblib/parallel.py\u001b[0m in \u001b[0;36m__call__\u001b[0;34m(self)\u001b[0m\n\u001b[1;32m    129\u001b[0m \u001b[0;34m\u001b[0m\u001b[0m\n\u001b[1;32m    130\u001b[0m     \u001b[0;32mdef\u001b[0m \u001b[0m__call__\u001b[0m\u001b[0;34m(\u001b[0m\u001b[0mself\u001b[0m\u001b[0;34m)\u001b[0m\u001b[0;34m:\u001b[0m\u001b[0;34m\u001b[0m\u001b[0m\n\u001b[0;32m--> 131\u001b[0;31m         \u001b[0;32mreturn\u001b[0m \u001b[0;34m[\u001b[0m\u001b[0mfunc\u001b[0m\u001b[0;34m(\u001b[0m\u001b[0;34m*\u001b[0m\u001b[0margs\u001b[0m\u001b[0;34m,\u001b[0m \u001b[0;34m**\u001b[0m\u001b[0mkwargs\u001b[0m\u001b[0;34m)\u001b[0m \u001b[0;32mfor\u001b[0m \u001b[0mfunc\u001b[0m\u001b[0;34m,\u001b[0m \u001b[0margs\u001b[0m\u001b[0;34m,\u001b[0m \u001b[0mkwargs\u001b[0m \u001b[0;32min\u001b[0m \u001b[0mself\u001b[0m\u001b[0;34m.\u001b[0m\u001b[0mitems\u001b[0m\u001b[0;34m]\u001b[0m\u001b[0;34m\u001b[0m\u001b[0m\n\u001b[0m\u001b[1;32m    132\u001b[0m \u001b[0;34m\u001b[0m\u001b[0m\n\u001b[1;32m    133\u001b[0m     \u001b[0;32mdef\u001b[0m \u001b[0m__len__\u001b[0m\u001b[0;34m(\u001b[0m\u001b[0mself\u001b[0m\u001b[0;34m)\u001b[0m\u001b[0;34m:\u001b[0m\u001b[0;34m\u001b[0m\u001b[0m\n",
      "\u001b[0;32m~/anaconda3/lib/python3.6/site-packages/sklearn/externals/joblib/parallel.py\u001b[0m in \u001b[0;36m<listcomp>\u001b[0;34m(.0)\u001b[0m\n\u001b[1;32m    129\u001b[0m \u001b[0;34m\u001b[0m\u001b[0m\n\u001b[1;32m    130\u001b[0m     \u001b[0;32mdef\u001b[0m \u001b[0m__call__\u001b[0m\u001b[0;34m(\u001b[0m\u001b[0mself\u001b[0m\u001b[0;34m)\u001b[0m\u001b[0;34m:\u001b[0m\u001b[0;34m\u001b[0m\u001b[0m\n\u001b[0;32m--> 131\u001b[0;31m         \u001b[0;32mreturn\u001b[0m \u001b[0;34m[\u001b[0m\u001b[0mfunc\u001b[0m\u001b[0;34m(\u001b[0m\u001b[0;34m*\u001b[0m\u001b[0margs\u001b[0m\u001b[0;34m,\u001b[0m \u001b[0;34m**\u001b[0m\u001b[0mkwargs\u001b[0m\u001b[0;34m)\u001b[0m \u001b[0;32mfor\u001b[0m \u001b[0mfunc\u001b[0m\u001b[0;34m,\u001b[0m \u001b[0margs\u001b[0m\u001b[0;34m,\u001b[0m \u001b[0mkwargs\u001b[0m \u001b[0;32min\u001b[0m \u001b[0mself\u001b[0m\u001b[0;34m.\u001b[0m\u001b[0mitems\u001b[0m\u001b[0;34m]\u001b[0m\u001b[0;34m\u001b[0m\u001b[0m\n\u001b[0m\u001b[1;32m    132\u001b[0m \u001b[0;34m\u001b[0m\u001b[0m\n\u001b[1;32m    133\u001b[0m     \u001b[0;32mdef\u001b[0m \u001b[0m__len__\u001b[0m\u001b[0;34m(\u001b[0m\u001b[0mself\u001b[0m\u001b[0;34m)\u001b[0m\u001b[0;34m:\u001b[0m\u001b[0;34m\u001b[0m\u001b[0m\n",
      "\u001b[0;32m~/anaconda3/lib/python3.6/site-packages/sklearn/ensemble/forest.py\u001b[0m in \u001b[0;36m_parallel_build_trees\u001b[0;34m(tree, forest, X, y, sample_weight, tree_idx, n_trees, verbose, class_weight)\u001b[0m\n\u001b[1;32m    119\u001b[0m             \u001b[0mcurr_sample_weight\u001b[0m \u001b[0;34m*=\u001b[0m \u001b[0mcompute_sample_weight\u001b[0m\u001b[0;34m(\u001b[0m\u001b[0;34m'balanced'\u001b[0m\u001b[0;34m,\u001b[0m \u001b[0my\u001b[0m\u001b[0;34m,\u001b[0m \u001b[0mindices\u001b[0m\u001b[0;34m)\u001b[0m\u001b[0;34m\u001b[0m\u001b[0m\n\u001b[1;32m    120\u001b[0m \u001b[0;34m\u001b[0m\u001b[0m\n\u001b[0;32m--> 121\u001b[0;31m         \u001b[0mtree\u001b[0m\u001b[0;34m.\u001b[0m\u001b[0mfit\u001b[0m\u001b[0;34m(\u001b[0m\u001b[0mX\u001b[0m\u001b[0;34m,\u001b[0m \u001b[0my\u001b[0m\u001b[0;34m,\u001b[0m \u001b[0msample_weight\u001b[0m\u001b[0;34m=\u001b[0m\u001b[0mcurr_sample_weight\u001b[0m\u001b[0;34m,\u001b[0m \u001b[0mcheck_input\u001b[0m\u001b[0;34m=\u001b[0m\u001b[0;32mFalse\u001b[0m\u001b[0;34m)\u001b[0m\u001b[0;34m\u001b[0m\u001b[0m\n\u001b[0m\u001b[1;32m    122\u001b[0m     \u001b[0;32melse\u001b[0m\u001b[0;34m:\u001b[0m\u001b[0;34m\u001b[0m\u001b[0m\n\u001b[1;32m    123\u001b[0m         \u001b[0mtree\u001b[0m\u001b[0;34m.\u001b[0m\u001b[0mfit\u001b[0m\u001b[0;34m(\u001b[0m\u001b[0mX\u001b[0m\u001b[0;34m,\u001b[0m \u001b[0my\u001b[0m\u001b[0;34m,\u001b[0m \u001b[0msample_weight\u001b[0m\u001b[0;34m=\u001b[0m\u001b[0msample_weight\u001b[0m\u001b[0;34m,\u001b[0m \u001b[0mcheck_input\u001b[0m\u001b[0;34m=\u001b[0m\u001b[0;32mFalse\u001b[0m\u001b[0;34m)\u001b[0m\u001b[0;34m\u001b[0m\u001b[0m\n",
      "\u001b[0;32m~/anaconda3/lib/python3.6/site-packages/sklearn/tree/tree.py\u001b[0m in \u001b[0;36mfit\u001b[0;34m(self, X, y, sample_weight, check_input, X_idx_sorted)\u001b[0m\n\u001b[1;32m   1122\u001b[0m             \u001b[0msample_weight\u001b[0m\u001b[0;34m=\u001b[0m\u001b[0msample_weight\u001b[0m\u001b[0;34m,\u001b[0m\u001b[0;34m\u001b[0m\u001b[0m\n\u001b[1;32m   1123\u001b[0m             \u001b[0mcheck_input\u001b[0m\u001b[0;34m=\u001b[0m\u001b[0mcheck_input\u001b[0m\u001b[0;34m,\u001b[0m\u001b[0;34m\u001b[0m\u001b[0m\n\u001b[0;32m-> 1124\u001b[0;31m             X_idx_sorted=X_idx_sorted)\n\u001b[0m\u001b[1;32m   1125\u001b[0m         \u001b[0;32mreturn\u001b[0m \u001b[0mself\u001b[0m\u001b[0;34m\u001b[0m\u001b[0m\n\u001b[1;32m   1126\u001b[0m \u001b[0;34m\u001b[0m\u001b[0m\n",
      "\u001b[0;32m~/anaconda3/lib/python3.6/site-packages/sklearn/tree/tree.py\u001b[0m in \u001b[0;36mfit\u001b[0;34m(self, X, y, sample_weight, check_input, X_idx_sorted)\u001b[0m\n\u001b[1;32m    360\u001b[0m                                            min_impurity_split)\n\u001b[1;32m    361\u001b[0m \u001b[0;34m\u001b[0m\u001b[0m\n\u001b[0;32m--> 362\u001b[0;31m         \u001b[0mbuilder\u001b[0m\u001b[0;34m.\u001b[0m\u001b[0mbuild\u001b[0m\u001b[0;34m(\u001b[0m\u001b[0mself\u001b[0m\u001b[0;34m.\u001b[0m\u001b[0mtree_\u001b[0m\u001b[0;34m,\u001b[0m \u001b[0mX\u001b[0m\u001b[0;34m,\u001b[0m \u001b[0my\u001b[0m\u001b[0;34m,\u001b[0m \u001b[0msample_weight\u001b[0m\u001b[0;34m,\u001b[0m \u001b[0mX_idx_sorted\u001b[0m\u001b[0;34m)\u001b[0m\u001b[0;34m\u001b[0m\u001b[0m\n\u001b[0m\u001b[1;32m    363\u001b[0m \u001b[0;34m\u001b[0m\u001b[0m\n\u001b[1;32m    364\u001b[0m         \u001b[0;32mif\u001b[0m \u001b[0mself\u001b[0m\u001b[0;34m.\u001b[0m\u001b[0mn_outputs_\u001b[0m \u001b[0;34m==\u001b[0m \u001b[0;36m1\u001b[0m\u001b[0;34m:\u001b[0m\u001b[0;34m\u001b[0m\u001b[0m\n",
      "\u001b[0;31mKeyboardInterrupt\u001b[0m: "
     ]
    }
   ],
   "source": [
    "share1.spot = 110\n",
    "\n",
    "#Perform Tests for digital options\n",
    "payoff=fin.amPutDigVec #Define option payoff\n",
    "\n",
    "#Option Parameters\n",
    "myOption = fin.Option(share1,payoff,time_s,strike,t_unit)\n",
    "\n",
    "put_bs = risk.BSPutDig(share1.spot, strike, div, rate, vol, expr)\n",
    "\n",
    "#Test against BS Call Price for paths\n",
    "import time\n",
    "put_p_lsm = {} #put prices as a function of path size\n",
    "put_p_lsmrf = {} #put prices as a function of path size random forest\n",
    "path_array = [10,100,250,500,1000,2000,5000,7500,10000,25000,50000,100000,500000,1000000]\n",
    "for paths in path_array:\n",
    "    t0=time.time()\n",
    "    put_p_lsm[paths]=fin.priceLSM(share1,myOption,paths,time_s,t_unit,\\\n",
    "                              anti=True,regressor=fin.getCont,num_basis=4) #Least squaresnp.mean(test)\n",
    "    put_p_lsmrf[paths]=fin.priceLSM(share1,myOption,paths,time_s,t_unit,\\\n",
    "                              anti=True,regressor=fin.getContRF,num_trees=100,max_depth=3)\n",
    "    print(\"Time : \"+str(time.time()-t0)+\", Paths : \"+str(paths)\\\n",
    "         +\" LSM Price : \"+str(put_p_lsm[paths])+\" LSM RF Price : \"+str(put_p_lsmrf[paths])+\\\n",
    "          \" BS Price : \"+str(put_bs))"
   ]
  },
  {
   "cell_type": "code",
   "execution_count": 112,
   "metadata": {},
   "outputs": [
    {
     "data": {
      "image/png": "[encoded data removed]",
      "text/plain": [
       "<matplotlib.figure.Figure at 0x10832a780>"
      ]
     },
     "metadata": {},
     "output_type": "display_data"
    }
   ],
   "source": [
    "start_p=0\n",
    "pplot.plot(path_array[start_p:11],list(put_p_lsmrf.values())[start_p:11],label='My LSM RF Digital Put')\n",
    "pplot.plot(path_array[start_p:11],list(put_p_lsm.values())[start_p:11],label='My LSM Digital Put')\n",
    "pplot.legend()\n",
    "pplot.xlabel('Paths')\n",
    "pplot.ylabel('Price')\n",
    "pplot.show()"
   ]
  },
  {
   "cell_type": "code",
   "execution_count": 36,
   "metadata": {
    "scrolled": true
   },
   "outputs": [
    {
     "name": "stdout",
     "output_type": "stream",
     "text": [
      "Warning: No Paths in the Money. Price May Round to Zero.\n",
      "Warning: No Paths in the Money. Price May Round to Zero.\n",
      "Time : 0.002081155776977539, Time Steps : 2 LSM Price : 0.0 BS Price : 0.31056710561746875 LSM RF Price 0.0\n",
      "Warning: No Paths in the Money. Price May Round to Zero.\n",
      "Warning: No Paths in the Money. Price May Round to Zero.\n",
      "Time : 0.0034439563751220703, Time Steps : 10 LSM Price : 0.0 BS Price : 0.31056710561746875 LSM RF Price 0.0\n",
      "Warning: No Paths in the Money. Price May Round to Zero.\n",
      "Warning: No Paths in the Money. Price May Round to Zero.\n",
      "Time : 0.13204717636108398, Time Steps : 25 LSM Price : 0.026961829633385826 BS Price : 0.31056710561746875 LSM RF Price 0.02696132922959083\n",
      "Warning: No Paths in the Money. Price May Round to Zero.\n"
     ]
    },
    {
     "name": "stderr",
     "output_type": "stream",
     "text": [
      "/Users/anthonymaylath/Documents/Schoolwork/NYU/High_Performance_Computing/Thesis/NYU_Machine_Learning_Project/pythonMC/proj_helpers/FinObj.py:359: FutureWarning: `rcond` parameter will change to the default of machine precision times ``max(M, N)`` where M and N are the input matrix dimensions.\n",
      "To use the future default and silence this warning we advise to pass `rcond=None`, to keep using the old, explicitly pass `rcond=-1`.\n",
      "  betas = np.linalg.lstsq(X,Ct1)[0]\n",
      "/Users/anthonymaylath/Documents/Schoolwork/NYU/High_Performance_Computing/Thesis/NYU_Machine_Learning_Project/pythonMC/proj_helpers/FinObj.py:359: FutureWarning: `rcond` parameter will change to the default of machine precision times ``max(M, N)`` where M and N are the input matrix dimensions.\n",
      "To use the future default and silence this warning we advise to pass `rcond=None`, to keep using the old, explicitly pass `rcond=-1`.\n",
      "  betas = np.linalg.lstsq(X,Ct1)[0]\n"
     ]
    },
    {
     "name": "stdout",
     "output_type": "stream",
     "text": [
      "Warning: No Paths in the Money. Price May Round to Zero.\n",
      "Time : 0.520653247833252, Time Steps : 50 LSM Price : 0.1944767194889036 BS Price : 0.31056710561746875 LSM RF Price 0.200451767296118\n",
      "Warning: No Paths in the Money. Price May Round to Zero.\n"
     ]
    },
    {
     "name": "stderr",
     "output_type": "stream",
     "text": [
      "/Users/anthonymaylath/Documents/Schoolwork/NYU/High_Performance_Computing/Thesis/NYU_Machine_Learning_Project/pythonMC/proj_helpers/FinObj.py:359: FutureWarning: `rcond` parameter will change to the default of machine precision times ``max(M, N)`` where M and N are the input matrix dimensions.\n",
      "To use the future default and silence this warning we advise to pass `rcond=None`, to keep using the old, explicitly pass `rcond=-1`.\n",
      "  betas = np.linalg.lstsq(X,Ct1)[0]\n"
     ]
    },
    {
     "name": "stdout",
     "output_type": "stream",
     "text": [
      "Warning: No Paths in the Money. Price May Round to Zero.\n",
      "Time : 0.5368771553039551, Time Steps : 75 LSM Price : 0.3347294270281643 BS Price : 0.31056710561746875 LSM RF Price 0.32975389388379844\n",
      "Warning: No Paths in the Money. Price May Round to Zero.\n"
     ]
    },
    {
     "name": "stderr",
     "output_type": "stream",
     "text": [
      "/Users/anthonymaylath/Documents/Schoolwork/NYU/High_Performance_Computing/Thesis/NYU_Machine_Learning_Project/pythonMC/proj_helpers/FinObj.py:359: FutureWarning: `rcond` parameter will change to the default of machine precision times ``max(M, N)`` where M and N are the input matrix dimensions.\n",
      "To use the future default and silence this warning we advise to pass `rcond=None`, to keep using the old, explicitly pass `rcond=-1`.\n",
      "  betas = np.linalg.lstsq(X,Ct1)[0]\n"
     ]
    },
    {
     "name": "stdout",
     "output_type": "stream",
     "text": [
      "Warning: No Paths in the Money. Price May Round to Zero.\n",
      "Time : 0.6707260608673096, Time Steps : 100 LSM Price : 0.4351145569561242 BS Price : 0.31056710561746875 LSM RF Price 0.45492419141044016\n",
      "Warning: No Paths in the Money. Price May Round to Zero.\n"
     ]
    },
    {
     "name": "stderr",
     "output_type": "stream",
     "text": [
      "/Users/anthonymaylath/Documents/Schoolwork/NYU/High_Performance_Computing/Thesis/NYU_Machine_Learning_Project/pythonMC/proj_helpers/FinObj.py:359: FutureWarning: `rcond` parameter will change to the default of machine precision times ``max(M, N)`` where M and N are the input matrix dimensions.\n",
      "To use the future default and silence this warning we advise to pass `rcond=None`, to keep using the old, explicitly pass `rcond=-1`.\n",
      "  betas = np.linalg.lstsq(X,Ct1)[0]\n"
     ]
    },
    {
     "name": "stdout",
     "output_type": "stream",
     "text": [
      "Warning: No Paths in the Money. Price May Round to Zero.\n",
      "Time : 1.1069679260253906, Time Steps : 150 LSM Price : 0.5488752648984264 BS Price : 0.31056710561746875 LSM RF Price 0.5438053037430423\n"
     ]
    },
    {
     "name": "stderr",
     "output_type": "stream",
     "text": [
      "/Users/anthonymaylath/Documents/Schoolwork/NYU/High_Performance_Computing/Thesis/NYU_Machine_Learning_Project/pythonMC/proj_helpers/FinObj.py:359: FutureWarning: `rcond` parameter will change to the default of machine precision times ``max(M, N)`` where M and N are the input matrix dimensions.\n",
      "To use the future default and silence this warning we advise to pass `rcond=None`, to keep using the old, explicitly pass `rcond=-1`.\n",
      "  betas = np.linalg.lstsq(X,Ct1)[0]\n"
     ]
    },
    {
     "name": "stdout",
     "output_type": "stream",
     "text": [
      "Warning: No Paths in the Money. Price May Round to Zero.\n",
      "Warning: No Paths in the Money. Price May Round to Zero.\n",
      "Time : 1.9370808601379395, Time Steps : 200 LSM Price : 0.5622019486252984 BS Price : 0.31056710561746875 LSM RF Price 0.6028810462535827\n"
     ]
    },
    {
     "name": "stderr",
     "output_type": "stream",
     "text": [
      "/Users/anthonymaylath/Documents/Schoolwork/NYU/High_Performance_Computing/Thesis/NYU_Machine_Learning_Project/pythonMC/proj_helpers/FinObj.py:359: FutureWarning: `rcond` parameter will change to the default of machine precision times ``max(M, N)`` where M and N are the input matrix dimensions.\n",
      "To use the future default and silence this warning we advise to pass `rcond=None`, to keep using the old, explicitly pass `rcond=-1`.\n",
      "  betas = np.linalg.lstsq(X,Ct1)[0]\n"
     ]
    },
    {
     "name": "stdout",
     "output_type": "stream",
     "text": [
      "Warning: No Paths in the Money. Price May Round to Zero.\n",
      "Warning: No Paths in the Money. Price May Round to Zero.\n",
      "Time : 2.803083896636963, Time Steps : 250 LSM Price : 0.6253114295833845 BS Price : 0.31056710561746875 LSM RF Price 0.6557277983514537\n"
     ]
    },
    {
     "name": "stderr",
     "output_type": "stream",
     "text": [
      "/Users/anthonymaylath/Documents/Schoolwork/NYU/High_Performance_Computing/Thesis/NYU_Machine_Learning_Project/pythonMC/proj_helpers/FinObj.py:359: FutureWarning: `rcond` parameter will change to the default of machine precision times ``max(M, N)`` where M and N are the input matrix dimensions.\n",
      "To use the future default and silence this warning we advise to pass `rcond=None`, to keep using the old, explicitly pass `rcond=-1`.\n",
      "  betas = np.linalg.lstsq(X,Ct1)[0]\n"
     ]
    },
    {
     "name": "stdout",
     "output_type": "stream",
     "text": [
      "Warning: No Paths in the Money. Price May Round to Zero.\n",
      "Warning: No Paths in the Money. Price May Round to Zero.\n",
      "Time : 4.229098081588745, Time Steps : 300 LSM Price : 0.6458221531143818 BS Price : 0.31056710561746875 LSM RF Price 0.6526555377544175\n"
     ]
    },
    {
     "name": "stderr",
     "output_type": "stream",
     "text": [
      "/Users/anthonymaylath/Documents/Schoolwork/NYU/High_Performance_Computing/Thesis/NYU_Machine_Learning_Project/pythonMC/proj_helpers/FinObj.py:359: FutureWarning: `rcond` parameter will change to the default of machine precision times ``max(M, N)`` where M and N are the input matrix dimensions.\n",
      "To use the future default and silence this warning we advise to pass `rcond=None`, to keep using the old, explicitly pass `rcond=-1`.\n",
      "  betas = np.linalg.lstsq(X,Ct1)[0]\n"
     ]
    },
    {
     "name": "stdout",
     "output_type": "stream",
     "text": [
      "Warning: No Paths in the Money. Price May Round to Zero.\n",
      "Warning: No Paths in the Money. Price May Round to Zero.\n",
      "Time : 4.208566904067993, Time Steps : 350 LSM Price : 0.6491477360773773 BS Price : 0.31056710561746875 LSM RF Price 0.681073640819339\n"
     ]
    },
    {
     "name": "stderr",
     "output_type": "stream",
     "text": [
      "/Users/anthonymaylath/Documents/Schoolwork/NYU/High_Performance_Computing/Thesis/NYU_Machine_Learning_Project/pythonMC/proj_helpers/FinObj.py:359: FutureWarning: `rcond` parameter will change to the default of machine precision times ``max(M, N)`` where M and N are the input matrix dimensions.\n",
      "To use the future default and silence this warning we advise to pass `rcond=None`, to keep using the old, explicitly pass `rcond=-1`.\n",
      "  betas = np.linalg.lstsq(X,Ct1)[0]\n"
     ]
    },
    {
     "name": "stdout",
     "output_type": "stream",
     "text": [
      "Warning: No Paths in the Money. Price May Round to Zero.\n",
      "Warning: No Paths in the Money. Price May Round to Zero.\n",
      "Time : 3.884566068649292, Time Steps : 400 LSM Price : 0.6834940383307229 BS Price : 0.31056710561746875 LSM RF Price 0.6736521769787898\n"
     ]
    },
    {
     "name": "stderr",
     "output_type": "stream",
     "text": [
      "/Users/anthonymaylath/Documents/Schoolwork/NYU/High_Performance_Computing/Thesis/NYU_Machine_Learning_Project/pythonMC/proj_helpers/FinObj.py:359: FutureWarning: `rcond` parameter will change to the default of machine precision times ``max(M, N)`` where M and N are the input matrix dimensions.\n",
      "To use the future default and silence this warning we advise to pass `rcond=None`, to keep using the old, explicitly pass `rcond=-1`.\n",
      "  betas = np.linalg.lstsq(X,Ct1)[0]\n"
     ]
    },
    {
     "name": "stdout",
     "output_type": "stream",
     "text": [
      "Warning: No Paths in the Money. Price May Round to Zero.\n",
      "Warning: No Paths in the Money. Price May Round to Zero.\n",
      "Time : 4.1241679191589355, Time Steps : 500 LSM Price : 0.680190558819749 BS Price : 0.31056710561746875 LSM RF Price 0.7129032488543879\n"
     ]
    },
    {
     "name": "stderr",
     "output_type": "stream",
     "text": [
      "/Users/anthonymaylath/Documents/Schoolwork/NYU/High_Performance_Computing/Thesis/NYU_Machine_Learning_Project/pythonMC/proj_helpers/FinObj.py:359: FutureWarning: `rcond` parameter will change to the default of machine precision times ``max(M, N)`` where M and N are the input matrix dimensions.\n",
      "To use the future default and silence this warning we advise to pass `rcond=None`, to keep using the old, explicitly pass `rcond=-1`.\n",
      "  betas = np.linalg.lstsq(X,Ct1)[0]\n"
     ]
    },
    {
     "name": "stdout",
     "output_type": "stream",
     "text": [
      "Warning: No Paths in the Money. Price May Round to Zero.\n",
      "Warning: No Paths in the Money. Price May Round to Zero.\n",
      "Time : 4.533527135848999, Time Steps : 550 LSM Price : 0.6907237981073089 BS Price : 0.31056710561746875 LSM RF Price 0.675914028653822\n"
     ]
    },
    {
     "name": "stderr",
     "output_type": "stream",
     "text": [
      "/Users/anthonymaylath/Documents/Schoolwork/NYU/High_Performance_Computing/Thesis/NYU_Machine_Learning_Project/pythonMC/proj_helpers/FinObj.py:359: FutureWarning: `rcond` parameter will change to the default of machine precision times ``max(M, N)`` where M and N are the input matrix dimensions.\n",
      "To use the future default and silence this warning we advise to pass `rcond=None`, to keep using the old, explicitly pass `rcond=-1`.\n",
      "  betas = np.linalg.lstsq(X,Ct1)[0]\n"
     ]
    },
    {
     "name": "stdout",
     "output_type": "stream",
     "text": [
      "Warning: No Paths in the Money. Price May Round to Zero.\n",
      "Warning: No Paths in the Money. Price May Round to Zero.\n",
      "Time : 4.932829856872559, Time Steps : 600 LSM Price : 0.715558697632928 BS Price : 0.31056710561746875 LSM RF Price 0.6970532752572295\n"
     ]
    },
    {
     "name": "stderr",
     "output_type": "stream",
     "text": [
      "/Users/anthonymaylath/Documents/Schoolwork/NYU/High_Performance_Computing/Thesis/NYU_Machine_Learning_Project/pythonMC/proj_helpers/FinObj.py:359: FutureWarning: `rcond` parameter will change to the default of machine precision times ``max(M, N)`` where M and N are the input matrix dimensions.\n",
      "To use the future default and silence this warning we advise to pass `rcond=None`, to keep using the old, explicitly pass `rcond=-1`.\n",
      "  betas = np.linalg.lstsq(X,Ct1)[0]\n"
     ]
    },
    {
     "name": "stdout",
     "output_type": "stream",
     "text": [
      "Warning: No Paths in the Money. Price May Round to Zero.\n",
      "Warning: No Paths in the Money. Price May Round to Zero.\n",
      "Time : 6.264098882675171, Time Steps : 700 LSM Price : 0.7076635065139345 BS Price : 0.31056710561746875 LSM RF Price 0.6894073193506963\n"
     ]
    },
    {
     "name": "stderr",
     "output_type": "stream",
     "text": [
      "/Users/anthonymaylath/Documents/Schoolwork/NYU/High_Performance_Computing/Thesis/NYU_Machine_Learning_Project/pythonMC/proj_helpers/FinObj.py:359: FutureWarning: `rcond` parameter will change to the default of machine precision times ``max(M, N)`` where M and N are the input matrix dimensions.\n",
      "To use the future default and silence this warning we advise to pass `rcond=None`, to keep using the old, explicitly pass `rcond=-1`.\n",
      "  betas = np.linalg.lstsq(X,Ct1)[0]\n"
     ]
    },
    {
     "name": "stdout",
     "output_type": "stream",
     "text": [
      "Warning: No Paths in the Money. Price May Round to Zero.\n",
      "Warning: No Paths in the Money. Price May Round to Zero.\n",
      "Time : 7.700416803359985, Time Steps : 800 LSM Price : 0.7361954341216985 BS Price : 0.31056710561746875 LSM RF Price 0.7124151872851037\n"
     ]
    },
    {
     "name": "stderr",
     "output_type": "stream",
     "text": [
      "/Users/anthonymaylath/Documents/Schoolwork/NYU/High_Performance_Computing/Thesis/NYU_Machine_Learning_Project/pythonMC/proj_helpers/FinObj.py:359: FutureWarning: `rcond` parameter will change to the default of machine precision times ``max(M, N)`` where M and N are the input matrix dimensions.\n",
      "To use the future default and silence this warning we advise to pass `rcond=None`, to keep using the old, explicitly pass `rcond=-1`.\n",
      "  betas = np.linalg.lstsq(X,Ct1)[0]\n"
     ]
    },
    {
     "name": "stdout",
     "output_type": "stream",
     "text": [
      "Warning: No Paths in the Money. Price May Round to Zero.\n",
      "Warning: No Paths in the Money. Price May Round to Zero.\n",
      "Time : 8.176764011383057, Time Steps : 900 LSM Price : 0.7168586719226862 BS Price : 0.31056710561746875 LSM RF Price 0.7146343010589093\n"
     ]
    },
    {
     "name": "stderr",
     "output_type": "stream",
     "text": [
      "/Users/anthonymaylath/Documents/Schoolwork/NYU/High_Performance_Computing/Thesis/NYU_Machine_Learning_Project/pythonMC/proj_helpers/FinObj.py:359: FutureWarning: `rcond` parameter will change to the default of machine precision times ``max(M, N)`` where M and N are the input matrix dimensions.\n",
      "To use the future default and silence this warning we advise to pass `rcond=None`, to keep using the old, explicitly pass `rcond=-1`.\n",
      "  betas = np.linalg.lstsq(X,Ct1)[0]\n"
     ]
    },
    {
     "name": "stdout",
     "output_type": "stream",
     "text": [
      "Warning: No Paths in the Money. Price May Round to Zero.\n",
      "Warning: No Paths in the Money. Price May Round to Zero.\n",
      "Time : 8.2915940284729, Time Steps : 1000 LSM Price : 0.7050625048623205 BS Price : 0.31056710561746875 LSM RF Price 0.6915933972015206\n"
     ]
    }
   ],
   "source": [
    "share1.spot = 110\n",
    "\n",
    "#Perform Tests for digital options\n",
    "payoff=fin.amPutDigVec #Define option payoff\n",
    "\n",
    "#Option Parameters\n",
    "myOption = fin.Option(share1,payoff,time_s,strike,t_unit)\n",
    "\n",
    "put_bs = risk.BSPutDig(share1.spot, strike, div, rate, vol, expr)\n",
    "\n",
    "#Test against BS put digital Price for time steps\n",
    "paths = 500\n",
    "put_pst_dig = {} #put prices as a function of path size\n",
    "put_pst_digrf = {} #put prices as a function of path size\n",
    "step_array = [2,10,25,50,75,100,150,200,250,300,350,400,500,550,600,700,800,900,1000]\n",
    "for t in step_array:\n",
    "    t0=time.time()\n",
    "    put_pst_dig[t]=fin.priceLSM(share1,myOption,paths,t,t_unit,\\\n",
    "                              anti=True,regressor=fin.getCont,num_basis=4) #Least squaresnp.mean(test)\n",
    "    put_pst_digrf[t]=fin.priceLSM(share1,myOption,paths,t,t_unit,\\\n",
    "                              anti=True,regressor=fin.getContRF,num_trees=5,max_depth=2,min_samples_leaf=0.1)\n",
    "    print(\"Time : \"+str(time.time()-t0)+\", Time Steps : \"+str(t)\\\n",
    "         +\" LSM Price : \"+str(put_pst_dig[t])+\" BS Price : \"+str(put_bs)\\\n",
    "         +\" LSM RF Price \"+str(put_pst_digrf[t]))"
   ]
  },
  {
   "cell_type": "code",
   "execution_count": 37,
   "metadata": {},
   "outputs": [
    {
     "data": {
      "image/png": "[encoded data removed]",
      "text/plain": [
       "<matplotlib.figure.Figure at 0x11611fba8>"
      ]
     },
     "metadata": {},
     "output_type": "display_data"
    }
   ],
   "source": [
    "start_p=0\n",
    "pplot.plot(step_array[start_p:],list(put_pst_digrf.values())[start_p:],label='My LSM RF Digital Put')\n",
    "pplot.plot(step_array[start_p:],list(put_pst_dig.values())[start_p:],label='My LSM Digital Put')\n",
    "pplot.legend()\n",
    "pplot.xlabel('Time Steps')\n",
    "pplot.ylabel('Price')\n",
    "pplot.show()"
   ]
  },
  {
   "cell_type": "code",
   "execution_count": 54,
   "metadata": {},
   "outputs": [
    {
     "name": "stderr",
     "output_type": "stream",
     "text": [
      "/Users/anthonymaylath/Documents/Schoolwork/NYU/High_Performance_Computing/Thesis/NYU_Machine_Learning_Project/pythonMC/proj_helpers/FinObj.py:358: FutureWarning: `rcond` parameter will change to the default of machine precision times ``max(M, N)`` where M and N are the input matrix dimensions.\n",
      "To use the future default and silence this warning we advise to pass `rcond=None`, to keep using the old, explicitly pass `rcond=-1`.\n",
      "  betas = np.linalg.lstsq(X,Ct1)[0]\n"
     ]
    },
    {
     "name": "stdout",
     "output_type": "stream",
     "text": [
      "Spot : 80.0 BS Price : 0.500090412032368 LSM Price 0.999000499833375 LSM RF Price 0.999000499833375\n"
     ]
    },
    {
     "name": "stderr",
     "output_type": "stream",
     "text": [
      "/Users/anthonymaylath/Documents/Schoolwork/NYU/High_Performance_Computing/Thesis/NYU_Machine_Learning_Project/pythonMC/proj_helpers/FinObj.py:358: FutureWarning: `rcond` parameter will change to the default of machine precision times ``max(M, N)`` where M and N are the input matrix dimensions.\n",
      "To use the future default and silence this warning we advise to pass `rcond=None`, to keep using the old, explicitly pass `rcond=-1`.\n",
      "  betas = np.linalg.lstsq(X,Ct1)[0]\n"
     ]
    },
    {
     "ename": "KeyboardInterrupt",
     "evalue": "",
     "output_type": "error",
     "traceback": [
      "\u001b[0;31m---------------------------------------------------------------------------\u001b[0m",
      "\u001b[0;31mKeyboardInterrupt\u001b[0m                         Traceback (most recent call last)",
      "\u001b[0;32m<ipython-input-54-7ed747f8db7b>\u001b[0m in \u001b[0;36m<module>\u001b[0;34m()\u001b[0m\n\u001b[1;32m     13\u001b[0m     \u001b[0mshare1\u001b[0m\u001b[0;34m.\u001b[0m\u001b[0msetSpot\u001b[0m\u001b[0;34m(\u001b[0m\u001b[0ms\u001b[0m\u001b[0;34m)\u001b[0m \u001b[0;31m#Change spot price for LSM\u001b[0m\u001b[0;34m\u001b[0m\u001b[0m\n\u001b[1;32m     14\u001b[0m     \u001b[0mput_lsm_dig\u001b[0m\u001b[0;34m[\u001b[0m\u001b[0ms\u001b[0m\u001b[0;34m]\u001b[0m \u001b[0;34m=\u001b[0m \u001b[0mfin\u001b[0m\u001b[0;34m.\u001b[0m\u001b[0mpriceLSM\u001b[0m\u001b[0;34m(\u001b[0m\u001b[0mshare1\u001b[0m\u001b[0;34m,\u001b[0m\u001b[0mmyOption\u001b[0m\u001b[0;34m,\u001b[0m\u001b[0mpaths\u001b[0m\u001b[0;34m,\u001b[0m\u001b[0mtime_s\u001b[0m\u001b[0;34m,\u001b[0m\u001b[0mt_unit\u001b[0m\u001b[0;34m,\u001b[0m                              \u001b[0manti\u001b[0m\u001b[0;34m=\u001b[0m\u001b[0;32mTrue\u001b[0m\u001b[0;34m,\u001b[0m\u001b[0mregressor\u001b[0m\u001b[0;34m=\u001b[0m\u001b[0mfin\u001b[0m\u001b[0;34m.\u001b[0m\u001b[0mgetCont\u001b[0m\u001b[0;34m,\u001b[0m\u001b[0mnum_basis\u001b[0m\u001b[0;34m=\u001b[0m\u001b[0;36m4\u001b[0m\u001b[0;34m)\u001b[0m \u001b[0;31m#Least squares\u001b[0m\u001b[0;34m\u001b[0m\u001b[0m\n\u001b[0;32m---> 15\u001b[0;31m     \u001b[0mput_lsm_digrf\u001b[0m\u001b[0;34m[\u001b[0m\u001b[0ms\u001b[0m\u001b[0;34m]\u001b[0m \u001b[0;34m=\u001b[0m \u001b[0mfin\u001b[0m\u001b[0;34m.\u001b[0m\u001b[0mpriceLSM\u001b[0m\u001b[0;34m(\u001b[0m\u001b[0mshare1\u001b[0m\u001b[0;34m,\u001b[0m\u001b[0mmyOption\u001b[0m\u001b[0;34m,\u001b[0m\u001b[0mpaths\u001b[0m\u001b[0;34m,\u001b[0m\u001b[0mtime_s\u001b[0m\u001b[0;34m,\u001b[0m\u001b[0mt_unit\u001b[0m\u001b[0;34m,\u001b[0m                              \u001b[0manti\u001b[0m\u001b[0;34m=\u001b[0m\u001b[0;32mTrue\u001b[0m\u001b[0;34m,\u001b[0m\u001b[0mregressor\u001b[0m\u001b[0;34m=\u001b[0m\u001b[0mfin\u001b[0m\u001b[0;34m.\u001b[0m\u001b[0mgetContRF\u001b[0m\u001b[0;34m,\u001b[0m\u001b[0mnum_trees\u001b[0m\u001b[0;34m=\u001b[0m\u001b[0;36m200\u001b[0m\u001b[0;34m,\u001b[0m\u001b[0mmax_depth\u001b[0m\u001b[0;34m=\u001b[0m\u001b[0;36m3\u001b[0m\u001b[0;34m)\u001b[0m\u001b[0;34m\u001b[0m\u001b[0m\n\u001b[0m\u001b[1;32m     16\u001b[0m     \u001b[0mprint\u001b[0m\u001b[0;34m(\u001b[0m\u001b[0;34m\"Spot : \"\u001b[0m \u001b[0;34m+\u001b[0m \u001b[0mstr\u001b[0m\u001b[0;34m(\u001b[0m\u001b[0ms\u001b[0m\u001b[0;34m)\u001b[0m \u001b[0;34m+\u001b[0m \u001b[0;34m\" BS Price : \"\u001b[0m \u001b[0;34m+\u001b[0m \u001b[0mstr\u001b[0m\u001b[0;34m(\u001b[0m\u001b[0mput_bs_dig\u001b[0m\u001b[0;34m[\u001b[0m\u001b[0ms\u001b[0m\u001b[0;34m]\u001b[0m\u001b[0;34m)\u001b[0m           \u001b[0;34m+\u001b[0m \u001b[0;34m\" LSM Price \"\u001b[0m \u001b[0;34m+\u001b[0m \u001b[0mstr\u001b[0m\u001b[0;34m(\u001b[0m\u001b[0mput_lsm_dig\u001b[0m\u001b[0;34m[\u001b[0m\u001b[0ms\u001b[0m\u001b[0;34m]\u001b[0m\u001b[0;34m)\u001b[0m \u001b[0;34m+\u001b[0m \u001b[0;34m\" LSM RF Price \"\u001b[0m \u001b[0;34m+\u001b[0m \u001b[0mstr\u001b[0m\u001b[0;34m(\u001b[0m\u001b[0mput_lsm_digrf\u001b[0m\u001b[0;34m[\u001b[0m\u001b[0ms\u001b[0m\u001b[0;34m]\u001b[0m\u001b[0;34m)\u001b[0m\u001b[0;34m)\u001b[0m\u001b[0;34m\u001b[0m\u001b[0m\n",
      "\u001b[0;32m~/Documents/Schoolwork/NYU/High_Performance_Computing/Thesis/NYU_Machine_Learning_Project/pythonMC/proj_helpers/FinObj.py\u001b[0m in \u001b[0;36mpriceLSM\u001b[0;34m(stock, opt, paths, t_steps, t_unit, anti, regressor, **kwargs)\u001b[0m\n\u001b[1;32m    631\u001b[0m     \u001b[0mnum_basis\u001b[0m \u001b[0;34m:\u001b[0m \u001b[0mnumber\u001b[0m \u001b[0mof\u001b[0m \u001b[0mbasis\u001b[0m \u001b[0mvectors\u001b[0m \u001b[0mto\u001b[0m \u001b[0muse\u001b[0m \u001b[0;32min\u001b[0m \u001b[0mLaguerre\u001b[0m \u001b[0mexpansion\u001b[0m\u001b[0;34m\u001b[0m\u001b[0m\n\u001b[1;32m    632\u001b[0m     '''\n\u001b[0;32m--> 633\u001b[0;31m     \u001b[0;32mreturn\u001b[0m \u001b[0mnp\u001b[0m\u001b[0;34m.\u001b[0m\u001b[0mmean\u001b[0m\u001b[0;34m(\u001b[0m\u001b[0mbridgePayoffs\u001b[0m\u001b[0;34m(\u001b[0m\u001b[0mstock\u001b[0m\u001b[0;34m,\u001b[0m \u001b[0mopt\u001b[0m\u001b[0;34m,\u001b[0m \u001b[0mpaths\u001b[0m\u001b[0;34m,\u001b[0m \u001b[0mt_steps\u001b[0m\u001b[0;34m,\u001b[0m \u001b[0mt_unit\u001b[0m\u001b[0;34m,\u001b[0m\u001b[0manti\u001b[0m\u001b[0;34m,\u001b[0m\u001b[0mregressor\u001b[0m\u001b[0;34m,\u001b[0m\u001b[0mkwargs\u001b[0m\u001b[0;34m)\u001b[0m\u001b[0;34m)\u001b[0m\u001b[0;34m\u001b[0m\u001b[0m\n\u001b[0m\u001b[1;32m    634\u001b[0m \u001b[0;34m\u001b[0m\u001b[0m\n",
      "\u001b[0;32m~/Documents/Schoolwork/NYU/High_Performance_Computing/Thesis/NYU_Machine_Learning_Project/pythonMC/proj_helpers/FinObj.py\u001b[0m in \u001b[0;36mbridgePayoffs\u001b[0;34m(stock, opt, paths, t_steps, t_unit, anti, regressor, kwargs)\u001b[0m\n\u001b[1;32m    573\u001b[0m         \u001b[0mt0\u001b[0m \u001b[0;34m=\u001b[0m \u001b[0mtime\u001b[0m\u001b[0;34m.\u001b[0m\u001b[0mtime\u001b[0m\u001b[0;34m(\u001b[0m\u001b[0;34m)\u001b[0m\u001b[0;34m\u001b[0m\u001b[0m\n\u001b[1;32m    574\u001b[0m         \u001b[0mCt\u001b[0m \u001b[0;34m=\u001b[0m \u001b[0mnp\u001b[0m\u001b[0;34m.\u001b[0m\u001b[0mzeros\u001b[0m\u001b[0;34m(\u001b[0m\u001b[0mpaths\u001b[0m\u001b[0;34m)\u001b[0m\u001b[0;34m\u001b[0m\u001b[0m\n\u001b[0;32m--> 575\u001b[0;31m         \u001b[0mCt\u001b[0m\u001b[0;34m[\u001b[0m\u001b[0mmoneymask\u001b[0m\u001b[0;34m]\u001b[0m \u001b[0;34m=\u001b[0m \u001b[0mregressor\u001b[0m\u001b[0;34m(\u001b[0m\u001b[0mFO\u001b[0m\u001b[0;34m[\u001b[0m\u001b[0mmoneymask\u001b[0m\u001b[0;34m]\u001b[0m\u001b[0;34m,\u001b[0m\u001b[0mSt\u001b[0m\u001b[0;34m[\u001b[0m\u001b[0mmoneymask\u001b[0m\u001b[0;34m]\u001b[0m\u001b[0;34m,\u001b[0m\u001b[0mkwargs\u001b[0m\u001b[0;34m)\u001b[0m \u001b[0;31m#Obtain continuation values\u001b[0m\u001b[0;34m\u001b[0m\u001b[0m\n\u001b[0m\u001b[1;32m    576\u001b[0m         \u001b[0mtimings\u001b[0m\u001b[0;34m[\u001b[0m\u001b[0;36m5\u001b[0m\u001b[0;34m]\u001b[0m \u001b[0;34m=\u001b[0m \u001b[0mt0\u001b[0m \u001b[0;34m-\u001b[0m \u001b[0mtime\u001b[0m\u001b[0;34m.\u001b[0m\u001b[0mtime\u001b[0m\u001b[0;34m(\u001b[0m\u001b[0;34m)\u001b[0m\u001b[0;34m\u001b[0m\u001b[0m\n\u001b[1;32m    577\u001b[0m \u001b[0;34m\u001b[0m\u001b[0m\n",
      "\u001b[0;32m~/Documents/Schoolwork/NYU/High_Performance_Computing/Thesis/NYU_Machine_Learning_Project/pythonMC/proj_helpers/FinObj.py\u001b[0m in \u001b[0;36mgetContRF\u001b[0;34m(Ct1, St, kwargs)\u001b[0m\n\u001b[1;32m    374\u001b[0m     \u001b[0mclf\u001b[0m\u001b[0;34m=\u001b[0m\u001b[0mRandomForestRegressor\u001b[0m\u001b[0;34m(\u001b[0m\u001b[0mn_estimators\u001b[0m\u001b[0;34m=\u001b[0m\u001b[0mkwargs\u001b[0m\u001b[0;34m[\u001b[0m\u001b[0;34m\"num_trees\"\u001b[0m\u001b[0;34m]\u001b[0m\u001b[0;34m,\u001b[0m\u001b[0mmax_depth\u001b[0m\u001b[0;34m=\u001b[0m\u001b[0mkwargs\u001b[0m\u001b[0;34m[\u001b[0m\u001b[0;34m\"max_depth\"\u001b[0m\u001b[0;34m]\u001b[0m\u001b[0;34m)\u001b[0m\u001b[0;34m\u001b[0m\u001b[0m\n\u001b[1;32m    375\u001b[0m     \u001b[0mtempSt\u001b[0m\u001b[0;34m=\u001b[0m\u001b[0mnp\u001b[0m\u001b[0;34m.\u001b[0m\u001b[0mreshape\u001b[0m\u001b[0;34m(\u001b[0m\u001b[0mSt\u001b[0m\u001b[0;34m,\u001b[0m\u001b[0;34m(\u001b[0m\u001b[0mlen\u001b[0m\u001b[0;34m(\u001b[0m\u001b[0mSt\u001b[0m\u001b[0;34m)\u001b[0m\u001b[0;34m,\u001b[0m\u001b[0;36m1\u001b[0m\u001b[0;34m)\u001b[0m\u001b[0;34m)\u001b[0m\u001b[0;34m\u001b[0m\u001b[0m\n\u001b[0;32m--> 376\u001b[0;31m     \u001b[0mclf\u001b[0m\u001b[0;34m.\u001b[0m\u001b[0mfit\u001b[0m\u001b[0;34m(\u001b[0m\u001b[0mtempSt\u001b[0m\u001b[0;34m,\u001b[0m\u001b[0mCt1\u001b[0m\u001b[0;34m)\u001b[0m\u001b[0;34m\u001b[0m\u001b[0m\n\u001b[0m\u001b[1;32m    377\u001b[0m     \u001b[0;32mreturn\u001b[0m \u001b[0mclf\u001b[0m\u001b[0;34m.\u001b[0m\u001b[0mpredict\u001b[0m\u001b[0;34m(\u001b[0m\u001b[0mtempSt\u001b[0m\u001b[0;34m)\u001b[0m\u001b[0;34m\u001b[0m\u001b[0m\n\u001b[1;32m    378\u001b[0m \u001b[0;34m\u001b[0m\u001b[0m\n",
      "\u001b[0;32m~/anaconda3/lib/python3.6/site-packages/sklearn/ensemble/forest.py\u001b[0m in \u001b[0;36mfit\u001b[0;34m(self, X, y, sample_weight)\u001b[0m\n\u001b[1;32m    314\u001b[0m             \u001b[0;32mfor\u001b[0m \u001b[0mi\u001b[0m \u001b[0;32min\u001b[0m \u001b[0mrange\u001b[0m\u001b[0;34m(\u001b[0m\u001b[0mn_more_estimators\u001b[0m\u001b[0;34m)\u001b[0m\u001b[0;34m:\u001b[0m\u001b[0;34m\u001b[0m\u001b[0m\n\u001b[1;32m    315\u001b[0m                 tree = self._make_estimator(append=False,\n\u001b[0;32m--> 316\u001b[0;31m                                             random_state=random_state)\n\u001b[0m\u001b[1;32m    317\u001b[0m                 \u001b[0mtrees\u001b[0m\u001b[0;34m.\u001b[0m\u001b[0mappend\u001b[0m\u001b[0;34m(\u001b[0m\u001b[0mtree\u001b[0m\u001b[0;34m)\u001b[0m\u001b[0;34m\u001b[0m\u001b[0m\n\u001b[1;32m    318\u001b[0m \u001b[0;34m\u001b[0m\u001b[0m\n",
      "\u001b[0;32m~/anaconda3/lib/python3.6/site-packages/sklearn/ensemble/base.py\u001b[0m in \u001b[0;36m_make_estimator\u001b[0;34m(self, append, random_state)\u001b[0m\n\u001b[1;32m    128\u001b[0m \u001b[0;34m\u001b[0m\u001b[0m\n\u001b[1;32m    129\u001b[0m         \u001b[0;32mif\u001b[0m \u001b[0mrandom_state\u001b[0m \u001b[0;32mis\u001b[0m \u001b[0;32mnot\u001b[0m \u001b[0;32mNone\u001b[0m\u001b[0;34m:\u001b[0m\u001b[0;34m\u001b[0m\u001b[0m\n\u001b[0;32m--> 130\u001b[0;31m             \u001b[0m_set_random_states\u001b[0m\u001b[0;34m(\u001b[0m\u001b[0mestimator\u001b[0m\u001b[0;34m,\u001b[0m \u001b[0mrandom_state\u001b[0m\u001b[0;34m)\u001b[0m\u001b[0;34m\u001b[0m\u001b[0m\n\u001b[0m\u001b[1;32m    131\u001b[0m \u001b[0;34m\u001b[0m\u001b[0m\n\u001b[1;32m    132\u001b[0m         \u001b[0;32mif\u001b[0m \u001b[0mappend\u001b[0m\u001b[0;34m:\u001b[0m\u001b[0;34m\u001b[0m\u001b[0m\n",
      "\u001b[0;32m~/anaconda3/lib/python3.6/site-packages/sklearn/ensemble/base.py\u001b[0m in \u001b[0;36m_set_random_states\u001b[0;34m(estimator, random_state)\u001b[0m\n\u001b[1;32m     55\u001b[0m \u001b[0;34m\u001b[0m\u001b[0m\n\u001b[1;32m     56\u001b[0m     \u001b[0;32mif\u001b[0m \u001b[0mto_set\u001b[0m\u001b[0;34m:\u001b[0m\u001b[0;34m\u001b[0m\u001b[0m\n\u001b[0;32m---> 57\u001b[0;31m         \u001b[0mestimator\u001b[0m\u001b[0;34m.\u001b[0m\u001b[0mset_params\u001b[0m\u001b[0;34m(\u001b[0m\u001b[0;34m**\u001b[0m\u001b[0mto_set\u001b[0m\u001b[0;34m)\u001b[0m\u001b[0;34m\u001b[0m\u001b[0m\n\u001b[0m\u001b[1;32m     58\u001b[0m \u001b[0;34m\u001b[0m\u001b[0m\n\u001b[1;32m     59\u001b[0m \u001b[0;34m\u001b[0m\u001b[0m\n",
      "\u001b[0;32m~/anaconda3/lib/python3.6/site-packages/sklearn/base.py\u001b[0m in \u001b[0;36mset_params\u001b[0;34m(self, **params)\u001b[0m\n\u001b[1;32m    263\u001b[0m             \u001b[0;31m# Simple optimization to gain speed (inspect is slow)\u001b[0m\u001b[0;34m\u001b[0m\u001b[0;34m\u001b[0m\u001b[0m\n\u001b[1;32m    264\u001b[0m             \u001b[0;32mreturn\u001b[0m \u001b[0mself\u001b[0m\u001b[0;34m\u001b[0m\u001b[0m\n\u001b[0;32m--> 265\u001b[0;31m         \u001b[0mvalid_params\u001b[0m \u001b[0;34m=\u001b[0m \u001b[0mself\u001b[0m\u001b[0;34m.\u001b[0m\u001b[0mget_params\u001b[0m\u001b[0;34m(\u001b[0m\u001b[0mdeep\u001b[0m\u001b[0;34m=\u001b[0m\u001b[0;32mTrue\u001b[0m\u001b[0;34m)\u001b[0m\u001b[0;34m\u001b[0m\u001b[0m\n\u001b[0m\u001b[1;32m    266\u001b[0m \u001b[0;34m\u001b[0m\u001b[0m\n\u001b[1;32m    267\u001b[0m         \u001b[0mnested_params\u001b[0m \u001b[0;34m=\u001b[0m \u001b[0mdefaultdict\u001b[0m\u001b[0;34m(\u001b[0m\u001b[0mdict\u001b[0m\u001b[0;34m)\u001b[0m  \u001b[0;31m# grouped by prefix\u001b[0m\u001b[0;34m\u001b[0m\u001b[0m\n",
      "\u001b[0;32m~/anaconda3/lib/python3.6/site-packages/sklearn/base.py\u001b[0m in \u001b[0;36mget_params\u001b[0;34m(self, deep)\u001b[0m\n\u001b[1;32m    242\u001b[0m \u001b[0;34m\u001b[0m\u001b[0m\n\u001b[1;32m    243\u001b[0m             \u001b[0;31m# XXX: should we rather test if instance of estimator?\u001b[0m\u001b[0;34m\u001b[0m\u001b[0;34m\u001b[0m\u001b[0m\n\u001b[0;32m--> 244\u001b[0;31m             \u001b[0;32mif\u001b[0m \u001b[0mdeep\u001b[0m \u001b[0;32mand\u001b[0m \u001b[0mhasattr\u001b[0m\u001b[0;34m(\u001b[0m\u001b[0mvalue\u001b[0m\u001b[0;34m,\u001b[0m \u001b[0;34m'get_params'\u001b[0m\u001b[0;34m)\u001b[0m\u001b[0;34m:\u001b[0m\u001b[0;34m\u001b[0m\u001b[0m\n\u001b[0m\u001b[1;32m    245\u001b[0m                 \u001b[0mdeep_items\u001b[0m \u001b[0;34m=\u001b[0m \u001b[0mvalue\u001b[0m\u001b[0;34m.\u001b[0m\u001b[0mget_params\u001b[0m\u001b[0;34m(\u001b[0m\u001b[0;34m)\u001b[0m\u001b[0;34m.\u001b[0m\u001b[0mitems\u001b[0m\u001b[0;34m(\u001b[0m\u001b[0;34m)\u001b[0m\u001b[0;34m\u001b[0m\u001b[0m\n\u001b[1;32m    246\u001b[0m                 \u001b[0mout\u001b[0m\u001b[0;34m.\u001b[0m\u001b[0mupdate\u001b[0m\u001b[0;34m(\u001b[0m\u001b[0;34m(\u001b[0m\u001b[0mkey\u001b[0m \u001b[0;34m+\u001b[0m \u001b[0;34m'__'\u001b[0m \u001b[0;34m+\u001b[0m \u001b[0mk\u001b[0m\u001b[0;34m,\u001b[0m \u001b[0mval\u001b[0m\u001b[0;34m)\u001b[0m \u001b[0;32mfor\u001b[0m \u001b[0mk\u001b[0m\u001b[0;34m,\u001b[0m \u001b[0mval\u001b[0m \u001b[0;32min\u001b[0m \u001b[0mdeep_items\u001b[0m\u001b[0;34m)\u001b[0m\u001b[0;34m\u001b[0m\u001b[0m\n",
      "\u001b[0;31mKeyboardInterrupt\u001b[0m: "
     ]
    }
   ],
   "source": [
    "#Perform Tests for digital options\n",
    "payoff=fin.amPutDigVec #Define option payoff\n",
    "\n",
    "#Option Parameters\n",
    "myOption = fin.Option(share1,payoff,time_s,strike,t_unit)\n",
    "\n",
    "spots=np.linspace(110,110,1)\n",
    "put_bs_dig = {}\n",
    "put_lsm_dig = {}\n",
    "put_lsm_digrf = {}\n",
    "for s in spots:\n",
    "    put_bs_dig[s] = risk.BSPutDig(s, strike, div, rate, vol, expr)\n",
    "    share1.setSpot(s) #Change spot price for LSM\n",
    "    put_lsm_dig[s] = fin.priceLSM(share1,myOption,paths,time_s,t_unit,\\\n",
    "                              anti=True,regressor=fin.getCont,num_basis=4) #Least squares\n",
    "    put_lsm_digrf[s] = fin.priceLSM(share1,myOption,paths,time_s,t_unit,\\\n",
    "                              anti=True,regressor=fin.getContRF,num_trees=200,max_depth=3)\n",
    "    print(\"Spot : \" + str(s) + \" BS Price : \" + str(put_bs_dig[s]) \\\n",
    "          + \" LSM Price \" + str(put_lsm_dig[s]) + \" LSM RF Price \" + str(put_lsm_digrf[s]))"
   ]
  },
  {
   "cell_type": "code",
   "execution_count": 24,
   "metadata": {},
   "outputs": [
    {
     "data": {
      "image/png": "[encoded data removed]",
      "text/plain": [
       "<matplotlib.figure.Figure at 0x115ae66a0>"
      ]
     },
     "metadata": {},
     "output_type": "display_data"
    }
   ],
   "source": [
    "pplot.plot(spots,put_bs_dig.values(),label='Black Scholes Digial Put')\n",
    "pplot.plot(spots,put_lsm_dig.values(),label='My LSM Digital Put')\n",
    "pplot.plot(spots,put_lsm_digrf.values(),label='LSM RF Digital Put')\n",
    "pplot.legend()\n",
    "pplot.xlabel('Spot')\n",
    "pplot.ylabel('Price')\n",
    "pplot.show()"
   ]
  },
  {
   "cell_type": "code",
   "execution_count": 6,
   "metadata": {
    "scrolled": true
   },
   "outputs": [
    {
     "name": "stderr",
     "output_type": "stream",
     "text": [
      "/Users/anthonymaylath/Documents/Schoolwork/NYU/High_Performance_Computing/Thesis/NYU_Machine_Learning_Project/pythonMC/proj_helpers/FinObj.py:359: FutureWarning: `rcond` parameter will change to the default of machine precision times ``max(M, N)`` where M and N are the input matrix dimensions.\n",
      "To use the future default and silence this warning we advise to pass `rcond=None`, to keep using the old, explicitly pass `rcond=-1`.\n",
      "  betas = np.linalg.lstsq(X,Ct1)[0]\n"
     ]
    },
    {
     "name": "stdout",
     "output_type": "stream",
     "text": [
      "Warning: No Paths in the Money. Price May Round to Zero.\n",
      "Warning: No Paths in the Money. Price May Round to Zero.\n",
      "Spot : 80.0 Eur Price : 0.06665350978485936 LSM Price 0.27926398768835325 LSM RF Price 0.27478620768557166\n",
      "Warning: No Paths in the Money. Price May Round to Zero.\n"
     ]
    },
    {
     "name": "stderr",
     "output_type": "stream",
     "text": [
      "/Users/anthonymaylath/Documents/Schoolwork/NYU/High_Performance_Computing/Thesis/NYU_Machine_Learning_Project/pythonMC/proj_helpers/FinObj.py:359: FutureWarning: `rcond` parameter will change to the default of machine precision times ``max(M, N)`` where M and N are the input matrix dimensions.\n",
      "To use the future default and silence this warning we advise to pass `rcond=None`, to keep using the old, explicitly pass `rcond=-1`.\n",
      "  betas = np.linalg.lstsq(X,Ct1)[0]\n"
     ]
    },
    {
     "name": "stdout",
     "output_type": "stream",
     "text": [
      "Warning: No Paths in the Money. Price May Round to Zero.\n",
      "Spot : 90.0 Eur Price : 0.11027235074700997 LSM Price 0.5887099388745805 LSM RF Price 0.601744812719813\n"
     ]
    },
    {
     "name": "stderr",
     "output_type": "stream",
     "text": [
      "/Users/anthonymaylath/Documents/Schoolwork/NYU/High_Performance_Computing/Thesis/NYU_Machine_Learning_Project/pythonMC/proj_helpers/FinObj.py:359: FutureWarning: `rcond` parameter will change to the default of machine precision times ``max(M, N)`` where M and N are the input matrix dimensions.\n",
      "To use the future default and silence this warning we advise to pass `rcond=None`, to keep using the old, explicitly pass `rcond=-1`.\n",
      "  betas = np.linalg.lstsq(X,Ct1)[0]\n"
     ]
    },
    {
     "name": "stdout",
     "output_type": "stream",
     "text": [
      "Spot : 100.0 Eur Price : 0.12007433748007752 LSM Price 0.9999000049998336 LSM RF Price 0.9999000049998336\n"
     ]
    },
    {
     "name": "stderr",
     "output_type": "stream",
     "text": [
      "/Users/anthonymaylath/Documents/Schoolwork/NYU/High_Performance_Computing/Thesis/NYU_Machine_Learning_Project/pythonMC/proj_helpers/FinObj.py:359: FutureWarning: `rcond` parameter will change to the default of machine precision times ``max(M, N)`` where M and N are the input matrix dimensions.\n",
      "To use the future default and silence this warning we advise to pass `rcond=None`, to keep using the old, explicitly pass `rcond=-1`.\n",
      "  betas = np.linalg.lstsq(X,Ct1)[0]\n"
     ]
    },
    {
     "name": "stdout",
     "output_type": "stream",
     "text": [
      "Spot : 110.0 Eur Price : 0.09949016534063565 LSM Price 0.6547267470973707 LSM RF Price 0.6514278347700209\n"
     ]
    },
    {
     "name": "stderr",
     "output_type": "stream",
     "text": [
      "/Users/anthonymaylath/Documents/Schoolwork/NYU/High_Performance_Computing/Thesis/NYU_Machine_Learning_Project/pythonMC/proj_helpers/FinObj.py:359: FutureWarning: `rcond` parameter will change to the default of machine precision times ``max(M, N)`` where M and N are the input matrix dimensions.\n",
      "To use the future default and silence this warning we advise to pass `rcond=None`, to keep using the old, explicitly pass `rcond=-1`.\n",
      "  betas = np.linalg.lstsq(X,Ct1)[0]\n"
     ]
    },
    {
     "name": "stdout",
     "output_type": "stream",
     "text": [
      "Warning: No Paths in the Money. Price May Round to Zero.\n",
      "Warning: No Paths in the Money. Price May Round to Zero.\n",
      "Spot : 120.0 Eur Price : 0.07474014883964009 LSM Price 0.3493983733641838 LSM RF Price 0.38323914914121254\n"
     ]
    }
   ],
   "source": [
    "#Perform Tests for birthday cake\n",
    "payoff=fin.birthdayVec #Define option payoff\n",
    "\n",
    "#Option Parameters\n",
    "myOption = fin.Option(share1,payoff,time_s,strike,\\\n",
    "                      t_unit,birthday={\"rng\":[1,5],\"pay\":[1.0,0.5]})\n",
    "\n",
    "spots=np.linspace(80,120,5)\n",
    "birthday_lsm = {}\n",
    "birthday_eur = {}\n",
    "birthday_lsmrf = {}\n",
    "for s in spots:\n",
    "    share1.setSpot(s) #Change spot price for LSM\n",
    "    birthday_lsm[s] = fin.priceLSM(share1,myOption,paths,time_s,t_unit,\\\n",
    "                              anti=True,regressor=fin.getCont,num_basis=4) #Least squares\n",
    "    birthday_lsmrf[s] = fin.priceLSM(share1,myOption,paths,time_s,t_unit,\\\n",
    "                              anti=True,regressor=fin.getContRF,num_trees=30,max_depth=3,\\\n",
    "                                    min_samples_leaf=0.1) #Random Forest\n",
    "    birthday_eur[s] = fin.priceEur(share1,myOption,paths,time_s,t_unit,anti=True)\n",
    "    print(\"Spot : \" + str(s) + \" Eur Price : \" + str(birthday_eur[s]) \\\n",
    "          + \" LSM Price \" + str(birthday_lsm[s]) + \" LSM RF Price \" + str(birthday_lsmrf[s]))"
   ]
  },
  {
   "cell_type": "code",
   "execution_count": 7,
   "metadata": {},
   "outputs": [
    {
     "data": {
      "image/png": "[encoded data removed]",
      "text/plain": [
       "<matplotlib.figure.Figure at 0x111be7550>"
      ]
     },
     "metadata": {},
     "output_type": "display_data"
    }
   ],
   "source": [
    "pplot.plot(spots,birthday_eur.values(),label='My EUR Birthday')\n",
    "pplot.plot(spots,birthday_lsm.values(),label='My LSM Birthday')\n",
    "pplot.plot(spots,birthday_lsmrf.values(),label='LSM RF Birthday')\n",
    "pplot.legend()\n",
    "pplot.xlabel('Spot')\n",
    "pplot.ylabel('Price')\n",
    "pplot.show()"
   ]
  },
  {
   "cell_type": "code",
   "execution_count": 81,
   "metadata": {
    "scrolled": true
   },
   "outputs": [
    {
     "name": "stderr",
     "output_type": "stream",
     "text": [
      "/Users/anthonymaylath/Documents/Schoolwork/NYU/High_Performance_Computing/Thesis/NYU_Machine_Learning_Project/pythonMC/proj_helpers/FinObj.py:359: FutureWarning: `rcond` parameter will change to the default of machine precision times ``max(M, N)`` where M and N are the input matrix dimensions.\n",
      "To use the future default and silence this warning we advise to pass `rcond=None`, to keep using the old, explicitly pass `rcond=-1`.\n",
      "  betas = np.linalg.lstsq(X,Ct1)[0]\n"
     ]
    },
    {
     "name": "stdout",
     "output_type": "stream",
     "text": [
      "Warning: No Paths in the Money. Price May Round to Zero.\n",
      "Warning: No Paths in the Money. Price May Round to Zero.\n",
      "Warning: No Paths in the Money. Price May Round to Zero.\n",
      "Time : 1.2466959953308105, Paths : 10 LSM Price Basis 2 : 0.0 LSM Price Basis 3 : 0.6708941113113732 LSM Price Basis 4 : 0.7213832790346613LSM RF Price : 0.7703449933834353 Repeat : 0\n",
      "Warning: No Paths in the Money. Price May Round to Zero.\n",
      "Warning: No Paths in the Money. Price May Round to Zero.\n"
     ]
    },
    {
     "name": "stderr",
     "output_type": "stream",
     "text": [
      "/Users/anthonymaylath/Documents/Schoolwork/NYU/High_Performance_Computing/Thesis/NYU_Machine_Learning_Project/pythonMC/proj_helpers/FinObj.py:359: FutureWarning: `rcond` parameter will change to the default of machine precision times ``max(M, N)`` where M and N are the input matrix dimensions.\n",
      "To use the future default and silence this warning we advise to pass `rcond=None`, to keep using the old, explicitly pass `rcond=-1`.\n",
      "  betas = np.linalg.lstsq(X,Ct1)[0]\n"
     ]
    },
    {
     "name": "stdout",
     "output_type": "stream",
     "text": [
      "Warning: No Paths in the Money. Price May Round to Zero.\n",
      "Time : 1.2268390655517578, Paths : 10 LSM Price Basis 2 : 0.0 LSM Price Basis 3 : 0.9195567833821391 LSM Price Basis 4 : 0.6214098106271219LSM RF Price : 0.6960052641229441 Repeat : 1\n",
      "Warning: No Paths in the Money. Price May Round to Zero.\n",
      "Warning: No Paths in the Money. Price May Round to Zero.\n"
     ]
    },
    {
     "name": "stderr",
     "output_type": "stream",
     "text": [
      "/Users/anthonymaylath/Documents/Schoolwork/NYU/High_Performance_Computing/Thesis/NYU_Machine_Learning_Project/pythonMC/proj_helpers/FinObj.py:359: FutureWarning: `rcond` parameter will change to the default of machine precision times ``max(M, N)`` where M and N are the input matrix dimensions.\n",
      "To use the future default and silence this warning we advise to pass `rcond=None`, to keep using the old, explicitly pass `rcond=-1`.\n",
      "  betas = np.linalg.lstsq(X,Ct1)[0]\n"
     ]
    },
    {
     "name": "stdout",
     "output_type": "stream",
     "text": [
      "Warning: No Paths in the Money. Price May Round to Zero.\n",
      "Time : 1.1281440258026123, Paths : 10 LSM Price Basis 2 : 0.0 LSM Price Basis 3 : 0.8922804063169064 LSM Price Basis 4 : 0.745708075741668LSM RF Price : 0.6956001190378246 Repeat : 2\n",
      "Warning: No Paths in the Money. Price May Round to Zero.\n",
      "Warning: No Paths in the Money. Price May Round to Zero.\n"
     ]
    },
    {
     "name": "stderr",
     "output_type": "stream",
     "text": [
      "/Users/anthonymaylath/Documents/Schoolwork/NYU/High_Performance_Computing/Thesis/NYU_Machine_Learning_Project/pythonMC/proj_helpers/FinObj.py:359: FutureWarning: `rcond` parameter will change to the default of machine precision times ``max(M, N)`` where M and N are the input matrix dimensions.\n",
      "To use the future default and silence this warning we advise to pass `rcond=None`, to keep using the old, explicitly pass `rcond=-1`.\n",
      "  betas = np.linalg.lstsq(X,Ct1)[0]\n"
     ]
    },
    {
     "name": "stdout",
     "output_type": "stream",
     "text": [
      "Warning: No Paths in the Money. Price May Round to Zero.\n",
      "Time : 1.1864268779754639, Paths : 10 LSM Price Basis 2 : 0.0 LSM Price Basis 3 : 0.6696729854206269 LSM Price Basis 4 : 0.7945566914093589LSM RF Price : 0.5975888018386458 Repeat : 3\n",
      "Warning: No Paths in the Money. Price May Round to Zero.\n",
      "Warning: No Paths in the Money. Price May Round to Zero.\n"
     ]
    },
    {
     "name": "stderr",
     "output_type": "stream",
     "text": [
      "/Users/anthonymaylath/Documents/Schoolwork/NYU/High_Performance_Computing/Thesis/NYU_Machine_Learning_Project/pythonMC/proj_helpers/FinObj.py:359: FutureWarning: `rcond` parameter will change to the default of machine precision times ``max(M, N)`` where M and N are the input matrix dimensions.\n",
      "To use the future default and silence this warning we advise to pass `rcond=None`, to keep using the old, explicitly pass `rcond=-1`.\n",
      "  betas = np.linalg.lstsq(X,Ct1)[0]\n"
     ]
    },
    {
     "name": "stdout",
     "output_type": "stream",
     "text": [
      "Warning: No Paths in the Money. Price May Round to Zero.\n",
      "Time : 1.0997529029846191, Paths : 10 LSM Price Basis 2 : 0.0 LSM Price Basis 3 : 0.7212499497220731 LSM Price Basis 4 : 0.69526727305498LSM RF Price : 0.7208184527977587 Repeat : 4\n",
      "Warning: No Paths in the Money. Price May Round to Zero.\n",
      "Warning: No Paths in the Money. Price May Round to Zero.\n"
     ]
    },
    {
     "name": "stderr",
     "output_type": "stream",
     "text": [
      "/Users/anthonymaylath/Documents/Schoolwork/NYU/High_Performance_Computing/Thesis/NYU_Machine_Learning_Project/pythonMC/proj_helpers/FinObj.py:359: FutureWarning: `rcond` parameter will change to the default of machine precision times ``max(M, N)`` where M and N are the input matrix dimensions.\n",
      "To use the future default and silence this warning we advise to pass `rcond=None`, to keep using the old, explicitly pass `rcond=-1`.\n",
      "  betas = np.linalg.lstsq(X,Ct1)[0]\n"
     ]
    },
    {
     "name": "stdout",
     "output_type": "stream",
     "text": [
      "Warning: No Paths in the Money. Price May Round to Zero.\n",
      "Time : 1.1710050106048584, Paths : 10 LSM Price Basis 2 : 0.0 LSM Price Basis 3 : 0.6471474186570744 LSM Price Basis 4 : 0.8175673500443263LSM RF Price : 0.5968829505060707 Repeat : 5\n",
      "Warning: No Paths in the Money. Price May Round to Zero.\n",
      "Warning: No Paths in the Money. Price May Round to Zero.\n"
     ]
    },
    {
     "name": "stderr",
     "output_type": "stream",
     "text": [
      "/Users/anthonymaylath/Documents/Schoolwork/NYU/High_Performance_Computing/Thesis/NYU_Machine_Learning_Project/pythonMC/proj_helpers/FinObj.py:359: FutureWarning: `rcond` parameter will change to the default of machine precision times ``max(M, N)`` where M and N are the input matrix dimensions.\n",
      "To use the future default and silence this warning we advise to pass `rcond=None`, to keep using the old, explicitly pass `rcond=-1`.\n",
      "  betas = np.linalg.lstsq(X,Ct1)[0]\n"
     ]
    },
    {
     "name": "stdout",
     "output_type": "stream",
     "text": [
      "Time : 1.1317448616027832, Paths : 10 LSM Price Basis 2 : 0.0 LSM Price Basis 3 : 0.6456033105593431 LSM Price Basis 4 : 0.6216484795581316LSM RF Price : 0.5975049465454401 Repeat : 6\n",
      "Warning: No Paths in the Money. Price May Round to Zero.\n",
      "Warning: No Paths in the Money. Price May Round to Zero.\n"
     ]
    },
    {
     "name": "stderr",
     "output_type": "stream",
     "text": [
      "/Users/anthonymaylath/Documents/Schoolwork/NYU/High_Performance_Computing/Thesis/NYU_Machine_Learning_Project/pythonMC/proj_helpers/FinObj.py:359: FutureWarning: `rcond` parameter will change to the default of machine precision times ``max(M, N)`` where M and N are the input matrix dimensions.\n",
      "To use the future default and silence this warning we advise to pass `rcond=None`, to keep using the old, explicitly pass `rcond=-1`.\n",
      "  betas = np.linalg.lstsq(X,Ct1)[0]\n"
     ]
    },
    {
     "name": "stdout",
     "output_type": "stream",
     "text": [
      "Warning: No Paths in the Money. Price May Round to Zero.\n",
      "Time : 1.5640740394592285, Paths : 10 LSM Price Basis 2 : 0.0 LSM Price Basis 3 : 0.6457207012829154 LSM Price Basis 4 : 0.545674393235313LSM RF Price : 0.6211403707537462 Repeat : 7\n",
      "Warning: No Paths in the Money. Price May Round to Zero.\n",
      "Warning: No Paths in the Money. Price May Round to Zero.\n"
     ]
    },
    {
     "name": "stderr",
     "output_type": "stream",
     "text": [
      "/Users/anthonymaylath/Documents/Schoolwork/NYU/High_Performance_Computing/Thesis/NYU_Machine_Learning_Project/pythonMC/proj_helpers/FinObj.py:359: FutureWarning: `rcond` parameter will change to the default of machine precision times ``max(M, N)`` where M and N are the input matrix dimensions.\n",
      "To use the future default and silence this warning we advise to pass `rcond=None`, to keep using the old, explicitly pass `rcond=-1`.\n",
      "  betas = np.linalg.lstsq(X,Ct1)[0]\n"
     ]
    },
    {
     "name": "stdout",
     "output_type": "stream",
     "text": [
      "Warning: No Paths in the Money. Price May Round to Zero.\n",
      "Time : 1.40333890914917, Paths : 10 LSM Price Basis 2 : 0.0 LSM Price Basis 3 : 0.8448147782448373 LSM Price Basis 4 : 0.7947629149815308LSM RF Price : 0.5967816890916061 Repeat : 8\n",
      "Warning: No Paths in the Money. Price May Round to Zero.\n",
      "Warning: No Paths in the Money. Price May Round to Zero.\n"
     ]
    },
    {
     "name": "stderr",
     "output_type": "stream",
     "text": [
      "/Users/anthonymaylath/Documents/Schoolwork/NYU/High_Performance_Computing/Thesis/NYU_Machine_Learning_Project/pythonMC/proj_helpers/FinObj.py:359: FutureWarning: `rcond` parameter will change to the default of machine precision times ``max(M, N)`` where M and N are the input matrix dimensions.\n",
      "To use the future default and silence this warning we advise to pass `rcond=None`, to keep using the old, explicitly pass `rcond=-1`.\n",
      "  betas = np.linalg.lstsq(X,Ct1)[0]\n"
     ]
    },
    {
     "name": "stdout",
     "output_type": "stream",
     "text": [
      "Warning: No Paths in the Money. Price May Round to Zero.\n",
      "Time : 1.2499349117279053, Paths : 10 LSM Price Basis 2 : 0.0 LSM Price Basis 3 : 0.5216379359278236 LSM Price Basis 4 : 0.6463741578762996LSM RF Price : 0.7184149212408337 Repeat : 9\n",
      "Warning: No Paths in the Money. Price May Round to Zero.\n",
      "Warning: No Paths in the Money. Price May Round to Zero.\n"
     ]
    },
    {
     "name": "stderr",
     "output_type": "stream",
     "text": [
      "/Users/anthonymaylath/Documents/Schoolwork/NYU/High_Performance_Computing/Thesis/NYU_Machine_Learning_Project/pythonMC/proj_helpers/FinObj.py:359: FutureWarning: `rcond` parameter will change to the default of machine precision times ``max(M, N)`` where M and N are the input matrix dimensions.\n",
      "To use the future default and silence this warning we advise to pass `rcond=None`, to keep using the old, explicitly pass `rcond=-1`.\n",
      "  betas = np.linalg.lstsq(X,Ct1)[0]\n"
     ]
    },
    {
     "name": "stdout",
     "output_type": "stream",
     "text": [
      "Warning: No Paths in the Money. Price May Round to Zero.\n",
      "Time : 1.5008301734924316, Paths : 10 LSM Price Basis 2 : 0.0 LSM Price Basis 3 : 0.7962969874224145 LSM Price Basis 4 : 0.7460000946076906LSM RF Price : 0.8209393302354213 Repeat : 10\n",
      "Warning: No Paths in the Money. Price May Round to Zero.\n",
      "Warning: No Paths in the Money. Price May Round to Zero.\n"
     ]
    },
    {
     "name": "stderr",
     "output_type": "stream",
     "text": [
      "/Users/anthonymaylath/Documents/Schoolwork/NYU/High_Performance_Computing/Thesis/NYU_Machine_Learning_Project/pythonMC/proj_helpers/FinObj.py:359: FutureWarning: `rcond` parameter will change to the default of machine precision times ``max(M, N)`` where M and N are the input matrix dimensions.\n",
      "To use the future default and silence this warning we advise to pass `rcond=None`, to keep using the old, explicitly pass `rcond=-1`.\n",
      "  betas = np.linalg.lstsq(X,Ct1)[0]\n"
     ]
    },
    {
     "name": "stdout",
     "output_type": "stream",
     "text": [
      "Warning: No Paths in the Money. Price May Round to Zero.\n",
      "Time : 1.2898428440093994, Paths : 10 LSM Price Basis 2 : 0.0 LSM Price Basis 3 : 0.6709279096614765 LSM Price Basis 4 : 0.7452221242657596LSM RF Price : 0.7211805039480902 Repeat : 11\n",
      "Warning: No Paths in the Money. Price May Round to Zero.\n",
      "Warning: No Paths in the Money. Price May Round to Zero.\n"
     ]
    },
    {
     "name": "stderr",
     "output_type": "stream",
     "text": [
      "/Users/anthonymaylath/Documents/Schoolwork/NYU/High_Performance_Computing/Thesis/NYU_Machine_Learning_Project/pythonMC/proj_helpers/FinObj.py:359: FutureWarning: `rcond` parameter will change to the default of machine precision times ``max(M, N)`` where M and N are the input matrix dimensions.\n",
      "To use the future default and silence this warning we advise to pass `rcond=None`, to keep using the old, explicitly pass `rcond=-1`.\n",
      "  betas = np.linalg.lstsq(X,Ct1)[0]\n"
     ]
    },
    {
     "name": "stdout",
     "output_type": "stream",
     "text": [
      "Warning: No Paths in the Money. Price May Round to Zero.\n",
      "Time : 1.1836910247802734, Paths : 10 LSM Price Basis 2 : 0.0 LSM Price Basis 3 : 0.7193795364893499 LSM Price Basis 4 : 0.5967548460738042LSM RF Price : 0.6215708116975336 Repeat : 12\n",
      "Warning: No Paths in the Money. Price May Round to Zero.\n",
      "Warning: No Paths in the Money. Price May Round to Zero.\n"
     ]
    },
    {
     "name": "stderr",
     "output_type": "stream",
     "text": [
      "/Users/anthonymaylath/Documents/Schoolwork/NYU/High_Performance_Computing/Thesis/NYU_Machine_Learning_Project/pythonMC/proj_helpers/FinObj.py:359: FutureWarning: `rcond` parameter will change to the default of machine precision times ``max(M, N)`` where M and N are the input matrix dimensions.\n",
      "To use the future default and silence this warning we advise to pass `rcond=None`, to keep using the old, explicitly pass `rcond=-1`.\n",
      "  betas = np.linalg.lstsq(X,Ct1)[0]\n"
     ]
    },
    {
     "name": "stdout",
     "output_type": "stream",
     "text": [
      "Warning: No Paths in the Money. Price May Round to Zero.\n",
      "Time : 1.1484041213989258, Paths : 10 LSM Price Basis 2 : 0.0 LSM Price Basis 3 : 0.6975754806646041 LSM Price Basis 4 : 0.7216362290377261LSM RF Price : 0.7449376173749455 Repeat : 13\n",
      "Warning: No Paths in the Money. Price May Round to Zero.\n",
      "Warning: No Paths in the Money. Price May Round to Zero.\n"
     ]
    },
    {
     "name": "stderr",
     "output_type": "stream",
     "text": [
      "/Users/anthonymaylath/Documents/Schoolwork/NYU/High_Performance_Computing/Thesis/NYU_Machine_Learning_Project/pythonMC/proj_helpers/FinObj.py:359: FutureWarning: `rcond` parameter will change to the default of machine precision times ``max(M, N)`` where M and N are the input matrix dimensions.\n",
      "To use the future default and silence this warning we advise to pass `rcond=None`, to keep using the old, explicitly pass `rcond=-1`.\n",
      "  betas = np.linalg.lstsq(X,Ct1)[0]\n"
     ]
    },
    {
     "name": "stdout",
     "output_type": "stream",
     "text": [
      "Warning: No Paths in the Money. Price May Round to Zero.\n",
      "Time : 1.1066648960113525, Paths : 10 LSM Price Basis 2 : 0.0 LSM Price Basis 3 : 0.6212506022954274 LSM Price Basis 4 : 0.8450754887840308LSM RF Price : 0.7207618058606945 Repeat : 14\n",
      "Warning: No Paths in the Money. Price May Round to Zero.\n",
      "Warning: No Paths in the Money. Price May Round to Zero.\n"
     ]
    },
    {
     "name": "stderr",
     "output_type": "stream",
     "text": [
      "/Users/anthonymaylath/Documents/Schoolwork/NYU/High_Performance_Computing/Thesis/NYU_Machine_Learning_Project/pythonMC/proj_helpers/FinObj.py:359: FutureWarning: `rcond` parameter will change to the default of machine precision times ``max(M, N)`` where M and N are the input matrix dimensions.\n",
      "To use the future default and silence this warning we advise to pass `rcond=None`, to keep using the old, explicitly pass `rcond=-1`.\n",
      "  betas = np.linalg.lstsq(X,Ct1)[0]\n"
     ]
    },
    {
     "name": "stdout",
     "output_type": "stream",
     "text": [
      "Warning: No Paths in the Money. Price May Round to Zero.\n",
      "Time : 1.338371992111206, Paths : 10 LSM Price Basis 2 : 0.0 LSM Price Basis 3 : 0.7460155784170394 LSM Price Basis 4 : 0.7469288883300865LSM RF Price : 0.7465459111651863 Repeat : 15\n",
      "Warning: No Paths in the Money. Price May Round to Zero.\n",
      "Warning: No Paths in the Money. Price May Round to Zero.\n"
     ]
    },
    {
     "name": "stderr",
     "output_type": "stream",
     "text": [
      "/Users/anthonymaylath/Documents/Schoolwork/NYU/High_Performance_Computing/Thesis/NYU_Machine_Learning_Project/pythonMC/proj_helpers/FinObj.py:359: FutureWarning: `rcond` parameter will change to the default of machine precision times ``max(M, N)`` where M and N are the input matrix dimensions.\n",
      "To use the future default and silence this warning we advise to pass `rcond=None`, to keep using the old, explicitly pass `rcond=-1`.\n",
      "  betas = np.linalg.lstsq(X,Ct1)[0]\n"
     ]
    },
    {
     "name": "stdout",
     "output_type": "stream",
     "text": [
      "Warning: No Paths in the Money. Price May Round to Zero.\n",
      "Time : 1.7751898765563965, Paths : 10 LSM Price Basis 2 : 0.0 LSM Price Basis 3 : 0.5959662560943089 LSM Price Basis 4 : 0.5225672907750326LSM RF Price : 0.7213442732804365 Repeat : 16\n",
      "Warning: No Paths in the Money. Price May Round to Zero.\n",
      "Warning: No Paths in the Money. Price May Round to Zero.\n"
     ]
    },
    {
     "name": "stderr",
     "output_type": "stream",
     "text": [
      "/Users/anthonymaylath/Documents/Schoolwork/NYU/High_Performance_Computing/Thesis/NYU_Machine_Learning_Project/pythonMC/proj_helpers/FinObj.py:359: FutureWarning: `rcond` parameter will change to the default of machine precision times ``max(M, N)`` where M and N are the input matrix dimensions.\n",
      "To use the future default and silence this warning we advise to pass `rcond=None`, to keep using the old, explicitly pass `rcond=-1`.\n",
      "  betas = np.linalg.lstsq(X,Ct1)[0]\n"
     ]
    },
    {
     "name": "stdout",
     "output_type": "stream",
     "text": [
      "Warning: No Paths in the Money. Price May Round to Zero.\n",
      "Time : 1.2128229141235352, Paths : 10 LSM Price Basis 2 : 0.0 LSM Price Basis 3 : 0.6203536527942679 LSM Price Basis 4 : 0.5698943404738703LSM RF Price : 0.7202494476206621 Repeat : 17\n",
      "Warning: No Paths in the Money. Price May Round to Zero.\n",
      "Warning: No Paths in the Money. Price May Round to Zero.\n"
     ]
    },
    {
     "name": "stderr",
     "output_type": "stream",
     "text": [
      "/Users/anthonymaylath/Documents/Schoolwork/NYU/High_Performance_Computing/Thesis/NYU_Machine_Learning_Project/pythonMC/proj_helpers/FinObj.py:359: FutureWarning: `rcond` parameter will change to the default of machine precision times ``max(M, N)`` where M and N are the input matrix dimensions.\n",
      "To use the future default and silence this warning we advise to pass `rcond=None`, to keep using the old, explicitly pass `rcond=-1`.\n",
      "  betas = np.linalg.lstsq(X,Ct1)[0]\n"
     ]
    },
    {
     "name": "stdout",
     "output_type": "stream",
     "text": [
      "Warning: No Paths in the Money. Price May Round to Zero.\n",
      "Time : 1.0978779792785645, Paths : 10 LSM Price Basis 2 : 0.0 LSM Price Basis 3 : 0.5709387328302823 LSM Price Basis 4 : 0.6714579826928117LSM RF Price : 0.5722743728700573 Repeat : 18\n",
      "Warning: No Paths in the Money. Price May Round to Zero.\n",
      "Warning: No Paths in the Money. Price May Round to Zero.\n"
     ]
    },
    {
     "name": "stderr",
     "output_type": "stream",
     "text": [
      "/Users/anthonymaylath/Documents/Schoolwork/NYU/High_Performance_Computing/Thesis/NYU_Machine_Learning_Project/pythonMC/proj_helpers/FinObj.py:359: FutureWarning: `rcond` parameter will change to the default of machine precision times ``max(M, N)`` where M and N are the input matrix dimensions.\n",
      "To use the future default and silence this warning we advise to pass `rcond=None`, to keep using the old, explicitly pass `rcond=-1`.\n",
      "  betas = np.linalg.lstsq(X,Ct1)[0]\n"
     ]
    },
    {
     "name": "stdout",
     "output_type": "stream",
     "text": [
      "Warning: No Paths in the Money. Price May Round to Zero.\n",
      "Time : 0.8753988742828369, Paths : 10 LSM Price Basis 2 : 0.0 LSM Price Basis 3 : 0.8193604904686979 LSM Price Basis 4 : 0.8947742969028589LSM RF Price : 0.47321308049275296 Repeat : 19\n",
      "Warning: No Paths in the Money. Price May Round to Zero.\n",
      "Warning: No Paths in the Money. Price May Round to Zero.\n"
     ]
    },
    {
     "name": "stderr",
     "output_type": "stream",
     "text": [
      "/Users/anthonymaylath/Documents/Schoolwork/NYU/High_Performance_Computing/Thesis/NYU_Machine_Learning_Project/pythonMC/proj_helpers/FinObj.py:359: FutureWarning: `rcond` parameter will change to the default of machine precision times ``max(M, N)`` where M and N are the input matrix dimensions.\n",
      "To use the future default and silence this warning we advise to pass `rcond=None`, to keep using the old, explicitly pass `rcond=-1`.\n",
      "  betas = np.linalg.lstsq(X,Ct1)[0]\n"
     ]
    },
    {
     "name": "stdout",
     "output_type": "stream",
     "text": [
      "Warning: No Paths in the Money. Price May Round to Zero.\n",
      "Time : 1.110502004623413, Paths : 10 LSM Price Basis 2 : 0.0 LSM Price Basis 3 : 0.6210590090835313 LSM Price Basis 4 : 0.7197185803736327LSM RF Price : 0.8208006999751717 Repeat : 20\n",
      "Warning: No Paths in the Money. Price May Round to Zero.\n",
      "Warning: No Paths in the Money. Price May Round to Zero.\n"
     ]
    },
    {
     "name": "stderr",
     "output_type": "stream",
     "text": [
      "/Users/anthonymaylath/Documents/Schoolwork/NYU/High_Performance_Computing/Thesis/NYU_Machine_Learning_Project/pythonMC/proj_helpers/FinObj.py:359: FutureWarning: `rcond` parameter will change to the default of machine precision times ``max(M, N)`` where M and N are the input matrix dimensions.\n",
      "To use the future default and silence this warning we advise to pass `rcond=None`, to keep using the old, explicitly pass `rcond=-1`.\n",
      "  betas = np.linalg.lstsq(X,Ct1)[0]\n"
     ]
    },
    {
     "name": "stdout",
     "output_type": "stream",
     "text": [
      "Warning: No Paths in the Money. Price May Round to Zero.\n",
      "Time : 1.686007022857666, Paths : 10 LSM Price Basis 2 : 0.0 LSM Price Basis 3 : 0.6209994894773845 LSM Price Basis 4 : 0.5959526539075226LSM RF Price : 0.7200532092945248 Repeat : 21\n",
      "Warning: No Paths in the Money. Price May Round to Zero.\n",
      "Warning: No Paths in the Money. Price May Round to Zero.\n"
     ]
    },
    {
     "name": "stderr",
     "output_type": "stream",
     "text": [
      "/Users/anthonymaylath/Documents/Schoolwork/NYU/High_Performance_Computing/Thesis/NYU_Machine_Learning_Project/pythonMC/proj_helpers/FinObj.py:359: FutureWarning: `rcond` parameter will change to the default of machine precision times ``max(M, N)`` where M and N are the input matrix dimensions.\n",
      "To use the future default and silence this warning we advise to pass `rcond=None`, to keep using the old, explicitly pass `rcond=-1`.\n",
      "  betas = np.linalg.lstsq(X,Ct1)[0]\n"
     ]
    },
    {
     "name": "stdout",
     "output_type": "stream",
     "text": [
      "Warning: No Paths in the Money. Price May Round to Zero.\n",
      "Time : 1.2338581085205078, Paths : 10 LSM Price Basis 2 : 0.0 LSM Price Basis 3 : 0.7925686468792337 LSM Price Basis 4 : 0.4714388411141554LSM RF Price : 0.6717654399510588 Repeat : 22\n",
      "Warning: No Paths in the Money. Price May Round to Zero.\n",
      "Warning: No Paths in the Money. Price May Round to Zero.\n"
     ]
    },
    {
     "name": "stderr",
     "output_type": "stream",
     "text": [
      "/Users/anthonymaylath/Documents/Schoolwork/NYU/High_Performance_Computing/Thesis/NYU_Machine_Learning_Project/pythonMC/proj_helpers/FinObj.py:359: FutureWarning: `rcond` parameter will change to the default of machine precision times ``max(M, N)`` where M and N are the input matrix dimensions.\n",
      "To use the future default and silence this warning we advise to pass `rcond=None`, to keep using the old, explicitly pass `rcond=-1`.\n",
      "  betas = np.linalg.lstsq(X,Ct1)[0]\n"
     ]
    },
    {
     "name": "stdout",
     "output_type": "stream",
     "text": [
      "Warning: No Paths in the Money. Price May Round to Zero.\n",
      "Time : 1.0783162117004395, Paths : 10 LSM Price Basis 2 : 0.0 LSM Price Basis 3 : 0.7941881568913224 LSM Price Basis 4 : 0.7440934447821952LSM RF Price : 0.6213024930982068 Repeat : 23\n",
      "Warning: No Paths in the Money. Price May Round to Zero.\n"
     ]
    },
    {
     "name": "stderr",
     "output_type": "stream",
     "text": [
      "/Users/anthonymaylath/Documents/Schoolwork/NYU/High_Performance_Computing/Thesis/NYU_Machine_Learning_Project/pythonMC/proj_helpers/FinObj.py:359: FutureWarning: `rcond` parameter will change to the default of machine precision times ``max(M, N)`` where M and N are the input matrix dimensions.\n",
      "To use the future default and silence this warning we advise to pass `rcond=None`, to keep using the old, explicitly pass `rcond=-1`.\n",
      "  betas = np.linalg.lstsq(X,Ct1)[0]\n"
     ]
    },
    {
     "name": "stdout",
     "output_type": "stream",
     "text": [
      "Warning: No Paths in the Money. Price May Round to Zero.\n",
      "Warning: No Paths in the Money. Price May Round to Zero.\n",
      "Time : 1.5547089576721191, Paths : 10 LSM Price Basis 2 : 0.0 LSM Price Basis 3 : 0.6944904313723349 LSM Price Basis 4 : 0.7708848906004633LSM RF Price : 0.6218489310778741 Repeat : 24\n",
      "Warning: No Paths in the Money. Price May Round to Zero.\n",
      "Warning: No Paths in the Money. Price May Round to Zero.\n"
     ]
    },
    {
     "name": "stderr",
     "output_type": "stream",
     "text": [
      "/Users/anthonymaylath/Documents/Schoolwork/NYU/High_Performance_Computing/Thesis/NYU_Machine_Learning_Project/pythonMC/proj_helpers/FinObj.py:359: FutureWarning: `rcond` parameter will change to the default of machine precision times ``max(M, N)`` where M and N are the input matrix dimensions.\n",
      "To use the future default and silence this warning we advise to pass `rcond=None`, to keep using the old, explicitly pass `rcond=-1`.\n",
      "  betas = np.linalg.lstsq(X,Ct1)[0]\n"
     ]
    },
    {
     "name": "stdout",
     "output_type": "stream",
     "text": [
      "Warning: No Paths in the Money. Price May Round to Zero.\n",
      "Time : 1.3488349914550781, Paths : 10 LSM Price Basis 2 : 0.0 LSM Price Basis 3 : 0.7208559380007963 LSM Price Basis 4 : 0.5715718344959556LSM RF Price : 0.6709579805751208 Repeat : 25\n",
      "Warning: No Paths in the Money. Price May Round to Zero.\n"
     ]
    },
    {
     "name": "stderr",
     "output_type": "stream",
     "text": [
      "/Users/anthonymaylath/Documents/Schoolwork/NYU/High_Performance_Computing/Thesis/NYU_Machine_Learning_Project/pythonMC/proj_helpers/FinObj.py:359: FutureWarning: `rcond` parameter will change to the default of machine precision times ``max(M, N)`` where M and N are the input matrix dimensions.\n",
      "To use the future default and silence this warning we advise to pass `rcond=None`, to keep using the old, explicitly pass `rcond=-1`.\n",
      "  betas = np.linalg.lstsq(X,Ct1)[0]\n"
     ]
    },
    {
     "name": "stdout",
     "output_type": "stream",
     "text": [
      "Warning: No Paths in the Money. Price May Round to Zero.\n",
      "Warning: No Paths in the Money. Price May Round to Zero.\n",
      "Time : 1.3554141521453857, Paths : 10 LSM Price Basis 2 : 0.0 LSM Price Basis 3 : 0.6970802693949182 LSM Price Basis 4 : 0.8201631044354176LSM RF Price : 0.7701160236076061 Repeat : 26\n",
      "Warning: No Paths in the Money. Price May Round to Zero.\n",
      "Warning: No Paths in the Money. Price May Round to Zero.\n"
     ]
    },
    {
     "name": "stderr",
     "output_type": "stream",
     "text": [
      "/Users/anthonymaylath/Documents/Schoolwork/NYU/High_Performance_Computing/Thesis/NYU_Machine_Learning_Project/pythonMC/proj_helpers/FinObj.py:359: FutureWarning: `rcond` parameter will change to the default of machine precision times ``max(M, N)`` where M and N are the input matrix dimensions.\n",
      "To use the future default and silence this warning we advise to pass `rcond=None`, to keep using the old, explicitly pass `rcond=-1`.\n",
      "  betas = np.linalg.lstsq(X,Ct1)[0]\n"
     ]
    },
    {
     "name": "stdout",
     "output_type": "stream",
     "text": [
      "Warning: No Paths in the Money. Price May Round to Zero.\n",
      "Time : 1.151191234588623, Paths : 10 LSM Price Basis 2 : 0.0 LSM Price Basis 3 : 0.8200502790148718 LSM Price Basis 4 : 0.5726455051879091LSM RF Price : 0.6946482979662048 Repeat : 27\n",
      "Warning: No Paths in the Money. Price May Round to Zero.\n",
      "Warning: No Paths in the Money. Price May Round to Zero.\n"
     ]
    },
    {
     "name": "stderr",
     "output_type": "stream",
     "text": [
      "/Users/anthonymaylath/Documents/Schoolwork/NYU/High_Performance_Computing/Thesis/NYU_Machine_Learning_Project/pythonMC/proj_helpers/FinObj.py:359: FutureWarning: `rcond` parameter will change to the default of machine precision times ``max(M, N)`` where M and N are the input matrix dimensions.\n",
      "To use the future default and silence this warning we advise to pass `rcond=None`, to keep using the old, explicitly pass `rcond=-1`.\n",
      "  betas = np.linalg.lstsq(X,Ct1)[0]\n"
     ]
    },
    {
     "name": "stdout",
     "output_type": "stream",
     "text": [
      "Warning: No Paths in the Money. Price May Round to Zero.\n",
      "Time : 1.1193490028381348, Paths : 10 LSM Price Basis 2 : 0.0 LSM Price Basis 3 : 0.8186644512721555 LSM Price Basis 4 : 0.6191954098297123LSM RF Price : 0.5462075393002076 Repeat : 28\n",
      "Warning: No Paths in the Money. Price May Round to Zero.\n",
      "Warning: No Paths in the Money. Price May Round to Zero.\n"
     ]
    },
    {
     "name": "stderr",
     "output_type": "stream",
     "text": [
      "/Users/anthonymaylath/Documents/Schoolwork/NYU/High_Performance_Computing/Thesis/NYU_Machine_Learning_Project/pythonMC/proj_helpers/FinObj.py:359: FutureWarning: `rcond` parameter will change to the default of machine precision times ``max(M, N)`` where M and N are the input matrix dimensions.\n",
      "To use the future default and silence this warning we advise to pass `rcond=None`, to keep using the old, explicitly pass `rcond=-1`.\n",
      "  betas = np.linalg.lstsq(X,Ct1)[0]\n"
     ]
    },
    {
     "name": "stdout",
     "output_type": "stream",
     "text": [
      "Warning: No Paths in the Money. Price May Round to Zero.\n",
      "Time : 1.067781925201416, Paths : 10 LSM Price Basis 2 : 0.0 LSM Price Basis 3 : 0.771099068718649 LSM Price Basis 4 : 0.5979080487930812LSM RF Price : 0.6700435652972516 Repeat : 29\n",
      "Warning: No Paths in the Money. Price May Round to Zero.\n",
      "Warning: No Paths in the Money. Price May Round to Zero.\n"
     ]
    },
    {
     "name": "stderr",
     "output_type": "stream",
     "text": [
      "/Users/anthonymaylath/Documents/Schoolwork/NYU/High_Performance_Computing/Thesis/NYU_Machine_Learning_Project/pythonMC/proj_helpers/FinObj.py:359: FutureWarning: `rcond` parameter will change to the default of machine precision times ``max(M, N)`` where M and N are the input matrix dimensions.\n",
      "To use the future default and silence this warning we advise to pass `rcond=None`, to keep using the old, explicitly pass `rcond=-1`.\n",
      "  betas = np.linalg.lstsq(X,Ct1)[0]\n"
     ]
    },
    {
     "name": "stdout",
     "output_type": "stream",
     "text": [
      "Warning: No Paths in the Money. Price May Round to Zero.\n",
      "Time : 1.1774208545684814, Paths : 100 LSM Price Basis 2 : 0.0 LSM Price Basis 3 : 0.6558854956040081 LSM Price Basis 4 : 0.6580602837027562LSM RF Price : 0.6360218886318881 Repeat : 0\n",
      "Warning: No Paths in the Money. Price May Round to Zero.\n",
      "Warning: No Paths in the Money. Price May Round to Zero.\n"
     ]
    },
    {
     "name": "stderr",
     "output_type": "stream",
     "text": [
      "/Users/anthonymaylath/Documents/Schoolwork/NYU/High_Performance_Computing/Thesis/NYU_Machine_Learning_Project/pythonMC/proj_helpers/FinObj.py:359: FutureWarning: `rcond` parameter will change to the default of machine precision times ``max(M, N)`` where M and N are the input matrix dimensions.\n",
      "To use the future default and silence this warning we advise to pass `rcond=None`, to keep using the old, explicitly pass `rcond=-1`.\n",
      "  betas = np.linalg.lstsq(X,Ct1)[0]\n"
     ]
    },
    {
     "name": "stdout",
     "output_type": "stream",
     "text": [
      "Warning: No Paths in the Money. Price May Round to Zero.\n",
      "Time : 1.1864659786224365, Paths : 100 LSM Price Basis 2 : 0.0 LSM Price Basis 3 : 0.6804552305220263 LSM Price Basis 4 : 0.7230526467576126LSM RF Price : 0.6434667299749215 Repeat : 1\n"
     ]
    },
    {
     "name": "stderr",
     "output_type": "stream",
     "text": [
      "/Users/anthonymaylath/Documents/Schoolwork/NYU/High_Performance_Computing/Thesis/NYU_Machine_Learning_Project/pythonMC/proj_helpers/FinObj.py:359: FutureWarning: `rcond` parameter will change to the default of machine precision times ``max(M, N)`` where M and N are the input matrix dimensions.\n",
      "To use the future default and silence this warning we advise to pass `rcond=None`, to keep using the old, explicitly pass `rcond=-1`.\n",
      "  betas = np.linalg.lstsq(X,Ct1)[0]\n"
     ]
    },
    {
     "name": "stdout",
     "output_type": "stream",
     "text": [
      "Warning: No Paths in the Money. Price May Round to Zero.\n",
      "Time : 1.2040698528289795, Paths : 100 LSM Price Basis 2 : 0.0 LSM Price Basis 3 : 0.6807870066145838 LSM Price Basis 4 : 0.6484612843576566LSM RF Price : 0.6487805527251532 Repeat : 2\n",
      "Warning: No Paths in the Money. Price May Round to Zero.\n",
      "Warning: No Paths in the Money. Price May Round to Zero.\n"
     ]
    },
    {
     "name": "stderr",
     "output_type": "stream",
     "text": [
      "/Users/anthonymaylath/Documents/Schoolwork/NYU/High_Performance_Computing/Thesis/NYU_Machine_Learning_Project/pythonMC/proj_helpers/FinObj.py:359: FutureWarning: `rcond` parameter will change to the default of machine precision times ``max(M, N)`` where M and N are the input matrix dimensions.\n",
      "To use the future default and silence this warning we advise to pass `rcond=None`, to keep using the old, explicitly pass `rcond=-1`.\n",
      "  betas = np.linalg.lstsq(X,Ct1)[0]\n"
     ]
    },
    {
     "name": "stdout",
     "output_type": "stream",
     "text": [
      "Warning: No Paths in the Money. Price May Round to Zero.\n",
      "Time : 1.196340799331665, Paths : 100 LSM Price Basis 2 : 0.0 LSM Price Basis 3 : 0.6505114078692317 LSM Price Basis 4 : 0.63336039921319LSM RF Price : 0.6486120216160332 Repeat : 3\n",
      "Warning: No Paths in the Money. Price May Round to Zero.\n",
      "Warning: No Paths in the Money. Price May Round to Zero.\n"
     ]
    },
    {
     "name": "stderr",
     "output_type": "stream",
     "text": [
      "/Users/anthonymaylath/Documents/Schoolwork/NYU/High_Performance_Computing/Thesis/NYU_Machine_Learning_Project/pythonMC/proj_helpers/FinObj.py:359: FutureWarning: `rcond` parameter will change to the default of machine precision times ``max(M, N)`` where M and N are the input matrix dimensions.\n",
      "To use the future default and silence this warning we advise to pass `rcond=None`, to keep using the old, explicitly pass `rcond=-1`.\n",
      "  betas = np.linalg.lstsq(X,Ct1)[0]\n"
     ]
    },
    {
     "name": "stdout",
     "output_type": "stream",
     "text": [
      "Time : 1.2029759883880615, Paths : 100 LSM Price Basis 2 : 0.0 LSM Price Basis 3 : 0.6260396797755315 LSM Price Basis 4 : 0.6828994530090725LSM RF Price : 0.6512002301371271 Repeat : 4\n",
      "Warning: No Paths in the Money. Price May Round to Zero.\n",
      "Warning: No Paths in the Money. Price May Round to Zero.\n"
     ]
    },
    {
     "name": "stderr",
     "output_type": "stream",
     "text": [
      "/Users/anthonymaylath/Documents/Schoolwork/NYU/High_Performance_Computing/Thesis/NYU_Machine_Learning_Project/pythonMC/proj_helpers/FinObj.py:359: FutureWarning: `rcond` parameter will change to the default of machine precision times ``max(M, N)`` where M and N are the input matrix dimensions.\n",
      "To use the future default and silence this warning we advise to pass `rcond=None`, to keep using the old, explicitly pass `rcond=-1`.\n",
      "  betas = np.linalg.lstsq(X,Ct1)[0]\n"
     ]
    },
    {
     "name": "stdout",
     "output_type": "stream",
     "text": [
      "Warning: No Paths in the Money. Price May Round to Zero.\n",
      "Time : 1.2294750213623047, Paths : 100 LSM Price Basis 2 : 0.0 LSM Price Basis 3 : 0.578945186249438 LSM Price Basis 4 : 0.6604458503843762LSM RF Price : 0.6558573781490107 Repeat : 5\n",
      "Warning: No Paths in the Money. Price May Round to Zero.\n"
     ]
    },
    {
     "name": "stderr",
     "output_type": "stream",
     "text": [
      "/Users/anthonymaylath/Documents/Schoolwork/NYU/High_Performance_Computing/Thesis/NYU_Machine_Learning_Project/pythonMC/proj_helpers/FinObj.py:359: FutureWarning: `rcond` parameter will change to the default of machine precision times ``max(M, N)`` where M and N are the input matrix dimensions.\n",
      "To use the future default and silence this warning we advise to pass `rcond=None`, to keep using the old, explicitly pass `rcond=-1`.\n",
      "  betas = np.linalg.lstsq(X,Ct1)[0]\n"
     ]
    },
    {
     "name": "stdout",
     "output_type": "stream",
     "text": [
      "Warning: No Paths in the Money. Price May Round to Zero.\n",
      "Time : 1.2065680027008057, Paths : 100 LSM Price Basis 2 : 0.0 LSM Price Basis 3 : 0.6112353653171042 LSM Price Basis 4 : 0.6479858609225871LSM RF Price : 0.6332977982832828 Repeat : 6\n",
      "Warning: No Paths in the Money. Price May Round to Zero.\n",
      "Warning: No Paths in the Money. Price May Round to Zero.\n"
     ]
    },
    {
     "name": "stderr",
     "output_type": "stream",
     "text": [
      "/Users/anthonymaylath/Documents/Schoolwork/NYU/High_Performance_Computing/Thesis/NYU_Machine_Learning_Project/pythonMC/proj_helpers/FinObj.py:359: FutureWarning: `rcond` parameter will change to the default of machine precision times ``max(M, N)`` where M and N are the input matrix dimensions.\n",
      "To use the future default and silence this warning we advise to pass `rcond=None`, to keep using the old, explicitly pass `rcond=-1`.\n",
      "  betas = np.linalg.lstsq(X,Ct1)[0]\n"
     ]
    },
    {
     "name": "stdout",
     "output_type": "stream",
     "text": [
      "Warning: No Paths in the Money. Price May Round to Zero.\n",
      "Time : 1.188905954360962, Paths : 100 LSM Price Basis 2 : 0.0 LSM Price Basis 3 : 0.6307073893134456 LSM Price Basis 4 : 0.7077444571177022LSM RF Price : 0.653108284736351 Repeat : 7\n",
      "Warning: No Paths in the Money. Price May Round to Zero.\n",
      "Warning: No Paths in the Money. Price May Round to Zero.\n"
     ]
    },
    {
     "name": "stderr",
     "output_type": "stream",
     "text": [
      "/Users/anthonymaylath/Documents/Schoolwork/NYU/High_Performance_Computing/Thesis/NYU_Machine_Learning_Project/pythonMC/proj_helpers/FinObj.py:359: FutureWarning: `rcond` parameter will change to the default of machine precision times ``max(M, N)`` where M and N are the input matrix dimensions.\n",
      "To use the future default and silence this warning we advise to pass `rcond=None`, to keep using the old, explicitly pass `rcond=-1`.\n",
      "  betas = np.linalg.lstsq(X,Ct1)[0]\n"
     ]
    },
    {
     "name": "stdout",
     "output_type": "stream",
     "text": [
      "Warning: No Paths in the Money. Price May Round to Zero.\n",
      "Time : 1.1813421249389648, Paths : 100 LSM Price Basis 2 : 0.0 LSM Price Basis 3 : 0.703143795002742 LSM Price Basis 4 : 0.6625304102623388LSM RF Price : 0.6404489786368849 Repeat : 8\n",
      "Warning: No Paths in the Money. Price May Round to Zero.\n",
      "Warning: No Paths in the Money. Price May Round to Zero.\n"
     ]
    },
    {
     "name": "stderr",
     "output_type": "stream",
     "text": [
      "/Users/anthonymaylath/Documents/Schoolwork/NYU/High_Performance_Computing/Thesis/NYU_Machine_Learning_Project/pythonMC/proj_helpers/FinObj.py:359: FutureWarning: `rcond` parameter will change to the default of machine precision times ``max(M, N)`` where M and N are the input matrix dimensions.\n",
      "To use the future default and silence this warning we advise to pass `rcond=None`, to keep using the old, explicitly pass `rcond=-1`.\n",
      "  betas = np.linalg.lstsq(X,Ct1)[0]\n"
     ]
    },
    {
     "name": "stdout",
     "output_type": "stream",
     "text": [
      "Warning: No Paths in the Money. Price May Round to Zero.\n",
      "Time : 1.1744158267974854, Paths : 100 LSM Price Basis 2 : 0.0 LSM Price Basis 3 : 0.6630152266238547 LSM Price Basis 4 : 0.6382340517679972LSM RF Price : 0.6860042892410348 Repeat : 9\n",
      "Warning: No Paths in the Money. Price May Round to Zero.\n",
      "Warning: No Paths in the Money. Price May Round to Zero.\n"
     ]
    },
    {
     "name": "stderr",
     "output_type": "stream",
     "text": [
      "/Users/anthonymaylath/Documents/Schoolwork/NYU/High_Performance_Computing/Thesis/NYU_Machine_Learning_Project/pythonMC/proj_helpers/FinObj.py:359: FutureWarning: `rcond` parameter will change to the default of machine precision times ``max(M, N)`` where M and N are the input matrix dimensions.\n",
      "To use the future default and silence this warning we advise to pass `rcond=None`, to keep using the old, explicitly pass `rcond=-1`.\n",
      "  betas = np.linalg.lstsq(X,Ct1)[0]\n"
     ]
    },
    {
     "name": "stdout",
     "output_type": "stream",
     "text": [
      "Warning: No Paths in the Money. Price May Round to Zero.\n",
      "Time : 1.188727855682373, Paths : 100 LSM Price Basis 2 : 0.0 LSM Price Basis 3 : 0.6235151265327741 LSM Price Basis 4 : 0.6378961748400824LSM RF Price : 0.6110205978167396 Repeat : 10\n",
      "Warning: No Paths in the Money. Price May Round to Zero.\n",
      "Warning: No Paths in the Money. Price May Round to Zero.\n"
     ]
    },
    {
     "name": "stderr",
     "output_type": "stream",
     "text": [
      "/Users/anthonymaylath/Documents/Schoolwork/NYU/High_Performance_Computing/Thesis/NYU_Machine_Learning_Project/pythonMC/proj_helpers/FinObj.py:359: FutureWarning: `rcond` parameter will change to the default of machine precision times ``max(M, N)`` where M and N are the input matrix dimensions.\n",
      "To use the future default and silence this warning we advise to pass `rcond=None`, to keep using the old, explicitly pass `rcond=-1`.\n",
      "  betas = np.linalg.lstsq(X,Ct1)[0]\n"
     ]
    },
    {
     "name": "stdout",
     "output_type": "stream",
     "text": [
      "Warning: No Paths in the Money. Price May Round to Zero.\n",
      "Time : 1.1728031635284424, Paths : 100 LSM Price Basis 2 : 0.0 LSM Price Basis 3 : 0.6481808179684276 LSM Price Basis 4 : 0.6286560945380597LSM RF Price : 0.656021691288531 Repeat : 11\n",
      "Warning: No Paths in the Money. Price May Round to Zero.\n",
      "Warning: No Paths in the Money. Price May Round to Zero.\n"
     ]
    },
    {
     "name": "stderr",
     "output_type": "stream",
     "text": [
      "/Users/anthonymaylath/Documents/Schoolwork/NYU/High_Performance_Computing/Thesis/NYU_Machine_Learning_Project/pythonMC/proj_helpers/FinObj.py:359: FutureWarning: `rcond` parameter will change to the default of machine precision times ``max(M, N)`` where M and N are the input matrix dimensions.\n",
      "To use the future default and silence this warning we advise to pass `rcond=None`, to keep using the old, explicitly pass `rcond=-1`.\n",
      "  betas = np.linalg.lstsq(X,Ct1)[0]\n"
     ]
    },
    {
     "name": "stdout",
     "output_type": "stream",
     "text": [
      "Warning: No Paths in the Money. Price May Round to Zero.\n",
      "Time : 1.1818339824676514, Paths : 100 LSM Price Basis 2 : 0.0 LSM Price Basis 3 : 0.6504489880239808 LSM Price Basis 4 : 0.6654824334758266LSM RF Price : 0.6690536515577324 Repeat : 12\n",
      "Warning: No Paths in the Money. Price May Round to Zero.\n",
      "Warning: No Paths in the Money. Price May Round to Zero.\n"
     ]
    },
    {
     "name": "stderr",
     "output_type": "stream",
     "text": [
      "/Users/anthonymaylath/Documents/Schoolwork/NYU/High_Performance_Computing/Thesis/NYU_Machine_Learning_Project/pythonMC/proj_helpers/FinObj.py:359: FutureWarning: `rcond` parameter will change to the default of machine precision times ``max(M, N)`` where M and N are the input matrix dimensions.\n",
      "To use the future default and silence this warning we advise to pass `rcond=None`, to keep using the old, explicitly pass `rcond=-1`.\n",
      "  betas = np.linalg.lstsq(X,Ct1)[0]\n"
     ]
    },
    {
     "name": "stdout",
     "output_type": "stream",
     "text": [
      "Warning: No Paths in the Money. Price May Round to Zero.\n",
      "Time : 1.1692039966583252, Paths : 100 LSM Price Basis 2 : 0.0 LSM Price Basis 3 : 0.6058041547359878 LSM Price Basis 4 : 0.6832003181242615LSM RF Price : 0.6111160000801651 Repeat : 13\n",
      "Warning: No Paths in the Money. Price May Round to Zero.\n",
      "Warning: No Paths in the Money. Price May Round to Zero.\n"
     ]
    },
    {
     "name": "stderr",
     "output_type": "stream",
     "text": [
      "/Users/anthonymaylath/Documents/Schoolwork/NYU/High_Performance_Computing/Thesis/NYU_Machine_Learning_Project/pythonMC/proj_helpers/FinObj.py:359: FutureWarning: `rcond` parameter will change to the default of machine precision times ``max(M, N)`` where M and N are the input matrix dimensions.\n",
      "To use the future default and silence this warning we advise to pass `rcond=None`, to keep using the old, explicitly pass `rcond=-1`.\n",
      "  betas = np.linalg.lstsq(X,Ct1)[0]\n"
     ]
    },
    {
     "name": "stdout",
     "output_type": "stream",
     "text": [
      "Warning: No Paths in the Money. Price May Round to Zero.\n",
      "Time : 1.208820104598999, Paths : 100 LSM Price Basis 2 : 0.0 LSM Price Basis 3 : 0.6708212257865526 LSM Price Basis 4 : 0.6975340522478578LSM RF Price : 0.6954620685394903 Repeat : 14\n",
      "Warning: No Paths in the Money. Price May Round to Zero.\n"
     ]
    },
    {
     "name": "stderr",
     "output_type": "stream",
     "text": [
      "/Users/anthonymaylath/Documents/Schoolwork/NYU/High_Performance_Computing/Thesis/NYU_Machine_Learning_Project/pythonMC/proj_helpers/FinObj.py:359: FutureWarning: `rcond` parameter will change to the default of machine precision times ``max(M, N)`` where M and N are the input matrix dimensions.\n",
      "To use the future default and silence this warning we advise to pass `rcond=None`, to keep using the old, explicitly pass `rcond=-1`.\n",
      "  betas = np.linalg.lstsq(X,Ct1)[0]\n"
     ]
    },
    {
     "name": "stdout",
     "output_type": "stream",
     "text": [
      "Warning: No Paths in the Money. Price May Round to Zero.\n",
      "Time : 1.1728551387786865, Paths : 100 LSM Price Basis 2 : 0.0 LSM Price Basis 3 : 0.6505635359756571 LSM Price Basis 4 : 0.6757423886737028LSM RF Price : 0.5815157781127263 Repeat : 15\n",
      "Warning: No Paths in the Money. Price May Round to Zero.\n"
     ]
    },
    {
     "name": "stderr",
     "output_type": "stream",
     "text": [
      "/Users/anthonymaylath/Documents/Schoolwork/NYU/High_Performance_Computing/Thesis/NYU_Machine_Learning_Project/pythonMC/proj_helpers/FinObj.py:359: FutureWarning: `rcond` parameter will change to the default of machine precision times ``max(M, N)`` where M and N are the input matrix dimensions.\n",
      "To use the future default and silence this warning we advise to pass `rcond=None`, to keep using the old, explicitly pass `rcond=-1`.\n",
      "  betas = np.linalg.lstsq(X,Ct1)[0]\n"
     ]
    },
    {
     "name": "stdout",
     "output_type": "stream",
     "text": [
      "Warning: No Paths in the Money. Price May Round to Zero.\n",
      "Time : 1.1767706871032715, Paths : 100 LSM Price Basis 2 : 0.0 LSM Price Basis 3 : 0.6657828117533223 LSM Price Basis 4 : 0.6802349640757346LSM RF Price : 0.7127289246369395 Repeat : 16\n",
      "Warning: No Paths in the Money. Price May Round to Zero.\n"
     ]
    },
    {
     "name": "stderr",
     "output_type": "stream",
     "text": [
      "/Users/anthonymaylath/Documents/Schoolwork/NYU/High_Performance_Computing/Thesis/NYU_Machine_Learning_Project/pythonMC/proj_helpers/FinObj.py:359: FutureWarning: `rcond` parameter will change to the default of machine precision times ``max(M, N)`` where M and N are the input matrix dimensions.\n",
      "To use the future default and silence this warning we advise to pass `rcond=None`, to keep using the old, explicitly pass `rcond=-1`.\n",
      "  betas = np.linalg.lstsq(X,Ct1)[0]\n"
     ]
    },
    {
     "name": "stdout",
     "output_type": "stream",
     "text": [
      "Warning: No Paths in the Money. Price May Round to Zero.\n",
      "Time : 1.175210952758789, Paths : 100 LSM Price Basis 2 : 0.0 LSM Price Basis 3 : 0.682899168036976 LSM Price Basis 4 : 0.6808886006350338LSM RF Price : 0.6635228067525105 Repeat : 17\n",
      "Warning: No Paths in the Money. Price May Round to Zero.\n",
      "Warning: No Paths in the Money. Price May Round to Zero.\n"
     ]
    },
    {
     "name": "stderr",
     "output_type": "stream",
     "text": [
      "/Users/anthonymaylath/Documents/Schoolwork/NYU/High_Performance_Computing/Thesis/NYU_Machine_Learning_Project/pythonMC/proj_helpers/FinObj.py:359: FutureWarning: `rcond` parameter will change to the default of machine precision times ``max(M, N)`` where M and N are the input matrix dimensions.\n",
      "To use the future default and silence this warning we advise to pass `rcond=None`, to keep using the old, explicitly pass `rcond=-1`.\n",
      "  betas = np.linalg.lstsq(X,Ct1)[0]\n"
     ]
    },
    {
     "name": "stdout",
     "output_type": "stream",
     "text": [
      "Warning: No Paths in the Money. Price May Round to Zero.\n",
      "Time : 1.1740632057189941, Paths : 100 LSM Price Basis 2 : 0.0 LSM Price Basis 3 : 0.6307206885717034 LSM Price Basis 4 : 0.5810921400284623LSM RF Price : 0.6631827994103151 Repeat : 18\n",
      "Warning: No Paths in the Money. Price May Round to Zero.\n",
      "Warning: No Paths in the Money. Price May Round to Zero.\n"
     ]
    },
    {
     "name": "stderr",
     "output_type": "stream",
     "text": [
      "/Users/anthonymaylath/Documents/Schoolwork/NYU/High_Performance_Computing/Thesis/NYU_Machine_Learning_Project/pythonMC/proj_helpers/FinObj.py:359: FutureWarning: `rcond` parameter will change to the default of machine precision times ``max(M, N)`` where M and N are the input matrix dimensions.\n",
      "To use the future default and silence this warning we advise to pass `rcond=None`, to keep using the old, explicitly pass `rcond=-1`.\n",
      "  betas = np.linalg.lstsq(X,Ct1)[0]\n"
     ]
    },
    {
     "name": "stdout",
     "output_type": "stream",
     "text": [
      "Time : 1.1711399555206299, Paths : 100 LSM Price Basis 2 : 0.0 LSM Price Basis 3 : 0.6630634701656365 LSM Price Basis 4 : 0.7096881725044097LSM RF Price : 0.6632151578365479 Repeat : 19\n",
      "Warning: No Paths in the Money. Price May Round to Zero.\n",
      "Warning: No Paths in the Money. Price May Round to Zero.\n"
     ]
    },
    {
     "name": "stderr",
     "output_type": "stream",
     "text": [
      "/Users/anthonymaylath/Documents/Schoolwork/NYU/High_Performance_Computing/Thesis/NYU_Machine_Learning_Project/pythonMC/proj_helpers/FinObj.py:359: FutureWarning: `rcond` parameter will change to the default of machine precision times ``max(M, N)`` where M and N are the input matrix dimensions.\n",
      "To use the future default and silence this warning we advise to pass `rcond=None`, to keep using the old, explicitly pass `rcond=-1`.\n",
      "  betas = np.linalg.lstsq(X,Ct1)[0]\n"
     ]
    },
    {
     "name": "stdout",
     "output_type": "stream",
     "text": [
      "Warning: No Paths in the Money. Price May Round to Zero.\n",
      "Time : 1.1747548580169678, Paths : 100 LSM Price Basis 2 : 0.0 LSM Price Basis 3 : 0.6902193637130734 LSM Price Basis 4 : 0.6853591521215805LSM RF Price : 0.5985359171869696 Repeat : 20\n",
      "Warning: No Paths in the Money. Price May Round to Zero.\n"
     ]
    },
    {
     "name": "stderr",
     "output_type": "stream",
     "text": [
      "/Users/anthonymaylath/Documents/Schoolwork/NYU/High_Performance_Computing/Thesis/NYU_Machine_Learning_Project/pythonMC/proj_helpers/FinObj.py:359: FutureWarning: `rcond` parameter will change to the default of machine precision times ``max(M, N)`` where M and N are the input matrix dimensions.\n",
      "To use the future default and silence this warning we advise to pass `rcond=None`, to keep using the old, explicitly pass `rcond=-1`.\n",
      "  betas = np.linalg.lstsq(X,Ct1)[0]\n"
     ]
    },
    {
     "name": "stdout",
     "output_type": "stream",
     "text": [
      "Warning: No Paths in the Money. Price May Round to Zero.\n",
      "Time : 1.1749849319458008, Paths : 100 LSM Price Basis 2 : 0.0 LSM Price Basis 3 : 0.6310432569502464 LSM Price Basis 4 : 0.638738793519062LSM RF Price : 0.6632332105769976 Repeat : 21\n",
      "Warning: No Paths in the Money. Price May Round to Zero.\n",
      "Warning: No Paths in the Money. Price May Round to Zero.\n"
     ]
    },
    {
     "name": "stderr",
     "output_type": "stream",
     "text": [
      "/Users/anthonymaylath/Documents/Schoolwork/NYU/High_Performance_Computing/Thesis/NYU_Machine_Learning_Project/pythonMC/proj_helpers/FinObj.py:359: FutureWarning: `rcond` parameter will change to the default of machine precision times ``max(M, N)`` where M and N are the input matrix dimensions.\n",
      "To use the future default and silence this warning we advise to pass `rcond=None`, to keep using the old, explicitly pass `rcond=-1`.\n",
      "  betas = np.linalg.lstsq(X,Ct1)[0]\n"
     ]
    },
    {
     "name": "stdout",
     "output_type": "stream",
     "text": [
      "Warning: No Paths in the Money. Price May Round to Zero.\n",
      "Time : 1.4421639442443848, Paths : 100 LSM Price Basis 2 : 0.0 LSM Price Basis 3 : 0.6136385484517245 LSM Price Basis 4 : 0.6700821078473679LSM RF Price : 0.665619097200281 Repeat : 22\n",
      "Warning: No Paths in the Money. Price May Round to Zero.\n"
     ]
    },
    {
     "name": "stderr",
     "output_type": "stream",
     "text": [
      "/Users/anthonymaylath/Documents/Schoolwork/NYU/High_Performance_Computing/Thesis/NYU_Machine_Learning_Project/pythonMC/proj_helpers/FinObj.py:359: FutureWarning: `rcond` parameter will change to the default of machine precision times ``max(M, N)`` where M and N are the input matrix dimensions.\n",
      "To use the future default and silence this warning we advise to pass `rcond=None`, to keep using the old, explicitly pass `rcond=-1`.\n",
      "  betas = np.linalg.lstsq(X,Ct1)[0]\n"
     ]
    },
    {
     "name": "stdout",
     "output_type": "stream",
     "text": [
      "Warning: No Paths in the Money. Price May Round to Zero.\n",
      "Warning: No Paths in the Money. Price May Round to Zero.\n",
      "Time : 1.2787830829620361, Paths : 100 LSM Price Basis 2 : 0.0 LSM Price Basis 3 : 0.5513320609465834 LSM Price Basis 4 : 0.6135036040267653LSM RF Price : 0.6959387361618101 Repeat : 23\n",
      "Warning: No Paths in the Money. Price May Round to Zero.\n"
     ]
    },
    {
     "name": "stderr",
     "output_type": "stream",
     "text": [
      "/Users/anthonymaylath/Documents/Schoolwork/NYU/High_Performance_Computing/Thesis/NYU_Machine_Learning_Project/pythonMC/proj_helpers/FinObj.py:359: FutureWarning: `rcond` parameter will change to the default of machine precision times ``max(M, N)`` where M and N are the input matrix dimensions.\n",
      "To use the future default and silence this warning we advise to pass `rcond=None`, to keep using the old, explicitly pass `rcond=-1`.\n",
      "  betas = np.linalg.lstsq(X,Ct1)[0]\n"
     ]
    },
    {
     "name": "stdout",
     "output_type": "stream",
     "text": [
      "Warning: No Paths in the Money. Price May Round to Zero.\n",
      "Time : 1.2261130809783936, Paths : 100 LSM Price Basis 2 : 0.0 LSM Price Basis 3 : 0.6955930001610863 LSM Price Basis 4 : 0.7125406244271947LSM RF Price : 0.6430001549721435 Repeat : 24\n",
      "Warning: No Paths in the Money. Price May Round to Zero.\n",
      "Warning: No Paths in the Money. Price May Round to Zero.\n"
     ]
    },
    {
     "name": "stderr",
     "output_type": "stream",
     "text": [
      "/Users/anthonymaylath/Documents/Schoolwork/NYU/High_Performance_Computing/Thesis/NYU_Machine_Learning_Project/pythonMC/proj_helpers/FinObj.py:359: FutureWarning: `rcond` parameter will change to the default of machine precision times ``max(M, N)`` where M and N are the input matrix dimensions.\n",
      "To use the future default and silence this warning we advise to pass `rcond=None`, to keep using the old, explicitly pass `rcond=-1`.\n",
      "  betas = np.linalg.lstsq(X,Ct1)[0]\n"
     ]
    },
    {
     "name": "stdout",
     "output_type": "stream",
     "text": [
      "Warning: No Paths in the Money. Price May Round to Zero.\n",
      "Time : 1.266772985458374, Paths : 100 LSM Price Basis 2 : 0.0 LSM Price Basis 3 : 0.6302178436383801 LSM Price Basis 4 : 0.6179805281621642LSM RF Price : 0.681007540463576 Repeat : 25\n",
      "Warning: No Paths in the Money. Price May Round to Zero.\n",
      "Warning: No Paths in the Money. Price May Round to Zero.\n"
     ]
    },
    {
     "name": "stderr",
     "output_type": "stream",
     "text": [
      "/Users/anthonymaylath/Documents/Schoolwork/NYU/High_Performance_Computing/Thesis/NYU_Machine_Learning_Project/pythonMC/proj_helpers/FinObj.py:359: FutureWarning: `rcond` parameter will change to the default of machine precision times ``max(M, N)`` where M and N are the input matrix dimensions.\n",
      "To use the future default and silence this warning we advise to pass `rcond=None`, to keep using the old, explicitly pass `rcond=-1`.\n",
      "  betas = np.linalg.lstsq(X,Ct1)[0]\n"
     ]
    },
    {
     "name": "stdout",
     "output_type": "stream",
     "text": [
      "Warning: No Paths in the Money. Price May Round to Zero.\n",
      "Time : 1.1840169429779053, Paths : 100 LSM Price Basis 2 : 0.0 LSM Price Basis 3 : 0.6384154851530218 LSM Price Basis 4 : 0.6952038093295744LSM RF Price : 0.6735370928813242 Repeat : 26\n",
      "Warning: No Paths in the Money. Price May Round to Zero.\n",
      "Warning: No Paths in the Money. Price May Round to Zero.\n"
     ]
    },
    {
     "name": "stderr",
     "output_type": "stream",
     "text": [
      "/Users/anthonymaylath/Documents/Schoolwork/NYU/High_Performance_Computing/Thesis/NYU_Machine_Learning_Project/pythonMC/proj_helpers/FinObj.py:359: FutureWarning: `rcond` parameter will change to the default of machine precision times ``max(M, N)`` where M and N are the input matrix dimensions.\n",
      "To use the future default and silence this warning we advise to pass `rcond=None`, to keep using the old, explicitly pass `rcond=-1`.\n",
      "  betas = np.linalg.lstsq(X,Ct1)[0]\n"
     ]
    },
    {
     "name": "stdout",
     "output_type": "stream",
     "text": [
      "Time : 1.199894905090332, Paths : 100 LSM Price Basis 2 : 0.0 LSM Price Basis 3 : 0.7082440910473514 LSM Price Basis 4 : 0.6629918997235998LSM RF Price : 0.673214754512957 Repeat : 27\n",
      "Warning: No Paths in the Money. Price May Round to Zero.\n",
      "Warning: No Paths in the Money. Price May Round to Zero.\n"
     ]
    },
    {
     "name": "stderr",
     "output_type": "stream",
     "text": [
      "/Users/anthonymaylath/Documents/Schoolwork/NYU/High_Performance_Computing/Thesis/NYU_Machine_Learning_Project/pythonMC/proj_helpers/FinObj.py:359: FutureWarning: `rcond` parameter will change to the default of machine precision times ``max(M, N)`` where M and N are the input matrix dimensions.\n",
      "To use the future default and silence this warning we advise to pass `rcond=None`, to keep using the old, explicitly pass `rcond=-1`.\n",
      "  betas = np.linalg.lstsq(X,Ct1)[0]\n"
     ]
    },
    {
     "name": "stdout",
     "output_type": "stream",
     "text": [
      "Warning: No Paths in the Money. Price May Round to Zero.\n",
      "Time : 1.2180171012878418, Paths : 100 LSM Price Basis 2 : 0.0 LSM Price Basis 3 : 0.6184504674807407 LSM Price Basis 4 : 0.6911680585307574LSM RF Price : 0.6581509796866514 Repeat : 28\n",
      "Warning: No Paths in the Money. Price May Round to Zero.\n",
      "Warning: No Paths in the Money. Price May Round to Zero.\n"
     ]
    },
    {
     "name": "stderr",
     "output_type": "stream",
     "text": [
      "/Users/anthonymaylath/Documents/Schoolwork/NYU/High_Performance_Computing/Thesis/NYU_Machine_Learning_Project/pythonMC/proj_helpers/FinObj.py:359: FutureWarning: `rcond` parameter will change to the default of machine precision times ``max(M, N)`` where M and N are the input matrix dimensions.\n",
      "To use the future default and silence this warning we advise to pass `rcond=None`, to keep using the old, explicitly pass `rcond=-1`.\n",
      "  betas = np.linalg.lstsq(X,Ct1)[0]\n"
     ]
    },
    {
     "name": "stdout",
     "output_type": "stream",
     "text": [
      "Warning: No Paths in the Money. Price May Round to Zero.\n",
      "Time : 1.2460658550262451, Paths : 100 LSM Price Basis 2 : 0.0 LSM Price Basis 3 : 0.6430764960258499 LSM Price Basis 4 : 0.6680908910499513LSM RF Price : 0.6511538278139133 Repeat : 29\n",
      "Warning: No Paths in the Money. Price May Round to Zero.\n"
     ]
    },
    {
     "name": "stderr",
     "output_type": "stream",
     "text": [
      "/Users/anthonymaylath/Documents/Schoolwork/NYU/High_Performance_Computing/Thesis/NYU_Machine_Learning_Project/pythonMC/proj_helpers/FinObj.py:359: FutureWarning: `rcond` parameter will change to the default of machine precision times ``max(M, N)`` where M and N are the input matrix dimensions.\n",
      "To use the future default and silence this warning we advise to pass `rcond=None`, to keep using the old, explicitly pass `rcond=-1`.\n",
      "  betas = np.linalg.lstsq(X,Ct1)[0]\n"
     ]
    },
    {
     "name": "stdout",
     "output_type": "stream",
     "text": [
      "Warning: No Paths in the Money. Price May Round to Zero.\n",
      "Time : 1.483747959136963, Paths : 250 LSM Price Basis 2 : 0.0 LSM Price Basis 3 : 0.6397216130303464 LSM Price Basis 4 : 0.621102309693622LSM RF Price : 0.6351786181688752 Repeat : 0\n",
      "Warning: No Paths in the Money. Price May Round to Zero.\n"
     ]
    },
    {
     "name": "stderr",
     "output_type": "stream",
     "text": [
      "/Users/anthonymaylath/Documents/Schoolwork/NYU/High_Performance_Computing/Thesis/NYU_Machine_Learning_Project/pythonMC/proj_helpers/FinObj.py:359: FutureWarning: `rcond` parameter will change to the default of machine precision times ``max(M, N)`` where M and N are the input matrix dimensions.\n",
      "To use the future default and silence this warning we advise to pass `rcond=None`, to keep using the old, explicitly pass `rcond=-1`.\n",
      "  betas = np.linalg.lstsq(X,Ct1)[0]\n"
     ]
    },
    {
     "name": "stdout",
     "output_type": "stream",
     "text": [
      "Warning: No Paths in the Money. Price May Round to Zero.\n",
      "Time : 2.008859872817993, Paths : 250 LSM Price Basis 2 : 0.0 LSM Price Basis 3 : 0.6436549189050447 LSM Price Basis 4 : 0.607846806945485LSM RF Price : 0.6655743972002525 Repeat : 1\n",
      "Warning: No Paths in the Money. Price May Round to Zero.\n"
     ]
    },
    {
     "name": "stderr",
     "output_type": "stream",
     "text": [
      "/Users/anthonymaylath/Documents/Schoolwork/NYU/High_Performance_Computing/Thesis/NYU_Machine_Learning_Project/pythonMC/proj_helpers/FinObj.py:359: FutureWarning: `rcond` parameter will change to the default of machine precision times ``max(M, N)`` where M and N are the input matrix dimensions.\n",
      "To use the future default and silence this warning we advise to pass `rcond=None`, to keep using the old, explicitly pass `rcond=-1`.\n",
      "  betas = np.linalg.lstsq(X,Ct1)[0]\n"
     ]
    },
    {
     "name": "stdout",
     "output_type": "stream",
     "text": [
      "Warning: No Paths in the Money. Price May Round to Zero.\n",
      "Time : 1.9993648529052734, Paths : 250 LSM Price Basis 2 : 0.0 LSM Price Basis 3 : 0.6397332123991372 LSM Price Basis 4 : 0.6499042058134481LSM RF Price : 0.6637020098756594 Repeat : 2\n",
      "Warning: No Paths in the Money. Price May Round to Zero.\n",
      "Warning: No Paths in the Money. Price May Round to Zero.\n"
     ]
    },
    {
     "name": "stderr",
     "output_type": "stream",
     "text": [
      "/Users/anthonymaylath/Documents/Schoolwork/NYU/High_Performance_Computing/Thesis/NYU_Machine_Learning_Project/pythonMC/proj_helpers/FinObj.py:359: FutureWarning: `rcond` parameter will change to the default of machine precision times ``max(M, N)`` where M and N are the input matrix dimensions.\n",
      "To use the future default and silence this warning we advise to pass `rcond=None`, to keep using the old, explicitly pass `rcond=-1`.\n",
      "  betas = np.linalg.lstsq(X,Ct1)[0]\n"
     ]
    },
    {
     "name": "stdout",
     "output_type": "stream",
     "text": [
      "Warning: No Paths in the Money. Price May Round to Zero.\n",
      "Time : 1.272244930267334, Paths : 250 LSM Price Basis 2 : 0.0 LSM Price Basis 3 : 0.645862388814136 LSM Price Basis 4 : 0.6360013403602698LSM RF Price : 0.6589548436849969 Repeat : 3\n",
      "Warning: No Paths in the Money. Price May Round to Zero.\n"
     ]
    },
    {
     "name": "stderr",
     "output_type": "stream",
     "text": [
      "/Users/anthonymaylath/Documents/Schoolwork/NYU/High_Performance_Computing/Thesis/NYU_Machine_Learning_Project/pythonMC/proj_helpers/FinObj.py:359: FutureWarning: `rcond` parameter will change to the default of machine precision times ``max(M, N)`` where M and N are the input matrix dimensions.\n",
      "To use the future default and silence this warning we advise to pass `rcond=None`, to keep using the old, explicitly pass `rcond=-1`.\n",
      "  betas = np.linalg.lstsq(X,Ct1)[0]\n"
     ]
    },
    {
     "name": "stdout",
     "output_type": "stream",
     "text": [
      "Warning: No Paths in the Money. Price May Round to Zero.\n",
      "Time : 1.2781600952148438, Paths : 250 LSM Price Basis 2 : 0.0 LSM Price Basis 3 : 0.6479240330574966 LSM Price Basis 4 : 0.6407855573740078LSM RF Price : 0.6211592772081961 Repeat : 4\n",
      "Warning: No Paths in the Money. Price May Round to Zero.\n"
     ]
    },
    {
     "name": "stderr",
     "output_type": "stream",
     "text": [
      "/Users/anthonymaylath/Documents/Schoolwork/NYU/High_Performance_Computing/Thesis/NYU_Machine_Learning_Project/pythonMC/proj_helpers/FinObj.py:359: FutureWarning: `rcond` parameter will change to the default of machine precision times ``max(M, N)`` where M and N are the input matrix dimensions.\n",
      "To use the future default and silence this warning we advise to pass `rcond=None`, to keep using the old, explicitly pass `rcond=-1`.\n",
      "  betas = np.linalg.lstsq(X,Ct1)[0]\n"
     ]
    },
    {
     "name": "stdout",
     "output_type": "stream",
     "text": [
      "Warning: No Paths in the Money. Price May Round to Zero.\n",
      "Warning: No Paths in the Money. Price May Round to Zero.\n",
      "Time : 1.6133008003234863, Paths : 250 LSM Price Basis 2 : 0.0 LSM Price Basis 3 : 0.6101756422407969 LSM Price Basis 4 : 0.6271621796170296LSM RF Price : 0.6211216834497731 Repeat : 5\n",
      "Warning: No Paths in the Money. Price May Round to Zero.\n"
     ]
    },
    {
     "name": "stderr",
     "output_type": "stream",
     "text": [
      "/Users/anthonymaylath/Documents/Schoolwork/NYU/High_Performance_Computing/Thesis/NYU_Machine_Learning_Project/pythonMC/proj_helpers/FinObj.py:359: FutureWarning: `rcond` parameter will change to the default of machine precision times ``max(M, N)`` where M and N are the input matrix dimensions.\n",
      "To use the future default and silence this warning we advise to pass `rcond=None`, to keep using the old, explicitly pass `rcond=-1`.\n",
      "  betas = np.linalg.lstsq(X,Ct1)[0]\n"
     ]
    },
    {
     "name": "stdout",
     "output_type": "stream",
     "text": [
      "Time : 1.2803280353546143, Paths : 250 LSM Price Basis 2 : 0.0 LSM Price Basis 3 : 0.6557749688921009 LSM Price Basis 4 : 0.6300431994717731LSM RF Price : 0.6327793689374179 Repeat : 6\n",
      "Warning: No Paths in the Money. Price May Round to Zero.\n",
      "Warning: No Paths in the Money. Price May Round to Zero.\n"
     ]
    },
    {
     "name": "stderr",
     "output_type": "stream",
     "text": [
      "/Users/anthonymaylath/Documents/Schoolwork/NYU/High_Performance_Computing/Thesis/NYU_Machine_Learning_Project/pythonMC/proj_helpers/FinObj.py:359: FutureWarning: `rcond` parameter will change to the default of machine precision times ``max(M, N)`` where M and N are the input matrix dimensions.\n",
      "To use the future default and silence this warning we advise to pass `rcond=None`, to keep using the old, explicitly pass `rcond=-1`.\n",
      "  betas = np.linalg.lstsq(X,Ct1)[0]\n"
     ]
    },
    {
     "name": "stdout",
     "output_type": "stream",
     "text": [
      "Warning: No Paths in the Money. Price May Round to Zero.\n",
      "Time : 1.2263007164001465, Paths : 250 LSM Price Basis 2 : 0.0 LSM Price Basis 3 : 0.6646998973414052 LSM Price Basis 4 : 0.6458322313371487LSM RF Price : 0.6656224615194544 Repeat : 7\n",
      "Warning: No Paths in the Money. Price May Round to Zero.\n",
      "Warning: No Paths in the Money. Price May Round to Zero.\n"
     ]
    },
    {
     "name": "stderr",
     "output_type": "stream",
     "text": [
      "/Users/anthonymaylath/Documents/Schoolwork/NYU/High_Performance_Computing/Thesis/NYU_Machine_Learning_Project/pythonMC/proj_helpers/FinObj.py:359: FutureWarning: `rcond` parameter will change to the default of machine precision times ``max(M, N)`` where M and N are the input matrix dimensions.\n",
      "To use the future default and silence this warning we advise to pass `rcond=None`, to keep using the old, explicitly pass `rcond=-1`.\n",
      "  betas = np.linalg.lstsq(X,Ct1)[0]\n"
     ]
    },
    {
     "name": "stdout",
     "output_type": "stream",
     "text": [
      "Time : 1.2186501026153564, Paths : 250 LSM Price Basis 2 : 0.0 LSM Price Basis 3 : 0.623090312986383 LSM Price Basis 4 : 0.6593066310404541LSM RF Price : 0.6887085769886045 Repeat : 8\n",
      "Warning: No Paths in the Money. Price May Round to Zero.\n"
     ]
    },
    {
     "name": "stderr",
     "output_type": "stream",
     "text": [
      "/Users/anthonymaylath/Documents/Schoolwork/NYU/High_Performance_Computing/Thesis/NYU_Machine_Learning_Project/pythonMC/proj_helpers/FinObj.py:359: FutureWarning: `rcond` parameter will change to the default of machine precision times ``max(M, N)`` where M and N are the input matrix dimensions.\n",
      "To use the future default and silence this warning we advise to pass `rcond=None`, to keep using the old, explicitly pass `rcond=-1`.\n",
      "  betas = np.linalg.lstsq(X,Ct1)[0]\n"
     ]
    },
    {
     "name": "stdout",
     "output_type": "stream",
     "text": [
      "Warning: No Paths in the Money. Price May Round to Zero.\n",
      "Time : 1.204331636428833, Paths : 250 LSM Price Basis 2 : 0.0 LSM Price Basis 3 : 0.6337772898041639 LSM Price Basis 4 : 0.6407574296220704LSM RF Price : 0.6597219363542777 Repeat : 9\n",
      "Warning: No Paths in the Money. Price May Round to Zero.\n"
     ]
    },
    {
     "name": "stderr",
     "output_type": "stream",
     "text": [
      "/Users/anthonymaylath/Documents/Schoolwork/NYU/High_Performance_Computing/Thesis/NYU_Machine_Learning_Project/pythonMC/proj_helpers/FinObj.py:359: FutureWarning: `rcond` parameter will change to the default of machine precision times ``max(M, N)`` where M and N are the input matrix dimensions.\n",
      "To use the future default and silence this warning we advise to pass `rcond=None`, to keep using the old, explicitly pass `rcond=-1`.\n",
      "  betas = np.linalg.lstsq(X,Ct1)[0]\n"
     ]
    },
    {
     "name": "stdout",
     "output_type": "stream",
     "text": [
      "Warning: No Paths in the Money. Price May Round to Zero.\n",
      "Time : 1.1978130340576172, Paths : 250 LSM Price Basis 2 : 0.0 LSM Price Basis 3 : 0.6519080788681053 LSM Price Basis 4 : 0.6269671242792947LSM RF Price : 0.6190527125087072 Repeat : 10\n",
      "Warning: No Paths in the Money. Price May Round to Zero.\n",
      "Warning: No Paths in the Money. Price May Round to Zero.\n"
     ]
    },
    {
     "name": "stderr",
     "output_type": "stream",
     "text": [
      "/Users/anthonymaylath/Documents/Schoolwork/NYU/High_Performance_Computing/Thesis/NYU_Machine_Learning_Project/pythonMC/proj_helpers/FinObj.py:359: FutureWarning: `rcond` parameter will change to the default of machine precision times ``max(M, N)`` where M and N are the input matrix dimensions.\n",
      "To use the future default and silence this warning we advise to pass `rcond=None`, to keep using the old, explicitly pass `rcond=-1`.\n",
      "  betas = np.linalg.lstsq(X,Ct1)[0]\n"
     ]
    },
    {
     "name": "stdout",
     "output_type": "stream",
     "text": [
      "Warning: No Paths in the Money. Price May Round to Zero.\n",
      "Time : 1.277392864227295, Paths : 250 LSM Price Basis 2 : 0.0 LSM Price Basis 3 : 0.624445623080769 LSM Price Basis 4 : 0.6329848487064671LSM RF Price : 0.6736667142873357 Repeat : 11\n",
      "Warning: No Paths in the Money. Price May Round to Zero.\n",
      "Warning: No Paths in the Money. Price May Round to Zero.\n"
     ]
    },
    {
     "name": "stderr",
     "output_type": "stream",
     "text": [
      "/Users/anthonymaylath/Documents/Schoolwork/NYU/High_Performance_Computing/Thesis/NYU_Machine_Learning_Project/pythonMC/proj_helpers/FinObj.py:359: FutureWarning: `rcond` parameter will change to the default of machine precision times ``max(M, N)`` where M and N are the input matrix dimensions.\n",
      "To use the future default and silence this warning we advise to pass `rcond=None`, to keep using the old, explicitly pass `rcond=-1`.\n",
      "  betas = np.linalg.lstsq(X,Ct1)[0]\n"
     ]
    },
    {
     "name": "stdout",
     "output_type": "stream",
     "text": [
      "Time : 1.3331468105316162, Paths : 250 LSM Price Basis 2 : 0.0 LSM Price Basis 3 : 0.6330494861074539 LSM Price Basis 4 : 0.6543234608430444LSM RF Price : 0.6680386177058406 Repeat : 12\n",
      "Warning: No Paths in the Money. Price May Round to Zero.\n"
     ]
    },
    {
     "name": "stderr",
     "output_type": "stream",
     "text": [
      "/Users/anthonymaylath/Documents/Schoolwork/NYU/High_Performance_Computing/Thesis/NYU_Machine_Learning_Project/pythonMC/proj_helpers/FinObj.py:359: FutureWarning: `rcond` parameter will change to the default of machine precision times ``max(M, N)`` where M and N are the input matrix dimensions.\n",
      "To use the future default and silence this warning we advise to pass `rcond=None`, to keep using the old, explicitly pass `rcond=-1`.\n",
      "  betas = np.linalg.lstsq(X,Ct1)[0]\n"
     ]
    },
    {
     "name": "stdout",
     "output_type": "stream",
     "text": [
      "Warning: No Paths in the Money. Price May Round to Zero.\n",
      "Time : 1.5995831489562988, Paths : 250 LSM Price Basis 2 : 0.0 LSM Price Basis 3 : 0.6537241232348951 LSM Price Basis 4 : 0.6261288541362956LSM RF Price : 0.6180156824397759 Repeat : 13\n",
      "Warning: No Paths in the Money. Price May Round to Zero.\n"
     ]
    },
    {
     "name": "stderr",
     "output_type": "stream",
     "text": [
      "/Users/anthonymaylath/Documents/Schoolwork/NYU/High_Performance_Computing/Thesis/NYU_Machine_Learning_Project/pythonMC/proj_helpers/FinObj.py:359: FutureWarning: `rcond` parameter will change to the default of machine precision times ``max(M, N)`` where M and N are the input matrix dimensions.\n",
      "To use the future default and silence this warning we advise to pass `rcond=None`, to keep using the old, explicitly pass `rcond=-1`.\n",
      "  betas = np.linalg.lstsq(X,Ct1)[0]\n"
     ]
    },
    {
     "name": "stdout",
     "output_type": "stream",
     "text": [
      "Warning: No Paths in the Money. Price May Round to Zero.\n",
      "Time : 1.961172103881836, Paths : 250 LSM Price Basis 2 : 0.0 LSM Price Basis 3 : 0.630295652189126 LSM Price Basis 4 : 0.6347786820395926LSM RF Price : 0.6575087009301676 Repeat : 14\n",
      "Warning: No Paths in the Money. Price May Round to Zero.\n",
      "Warning: No Paths in the Money. Price May Round to Zero.\n"
     ]
    },
    {
     "name": "stderr",
     "output_type": "stream",
     "text": [
      "/Users/anthonymaylath/Documents/Schoolwork/NYU/High_Performance_Computing/Thesis/NYU_Machine_Learning_Project/pythonMC/proj_helpers/FinObj.py:359: FutureWarning: `rcond` parameter will change to the default of machine precision times ``max(M, N)`` where M and N are the input matrix dimensions.\n",
      "To use the future default and silence this warning we advise to pass `rcond=None`, to keep using the old, explicitly pass `rcond=-1`.\n",
      "  betas = np.linalg.lstsq(X,Ct1)[0]\n"
     ]
    },
    {
     "name": "stdout",
     "output_type": "stream",
     "text": [
      "Warning: No Paths in the Money. Price May Round to Zero.\n",
      "Time : 1.2395310401916504, Paths : 250 LSM Price Basis 2 : 0.0 LSM Price Basis 3 : 0.6516038503096935 LSM Price Basis 4 : 0.6247945046112324LSM RF Price : 0.6547747471761957 Repeat : 15\n",
      "Warning: No Paths in the Money. Price May Round to Zero.\n"
     ]
    },
    {
     "name": "stderr",
     "output_type": "stream",
     "text": [
      "/Users/anthonymaylath/Documents/Schoolwork/NYU/High_Performance_Computing/Thesis/NYU_Machine_Learning_Project/pythonMC/proj_helpers/FinObj.py:359: FutureWarning: `rcond` parameter will change to the default of machine precision times ``max(M, N)`` where M and N are the input matrix dimensions.\n",
      "To use the future default and silence this warning we advise to pass `rcond=None`, to keep using the old, explicitly pass `rcond=-1`.\n",
      "  betas = np.linalg.lstsq(X,Ct1)[0]\n"
     ]
    },
    {
     "name": "stdout",
     "output_type": "stream",
     "text": [
      "Time : 1.372818946838379, Paths : 250 LSM Price Basis 2 : 0.0 LSM Price Basis 3 : 0.6862999572046472 LSM Price Basis 4 : 0.6180075038175298LSM RF Price : 0.6398133493633594 Repeat : 16\n",
      "Warning: No Paths in the Money. Price May Round to Zero.\n",
      "Warning: No Paths in the Money. Price May Round to Zero.\n"
     ]
    },
    {
     "name": "stderr",
     "output_type": "stream",
     "text": [
      "/Users/anthonymaylath/Documents/Schoolwork/NYU/High_Performance_Computing/Thesis/NYU_Machine_Learning_Project/pythonMC/proj_helpers/FinObj.py:359: FutureWarning: `rcond` parameter will change to the default of machine precision times ``max(M, N)`` where M and N are the input matrix dimensions.\n",
      "To use the future default and silence this warning we advise to pass `rcond=None`, to keep using the old, explicitly pass `rcond=-1`.\n",
      "  betas = np.linalg.lstsq(X,Ct1)[0]\n"
     ]
    },
    {
     "name": "stdout",
     "output_type": "stream",
     "text": [
      "Warning: No Paths in the Money. Price May Round to Zero.\n",
      "Time : 1.7762219905853271, Paths : 250 LSM Price Basis 2 : 0.0 LSM Price Basis 3 : 0.6427417915795204 LSM Price Basis 4 : 0.6857748488990806LSM RF Price : 0.6129006530450399 Repeat : 17\n",
      "Warning: No Paths in the Money. Price May Round to Zero.\n"
     ]
    },
    {
     "name": "stderr",
     "output_type": "stream",
     "text": [
      "/Users/anthonymaylath/Documents/Schoolwork/NYU/High_Performance_Computing/Thesis/NYU_Machine_Learning_Project/pythonMC/proj_helpers/FinObj.py:359: FutureWarning: `rcond` parameter will change to the default of machine precision times ``max(M, N)`` where M and N are the input matrix dimensions.\n",
      "To use the future default and silence this warning we advise to pass `rcond=None`, to keep using the old, explicitly pass `rcond=-1`.\n",
      "  betas = np.linalg.lstsq(X,Ct1)[0]\n"
     ]
    },
    {
     "name": "stdout",
     "output_type": "stream",
     "text": [
      "Warning: No Paths in the Money. Price May Round to Zero.\n",
      "Time : 1.3268983364105225, Paths : 250 LSM Price Basis 2 : 0.0 LSM Price Basis 3 : 0.6494644485759732 LSM Price Basis 4 : 0.6087534922903972LSM RF Price : 0.6385708749634961 Repeat : 18\n",
      "Warning: No Paths in the Money. Price May Round to Zero.\n",
      "Warning: No Paths in the Money. Price May Round to Zero.\n"
     ]
    },
    {
     "name": "stderr",
     "output_type": "stream",
     "text": [
      "/Users/anthonymaylath/Documents/Schoolwork/NYU/High_Performance_Computing/Thesis/NYU_Machine_Learning_Project/pythonMC/proj_helpers/FinObj.py:359: FutureWarning: `rcond` parameter will change to the default of machine precision times ``max(M, N)`` where M and N are the input matrix dimensions.\n",
      "To use the future default and silence this warning we advise to pass `rcond=None`, to keep using the old, explicitly pass `rcond=-1`.\n",
      "  betas = np.linalg.lstsq(X,Ct1)[0]\n"
     ]
    },
    {
     "name": "stdout",
     "output_type": "stream",
     "text": [
      "Warning: No Paths in the Money. Price May Round to Zero.\n",
      "Time : 1.4059789180755615, Paths : 250 LSM Price Basis 2 : 0.0 LSM Price Basis 3 : 0.6101400901022244 LSM Price Basis 4 : 0.662491648848329LSM RF Price : 0.6578992626261059 Repeat : 19\n",
      "Warning: No Paths in the Money. Price May Round to Zero.\n",
      "Warning: No Paths in the Money. Price May Round to Zero.\n"
     ]
    },
    {
     "name": "stderr",
     "output_type": "stream",
     "text": [
      "/Users/anthonymaylath/Documents/Schoolwork/NYU/High_Performance_Computing/Thesis/NYU_Machine_Learning_Project/pythonMC/proj_helpers/FinObj.py:359: FutureWarning: `rcond` parameter will change to the default of machine precision times ``max(M, N)`` where M and N are the input matrix dimensions.\n",
      "To use the future default and silence this warning we advise to pass `rcond=None`, to keep using the old, explicitly pass `rcond=-1`.\n",
      "  betas = np.linalg.lstsq(X,Ct1)[0]\n"
     ]
    },
    {
     "name": "stdout",
     "output_type": "stream",
     "text": [
      "Warning: No Paths in the Money. Price May Round to Zero.\n",
      "Time : 1.3546791076660156, Paths : 250 LSM Price Basis 2 : 0.0 LSM Price Basis 3 : 0.6258746419777065 LSM Price Basis 4 : 0.655816463279458LSM RF Price : 0.659807134675048 Repeat : 20\n",
      "Warning: No Paths in the Money. Price May Round to Zero.\n"
     ]
    },
    {
     "name": "stderr",
     "output_type": "stream",
     "text": [
      "/Users/anthonymaylath/Documents/Schoolwork/NYU/High_Performance_Computing/Thesis/NYU_Machine_Learning_Project/pythonMC/proj_helpers/FinObj.py:359: FutureWarning: `rcond` parameter will change to the default of machine precision times ``max(M, N)`` where M and N are the input matrix dimensions.\n",
      "To use the future default and silence this warning we advise to pass `rcond=None`, to keep using the old, explicitly pass `rcond=-1`.\n",
      "  betas = np.linalg.lstsq(X,Ct1)[0]\n"
     ]
    },
    {
     "name": "stdout",
     "output_type": "stream",
     "text": [
      "Warning: No Paths in the Money. Price May Round to Zero.\n",
      "Time : 1.2781052589416504, Paths : 250 LSM Price Basis 2 : 0.0 LSM Price Basis 3 : 0.6359685570104395 LSM Price Basis 4 : 0.6455732472011048LSM RF Price : 0.6350525063134946 Repeat : 21\n",
      "Warning: No Paths in the Money. Price May Round to Zero.\n",
      "Warning: No Paths in the Money. Price May Round to Zero.\n"
     ]
    },
    {
     "name": "stderr",
     "output_type": "stream",
     "text": [
      "/Users/anthonymaylath/Documents/Schoolwork/NYU/High_Performance_Computing/Thesis/NYU_Machine_Learning_Project/pythonMC/proj_helpers/FinObj.py:359: FutureWarning: `rcond` parameter will change to the default of machine precision times ``max(M, N)`` where M and N are the input matrix dimensions.\n",
      "To use the future default and silence this warning we advise to pass `rcond=None`, to keep using the old, explicitly pass `rcond=-1`.\n",
      "  betas = np.linalg.lstsq(X,Ct1)[0]\n"
     ]
    },
    {
     "name": "stdout",
     "output_type": "stream",
     "text": [
      "Warning: No Paths in the Money. Price May Round to Zero.\n",
      "Time : 1.2268102169036865, Paths : 250 LSM Price Basis 2 : 0.0 LSM Price Basis 3 : 0.6071342433274236 LSM Price Basis 4 : 0.6468784480740292LSM RF Price : 0.6350807130142946 Repeat : 22\n",
      "Warning: No Paths in the Money. Price May Round to Zero.\n",
      "Warning: No Paths in the Money. Price May Round to Zero.\n"
     ]
    },
    {
     "name": "stderr",
     "output_type": "stream",
     "text": [
      "/Users/anthonymaylath/Documents/Schoolwork/NYU/High_Performance_Computing/Thesis/NYU_Machine_Learning_Project/pythonMC/proj_helpers/FinObj.py:359: FutureWarning: `rcond` parameter will change to the default of machine precision times ``max(M, N)`` where M and N are the input matrix dimensions.\n",
      "To use the future default and silence this warning we advise to pass `rcond=None`, to keep using the old, explicitly pass `rcond=-1`.\n",
      "  betas = np.linalg.lstsq(X,Ct1)[0]\n"
     ]
    },
    {
     "name": "stdout",
     "output_type": "stream",
     "text": [
      "Time : 1.2298388481140137, Paths : 250 LSM Price Basis 2 : 0.0 LSM Price Basis 3 : 0.630206009410439 LSM Price Basis 4 : 0.627891140198987LSM RF Price : 0.6544593567095435 Repeat : 23\n",
      "Warning: No Paths in the Money. Price May Round to Zero.\n"
     ]
    },
    {
     "name": "stderr",
     "output_type": "stream",
     "text": [
      "/Users/anthonymaylath/Documents/Schoolwork/NYU/High_Performance_Computing/Thesis/NYU_Machine_Learning_Project/pythonMC/proj_helpers/FinObj.py:359: FutureWarning: `rcond` parameter will change to the default of machine precision times ``max(M, N)`` where M and N are the input matrix dimensions.\n",
      "To use the future default and silence this warning we advise to pass `rcond=None`, to keep using the old, explicitly pass `rcond=-1`.\n",
      "  betas = np.linalg.lstsq(X,Ct1)[0]\n"
     ]
    },
    {
     "name": "stdout",
     "output_type": "stream",
     "text": [
      "Warning: No Paths in the Money. Price May Round to Zero.\n",
      "Time : 1.4430010318756104, Paths : 250 LSM Price Basis 2 : 0.0 LSM Price Basis 3 : 0.640785150279041 LSM Price Basis 4 : 0.6477627256297456LSM RF Price : 0.651901985518525 Repeat : 24\n",
      "Warning: No Paths in the Money. Price May Round to Zero.\n"
     ]
    },
    {
     "name": "stderr",
     "output_type": "stream",
     "text": [
      "/Users/anthonymaylath/Documents/Schoolwork/NYU/High_Performance_Computing/Thesis/NYU_Machine_Learning_Project/pythonMC/proj_helpers/FinObj.py:359: FutureWarning: `rcond` parameter will change to the default of machine precision times ``max(M, N)`` where M and N are the input matrix dimensions.\n",
      "To use the future default and silence this warning we advise to pass `rcond=None`, to keep using the old, explicitly pass `rcond=-1`.\n",
      "  betas = np.linalg.lstsq(X,Ct1)[0]\n"
     ]
    },
    {
     "name": "stdout",
     "output_type": "stream",
     "text": [
      "Warning: No Paths in the Money. Price May Round to Zero.\n",
      "Time : 1.5262861251831055, Paths : 250 LSM Price Basis 2 : 0.0 LSM Price Basis 3 : 0.6180020584283533 LSM Price Basis 4 : 0.651572303132534LSM RF Price : 0.61871565754542 Repeat : 25\n",
      "Warning: No Paths in the Money. Price May Round to Zero.\n",
      "Warning: No Paths in the Money. Price May Round to Zero.\n"
     ]
    },
    {
     "name": "stderr",
     "output_type": "stream",
     "text": [
      "/Users/anthonymaylath/Documents/Schoolwork/NYU/High_Performance_Computing/Thesis/NYU_Machine_Learning_Project/pythonMC/proj_helpers/FinObj.py:359: FutureWarning: `rcond` parameter will change to the default of machine precision times ``max(M, N)`` where M and N are the input matrix dimensions.\n",
      "To use the future default and silence this warning we advise to pass `rcond=None`, to keep using the old, explicitly pass `rcond=-1`.\n",
      "  betas = np.linalg.lstsq(X,Ct1)[0]\n"
     ]
    },
    {
     "name": "stdout",
     "output_type": "stream",
     "text": [
      "Warning: No Paths in the Money. Price May Round to Zero.\n",
      "Time : 1.3463568687438965, Paths : 250 LSM Price Basis 2 : 0.0 LSM Price Basis 3 : 0.6100134836533224 LSM Price Basis 4 : 0.6228003913306764LSM RF Price : 0.6431202875947724 Repeat : 26\n"
     ]
    },
    {
     "name": "stderr",
     "output_type": "stream",
     "text": [
      "/Users/anthonymaylath/Documents/Schoolwork/NYU/High_Performance_Computing/Thesis/NYU_Machine_Learning_Project/pythonMC/proj_helpers/FinObj.py:359: FutureWarning: `rcond` parameter will change to the default of machine precision times ``max(M, N)`` where M and N are the input matrix dimensions.\n",
      "To use the future default and silence this warning we advise to pass `rcond=None`, to keep using the old, explicitly pass `rcond=-1`.\n",
      "  betas = np.linalg.lstsq(X,Ct1)[0]\n"
     ]
    },
    {
     "name": "stdout",
     "output_type": "stream",
     "text": [
      "Warning: No Paths in the Money. Price May Round to Zero.\n",
      "Warning: No Paths in the Money. Price May Round to Zero.\n",
      "Time : 1.8465900421142578, Paths : 250 LSM Price Basis 2 : 0.0 LSM Price Basis 3 : 0.6459832775476274 LSM Price Basis 4 : 0.6500591782319068LSM RF Price : 0.6386938789991042 Repeat : 27\n",
      "Warning: No Paths in the Money. Price May Round to Zero.\n"
     ]
    },
    {
     "name": "stderr",
     "output_type": "stream",
     "text": [
      "/Users/anthonymaylath/Documents/Schoolwork/NYU/High_Performance_Computing/Thesis/NYU_Machine_Learning_Project/pythonMC/proj_helpers/FinObj.py:359: FutureWarning: `rcond` parameter will change to the default of machine precision times ``max(M, N)`` where M and N are the input matrix dimensions.\n",
      "To use the future default and silence this warning we advise to pass `rcond=None`, to keep using the old, explicitly pass `rcond=-1`.\n",
      "  betas = np.linalg.lstsq(X,Ct1)[0]\n"
     ]
    },
    {
     "name": "stdout",
     "output_type": "stream",
     "text": [
      "Warning: No Paths in the Money. Price May Round to Zero.\n",
      "Warning: No Paths in the Money. Price May Round to Zero.\n",
      "Time : 1.5526659488677979, Paths : 250 LSM Price Basis 2 : 0.0 LSM Price Basis 3 : 0.6627994359547144 LSM Price Basis 4 : 0.6617459483135719LSM RF Price : 0.6131388118025202 Repeat : 28\n",
      "Warning: No Paths in the Money. Price May Round to Zero."
     ]
    },
    {
     "name": "stderr",
     "output_type": "stream",
     "text": [
      "/Users/anthonymaylath/Documents/Schoolwork/NYU/High_Performance_Computing/Thesis/NYU_Machine_Learning_Project/pythonMC/proj_helpers/FinObj.py:359: FutureWarning: `rcond` parameter will change to the default of machine precision times ``max(M, N)`` where M and N are the input matrix dimensions.\n",
      "To use the future default and silence this warning we advise to pass `rcond=None`, to keep using the old, explicitly pass `rcond=-1`.\n",
      "  betas = np.linalg.lstsq(X,Ct1)[0]\n"
     ]
    },
    {
     "name": "stdout",
     "output_type": "stream",
     "text": [
      "\n",
      "Warning: No Paths in the Money. Price May Round to Zero.\n",
      "Time : 2.118330240249634, Paths : 250 LSM Price Basis 2 : 0.0 LSM Price Basis 3 : 0.6260780899921813 LSM Price Basis 4 : 0.6418482830652504LSM RF Price : 0.6379591468185672 Repeat : 29\n"
     ]
    },
    {
     "name": "stderr",
     "output_type": "stream",
     "text": [
      "/Users/anthonymaylath/Documents/Schoolwork/NYU/High_Performance_Computing/Thesis/NYU_Machine_Learning_Project/pythonMC/proj_helpers/FinObj.py:359: FutureWarning: `rcond` parameter will change to the default of machine precision times ``max(M, N)`` where M and N are the input matrix dimensions.\n",
      "To use the future default and silence this warning we advise to pass `rcond=None`, to keep using the old, explicitly pass `rcond=-1`.\n",
      "  betas = np.linalg.lstsq(X,Ct1)[0]\n"
     ]
    },
    {
     "name": "stdout",
     "output_type": "stream",
     "text": [
      "Time : 1.614124059677124, Paths : 500 LSM Price Basis 2 : 0.0 LSM Price Basis 3 : 0.6452677822440546 LSM Price Basis 4 : 0.6117446438905217LSM RF Price : 0.6433202625397043 Repeat : 0\n",
      "Warning: No Paths in the Money. Price May Round to Zero.\n"
     ]
    },
    {
     "name": "stderr",
     "output_type": "stream",
     "text": [
      "/Users/anthonymaylath/Documents/Schoolwork/NYU/High_Performance_Computing/Thesis/NYU_Machine_Learning_Project/pythonMC/proj_helpers/FinObj.py:359: FutureWarning: `rcond` parameter will change to the default of machine precision times ``max(M, N)`` where M and N are the input matrix dimensions.\n",
      "To use the future default and silence this warning we advise to pass `rcond=None`, to keep using the old, explicitly pass `rcond=-1`.\n",
      "  betas = np.linalg.lstsq(X,Ct1)[0]\n"
     ]
    },
    {
     "name": "stdout",
     "output_type": "stream",
     "text": [
      "Warning: No Paths in the Money. Price May Round to Zero.\n",
      "Time : 1.7051219940185547, Paths : 500 LSM Price Basis 2 : 0.0 LSM Price Basis 3 : 0.6504834104715986 LSM Price Basis 4 : 0.6159163971425048LSM RF Price : 0.6483754537440563 Repeat : 1\n",
      "Warning: No Paths in the Money. Price May Round to Zero.\n",
      "Warning: No Paths in the Money. Price May Round to Zero.\n"
     ]
    },
    {
     "name": "stderr",
     "output_type": "stream",
     "text": [
      "/Users/anthonymaylath/Documents/Schoolwork/NYU/High_Performance_Computing/Thesis/NYU_Machine_Learning_Project/pythonMC/proj_helpers/FinObj.py:359: FutureWarning: `rcond` parameter will change to the default of machine precision times ``max(M, N)`` where M and N are the input matrix dimensions.\n",
      "To use the future default and silence this warning we advise to pass `rcond=None`, to keep using the old, explicitly pass `rcond=-1`.\n",
      "  betas = np.linalg.lstsq(X,Ct1)[0]\n"
     ]
    },
    {
     "name": "stdout",
     "output_type": "stream",
     "text": [
      "Warning: No Paths in the Money. Price May Round to Zero.\n",
      "Time : 1.4329090118408203, Paths : 500 LSM Price Basis 2 : 0.0 LSM Price Basis 3 : 0.6300112368238874 LSM Price Basis 4 : 0.6492320820577915LSM RF Price : 0.6303995526204708 Repeat : 2\n",
      "Warning: No Paths in the Money. Price May Round to Zero.\n",
      "Warning: No Paths in the Money. Price May Round to Zero.\n"
     ]
    },
    {
     "name": "stderr",
     "output_type": "stream",
     "text": [
      "/Users/anthonymaylath/Documents/Schoolwork/NYU/High_Performance_Computing/Thesis/NYU_Machine_Learning_Project/pythonMC/proj_helpers/FinObj.py:359: FutureWarning: `rcond` parameter will change to the default of machine precision times ``max(M, N)`` where M and N are the input matrix dimensions.\n",
      "To use the future default and silence this warning we advise to pass `rcond=None`, to keep using the old, explicitly pass `rcond=-1`.\n",
      "  betas = np.linalg.lstsq(X,Ct1)[0]\n"
     ]
    },
    {
     "name": "stdout",
     "output_type": "stream",
     "text": [
      "Warning: No Paths in the Money. Price May Round to Zero.\n",
      "Time : 1.372391939163208, Paths : 500 LSM Price Basis 2 : 0.0 LSM Price Basis 3 : 0.6200598997954969 LSM Price Basis 4 : 0.6598399015488817LSM RF Price : 0.6234075785552565 Repeat : 3\n",
      "Warning: No Paths in the Money. Price May Round to Zero.\n"
     ]
    },
    {
     "name": "stderr",
     "output_type": "stream",
     "text": [
      "/Users/anthonymaylath/Documents/Schoolwork/NYU/High_Performance_Computing/Thesis/NYU_Machine_Learning_Project/pythonMC/proj_helpers/FinObj.py:359: FutureWarning: `rcond` parameter will change to the default of machine precision times ``max(M, N)`` where M and N are the input matrix dimensions.\n",
      "To use the future default and silence this warning we advise to pass `rcond=None`, to keep using the old, explicitly pass `rcond=-1`.\n",
      "  betas = np.linalg.lstsq(X,Ct1)[0]\n"
     ]
    },
    {
     "name": "stdout",
     "output_type": "stream",
     "text": [
      "Warning: No Paths in the Money. Price May Round to Zero.\n",
      "Time : 1.4547500610351562, Paths : 500 LSM Price Basis 2 : 0.0 LSM Price Basis 3 : 0.6349060004219612 LSM Price Basis 4 : 0.6070364582929774LSM RF Price : 0.6721076783860437 Repeat : 4\n",
      "Warning: No Paths in the Money. Price May Round to Zero.\n"
     ]
    },
    {
     "name": "stderr",
     "output_type": "stream",
     "text": [
      "/Users/anthonymaylath/Documents/Schoolwork/NYU/High_Performance_Computing/Thesis/NYU_Machine_Learning_Project/pythonMC/proj_helpers/FinObj.py:359: FutureWarning: `rcond` parameter will change to the default of machine precision times ``max(M, N)`` where M and N are the input matrix dimensions.\n",
      "To use the future default and silence this warning we advise to pass `rcond=None`, to keep using the old, explicitly pass `rcond=-1`.\n",
      "  betas = np.linalg.lstsq(X,Ct1)[0]\n"
     ]
    },
    {
     "name": "stdout",
     "output_type": "stream",
     "text": [
      "Warning: No Paths in the Money. Price May Round to Zero.\n",
      "Warning: No Paths in the Money. Price May Round to Zero.\n",
      "Time : 1.4674618244171143, Paths : 500 LSM Price Basis 2 : 0.0 LSM Price Basis 3 : 0.6407353576154546 LSM Price Basis 4 : 0.6362278465059445LSM RF Price : 0.6632308049888898 Repeat : 5\n"
     ]
    },
    {
     "name": "stderr",
     "output_type": "stream",
     "text": [
      "/Users/anthonymaylath/Documents/Schoolwork/NYU/High_Performance_Computing/Thesis/NYU_Machine_Learning_Project/pythonMC/proj_helpers/FinObj.py:359: FutureWarning: `rcond` parameter will change to the default of machine precision times ``max(M, N)`` where M and N are the input matrix dimensions.\n",
      "To use the future default and silence this warning we advise to pass `rcond=None`, to keep using the old, explicitly pass `rcond=-1`.\n",
      "  betas = np.linalg.lstsq(X,Ct1)[0]\n"
     ]
    },
    {
     "name": "stdout",
     "output_type": "stream",
     "text": [
      "Warning: No Paths in the Money. Price May Round to Zero.\n",
      "Warning: No Paths in the Money. Price May Round to Zero.\n",
      "Time : 1.6209478378295898, Paths : 500 LSM Price Basis 2 : 0.0 LSM Price Basis 3 : 0.6436458505699673 LSM Price Basis 4 : 0.6373909836226517LSM RF Price : 0.6600674636780623 Repeat : 6\n",
      "Warning: No Paths in the Money. Price May Round to Zero.\n"
     ]
    },
    {
     "name": "stderr",
     "output_type": "stream",
     "text": [
      "/Users/anthonymaylath/Documents/Schoolwork/NYU/High_Performance_Computing/Thesis/NYU_Machine_Learning_Project/pythonMC/proj_helpers/FinObj.py:359: FutureWarning: `rcond` parameter will change to the default of machine precision times ``max(M, N)`` where M and N are the input matrix dimensions.\n",
      "To use the future default and silence this warning we advise to pass `rcond=None`, to keep using the old, explicitly pass `rcond=-1`.\n",
      "  betas = np.linalg.lstsq(X,Ct1)[0]\n"
     ]
    },
    {
     "name": "stdout",
     "output_type": "stream",
     "text": [
      "Time : 1.5253820419311523, Paths : 500 LSM Price Basis 2 : 0.0 LSM Price Basis 3 : 0.6498922557794344 LSM Price Basis 4 : 0.6396937425331817LSM RF Price : 0.6573690469157147 Repeat : 7\n",
      "Warning: No Paths in the Money. Price May Round to Zero.\n"
     ]
    },
    {
     "name": "stderr",
     "output_type": "stream",
     "text": [
      "/Users/anthonymaylath/Documents/Schoolwork/NYU/High_Performance_Computing/Thesis/NYU_Machine_Learning_Project/pythonMC/proj_helpers/FinObj.py:359: FutureWarning: `rcond` parameter will change to the default of machine precision times ``max(M, N)`` where M and N are the input matrix dimensions.\n",
      "To use the future default and silence this warning we advise to pass `rcond=None`, to keep using the old, explicitly pass `rcond=-1`.\n",
      "  betas = np.linalg.lstsq(X,Ct1)[0]\n"
     ]
    },
    {
     "name": "stdout",
     "output_type": "stream",
     "text": [
      "Warning: No Paths in the Money. Price May Round to Zero.\n",
      "Time : 1.416175127029419, Paths : 500 LSM Price Basis 2 : 0.0 LSM Price Basis 3 : 0.6439965933616838 LSM Price Basis 4 : 0.6135276404541694LSM RF Price : 0.6259493213616427 Repeat : 8\n",
      "Warning: No Paths in the Money. Price May Round to Zero.\n"
     ]
    },
    {
     "name": "stderr",
     "output_type": "stream",
     "text": [
      "/Users/anthonymaylath/Documents/Schoolwork/NYU/High_Performance_Computing/Thesis/NYU_Machine_Learning_Project/pythonMC/proj_helpers/FinObj.py:359: FutureWarning: `rcond` parameter will change to the default of machine precision times ``max(M, N)`` where M and N are the input matrix dimensions.\n",
      "To use the future default and silence this warning we advise to pass `rcond=None`, to keep using the old, explicitly pass `rcond=-1`.\n",
      "  betas = np.linalg.lstsq(X,Ct1)[0]\n"
     ]
    },
    {
     "name": "stdout",
     "output_type": "stream",
     "text": [
      "Time : 1.3827590942382812, Paths : 500 LSM Price Basis 2 : 0.0 LSM Price Basis 3 : 0.6156846919457597 LSM Price Basis 4 : 0.663281957654564LSM RF Price : 0.6125359643705393 Repeat : 9\n",
      "Warning: No Paths in the Money. Price May Round to Zero.\n"
     ]
    },
    {
     "name": "stderr",
     "output_type": "stream",
     "text": [
      "/Users/anthonymaylath/Documents/Schoolwork/NYU/High_Performance_Computing/Thesis/NYU_Machine_Learning_Project/pythonMC/proj_helpers/FinObj.py:359: FutureWarning: `rcond` parameter will change to the default of machine precision times ``max(M, N)`` where M and N are the input matrix dimensions.\n",
      "To use the future default and silence this warning we advise to pass `rcond=None`, to keep using the old, explicitly pass `rcond=-1`.\n",
      "  betas = np.linalg.lstsq(X,Ct1)[0]\n"
     ]
    },
    {
     "name": "stdout",
     "output_type": "stream",
     "text": [
      "Warning: No Paths in the Money. Price May Round to Zero.\n",
      "Time : 1.3343050479888916, Paths : 500 LSM Price Basis 2 : 0.0 LSM Price Basis 3 : 0.6214128116670836 LSM Price Basis 4 : 0.6250174483674494LSM RF Price : 0.6281283753002199 Repeat : 10\n",
      "Warning: No Paths in the Money. Price May Round to Zero.\n",
      "Warning: No Paths in the Money. Price May Round to Zero.\n"
     ]
    },
    {
     "name": "stderr",
     "output_type": "stream",
     "text": [
      "/Users/anthonymaylath/Documents/Schoolwork/NYU/High_Performance_Computing/Thesis/NYU_Machine_Learning_Project/pythonMC/proj_helpers/FinObj.py:359: FutureWarning: `rcond` parameter will change to the default of machine precision times ``max(M, N)`` where M and N are the input matrix dimensions.\n",
      "To use the future default and silence this warning we advise to pass `rcond=None`, to keep using the old, explicitly pass `rcond=-1`.\n",
      "  betas = np.linalg.lstsq(X,Ct1)[0]\n"
     ]
    },
    {
     "name": "stdout",
     "output_type": "stream",
     "text": [
      "Warning: No Paths in the Money. Price May Round to Zero.\n",
      "Time : 1.3659319877624512, Paths : 500 LSM Price Basis 2 : 0.0 LSM Price Basis 3 : 0.6184800935825995 LSM Price Basis 4 : 0.6383690134144842LSM RF Price : 0.6513111674692448 Repeat : 11\n",
      "Warning: No Paths in the Money. Price May Round to Zero.\n"
     ]
    },
    {
     "name": "stderr",
     "output_type": "stream",
     "text": [
      "/Users/anthonymaylath/Documents/Schoolwork/NYU/High_Performance_Computing/Thesis/NYU_Machine_Learning_Project/pythonMC/proj_helpers/FinObj.py:359: FutureWarning: `rcond` parameter will change to the default of machine precision times ``max(M, N)`` where M and N are the input matrix dimensions.\n",
      "To use the future default and silence this warning we advise to pass `rcond=None`, to keep using the old, explicitly pass `rcond=-1`.\n",
      "  betas = np.linalg.lstsq(X,Ct1)[0]\n"
     ]
    },
    {
     "name": "stdout",
     "output_type": "stream",
     "text": [
      "Warning: No Paths in the Money. Price May Round to Zero.\n",
      "Warning: No Paths in the Money. Price May Round to Zero.\n",
      "Time : 1.4022328853607178, Paths : 500 LSM Price Basis 2 : 0.0 LSM Price Basis 3 : 0.6027950997287072 LSM Price Basis 4 : 0.6523198982641457LSM RF Price : 0.636961759713812 Repeat : 12\n",
      "Warning: No Paths in the Money. Price May Round to Zero.\n",
      "Warning: No Paths in the Money. Price May Round to Zero.\n"
     ]
    },
    {
     "name": "stderr",
     "output_type": "stream",
     "text": [
      "/Users/anthonymaylath/Documents/Schoolwork/NYU/High_Performance_Computing/Thesis/NYU_Machine_Learning_Project/pythonMC/proj_helpers/FinObj.py:359: FutureWarning: `rcond` parameter will change to the default of machine precision times ``max(M, N)`` where M and N are the input matrix dimensions.\n",
      "To use the future default and silence this warning we advise to pass `rcond=None`, to keep using the old, explicitly pass `rcond=-1`.\n",
      "  betas = np.linalg.lstsq(X,Ct1)[0]\n"
     ]
    },
    {
     "name": "stdout",
     "output_type": "stream",
     "text": [
      "Warning: No Paths in the Money. Price May Round to Zero.\n",
      "Time : 1.348649024963379, Paths : 500 LSM Price Basis 2 : 0.0 LSM Price Basis 3 : 0.642828264155622 LSM Price Basis 4 : 0.6671792875216379LSM RF Price : 0.6449065637861229 Repeat : 13\n",
      "Warning: No Paths in the Money. Price May Round to Zero.\n",
      "Warning: No Paths in the Money. Price May Round to Zero.\n"
     ]
    },
    {
     "name": "stderr",
     "output_type": "stream",
     "text": [
      "/Users/anthonymaylath/Documents/Schoolwork/NYU/High_Performance_Computing/Thesis/NYU_Machine_Learning_Project/pythonMC/proj_helpers/FinObj.py:359: FutureWarning: `rcond` parameter will change to the default of machine precision times ``max(M, N)`` where M and N are the input matrix dimensions.\n",
      "To use the future default and silence this warning we advise to pass `rcond=None`, to keep using the old, explicitly pass `rcond=-1`.\n",
      "  betas = np.linalg.lstsq(X,Ct1)[0]\n"
     ]
    },
    {
     "name": "stdout",
     "output_type": "stream",
     "text": [
      "Warning: No Paths in the Money. Price May Round to Zero.\n",
      "Time : 1.3398480415344238, Paths : 500 LSM Price Basis 2 : 0.0 LSM Price Basis 3 : 0.6290722000190947 LSM Price Basis 4 : 0.6536685855796708LSM RF Price : 0.6389655037427995 Repeat : 14\n",
      "Warning: No Paths in the Money. Price May Round to Zero.\n",
      "Warning: No Paths in the Money. Price May Round to Zero.\n"
     ]
    },
    {
     "name": "stderr",
     "output_type": "stream",
     "text": [
      "/Users/anthonymaylath/Documents/Schoolwork/NYU/High_Performance_Computing/Thesis/NYU_Machine_Learning_Project/pythonMC/proj_helpers/FinObj.py:359: FutureWarning: `rcond` parameter will change to the default of machine precision times ``max(M, N)`` where M and N are the input matrix dimensions.\n",
      "To use the future default and silence this warning we advise to pass `rcond=None`, to keep using the old, explicitly pass `rcond=-1`.\n",
      "  betas = np.linalg.lstsq(X,Ct1)[0]\n"
     ]
    },
    {
     "name": "stdout",
     "output_type": "stream",
     "text": [
      "Time : 1.4178121089935303, Paths : 500 LSM Price Basis 2 : 0.0 LSM Price Basis 3 : 0.636399932119044 LSM Price Basis 4 : 0.634263900364678LSM RF Price : 0.6105060132275069 Repeat : 15\n",
      "Warning: No Paths in the Money. Price May Round to Zero.\n"
     ]
    },
    {
     "name": "stderr",
     "output_type": "stream",
     "text": [
      "/Users/anthonymaylath/Documents/Schoolwork/NYU/High_Performance_Computing/Thesis/NYU_Machine_Learning_Project/pythonMC/proj_helpers/FinObj.py:359: FutureWarning: `rcond` parameter will change to the default of machine precision times ``max(M, N)`` where M and N are the input matrix dimensions.\n",
      "To use the future default and silence this warning we advise to pass `rcond=None`, to keep using the old, explicitly pass `rcond=-1`.\n",
      "  betas = np.linalg.lstsq(X,Ct1)[0]\n"
     ]
    },
    {
     "name": "stdout",
     "output_type": "stream",
     "text": [
      "Warning: No Paths in the Money. Price May Round to Zero.\n",
      "Time : 1.357454776763916, Paths : 500 LSM Price Basis 2 : 0.0 LSM Price Basis 3 : 0.6686266416712232 LSM Price Basis 4 : 0.6587093900202444LSM RF Price : 0.6658659924797214 Repeat : 16\n",
      "Warning: No Paths in the Money. Price May Round to Zero.\n",
      "Warning: No Paths in the Money. Price May Round to Zero.\n"
     ]
    },
    {
     "name": "stderr",
     "output_type": "stream",
     "text": [
      "/Users/anthonymaylath/Documents/Schoolwork/NYU/High_Performance_Computing/Thesis/NYU_Machine_Learning_Project/pythonMC/proj_helpers/FinObj.py:359: FutureWarning: `rcond` parameter will change to the default of machine precision times ``max(M, N)`` where M and N are the input matrix dimensions.\n",
      "To use the future default and silence this warning we advise to pass `rcond=None`, to keep using the old, explicitly pass `rcond=-1`.\n",
      "  betas = np.linalg.lstsq(X,Ct1)[0]\n"
     ]
    },
    {
     "name": "stdout",
     "output_type": "stream",
     "text": [
      "Warning: No Paths in the Money. Price May Round to Zero.\n",
      "Time : 1.4545412063598633, Paths : 500 LSM Price Basis 2 : 0.0 LSM Price Basis 3 : 0.6297553589555303 LSM Price Basis 4 : 0.6493419489397219LSM RF Price : 0.666220067494403 Repeat : 17\n",
      "Warning: No Paths in the Money. Price May Round to Zero.\n"
     ]
    },
    {
     "name": "stderr",
     "output_type": "stream",
     "text": [
      "/Users/anthonymaylath/Documents/Schoolwork/NYU/High_Performance_Computing/Thesis/NYU_Machine_Learning_Project/pythonMC/proj_helpers/FinObj.py:359: FutureWarning: `rcond` parameter will change to the default of machine precision times ``max(M, N)`` where M and N are the input matrix dimensions.\n",
      "To use the future default and silence this warning we advise to pass `rcond=None`, to keep using the old, explicitly pass `rcond=-1`.\n",
      "  betas = np.linalg.lstsq(X,Ct1)[0]\n"
     ]
    },
    {
     "name": "stdout",
     "output_type": "stream",
     "text": [
      "Warning: No Paths in the Money. Price May Round to Zero.\n",
      "Time : 1.399845838546753, Paths : 500 LSM Price Basis 2 : 0.0 LSM Price Basis 3 : 0.6412945996226709 LSM Price Basis 4 : 0.6552805044667038LSM RF Price : 0.6449205158903779 Repeat : 18\n",
      "Warning: No Paths in the Money. Price May Round to Zero.\n",
      "Warning: No Paths in the Money. Price May Round to Zero.\n"
     ]
    },
    {
     "name": "stderr",
     "output_type": "stream",
     "text": [
      "/Users/anthonymaylath/Documents/Schoolwork/NYU/High_Performance_Computing/Thesis/NYU_Machine_Learning_Project/pythonMC/proj_helpers/FinObj.py:359: FutureWarning: `rcond` parameter will change to the default of machine precision times ``max(M, N)`` where M and N are the input matrix dimensions.\n",
      "To use the future default and silence this warning we advise to pass `rcond=None`, to keep using the old, explicitly pass `rcond=-1`.\n",
      "  betas = np.linalg.lstsq(X,Ct1)[0]\n"
     ]
    },
    {
     "name": "stdout",
     "output_type": "stream",
     "text": [
      "Warning: No Paths in the Money. Price May Round to Zero.\n",
      "Time : 1.4345810413360596, Paths : 500 LSM Price Basis 2 : 0.0 LSM Price Basis 3 : 0.6508461454025194 LSM Price Basis 4 : 0.6389035704017273LSM RF Price : 0.6380688012932288 Repeat : 19\n",
      "Warning: No Paths in the Money. Price May Round to Zero.\n",
      "Warning: No Paths in the Money. Price May Round to Zero.\n"
     ]
    },
    {
     "name": "stderr",
     "output_type": "stream",
     "text": [
      "/Users/anthonymaylath/Documents/Schoolwork/NYU/High_Performance_Computing/Thesis/NYU_Machine_Learning_Project/pythonMC/proj_helpers/FinObj.py:359: FutureWarning: `rcond` parameter will change to the default of machine precision times ``max(M, N)`` where M and N are the input matrix dimensions.\n",
      "To use the future default and silence this warning we advise to pass `rcond=None`, to keep using the old, explicitly pass `rcond=-1`.\n",
      "  betas = np.linalg.lstsq(X,Ct1)[0]\n"
     ]
    },
    {
     "name": "stdout",
     "output_type": "stream",
     "text": [
      "Warning: No Paths in the Money. Price May Round to Zero.\n",
      "Time : 1.416619062423706, Paths : 500 LSM Price Basis 2 : 0.0 LSM Price Basis 3 : 0.6510520307324467 LSM Price Basis 4 : 0.6324881157177752LSM RF Price : 0.6598700209038012 Repeat : 20\n",
      "Warning: No Paths in the Money. Price May Round to Zero.\n"
     ]
    },
    {
     "name": "stderr",
     "output_type": "stream",
     "text": [
      "/Users/anthonymaylath/Documents/Schoolwork/NYU/High_Performance_Computing/Thesis/NYU_Machine_Learning_Project/pythonMC/proj_helpers/FinObj.py:359: FutureWarning: `rcond` parameter will change to the default of machine precision times ``max(M, N)`` where M and N are the input matrix dimensions.\n",
      "To use the future default and silence this warning we advise to pass `rcond=None`, to keep using the old, explicitly pass `rcond=-1`.\n",
      "  betas = np.linalg.lstsq(X,Ct1)[0]\n"
     ]
    },
    {
     "name": "stdout",
     "output_type": "stream",
     "text": [
      "Warning: No Paths in the Money. Price May Round to Zero.\n",
      "Time : 1.3963966369628906, Paths : 500 LSM Price Basis 2 : 0.0 LSM Price Basis 3 : 0.6416791803054864 LSM Price Basis 4 : 0.642373201808602LSM RF Price : 0.6485261233848184 Repeat : 21\n",
      "Warning: No Paths in the Money. Price May Round to Zero.\n",
      "Warning: No Paths in the Money. Price May Round to Zero.\n"
     ]
    },
    {
     "name": "stderr",
     "output_type": "stream",
     "text": [
      "/Users/anthonymaylath/Documents/Schoolwork/NYU/High_Performance_Computing/Thesis/NYU_Machine_Learning_Project/pythonMC/proj_helpers/FinObj.py:359: FutureWarning: `rcond` parameter will change to the default of machine precision times ``max(M, N)`` where M and N are the input matrix dimensions.\n",
      "To use the future default and silence this warning we advise to pass `rcond=None`, to keep using the old, explicitly pass `rcond=-1`.\n",
      "  betas = np.linalg.lstsq(X,Ct1)[0]\n"
     ]
    },
    {
     "name": "stdout",
     "output_type": "stream",
     "text": [
      "Warning: No Paths in the Money. Price May Round to Zero.\n",
      "Time : 1.4156851768493652, Paths : 500 LSM Price Basis 2 : 0.0 LSM Price Basis 3 : 0.6397227470496193 LSM Price Basis 4 : 0.6319507580752548LSM RF Price : 0.637291517220216 Repeat : 22\n",
      "Warning: No Paths in the Money. Price May Round to Zero.\n"
     ]
    },
    {
     "name": "stderr",
     "output_type": "stream",
     "text": [
      "/Users/anthonymaylath/Documents/Schoolwork/NYU/High_Performance_Computing/Thesis/NYU_Machine_Learning_Project/pythonMC/proj_helpers/FinObj.py:359: FutureWarning: `rcond` parameter will change to the default of machine precision times ``max(M, N)`` where M and N are the input matrix dimensions.\n",
      "To use the future default and silence this warning we advise to pass `rcond=None`, to keep using the old, explicitly pass `rcond=-1`.\n",
      "  betas = np.linalg.lstsq(X,Ct1)[0]\n"
     ]
    },
    {
     "name": "stdout",
     "output_type": "stream",
     "text": [
      "Time : 1.4336168766021729, Paths : 500 LSM Price Basis 2 : 0.0 LSM Price Basis 3 : 0.615948322577459 LSM Price Basis 4 : 0.6184813430352686LSM RF Price : 0.6412215282537777 Repeat : 23\n",
      "Warning: No Paths in the Money. Price May Round to Zero.\n"
     ]
    },
    {
     "name": "stderr",
     "output_type": "stream",
     "text": [
      "/Users/anthonymaylath/Documents/Schoolwork/NYU/High_Performance_Computing/Thesis/NYU_Machine_Learning_Project/pythonMC/proj_helpers/FinObj.py:359: FutureWarning: `rcond` parameter will change to the default of machine precision times ``max(M, N)`` where M and N are the input matrix dimensions.\n",
      "To use the future default and silence this warning we advise to pass `rcond=None`, to keep using the old, explicitly pass `rcond=-1`.\n",
      "  betas = np.linalg.lstsq(X,Ct1)[0]\n"
     ]
    },
    {
     "name": "stdout",
     "output_type": "stream",
     "text": [
      "Time : 1.3966290950775146, Paths : 500 LSM Price Basis 2 : 0.0 LSM Price Basis 3 : 0.6487346175744252 LSM Price Basis 4 : 0.6274976441930985LSM RF Price : 0.625808685244325 Repeat : 24\n",
      "Warning: No Paths in the Money. Price May Round to Zero.\n",
      "Warning: No Paths in the Money. Price May Round to Zero.\n"
     ]
    },
    {
     "name": "stderr",
     "output_type": "stream",
     "text": [
      "/Users/anthonymaylath/Documents/Schoolwork/NYU/High_Performance_Computing/Thesis/NYU_Machine_Learning_Project/pythonMC/proj_helpers/FinObj.py:359: FutureWarning: `rcond` parameter will change to the default of machine precision times ``max(M, N)`` where M and N are the input matrix dimensions.\n",
      "To use the future default and silence this warning we advise to pass `rcond=None`, to keep using the old, explicitly pass `rcond=-1`.\n",
      "  betas = np.linalg.lstsq(X,Ct1)[0]\n"
     ]
    },
    {
     "name": "stdout",
     "output_type": "stream",
     "text": [
      "Time : 1.4069321155548096, Paths : 500 LSM Price Basis 2 : 0.0 LSM Price Basis 3 : 0.651451786060581 LSM Price Basis 4 : 0.6446755938522374LSM RF Price : 0.6430456466548197 Repeat : 25\n",
      "Warning: No Paths in the Money. Price May Round to Zero.\n"
     ]
    },
    {
     "name": "stderr",
     "output_type": "stream",
     "text": [
      "/Users/anthonymaylath/Documents/Schoolwork/NYU/High_Performance_Computing/Thesis/NYU_Machine_Learning_Project/pythonMC/proj_helpers/FinObj.py:359: FutureWarning: `rcond` parameter will change to the default of machine precision times ``max(M, N)`` where M and N are the input matrix dimensions.\n",
      "To use the future default and silence this warning we advise to pass `rcond=None`, to keep using the old, explicitly pass `rcond=-1`.\n",
      "  betas = np.linalg.lstsq(X,Ct1)[0]\n"
     ]
    },
    {
     "name": "stdout",
     "output_type": "stream",
     "text": [
      "Warning: No Paths in the Money. Price May Round to Zero.\n",
      "Time : 1.393176794052124, Paths : 500 LSM Price Basis 2 : 0.0 LSM Price Basis 3 : 0.649268899687801 LSM Price Basis 4 : 0.6404423766916211LSM RF Price : 0.6311158729401863 Repeat : 26\n",
      "Warning: No Paths in the Money. Price May Round to Zero.\n"
     ]
    },
    {
     "name": "stderr",
     "output_type": "stream",
     "text": [
      "/Users/anthonymaylath/Documents/Schoolwork/NYU/High_Performance_Computing/Thesis/NYU_Machine_Learning_Project/pythonMC/proj_helpers/FinObj.py:359: FutureWarning: `rcond` parameter will change to the default of machine precision times ``max(M, N)`` where M and N are the input matrix dimensions.\n",
      "To use the future default and silence this warning we advise to pass `rcond=None`, to keep using the old, explicitly pass `rcond=-1`.\n",
      "  betas = np.linalg.lstsq(X,Ct1)[0]\n"
     ]
    },
    {
     "name": "stdout",
     "output_type": "stream",
     "text": [
      "Warning: No Paths in the Money. Price May Round to Zero.\n",
      "Time : 1.4423339366912842, Paths : 500 LSM Price Basis 2 : 0.0 LSM Price Basis 3 : 0.6383767075014337 LSM Price Basis 4 : 0.6699858573177507LSM RF Price : 0.6285414241881526 Repeat : 27\n"
     ]
    },
    {
     "name": "stderr",
     "output_type": "stream",
     "text": [
      "/Users/anthonymaylath/Documents/Schoolwork/NYU/High_Performance_Computing/Thesis/NYU_Machine_Learning_Project/pythonMC/proj_helpers/FinObj.py:359: FutureWarning: `rcond` parameter will change to the default of machine precision times ``max(M, N)`` where M and N are the input matrix dimensions.\n",
      "To use the future default and silence this warning we advise to pass `rcond=None`, to keep using the old, explicitly pass `rcond=-1`.\n",
      "  betas = np.linalg.lstsq(X,Ct1)[0]\n"
     ]
    },
    {
     "name": "stdout",
     "output_type": "stream",
     "text": [
      "Time : 1.4011740684509277, Paths : 500 LSM Price Basis 2 : 0.0 LSM Price Basis 3 : 0.6320160815280581 LSM Price Basis 4 : 0.6372764070429926LSM RF Price : 0.6476839816857596 Repeat : 28\n",
      "Warning: No Paths in the Money. Price May Round to Zero.\n",
      "Warning: No Paths in the Money. Price May Round to Zero.\n"
     ]
    },
    {
     "name": "stderr",
     "output_type": "stream",
     "text": [
      "/Users/anthonymaylath/Documents/Schoolwork/NYU/High_Performance_Computing/Thesis/NYU_Machine_Learning_Project/pythonMC/proj_helpers/FinObj.py:359: FutureWarning: `rcond` parameter will change to the default of machine precision times ``max(M, N)`` where M and N are the input matrix dimensions.\n",
      "To use the future default and silence this warning we advise to pass `rcond=None`, to keep using the old, explicitly pass `rcond=-1`.\n",
      "  betas = np.linalg.lstsq(X,Ct1)[0]\n"
     ]
    },
    {
     "name": "stdout",
     "output_type": "stream",
     "text": [
      "Time : 1.395486831665039, Paths : 500 LSM Price Basis 2 : 0.0 LSM Price Basis 3 : 0.6346397477413621 LSM Price Basis 4 : 0.6122036350892738LSM RF Price : 0.627736547536293 Repeat : 29\n"
     ]
    },
    {
     "name": "stderr",
     "output_type": "stream",
     "text": [
      "/Users/anthonymaylath/Documents/Schoolwork/NYU/High_Performance_Computing/Thesis/NYU_Machine_Learning_Project/pythonMC/proj_helpers/FinObj.py:359: FutureWarning: `rcond` parameter will change to the default of machine precision times ``max(M, N)`` where M and N are the input matrix dimensions.\n",
      "To use the future default and silence this warning we advise to pass `rcond=None`, to keep using the old, explicitly pass `rcond=-1`.\n",
      "  betas = np.linalg.lstsq(X,Ct1)[0]\n"
     ]
    },
    {
     "name": "stdout",
     "output_type": "stream",
     "text": [
      "Time : 1.4929070472717285, Paths : 750 LSM Price Basis 2 : 0.0 LSM Price Basis 3 : 0.6189779632318723 LSM Price Basis 4 : 0.6599862604165468LSM RF Price : 0.6430313891408983 Repeat : 0\n"
     ]
    },
    {
     "name": "stderr",
     "output_type": "stream",
     "text": [
      "/Users/anthonymaylath/Documents/Schoolwork/NYU/High_Performance_Computing/Thesis/NYU_Machine_Learning_Project/pythonMC/proj_helpers/FinObj.py:359: FutureWarning: `rcond` parameter will change to the default of machine precision times ``max(M, N)`` where M and N are the input matrix dimensions.\n",
      "To use the future default and silence this warning we advise to pass `rcond=None`, to keep using the old, explicitly pass `rcond=-1`.\n",
      "  betas = np.linalg.lstsq(X,Ct1)[0]\n"
     ]
    },
    {
     "name": "stdout",
     "output_type": "stream",
     "text": [
      "Warning: No Paths in the Money. Price May Round to Zero.\n",
      "Time : 1.4510118961334229, Paths : 750 LSM Price Basis 2 : 0.0 LSM Price Basis 3 : 0.6390482795655398 LSM Price Basis 4 : 0.6498822782540941LSM RF Price : 0.6226960699934572 Repeat : 1\n",
      "Warning: No Paths in the Money. Price May Round to Zero.\n"
     ]
    },
    {
     "name": "stderr",
     "output_type": "stream",
     "text": [
      "/Users/anthonymaylath/Documents/Schoolwork/NYU/High_Performance_Computing/Thesis/NYU_Machine_Learning_Project/pythonMC/proj_helpers/FinObj.py:359: FutureWarning: `rcond` parameter will change to the default of machine precision times ``max(M, N)`` where M and N are the input matrix dimensions.\n",
      "To use the future default and silence this warning we advise to pass `rcond=None`, to keep using the old, explicitly pass `rcond=-1`.\n",
      "  betas = np.linalg.lstsq(X,Ct1)[0]\n"
     ]
    },
    {
     "name": "stdout",
     "output_type": "stream",
     "text": [
      "Warning: No Paths in the Money. Price May Round to Zero.\n",
      "Time : 1.4687178134918213, Paths : 750 LSM Price Basis 2 : 0.0 LSM Price Basis 3 : 0.6261991956850875 LSM Price Basis 4 : 0.6541128173664276LSM RF Price : 0.644850669967735 Repeat : 2\n",
      "Warning: No Paths in the Money. Price May Round to Zero.\n"
     ]
    },
    {
     "name": "stderr",
     "output_type": "stream",
     "text": [
      "/Users/anthonymaylath/Documents/Schoolwork/NYU/High_Performance_Computing/Thesis/NYU_Machine_Learning_Project/pythonMC/proj_helpers/FinObj.py:359: FutureWarning: `rcond` parameter will change to the default of machine precision times ``max(M, N)`` where M and N are the input matrix dimensions.\n",
      "To use the future default and silence this warning we advise to pass `rcond=None`, to keep using the old, explicitly pass `rcond=-1`.\n",
      "  betas = np.linalg.lstsq(X,Ct1)[0]\n"
     ]
    },
    {
     "name": "stdout",
     "output_type": "stream",
     "text": [
      "Warning: No Paths in the Money. Price May Round to Zero.\n",
      "Warning: No Paths in the Money. Price May Round to Zero.\n",
      "Time : 1.4389071464538574, Paths : 750 LSM Price Basis 2 : 0.0 LSM Price Basis 3 : 0.6684362140092109 LSM Price Basis 4 : 0.6118650754409234LSM RF Price : 0.6305065286734992 Repeat : 3\n"
     ]
    },
    {
     "name": "stderr",
     "output_type": "stream",
     "text": [
      "/Users/anthonymaylath/Documents/Schoolwork/NYU/High_Performance_Computing/Thesis/NYU_Machine_Learning_Project/pythonMC/proj_helpers/FinObj.py:359: FutureWarning: `rcond` parameter will change to the default of machine precision times ``max(M, N)`` where M and N are the input matrix dimensions.\n",
      "To use the future default and silence this warning we advise to pass `rcond=None`, to keep using the old, explicitly pass `rcond=-1`.\n",
      "  betas = np.linalg.lstsq(X,Ct1)[0]\n"
     ]
    },
    {
     "name": "stdout",
     "output_type": "stream",
     "text": [
      "Warning: No Paths in the Money. Price May Round to Zero.\n",
      "Time : 1.5228018760681152, Paths : 750 LSM Price Basis 2 : 0.0 LSM Price Basis 3 : 0.6317271485391104 LSM Price Basis 4 : 0.6345673670824316LSM RF Price : 0.6372366182267449 Repeat : 4\n",
      "Warning: No Paths in the Money. Price May Round to Zero.\n"
     ]
    },
    {
     "name": "stderr",
     "output_type": "stream",
     "text": [
      "/Users/anthonymaylath/Documents/Schoolwork/NYU/High_Performance_Computing/Thesis/NYU_Machine_Learning_Project/pythonMC/proj_helpers/FinObj.py:359: FutureWarning: `rcond` parameter will change to the default of machine precision times ``max(M, N)`` where M and N are the input matrix dimensions.\n",
      "To use the future default and silence this warning we advise to pass `rcond=None`, to keep using the old, explicitly pass `rcond=-1`.\n",
      "  betas = np.linalg.lstsq(X,Ct1)[0]\n"
     ]
    },
    {
     "name": "stdout",
     "output_type": "stream",
     "text": [
      "Time : 1.455657958984375, Paths : 750 LSM Price Basis 2 : 0.0 LSM Price Basis 3 : 0.6558918341743996 LSM Price Basis 4 : 0.6504095047845854LSM RF Price : 0.6403880725943624 Repeat : 5\n"
     ]
    },
    {
     "name": "stderr",
     "output_type": "stream",
     "text": [
      "/Users/anthonymaylath/Documents/Schoolwork/NYU/High_Performance_Computing/Thesis/NYU_Machine_Learning_Project/pythonMC/proj_helpers/FinObj.py:359: FutureWarning: `rcond` parameter will change to the default of machine precision times ``max(M, N)`` where M and N are the input matrix dimensions.\n",
      "To use the future default and silence this warning we advise to pass `rcond=None`, to keep using the old, explicitly pass `rcond=-1`.\n",
      "  betas = np.linalg.lstsq(X,Ct1)[0]\n"
     ]
    },
    {
     "name": "stdout",
     "output_type": "stream",
     "text": [
      "Warning: No Paths in the Money. Price May Round to Zero.\n",
      "Time : 1.5007710456848145, Paths : 750 LSM Price Basis 2 : 0.0 LSM Price Basis 3 : 0.6437252396886768 LSM Price Basis 4 : 0.6292580397903224LSM RF Price : 0.6434640032527968 Repeat : 6\n"
     ]
    },
    {
     "name": "stderr",
     "output_type": "stream",
     "text": [
      "/Users/anthonymaylath/Documents/Schoolwork/NYU/High_Performance_Computing/Thesis/NYU_Machine_Learning_Project/pythonMC/proj_helpers/FinObj.py:359: FutureWarning: `rcond` parameter will change to the default of machine precision times ``max(M, N)`` where M and N are the input matrix dimensions.\n",
      "To use the future default and silence this warning we advise to pass `rcond=None`, to keep using the old, explicitly pass `rcond=-1`.\n",
      "  betas = np.linalg.lstsq(X,Ct1)[0]\n"
     ]
    },
    {
     "name": "stdout",
     "output_type": "stream",
     "text": [
      "Warning: No Paths in the Money. Price May Round to Zero.\n",
      "Warning: No Paths in the Money. Price May Round to Zero.\n",
      "Time : 1.4473209381103516, Paths : 750 LSM Price Basis 2 : 0.0 LSM Price Basis 3 : 0.6300097919957707 LSM Price Basis 4 : 0.6213350659533489LSM RF Price : 0.6259030589347029 Repeat : 7\n"
     ]
    },
    {
     "name": "stderr",
     "output_type": "stream",
     "text": [
      "/Users/anthonymaylath/Documents/Schoolwork/NYU/High_Performance_Computing/Thesis/NYU_Machine_Learning_Project/pythonMC/proj_helpers/FinObj.py:359: FutureWarning: `rcond` parameter will change to the default of machine precision times ``max(M, N)`` where M and N are the input matrix dimensions.\n",
      "To use the future default and silence this warning we advise to pass `rcond=None`, to keep using the old, explicitly pass `rcond=-1`.\n",
      "  betas = np.linalg.lstsq(X,Ct1)[0]\n"
     ]
    },
    {
     "name": "stdout",
     "output_type": "stream",
     "text": [
      "Warning: No Paths in the Money. Price May Round to Zero.\n",
      "Time : 1.4551417827606201, Paths : 750 LSM Price Basis 2 : 0.0 LSM Price Basis 3 : 0.6268304646390176 LSM Price Basis 4 : 0.657900168007561LSM RF Price : 0.632005729640305 Repeat : 8\n",
      "Warning: No Paths in the Money. Price May Round to Zero."
     ]
    },
    {
     "name": "stderr",
     "output_type": "stream",
     "text": [
      "/Users/anthonymaylath/Documents/Schoolwork/NYU/High_Performance_Computing/Thesis/NYU_Machine_Learning_Project/pythonMC/proj_helpers/FinObj.py:359: FutureWarning: `rcond` parameter will change to the default of machine precision times ``max(M, N)`` where M and N are the input matrix dimensions.\n",
      "To use the future default and silence this warning we advise to pass `rcond=None`, to keep using the old, explicitly pass `rcond=-1`.\n",
      "  betas = np.linalg.lstsq(X,Ct1)[0]\n"
     ]
    },
    {
     "name": "stdout",
     "output_type": "stream",
     "text": [
      "\n",
      "Warning: No Paths in the Money. Price May Round to Zero.\n",
      "Time : 1.4512569904327393, Paths : 750 LSM Price Basis 2 : 0.0 LSM Price Basis 3 : 0.631744606647212 LSM Price Basis 4 : 0.631897973169675LSM RF Price : 0.6537238283934342 Repeat : 9\n",
      "Warning: No Paths in the Money. Price May Round to Zero.\n"
     ]
    },
    {
     "name": "stderr",
     "output_type": "stream",
     "text": [
      "/Users/anthonymaylath/Documents/Schoolwork/NYU/High_Performance_Computing/Thesis/NYU_Machine_Learning_Project/pythonMC/proj_helpers/FinObj.py:359: FutureWarning: `rcond` parameter will change to the default of machine precision times ``max(M, N)`` where M and N are the input matrix dimensions.\n",
      "To use the future default and silence this warning we advise to pass `rcond=None`, to keep using the old, explicitly pass `rcond=-1`.\n",
      "  betas = np.linalg.lstsq(X,Ct1)[0]\n"
     ]
    },
    {
     "name": "stdout",
     "output_type": "stream",
     "text": [
      "Warning: No Paths in the Money. Price May Round to Zero.\n",
      "Time : 1.450932264328003, Paths : 750 LSM Price Basis 2 : 0.0 LSM Price Basis 3 : 0.6527639092064504 LSM Price Basis 4 : 0.6245125675143994LSM RF Price : 0.6172806967049183 Repeat : 10\n"
     ]
    },
    {
     "name": "stderr",
     "output_type": "stream",
     "text": [
      "/Users/anthonymaylath/Documents/Schoolwork/NYU/High_Performance_Computing/Thesis/NYU_Machine_Learning_Project/pythonMC/proj_helpers/FinObj.py:359: FutureWarning: `rcond` parameter will change to the default of machine precision times ``max(M, N)`` where M and N are the input matrix dimensions.\n",
      "To use the future default and silence this warning we advise to pass `rcond=None`, to keep using the old, explicitly pass `rcond=-1`.\n",
      "  betas = np.linalg.lstsq(X,Ct1)[0]\n"
     ]
    },
    {
     "name": "stdout",
     "output_type": "stream",
     "text": [
      "Warning: No Paths in the Money. Price May Round to Zero.\n",
      "Warning: No Paths in the Money. Price May Round to Zero.\n",
      "Time : 1.491865873336792, Paths : 750 LSM Price Basis 2 : 0.0 LSM Price Basis 3 : 0.6482346510405697 LSM Price Basis 4 : 0.6460248643029782LSM RF Price : 0.6472799712148599 Repeat : 11\n"
     ]
    },
    {
     "name": "stderr",
     "output_type": "stream",
     "text": [
      "/Users/anthonymaylath/Documents/Schoolwork/NYU/High_Performance_Computing/Thesis/NYU_Machine_Learning_Project/pythonMC/proj_helpers/FinObj.py:359: FutureWarning: `rcond` parameter will change to the default of machine precision times ``max(M, N)`` where M and N are the input matrix dimensions.\n",
      "To use the future default and silence this warning we advise to pass `rcond=None`, to keep using the old, explicitly pass `rcond=-1`.\n",
      "  betas = np.linalg.lstsq(X,Ct1)[0]\n"
     ]
    },
    {
     "name": "stdout",
     "output_type": "stream",
     "text": [
      "Time : 1.456676721572876, Paths : 750 LSM Price Basis 2 : 0.0 LSM Price Basis 3 : 0.6385226556982455 LSM Price Basis 4 : 0.6601640740699706LSM RF Price : 0.6364533690066382 Repeat : 12\n",
      "Warning: No Paths in the Money. Price May Round to Zero.\n"
     ]
    },
    {
     "name": "stderr",
     "output_type": "stream",
     "text": [
      "/Users/anthonymaylath/Documents/Schoolwork/NYU/High_Performance_Computing/Thesis/NYU_Machine_Learning_Project/pythonMC/proj_helpers/FinObj.py:359: FutureWarning: `rcond` parameter will change to the default of machine precision times ``max(M, N)`` where M and N are the input matrix dimensions.\n",
      "To use the future default and silence this warning we advise to pass `rcond=None`, to keep using the old, explicitly pass `rcond=-1`.\n",
      "  betas = np.linalg.lstsq(X,Ct1)[0]\n"
     ]
    },
    {
     "name": "stdout",
     "output_type": "stream",
     "text": [
      "Warning: No Paths in the Money. Price May Round to Zero.\n",
      "Warning: No Paths in the Money. Price May Round to Zero.\n",
      "Time : 1.4550909996032715, Paths : 750 LSM Price Basis 2 : 0.0 LSM Price Basis 3 : 0.6419129934718771 LSM Price Basis 4 : 0.6473930848504318LSM RF Price : 0.6440118299725477 Repeat : 13\n"
     ]
    },
    {
     "name": "stderr",
     "output_type": "stream",
     "text": [
      "/Users/anthonymaylath/Documents/Schoolwork/NYU/High_Performance_Computing/Thesis/NYU_Machine_Learning_Project/pythonMC/proj_helpers/FinObj.py:359: FutureWarning: `rcond` parameter will change to the default of machine precision times ``max(M, N)`` where M and N are the input matrix dimensions.\n",
      "To use the future default and silence this warning we advise to pass `rcond=None`, to keep using the old, explicitly pass `rcond=-1`.\n",
      "  betas = np.linalg.lstsq(X,Ct1)[0]\n"
     ]
    },
    {
     "name": "stdout",
     "output_type": "stream",
     "text": [
      "Warning: No Paths in the Money. Price May Round to Zero.\n",
      "Time : 1.4527580738067627, Paths : 750 LSM Price Basis 2 : 0.0 LSM Price Basis 3 : 0.642764565560098 LSM Price Basis 4 : 0.6615463550192707LSM RF Price : 0.6435461390325108 Repeat : 14\n"
     ]
    },
    {
     "name": "stderr",
     "output_type": "stream",
     "text": [
      "/Users/anthonymaylath/Documents/Schoolwork/NYU/High_Performance_Computing/Thesis/NYU_Machine_Learning_Project/pythonMC/proj_helpers/FinObj.py:359: FutureWarning: `rcond` parameter will change to the default of machine precision times ``max(M, N)`` where M and N are the input matrix dimensions.\n",
      "To use the future default and silence this warning we advise to pass `rcond=None`, to keep using the old, explicitly pass `rcond=-1`.\n",
      "  betas = np.linalg.lstsq(X,Ct1)[0]\n"
     ]
    },
    {
     "name": "stdout",
     "output_type": "stream",
     "text": [
      "Warning: No Paths in the Money. Price May Round to Zero.\n",
      "Warning: No Paths in the Money. Price May Round to Zero.\n",
      "Time : 1.518873691558838, Paths : 750 LSM Price Basis 2 : 0.0 LSM Price Basis 3 : 0.6305922815693857 LSM Price Basis 4 : 0.6459028260202349LSM RF Price : 0.6259449227958208 Repeat : 15\n",
      "Warning: No Paths in the Money. Price May Round to Zero.\n"
     ]
    },
    {
     "name": "stderr",
     "output_type": "stream",
     "text": [
      "/Users/anthonymaylath/Documents/Schoolwork/NYU/High_Performance_Computing/Thesis/NYU_Machine_Learning_Project/pythonMC/proj_helpers/FinObj.py:359: FutureWarning: `rcond` parameter will change to the default of machine precision times ``max(M, N)`` where M and N are the input matrix dimensions.\n",
      "To use the future default and silence this warning we advise to pass `rcond=None`, to keep using the old, explicitly pass `rcond=-1`.\n",
      "  betas = np.linalg.lstsq(X,Ct1)[0]\n"
     ]
    },
    {
     "name": "stdout",
     "output_type": "stream",
     "text": [
      "Warning: No Paths in the Money. Price May Round to Zero.\n",
      "Time : 1.4519050121307373, Paths : 750 LSM Price Basis 2 : 0.0 LSM Price Basis 3 : 0.6323051110218812 LSM Price Basis 4 : 0.6343143652737807LSM RF Price : 0.6444383631318138 Repeat : 16\n",
      "Warning: No Paths in the Money. Price May Round to Zero.\n"
     ]
    },
    {
     "name": "stderr",
     "output_type": "stream",
     "text": [
      "/Users/anthonymaylath/Documents/Schoolwork/NYU/High_Performance_Computing/Thesis/NYU_Machine_Learning_Project/pythonMC/proj_helpers/FinObj.py:359: FutureWarning: `rcond` parameter will change to the default of machine precision times ``max(M, N)`` where M and N are the input matrix dimensions.\n",
      "To use the future default and silence this warning we advise to pass `rcond=None`, to keep using the old, explicitly pass `rcond=-1`.\n",
      "  betas = np.linalg.lstsq(X,Ct1)[0]\n"
     ]
    },
    {
     "name": "stdout",
     "output_type": "stream",
     "text": [
      "Warning: No Paths in the Money. Price May Round to Zero.\n",
      "Time : 1.4517781734466553, Paths : 750 LSM Price Basis 2 : 0.0 LSM Price Basis 3 : 0.6310347754823811 LSM Price Basis 4 : 0.6330650902896037LSM RF Price : 0.6348160602765094 Repeat : 17\n",
      "Warning: No Paths in the Money. Price May Round to Zero.\n"
     ]
    },
    {
     "name": "stderr",
     "output_type": "stream",
     "text": [
      "/Users/anthonymaylath/Documents/Schoolwork/NYU/High_Performance_Computing/Thesis/NYU_Machine_Learning_Project/pythonMC/proj_helpers/FinObj.py:359: FutureWarning: `rcond` parameter will change to the default of machine precision times ``max(M, N)`` where M and N are the input matrix dimensions.\n",
      "To use the future default and silence this warning we advise to pass `rcond=None`, to keep using the old, explicitly pass `rcond=-1`.\n",
      "  betas = np.linalg.lstsq(X,Ct1)[0]\n"
     ]
    },
    {
     "name": "stdout",
     "output_type": "stream",
     "text": [
      "Warning: No Paths in the Money. Price May Round to Zero.\n",
      "Time : 1.518662929534912, Paths : 750 LSM Price Basis 2 : 0.0 LSM Price Basis 3 : 0.6682651387066711 LSM Price Basis 4 : 0.638132044777882LSM RF Price : 0.6200322390400982 Repeat : 18\n",
      "Warning: No Paths in the Money. Price May Round to Zero.\n"
     ]
    },
    {
     "name": "stderr",
     "output_type": "stream",
     "text": [
      "/Users/anthonymaylath/Documents/Schoolwork/NYU/High_Performance_Computing/Thesis/NYU_Machine_Learning_Project/pythonMC/proj_helpers/FinObj.py:359: FutureWarning: `rcond` parameter will change to the default of machine precision times ``max(M, N)`` where M and N are the input matrix dimensions.\n",
      "To use the future default and silence this warning we advise to pass `rcond=None`, to keep using the old, explicitly pass `rcond=-1`.\n",
      "  betas = np.linalg.lstsq(X,Ct1)[0]\n"
     ]
    },
    {
     "name": "stdout",
     "output_type": "stream",
     "text": [
      "Warning: No Paths in the Money. Price May Round to Zero.\n",
      "Warning: No Paths in the Money. Price May Round to Zero.\n",
      "Time : 1.4504828453063965, Paths : 750 LSM Price Basis 2 : 0.0 LSM Price Basis 3 : 0.6339196941965506 LSM Price Basis 4 : 0.6133163782519111LSM RF Price : 0.6498601357527025 Repeat : 19\n"
     ]
    },
    {
     "name": "stderr",
     "output_type": "stream",
     "text": [
      "/Users/anthonymaylath/Documents/Schoolwork/NYU/High_Performance_Computing/Thesis/NYU_Machine_Learning_Project/pythonMC/proj_helpers/FinObj.py:359: FutureWarning: `rcond` parameter will change to the default of machine precision times ``max(M, N)`` where M and N are the input matrix dimensions.\n",
      "To use the future default and silence this warning we advise to pass `rcond=None`, to keep using the old, explicitly pass `rcond=-1`.\n",
      "  betas = np.linalg.lstsq(X,Ct1)[0]\n"
     ]
    },
    {
     "name": "stdout",
     "output_type": "stream",
     "text": [
      "Warning: No Paths in the Money. Price May Round to Zero.\n",
      "Warning: No Paths in the Money. Price May Round to Zero.\n",
      "Time : 1.459634780883789, Paths : 750 LSM Price Basis 2 : 0.0 LSM Price Basis 3 : 0.6431210130462418 LSM Price Basis 4 : 0.629646140083509LSM RF Price : 0.6298256909445616 Repeat : 20\n"
     ]
    },
    {
     "name": "stderr",
     "output_type": "stream",
     "text": [
      "/Users/anthonymaylath/Documents/Schoolwork/NYU/High_Performance_Computing/Thesis/NYU_Machine_Learning_Project/pythonMC/proj_helpers/FinObj.py:359: FutureWarning: `rcond` parameter will change to the default of machine precision times ``max(M, N)`` where M and N are the input matrix dimensions.\n",
      "To use the future default and silence this warning we advise to pass `rcond=None`, to keep using the old, explicitly pass `rcond=-1`.\n",
      "  betas = np.linalg.lstsq(X,Ct1)[0]\n"
     ]
    },
    {
     "name": "stdout",
     "output_type": "stream",
     "text": [
      "Warning: No Paths in the Money. Price May Round to Zero.\n",
      "Time : 1.463512897491455, Paths : 750 LSM Price Basis 2 : 0.0 LSM Price Basis 3 : 0.6361517273208065 LSM Price Basis 4 : 0.6384721684513764LSM RF Price : 0.6289562567186255 Repeat : 21\n"
     ]
    },
    {
     "name": "stderr",
     "output_type": "stream",
     "text": [
      "/Users/anthonymaylath/Documents/Schoolwork/NYU/High_Performance_Computing/Thesis/NYU_Machine_Learning_Project/pythonMC/proj_helpers/FinObj.py:359: FutureWarning: `rcond` parameter will change to the default of machine precision times ``max(M, N)`` where M and N are the input matrix dimensions.\n",
      "To use the future default and silence this warning we advise to pass `rcond=None`, to keep using the old, explicitly pass `rcond=-1`.\n",
      "  betas = np.linalg.lstsq(X,Ct1)[0]\n"
     ]
    },
    {
     "name": "stdout",
     "output_type": "stream",
     "text": [
      "Warning: No Paths in the Money. Price May Round to Zero.\n",
      "Time : 1.4585692882537842, Paths : 750 LSM Price Basis 2 : 0.0 LSM Price Basis 3 : 0.6517330600107926 LSM Price Basis 4 : 0.6322025534637793LSM RF Price : 0.6494236194156136 Repeat : 22\n",
      "Warning: No Paths in the Money. Price May Round to Zero.\n"
     ]
    },
    {
     "name": "stderr",
     "output_type": "stream",
     "text": [
      "/Users/anthonymaylath/Documents/Schoolwork/NYU/High_Performance_Computing/Thesis/NYU_Machine_Learning_Project/pythonMC/proj_helpers/FinObj.py:359: FutureWarning: `rcond` parameter will change to the default of machine precision times ``max(M, N)`` where M and N are the input matrix dimensions.\n",
      "To use the future default and silence this warning we advise to pass `rcond=None`, to keep using the old, explicitly pass `rcond=-1`.\n",
      "  betas = np.linalg.lstsq(X,Ct1)[0]\n"
     ]
    },
    {
     "name": "stdout",
     "output_type": "stream",
     "text": [
      "Time : 1.4624080657958984, Paths : 750 LSM Price Basis 2 : 0.0 LSM Price Basis 3 : 0.6480876403506655 LSM Price Basis 4 : 0.6653305737376702LSM RF Price : 0.6451613799448719 Repeat : 23\n"
     ]
    },
    {
     "name": "stderr",
     "output_type": "stream",
     "text": [
      "/Users/anthonymaylath/Documents/Schoolwork/NYU/High_Performance_Computing/Thesis/NYU_Machine_Learning_Project/pythonMC/proj_helpers/FinObj.py:359: FutureWarning: `rcond` parameter will change to the default of machine precision times ``max(M, N)`` where M and N are the input matrix dimensions.\n",
      "To use the future default and silence this warning we advise to pass `rcond=None`, to keep using the old, explicitly pass `rcond=-1`.\n",
      "  betas = np.linalg.lstsq(X,Ct1)[0]\n"
     ]
    },
    {
     "name": "stdout",
     "output_type": "stream",
     "text": [
      "Warning: No Paths in the Money. Price May Round to Zero.\n",
      "Time : 1.5389082431793213, Paths : 750 LSM Price Basis 2 : 0.0 LSM Price Basis 3 : 0.6357171014468017 LSM Price Basis 4 : 0.6501220782879962LSM RF Price : 0.6377247634312112 Repeat : 24\n",
      "Warning: No Paths in the Money. Price May Round to Zero.\n"
     ]
    },
    {
     "name": "stderr",
     "output_type": "stream",
     "text": [
      "/Users/anthonymaylath/Documents/Schoolwork/NYU/High_Performance_Computing/Thesis/NYU_Machine_Learning_Project/pythonMC/proj_helpers/FinObj.py:359: FutureWarning: `rcond` parameter will change to the default of machine precision times ``max(M, N)`` where M and N are the input matrix dimensions.\n",
      "To use the future default and silence this warning we advise to pass `rcond=None`, to keep using the old, explicitly pass `rcond=-1`.\n",
      "  betas = np.linalg.lstsq(X,Ct1)[0]\n"
     ]
    },
    {
     "name": "stdout",
     "output_type": "stream",
     "text": [
      "Warning: No Paths in the Money. Price May Round to Zero.\n",
      "Time : 1.4725079536437988, Paths : 750 LSM Price Basis 2 : 0.0 LSM Price Basis 3 : 0.6469835250800117 LSM Price Basis 4 : 0.6385038344730515LSM RF Price : 0.6291896821783464 Repeat : 25\n"
     ]
    },
    {
     "name": "stderr",
     "output_type": "stream",
     "text": [
      "/Users/anthonymaylath/Documents/Schoolwork/NYU/High_Performance_Computing/Thesis/NYU_Machine_Learning_Project/pythonMC/proj_helpers/FinObj.py:359: FutureWarning: `rcond` parameter will change to the default of machine precision times ``max(M, N)`` where M and N are the input matrix dimensions.\n",
      "To use the future default and silence this warning we advise to pass `rcond=None`, to keep using the old, explicitly pass `rcond=-1`.\n",
      "  betas = np.linalg.lstsq(X,Ct1)[0]\n"
     ]
    },
    {
     "name": "stdout",
     "output_type": "stream",
     "text": [
      "Warning: No Paths in the Money. Price May Round to Zero.\n",
      "Time : 1.4592888355255127, Paths : 750 LSM Price Basis 2 : 0.0 LSM Price Basis 3 : 0.6453371357790587 LSM Price Basis 4 : 0.6457807270366756LSM RF Price : 0.6319177603910123 Repeat : 26\n"
     ]
    },
    {
     "name": "stderr",
     "output_type": "stream",
     "text": [
      "/Users/anthonymaylath/Documents/Schoolwork/NYU/High_Performance_Computing/Thesis/NYU_Machine_Learning_Project/pythonMC/proj_helpers/FinObj.py:359: FutureWarning: `rcond` parameter will change to the default of machine precision times ``max(M, N)`` where M and N are the input matrix dimensions.\n",
      "To use the future default and silence this warning we advise to pass `rcond=None`, to keep using the old, explicitly pass `rcond=-1`.\n",
      "  betas = np.linalg.lstsq(X,Ct1)[0]\n"
     ]
    },
    {
     "name": "stdout",
     "output_type": "stream",
     "text": [
      "Warning: No Paths in the Money. Price May Round to Zero.\n",
      "Time : 1.4586029052734375, Paths : 750 LSM Price Basis 2 : 0.0 LSM Price Basis 3 : 0.6375709290559964 LSM Price Basis 4 : 0.6192605151162903LSM RF Price : 0.640768354795832 Repeat : 27\n"
     ]
    },
    {
     "name": "stderr",
     "output_type": "stream",
     "text": [
      "/Users/anthonymaylath/Documents/Schoolwork/NYU/High_Performance_Computing/Thesis/NYU_Machine_Learning_Project/pythonMC/proj_helpers/FinObj.py:359: FutureWarning: `rcond` parameter will change to the default of machine precision times ``max(M, N)`` where M and N are the input matrix dimensions.\n",
      "To use the future default and silence this warning we advise to pass `rcond=None`, to keep using the old, explicitly pass `rcond=-1`.\n",
      "  betas = np.linalg.lstsq(X,Ct1)[0]\n"
     ]
    },
    {
     "name": "stdout",
     "output_type": "stream",
     "text": [
      "Warning: No Paths in the Money. Price May Round to Zero.\n",
      "Warning: No Paths in the Money. Price May Round to Zero.\n",
      "Time : 1.4420838356018066, Paths : 750 LSM Price Basis 2 : 0.0 LSM Price Basis 3 : 0.6335854081247873 LSM Price Basis 4 : 0.6389112247645077LSM RF Price : 0.63999910068278 Repeat : 28\n",
      "Warning: No Paths in the Money. Price May Round to Zero.\n"
     ]
    },
    {
     "name": "stderr",
     "output_type": "stream",
     "text": [
      "/Users/anthonymaylath/Documents/Schoolwork/NYU/High_Performance_Computing/Thesis/NYU_Machine_Learning_Project/pythonMC/proj_helpers/FinObj.py:359: FutureWarning: `rcond` parameter will change to the default of machine precision times ``max(M, N)`` where M and N are the input matrix dimensions.\n",
      "To use the future default and silence this warning we advise to pass `rcond=None`, to keep using the old, explicitly pass `rcond=-1`.\n",
      "  betas = np.linalg.lstsq(X,Ct1)[0]\n"
     ]
    },
    {
     "name": "stdout",
     "output_type": "stream",
     "text": [
      "Warning: No Paths in the Money. Price May Round to Zero.\n",
      "Time : 1.4766101837158203, Paths : 750 LSM Price Basis 2 : 0.0 LSM Price Basis 3 : 0.6310556621551129 LSM Price Basis 4 : 0.6460726409553283LSM RF Price : 0.651376902322736 Repeat : 29\n",
      "Warning: No Paths in the Money. Price May Round to Zero.\n"
     ]
    },
    {
     "name": "stderr",
     "output_type": "stream",
     "text": [
      "/Users/anthonymaylath/Documents/Schoolwork/NYU/High_Performance_Computing/Thesis/NYU_Machine_Learning_Project/pythonMC/proj_helpers/FinObj.py:359: FutureWarning: `rcond` parameter will change to the default of machine precision times ``max(M, N)`` where M and N are the input matrix dimensions.\n",
      "To use the future default and silence this warning we advise to pass `rcond=None`, to keep using the old, explicitly pass `rcond=-1`.\n",
      "  betas = np.linalg.lstsq(X,Ct1)[0]\n"
     ]
    },
    {
     "name": "stdout",
     "output_type": "stream",
     "text": [
      "Time : 1.5187032222747803, Paths : 1000 LSM Price Basis 2 : 0.0 LSM Price Basis 3 : 0.6377665420273971 LSM Price Basis 4 : 0.6397718846529215LSM RF Price : 0.6398410804394805 Repeat : 0\n"
     ]
    },
    {
     "name": "stderr",
     "output_type": "stream",
     "text": [
      "/Users/anthonymaylath/Documents/Schoolwork/NYU/High_Performance_Computing/Thesis/NYU_Machine_Learning_Project/pythonMC/proj_helpers/FinObj.py:359: FutureWarning: `rcond` parameter will change to the default of machine precision times ``max(M, N)`` where M and N are the input matrix dimensions.\n",
      "To use the future default and silence this warning we advise to pass `rcond=None`, to keep using the old, explicitly pass `rcond=-1`.\n",
      "  betas = np.linalg.lstsq(X,Ct1)[0]\n"
     ]
    },
    {
     "name": "stdout",
     "output_type": "stream",
     "text": [
      "Warning: No Paths in the Money. Price May Round to Zero.\n",
      "Time : 1.5170338153839111, Paths : 1000 LSM Price Basis 2 : 0.0 LSM Price Basis 3 : 0.6327389329605331 LSM Price Basis 4 : 0.6522319994573361LSM RF Price : 0.6304548552367119 Repeat : 1\n"
     ]
    },
    {
     "name": "stderr",
     "output_type": "stream",
     "text": [
      "/Users/anthonymaylath/Documents/Schoolwork/NYU/High_Performance_Computing/Thesis/NYU_Machine_Learning_Project/pythonMC/proj_helpers/FinObj.py:359: FutureWarning: `rcond` parameter will change to the default of machine precision times ``max(M, N)`` where M and N are the input matrix dimensions.\n",
      "To use the future default and silence this warning we advise to pass `rcond=None`, to keep using the old, explicitly pass `rcond=-1`.\n",
      "  betas = np.linalg.lstsq(X,Ct1)[0]\n"
     ]
    },
    {
     "name": "stdout",
     "output_type": "stream",
     "text": [
      "Time : 1.5759310722351074, Paths : 1000 LSM Price Basis 2 : 0.0 LSM Price Basis 3 : 0.6345695730860993 LSM Price Basis 4 : 0.6508863106605833LSM RF Price : 0.6482733911395404 Repeat : 2\n"
     ]
    },
    {
     "name": "stderr",
     "output_type": "stream",
     "text": [
      "/Users/anthonymaylath/Documents/Schoolwork/NYU/High_Performance_Computing/Thesis/NYU_Machine_Learning_Project/pythonMC/proj_helpers/FinObj.py:359: FutureWarning: `rcond` parameter will change to the default of machine precision times ``max(M, N)`` where M and N are the input matrix dimensions.\n",
      "To use the future default and silence this warning we advise to pass `rcond=None`, to keep using the old, explicitly pass `rcond=-1`.\n",
      "  betas = np.linalg.lstsq(X,Ct1)[0]\n"
     ]
    },
    {
     "name": "stdout",
     "output_type": "stream",
     "text": [
      "Warning: No Paths in the Money. Price May Round to Zero.\n",
      "Time : 1.5038490295410156, Paths : 1000 LSM Price Basis 2 : 0.0 LSM Price Basis 3 : 0.6294425081526668 LSM Price Basis 4 : 0.6465573382215771LSM RF Price : 0.6260104674058949 Repeat : 3\n",
      "Warning: No Paths in the Money. Price May Round to Zero.\n"
     ]
    },
    {
     "name": "stderr",
     "output_type": "stream",
     "text": [
      "/Users/anthonymaylath/Documents/Schoolwork/NYU/High_Performance_Computing/Thesis/NYU_Machine_Learning_Project/pythonMC/proj_helpers/FinObj.py:359: FutureWarning: `rcond` parameter will change to the default of machine precision times ``max(M, N)`` where M and N are the input matrix dimensions.\n",
      "To use the future default and silence this warning we advise to pass `rcond=None`, to keep using the old, explicitly pass `rcond=-1`.\n",
      "  betas = np.linalg.lstsq(X,Ct1)[0]\n"
     ]
    },
    {
     "name": "stdout",
     "output_type": "stream",
     "text": [
      "Warning: No Paths in the Money. Price May Round to Zero.\n",
      "Time : 1.5127880573272705, Paths : 1000 LSM Price Basis 2 : 0.0 LSM Price Basis 3 : 0.6303216666848455 LSM Price Basis 4 : 0.6495288021875016LSM RF Price : 0.6475547879829375 Repeat : 4\n",
      "Warning: No Paths in the Money. Price May Round to Zero.\n"
     ]
    },
    {
     "name": "stderr",
     "output_type": "stream",
     "text": [
      "/Users/anthonymaylath/Documents/Schoolwork/NYU/High_Performance_Computing/Thesis/NYU_Machine_Learning_Project/pythonMC/proj_helpers/FinObj.py:359: FutureWarning: `rcond` parameter will change to the default of machine precision times ``max(M, N)`` where M and N are the input matrix dimensions.\n",
      "To use the future default and silence this warning we advise to pass `rcond=None`, to keep using the old, explicitly pass `rcond=-1`.\n",
      "  betas = np.linalg.lstsq(X,Ct1)[0]\n"
     ]
    },
    {
     "name": "stdout",
     "output_type": "stream",
     "text": [
      "Time : 1.5235440731048584, Paths : 1000 LSM Price Basis 2 : 0.0 LSM Price Basis 3 : 0.6569882295831126 LSM Price Basis 4 : 0.6508083434328901LSM RF Price : 0.6361871381851374 Repeat : 5\n"
     ]
    },
    {
     "name": "stderr",
     "output_type": "stream",
     "text": [
      "/Users/anthonymaylath/Documents/Schoolwork/NYU/High_Performance_Computing/Thesis/NYU_Machine_Learning_Project/pythonMC/proj_helpers/FinObj.py:359: FutureWarning: `rcond` parameter will change to the default of machine precision times ``max(M, N)`` where M and N are the input matrix dimensions.\n",
      "To use the future default and silence this warning we advise to pass `rcond=None`, to keep using the old, explicitly pass `rcond=-1`.\n",
      "  betas = np.linalg.lstsq(X,Ct1)[0]\n"
     ]
    },
    {
     "name": "stdout",
     "output_type": "stream",
     "text": [
      "Time : 1.5323398113250732, Paths : 1000 LSM Price Basis 2 : 0.0 LSM Price Basis 3 : 0.6394323630877973 LSM Price Basis 4 : 0.6533914182596343LSM RF Price : 0.6399919840840796 Repeat : 6\n"
     ]
    },
    {
     "name": "stderr",
     "output_type": "stream",
     "text": [
      "/Users/anthonymaylath/Documents/Schoolwork/NYU/High_Performance_Computing/Thesis/NYU_Machine_Learning_Project/pythonMC/proj_helpers/FinObj.py:359: FutureWarning: `rcond` parameter will change to the default of machine precision times ``max(M, N)`` where M and N are the input matrix dimensions.\n",
      "To use the future default and silence this warning we advise to pass `rcond=None`, to keep using the old, explicitly pass `rcond=-1`.\n",
      "  betas = np.linalg.lstsq(X,Ct1)[0]\n"
     ]
    },
    {
     "name": "stdout",
     "output_type": "stream",
     "text": [
      "Warning: No Paths in the Money. Price May Round to Zero.\n",
      "Time : 1.5185298919677734, Paths : 1000 LSM Price Basis 2 : 0.0 LSM Price Basis 3 : 0.6397017641391048 LSM Price Basis 4 : 0.6641466201789084LSM RF Price : 0.6420527696381739 Repeat : 7\n"
     ]
    },
    {
     "name": "stderr",
     "output_type": "stream",
     "text": [
      "/Users/anthonymaylath/Documents/Schoolwork/NYU/High_Performance_Computing/Thesis/NYU_Machine_Learning_Project/pythonMC/proj_helpers/FinObj.py:359: FutureWarning: `rcond` parameter will change to the default of machine precision times ``max(M, N)`` where M and N are the input matrix dimensions.\n",
      "To use the future default and silence this warning we advise to pass `rcond=None`, to keep using the old, explicitly pass `rcond=-1`.\n",
      "  betas = np.linalg.lstsq(X,Ct1)[0]\n"
     ]
    },
    {
     "name": "stdout",
     "output_type": "stream",
     "text": [
      "Time : 1.5458030700683594, Paths : 1000 LSM Price Basis 2 : 0.0 LSM Price Basis 3 : 0.6456184184474096 LSM Price Basis 4 : 0.6463355539970914LSM RF Price : 0.6320591943309606 Repeat : 8\n"
     ]
    },
    {
     "name": "stderr",
     "output_type": "stream",
     "text": [
      "/Users/anthonymaylath/Documents/Schoolwork/NYU/High_Performance_Computing/Thesis/NYU_Machine_Learning_Project/pythonMC/proj_helpers/FinObj.py:359: FutureWarning: `rcond` parameter will change to the default of machine precision times ``max(M, N)`` where M and N are the input matrix dimensions.\n",
      "To use the future default and silence this warning we advise to pass `rcond=None`, to keep using the old, explicitly pass `rcond=-1`.\n",
      "  betas = np.linalg.lstsq(X,Ct1)[0]\n"
     ]
    },
    {
     "name": "stdout",
     "output_type": "stream",
     "text": [
      "Warning: No Paths in the Money. Price May Round to Zero.\n",
      "Time : 1.50325608253479, Paths : 1000 LSM Price Basis 2 : 0.0 LSM Price Basis 3 : 0.6295118719438764 LSM Price Basis 4 : 0.6345815881423129LSM RF Price : 0.6378793585819855 Repeat : 9\n"
     ]
    },
    {
     "name": "stderr",
     "output_type": "stream",
     "text": [
      "/Users/anthonymaylath/Documents/Schoolwork/NYU/High_Performance_Computing/Thesis/NYU_Machine_Learning_Project/pythonMC/proj_helpers/FinObj.py:359: FutureWarning: `rcond` parameter will change to the default of machine precision times ``max(M, N)`` where M and N are the input matrix dimensions.\n",
      "To use the future default and silence this warning we advise to pass `rcond=None`, to keep using the old, explicitly pass `rcond=-1`.\n",
      "  betas = np.linalg.lstsq(X,Ct1)[0]\n"
     ]
    },
    {
     "name": "stdout",
     "output_type": "stream",
     "text": [
      "Time : 1.5067520141601562, Paths : 1000 LSM Price Basis 2 : 0.0 LSM Price Basis 3 : 0.6457155464177663 LSM Price Basis 4 : 0.6433037333794226LSM RF Price : 0.6382986942807963 Repeat : 10\n",
      "Warning: No Paths in the Money. Price May Round to Zero.\n"
     ]
    },
    {
     "name": "stderr",
     "output_type": "stream",
     "text": [
      "/Users/anthonymaylath/Documents/Schoolwork/NYU/High_Performance_Computing/Thesis/NYU_Machine_Learning_Project/pythonMC/proj_helpers/FinObj.py:359: FutureWarning: `rcond` parameter will change to the default of machine precision times ``max(M, N)`` where M and N are the input matrix dimensions.\n",
      "To use the future default and silence this warning we advise to pass `rcond=None`, to keep using the old, explicitly pass `rcond=-1`.\n",
      "  betas = np.linalg.lstsq(X,Ct1)[0]\n"
     ]
    },
    {
     "name": "stdout",
     "output_type": "stream",
     "text": [
      "Time : 1.524224042892456, Paths : 1000 LSM Price Basis 2 : 0.0 LSM Price Basis 3 : 0.6377085981628572 LSM Price Basis 4 : 0.6522206311409161LSM RF Price : 0.6334148319494047 Repeat : 11\n",
      "Warning: No Paths in the Money. Price May Round to Zero.\n"
     ]
    },
    {
     "name": "stderr",
     "output_type": "stream",
     "text": [
      "/Users/anthonymaylath/Documents/Schoolwork/NYU/High_Performance_Computing/Thesis/NYU_Machine_Learning_Project/pythonMC/proj_helpers/FinObj.py:359: FutureWarning: `rcond` parameter will change to the default of machine precision times ``max(M, N)`` where M and N are the input matrix dimensions.\n",
      "To use the future default and silence this warning we advise to pass `rcond=None`, to keep using the old, explicitly pass `rcond=-1`.\n",
      "  betas = np.linalg.lstsq(X,Ct1)[0]\n"
     ]
    },
    {
     "name": "stdout",
     "output_type": "stream",
     "text": [
      "Warning: No Paths in the Money. Price May Round to Zero.\n",
      "Time : 1.5138230323791504, Paths : 1000 LSM Price Basis 2 : 0.0 LSM Price Basis 3 : 0.6243115461952246 LSM Price Basis 4 : 0.638894402229085LSM RF Price : 0.6470980855777098 Repeat : 12\n"
     ]
    },
    {
     "name": "stderr",
     "output_type": "stream",
     "text": [
      "/Users/anthonymaylath/Documents/Schoolwork/NYU/High_Performance_Computing/Thesis/NYU_Machine_Learning_Project/pythonMC/proj_helpers/FinObj.py:359: FutureWarning: `rcond` parameter will change to the default of machine precision times ``max(M, N)`` where M and N are the input matrix dimensions.\n",
      "To use the future default and silence this warning we advise to pass `rcond=None`, to keep using the old, explicitly pass `rcond=-1`.\n",
      "  betas = np.linalg.lstsq(X,Ct1)[0]\n"
     ]
    },
    {
     "name": "stdout",
     "output_type": "stream",
     "text": [
      "Warning: No Paths in the Money. Price May Round to Zero.\n",
      "Warning: No Paths in the Money. Price May Round to Zero.\n",
      "Time : 1.5119240283966064, Paths : 1000 LSM Price Basis 2 : 0.0 LSM Price Basis 3 : 0.632768396393826 LSM Price Basis 4 : 0.6254174120283852LSM RF Price : 0.6572988985910778 Repeat : 13\n"
     ]
    },
    {
     "name": "stderr",
     "output_type": "stream",
     "text": [
      "/Users/anthonymaylath/Documents/Schoolwork/NYU/High_Performance_Computing/Thesis/NYU_Machine_Learning_Project/pythonMC/proj_helpers/FinObj.py:359: FutureWarning: `rcond` parameter will change to the default of machine precision times ``max(M, N)`` where M and N are the input matrix dimensions.\n",
      "To use the future default and silence this warning we advise to pass `rcond=None`, to keep using the old, explicitly pass `rcond=-1`.\n",
      "  betas = np.linalg.lstsq(X,Ct1)[0]\n"
     ]
    },
    {
     "name": "stdout",
     "output_type": "stream",
     "text": [
      "Time : 1.5278658866882324, Paths : 1000 LSM Price Basis 2 : 0.0 LSM Price Basis 3 : 0.6321043675666567 LSM Price Basis 4 : 0.6261724813408255LSM RF Price : 0.6567277623709104 Repeat : 14\n",
      "Warning: No Paths in the Money. Price May Round to Zero.\n"
     ]
    },
    {
     "name": "stderr",
     "output_type": "stream",
     "text": [
      "/Users/anthonymaylath/Documents/Schoolwork/NYU/High_Performance_Computing/Thesis/NYU_Machine_Learning_Project/pythonMC/proj_helpers/FinObj.py:359: FutureWarning: `rcond` parameter will change to the default of machine precision times ``max(M, N)`` where M and N are the input matrix dimensions.\n",
      "To use the future default and silence this warning we advise to pass `rcond=None`, to keep using the old, explicitly pass `rcond=-1`.\n",
      "  betas = np.linalg.lstsq(X,Ct1)[0]\n"
     ]
    },
    {
     "name": "stdout",
     "output_type": "stream",
     "text": [
      "Warning: No Paths in the Money. Price May Round to Zero.\n",
      "Warning: No Paths in the Money. Price May Round to Zero.\n",
      "Time : 1.5652930736541748, Paths : 1000 LSM Price Basis 2 : 0.0 LSM Price Basis 3 : 0.6384174587471197 LSM Price Basis 4 : 0.6417907633373838LSM RF Price : 0.653124412269121 Repeat : 15\n"
     ]
    },
    {
     "name": "stderr",
     "output_type": "stream",
     "text": [
      "/Users/anthonymaylath/Documents/Schoolwork/NYU/High_Performance_Computing/Thesis/NYU_Machine_Learning_Project/pythonMC/proj_helpers/FinObj.py:359: FutureWarning: `rcond` parameter will change to the default of machine precision times ``max(M, N)`` where M and N are the input matrix dimensions.\n",
      "To use the future default and silence this warning we advise to pass `rcond=None`, to keep using the old, explicitly pass `rcond=-1`.\n",
      "  betas = np.linalg.lstsq(X,Ct1)[0]\n"
     ]
    },
    {
     "name": "stdout",
     "output_type": "stream",
     "text": [
      "Warning: No Paths in the Money. Price May Round to Zero.\n",
      "Time : 1.5521152019500732, Paths : 1000 LSM Price Basis 2 : 0.0 LSM Price Basis 3 : 0.631261574865794 LSM Price Basis 4 : 0.638410265458187LSM RF Price : 0.6462942100660055 Repeat : 16\n",
      "Warning: No Paths in the Money. Price May Round to Zero.\n"
     ]
    },
    {
     "name": "stderr",
     "output_type": "stream",
     "text": [
      "/Users/anthonymaylath/Documents/Schoolwork/NYU/High_Performance_Computing/Thesis/NYU_Machine_Learning_Project/pythonMC/proj_helpers/FinObj.py:359: FutureWarning: `rcond` parameter will change to the default of machine precision times ``max(M, N)`` where M and N are the input matrix dimensions.\n",
      "To use the future default and silence this warning we advise to pass `rcond=None`, to keep using the old, explicitly pass `rcond=-1`.\n",
      "  betas = np.linalg.lstsq(X,Ct1)[0]\n"
     ]
    },
    {
     "name": "stdout",
     "output_type": "stream",
     "text": [
      "Time : 1.5236310958862305, Paths : 1000 LSM Price Basis 2 : 0.0 LSM Price Basis 3 : 0.629428930657599 LSM Price Basis 4 : 0.6336983178392029LSM RF Price : 0.6478822559887897 Repeat : 17\n"
     ]
    },
    {
     "name": "stderr",
     "output_type": "stream",
     "text": [
      "/Users/anthonymaylath/Documents/Schoolwork/NYU/High_Performance_Computing/Thesis/NYU_Machine_Learning_Project/pythonMC/proj_helpers/FinObj.py:359: FutureWarning: `rcond` parameter will change to the default of machine precision times ``max(M, N)`` where M and N are the input matrix dimensions.\n",
      "To use the future default and silence this warning we advise to pass `rcond=None`, to keep using the old, explicitly pass `rcond=-1`.\n",
      "  betas = np.linalg.lstsq(X,Ct1)[0]\n"
     ]
    },
    {
     "name": "stdout",
     "output_type": "stream",
     "text": [
      "Warning: No Paths in the Money. Price May Round to Zero.\n",
      "Time : 1.5102741718292236, Paths : 1000 LSM Price Basis 2 : 0.0 LSM Price Basis 3 : 0.6437427576505397 LSM Price Basis 4 : 0.6436502041489189LSM RF Price : 0.6408646703507448 Repeat : 18\n",
      "Warning: No Paths in the Money. Price May Round to Zero.\n"
     ]
    },
    {
     "name": "stderr",
     "output_type": "stream",
     "text": [
      "/Users/anthonymaylath/Documents/Schoolwork/NYU/High_Performance_Computing/Thesis/NYU_Machine_Learning_Project/pythonMC/proj_helpers/FinObj.py:359: FutureWarning: `rcond` parameter will change to the default of machine precision times ``max(M, N)`` where M and N are the input matrix dimensions.\n",
      "To use the future default and silence this warning we advise to pass `rcond=None`, to keep using the old, explicitly pass `rcond=-1`.\n",
      "  betas = np.linalg.lstsq(X,Ct1)[0]\n"
     ]
    },
    {
     "name": "stdout",
     "output_type": "stream",
     "text": [
      "Time : 1.5143530368804932, Paths : 1000 LSM Price Basis 2 : 0.0 LSM Price Basis 3 : 0.6369299761038365 LSM Price Basis 4 : 0.6281545697773808LSM RF Price : 0.6430454824599096 Repeat : 19\n"
     ]
    },
    {
     "name": "stderr",
     "output_type": "stream",
     "text": [
      "/Users/anthonymaylath/Documents/Schoolwork/NYU/High_Performance_Computing/Thesis/NYU_Machine_Learning_Project/pythonMC/proj_helpers/FinObj.py:359: FutureWarning: `rcond` parameter will change to the default of machine precision times ``max(M, N)`` where M and N are the input matrix dimensions.\n",
      "To use the future default and silence this warning we advise to pass `rcond=None`, to keep using the old, explicitly pass `rcond=-1`.\n",
      "  betas = np.linalg.lstsq(X,Ct1)[0]\n"
     ]
    },
    {
     "name": "stdout",
     "output_type": "stream",
     "text": [
      "Warning: No Paths in the Money. Price May Round to Zero.\n",
      "Time : 1.524022102355957, Paths : 1000 LSM Price Basis 2 : 0.0 LSM Price Basis 3 : 0.6350298289586829 LSM Price Basis 4 : 0.658062565113625LSM RF Price : 0.6593796146635568 Repeat : 20\n"
     ]
    },
    {
     "name": "stderr",
     "output_type": "stream",
     "text": [
      "/Users/anthonymaylath/Documents/Schoolwork/NYU/High_Performance_Computing/Thesis/NYU_Machine_Learning_Project/pythonMC/proj_helpers/FinObj.py:359: FutureWarning: `rcond` parameter will change to the default of machine precision times ``max(M, N)`` where M and N are the input matrix dimensions.\n",
      "To use the future default and silence this warning we advise to pass `rcond=None`, to keep using the old, explicitly pass `rcond=-1`.\n",
      "  betas = np.linalg.lstsq(X,Ct1)[0]\n"
     ]
    },
    {
     "name": "stdout",
     "output_type": "stream",
     "text": [
      "Time : 1.5233738422393799, Paths : 1000 LSM Price Basis 2 : 0.0 LSM Price Basis 3 : 0.6305716090871234 LSM Price Basis 4 : 0.6137015975783942LSM RF Price : 0.6303956981113693 Repeat : 21\n"
     ]
    },
    {
     "name": "stderr",
     "output_type": "stream",
     "text": [
      "/Users/anthonymaylath/Documents/Schoolwork/NYU/High_Performance_Computing/Thesis/NYU_Machine_Learning_Project/pythonMC/proj_helpers/FinObj.py:359: FutureWarning: `rcond` parameter will change to the default of machine precision times ``max(M, N)`` where M and N are the input matrix dimensions.\n",
      "To use the future default and silence this warning we advise to pass `rcond=None`, to keep using the old, explicitly pass `rcond=-1`.\n",
      "  betas = np.linalg.lstsq(X,Ct1)[0]\n"
     ]
    },
    {
     "name": "stdout",
     "output_type": "stream",
     "text": [
      "Warning: No Paths in the Money. Price May Round to Zero.\n",
      "Time : 1.5216050148010254, Paths : 1000 LSM Price Basis 2 : 0.0 LSM Price Basis 3 : 0.6310866222642783 LSM Price Basis 4 : 0.640606257210753LSM RF Price : 0.6458714434822782 Repeat : 22\n",
      "Warning: No Paths in the Money. Price May Round to Zero.\n"
     ]
    },
    {
     "name": "stderr",
     "output_type": "stream",
     "text": [
      "/Users/anthonymaylath/Documents/Schoolwork/NYU/High_Performance_Computing/Thesis/NYU_Machine_Learning_Project/pythonMC/proj_helpers/FinObj.py:359: FutureWarning: `rcond` parameter will change to the default of machine precision times ``max(M, N)`` where M and N are the input matrix dimensions.\n",
      "To use the future default and silence this warning we advise to pass `rcond=None`, to keep using the old, explicitly pass `rcond=-1`.\n",
      "  betas = np.linalg.lstsq(X,Ct1)[0]\n"
     ]
    },
    {
     "name": "stdout",
     "output_type": "stream",
     "text": [
      "Time : 1.5362811088562012, Paths : 1000 LSM Price Basis 2 : 0.0 LSM Price Basis 3 : 0.6261027787392756 LSM Price Basis 4 : 0.6525576956975413LSM RF Price : 0.6514670210371385 Repeat : 23\n"
     ]
    },
    {
     "name": "stderr",
     "output_type": "stream",
     "text": [
      "/Users/anthonymaylath/Documents/Schoolwork/NYU/High_Performance_Computing/Thesis/NYU_Machine_Learning_Project/pythonMC/proj_helpers/FinObj.py:359: FutureWarning: `rcond` parameter will change to the default of machine precision times ``max(M, N)`` where M and N are the input matrix dimensions.\n",
      "To use the future default and silence this warning we advise to pass `rcond=None`, to keep using the old, explicitly pass `rcond=-1`.\n",
      "  betas = np.linalg.lstsq(X,Ct1)[0]\n"
     ]
    },
    {
     "name": "stdout",
     "output_type": "stream",
     "text": [
      "Time : 1.5110790729522705, Paths : 1000 LSM Price Basis 2 : 0.0 LSM Price Basis 3 : 0.6476644626017307 LSM Price Basis 4 : 0.6363709691152069LSM RF Price : 0.6338059887387278 Repeat : 24\n"
     ]
    },
    {
     "name": "stderr",
     "output_type": "stream",
     "text": [
      "/Users/anthonymaylath/Documents/Schoolwork/NYU/High_Performance_Computing/Thesis/NYU_Machine_Learning_Project/pythonMC/proj_helpers/FinObj.py:359: FutureWarning: `rcond` parameter will change to the default of machine precision times ``max(M, N)`` where M and N are the input matrix dimensions.\n",
      "To use the future default and silence this warning we advise to pass `rcond=None`, to keep using the old, explicitly pass `rcond=-1`.\n",
      "  betas = np.linalg.lstsq(X,Ct1)[0]\n"
     ]
    },
    {
     "name": "stdout",
     "output_type": "stream",
     "text": [
      "Warning: No Paths in the Money. Price May Round to Zero.\n",
      "Time : 1.549872875213623, Paths : 1000 LSM Price Basis 2 : 0.0 LSM Price Basis 3 : 0.6474930160835256 LSM Price Basis 4 : 0.642699631589121LSM RF Price : 0.6264388133024213 Repeat : 25\n"
     ]
    },
    {
     "name": "stderr",
     "output_type": "stream",
     "text": [
      "/Users/anthonymaylath/Documents/Schoolwork/NYU/High_Performance_Computing/Thesis/NYU_Machine_Learning_Project/pythonMC/proj_helpers/FinObj.py:359: FutureWarning: `rcond` parameter will change to the default of machine precision times ``max(M, N)`` where M and N are the input matrix dimensions.\n",
      "To use the future default and silence this warning we advise to pass `rcond=None`, to keep using the old, explicitly pass `rcond=-1`.\n",
      "  betas = np.linalg.lstsq(X,Ct1)[0]\n"
     ]
    },
    {
     "name": "stdout",
     "output_type": "stream",
     "text": [
      "Warning: No Paths in the Money. Price May Round to Zero.\n",
      "Warning: No Paths in the Money. Price May Round to Zero.\n",
      "Time : 1.4877090454101562, Paths : 1000 LSM Price Basis 2 : 0.0 LSM Price Basis 3 : 0.6515110975159404 LSM Price Basis 4 : 0.6530401827851059LSM RF Price : 0.6289378109286813 Repeat : 26\n"
     ]
    },
    {
     "name": "stderr",
     "output_type": "stream",
     "text": [
      "/Users/anthonymaylath/Documents/Schoolwork/NYU/High_Performance_Computing/Thesis/NYU_Machine_Learning_Project/pythonMC/proj_helpers/FinObj.py:359: FutureWarning: `rcond` parameter will change to the default of machine precision times ``max(M, N)`` where M and N are the input matrix dimensions.\n",
      "To use the future default and silence this warning we advise to pass `rcond=None`, to keep using the old, explicitly pass `rcond=-1`.\n",
      "  betas = np.linalg.lstsq(X,Ct1)[0]\n"
     ]
    },
    {
     "name": "stdout",
     "output_type": "stream",
     "text": [
      "Warning: No Paths in the Money. Price May Round to Zero.\n",
      "Warning: No Paths in the Money. Price May Round to Zero.\n",
      "Time : 1.5264079570770264, Paths : 1000 LSM Price Basis 2 : 0.0 LSM Price Basis 3 : 0.6360937389028167 LSM Price Basis 4 : 0.633862150000075LSM RF Price : 0.6353330128545625 Repeat : 27\n"
     ]
    },
    {
     "name": "stderr",
     "output_type": "stream",
     "text": [
      "/Users/anthonymaylath/Documents/Schoolwork/NYU/High_Performance_Computing/Thesis/NYU_Machine_Learning_Project/pythonMC/proj_helpers/FinObj.py:359: FutureWarning: `rcond` parameter will change to the default of machine precision times ``max(M, N)`` where M and N are the input matrix dimensions.\n",
      "To use the future default and silence this warning we advise to pass `rcond=None`, to keep using the old, explicitly pass `rcond=-1`.\n",
      "  betas = np.linalg.lstsq(X,Ct1)[0]\n"
     ]
    },
    {
     "name": "stdout",
     "output_type": "stream",
     "text": [
      "Warning: No Paths in the Money. Price May Round to Zero.\n",
      "Time : 1.525683879852295, Paths : 1000 LSM Price Basis 2 : 0.0 LSM Price Basis 3 : 0.6346889398515063 LSM Price Basis 4 : 0.6415733118898544LSM RF Price : 0.6290085506891993 Repeat : 28\n"
     ]
    },
    {
     "name": "stderr",
     "output_type": "stream",
     "text": [
      "/Users/anthonymaylath/Documents/Schoolwork/NYU/High_Performance_Computing/Thesis/NYU_Machine_Learning_Project/pythonMC/proj_helpers/FinObj.py:359: FutureWarning: `rcond` parameter will change to the default of machine precision times ``max(M, N)`` where M and N are the input matrix dimensions.\n",
      "To use the future default and silence this warning we advise to pass `rcond=None`, to keep using the old, explicitly pass `rcond=-1`.\n",
      "  betas = np.linalg.lstsq(X,Ct1)[0]\n"
     ]
    },
    {
     "name": "stdout",
     "output_type": "stream",
     "text": [
      "Warning: No Paths in the Money. Price May Round to Zero.\n",
      "Time : 1.5219089984893799, Paths : 1000 LSM Price Basis 2 : 0.0 LSM Price Basis 3 : 0.6299528311047261 LSM Price Basis 4 : 0.620148819483233LSM RF Price : 0.6567109491881025 Repeat : 29\n"
     ]
    },
    {
     "name": "stderr",
     "output_type": "stream",
     "text": [
      "/Users/anthonymaylath/Documents/Schoolwork/NYU/High_Performance_Computing/Thesis/NYU_Machine_Learning_Project/pythonMC/proj_helpers/FinObj.py:359: FutureWarning: `rcond` parameter will change to the default of machine precision times ``max(M, N)`` where M and N are the input matrix dimensions.\n",
      "To use the future default and silence this warning we advise to pass `rcond=None`, to keep using the old, explicitly pass `rcond=-1`.\n",
      "  betas = np.linalg.lstsq(X,Ct1)[0]\n"
     ]
    },
    {
     "name": "stdout",
     "output_type": "stream",
     "text": [
      "Time : 1.750058889389038, Paths : 2000 LSM Price Basis 2 : 0.0 LSM Price Basis 3 : 0.6342642532291165 LSM Price Basis 4 : 0.6380010279547302LSM RF Price : 0.6360298135609874 Repeat : 0\n"
     ]
    },
    {
     "name": "stderr",
     "output_type": "stream",
     "text": [
      "/Users/anthonymaylath/Documents/Schoolwork/NYU/High_Performance_Computing/Thesis/NYU_Machine_Learning_Project/pythonMC/proj_helpers/FinObj.py:359: FutureWarning: `rcond` parameter will change to the default of machine precision times ``max(M, N)`` where M and N are the input matrix dimensions.\n",
      "To use the future default and silence this warning we advise to pass `rcond=None`, to keep using the old, explicitly pass `rcond=-1`.\n",
      "  betas = np.linalg.lstsq(X,Ct1)[0]\n"
     ]
    },
    {
     "name": "stdout",
     "output_type": "stream",
     "text": [
      "Time : 1.7351839542388916, Paths : 2000 LSM Price Basis 2 : 0.0 LSM Price Basis 3 : 0.6246532245784315 LSM Price Basis 4 : 0.6448527455884614LSM RF Price : 0.6351278278143864 Repeat : 1\n"
     ]
    },
    {
     "name": "stderr",
     "output_type": "stream",
     "text": [
      "/Users/anthonymaylath/Documents/Schoolwork/NYU/High_Performance_Computing/Thesis/NYU_Machine_Learning_Project/pythonMC/proj_helpers/FinObj.py:359: FutureWarning: `rcond` parameter will change to the default of machine precision times ``max(M, N)`` where M and N are the input matrix dimensions.\n",
      "To use the future default and silence this warning we advise to pass `rcond=None`, to keep using the old, explicitly pass `rcond=-1`.\n",
      "  betas = np.linalg.lstsq(X,Ct1)[0]\n"
     ]
    },
    {
     "name": "stdout",
     "output_type": "stream",
     "text": [
      "Time : 1.7395591735839844, Paths : 2000 LSM Price Basis 2 : 0.0 LSM Price Basis 3 : 0.6326944969003635 LSM Price Basis 4 : 0.6337162572057669LSM RF Price : 0.6467944824963813 Repeat : 2\n"
     ]
    },
    {
     "name": "stderr",
     "output_type": "stream",
     "text": [
      "/Users/anthonymaylath/Documents/Schoolwork/NYU/High_Performance_Computing/Thesis/NYU_Machine_Learning_Project/pythonMC/proj_helpers/FinObj.py:359: FutureWarning: `rcond` parameter will change to the default of machine precision times ``max(M, N)`` where M and N are the input matrix dimensions.\n",
      "To use the future default and silence this warning we advise to pass `rcond=None`, to keep using the old, explicitly pass `rcond=-1`.\n",
      "  betas = np.linalg.lstsq(X,Ct1)[0]\n"
     ]
    },
    {
     "name": "stdout",
     "output_type": "stream",
     "text": [
      "Time : 1.7402560710906982, Paths : 2000 LSM Price Basis 2 : 0.0 LSM Price Basis 3 : 0.6453279274177276 LSM Price Basis 4 : 0.6433509385125598LSM RF Price : 0.6437973191600531 Repeat : 3\n"
     ]
    },
    {
     "name": "stderr",
     "output_type": "stream",
     "text": [
      "/Users/anthonymaylath/Documents/Schoolwork/NYU/High_Performance_Computing/Thesis/NYU_Machine_Learning_Project/pythonMC/proj_helpers/FinObj.py:359: FutureWarning: `rcond` parameter will change to the default of machine precision times ``max(M, N)`` where M and N are the input matrix dimensions.\n",
      "To use the future default and silence this warning we advise to pass `rcond=None`, to keep using the old, explicitly pass `rcond=-1`.\n",
      "  betas = np.linalg.lstsq(X,Ct1)[0]\n"
     ]
    },
    {
     "name": "stdout",
     "output_type": "stream",
     "text": [
      "Time : 1.809122085571289, Paths : 2000 LSM Price Basis 2 : 0.0 LSM Price Basis 3 : 0.6284946273078836 LSM Price Basis 4 : 0.6338010653952701LSM RF Price : 0.6401262817217055 Repeat : 4\n"
     ]
    },
    {
     "name": "stderr",
     "output_type": "stream",
     "text": [
      "/Users/anthonymaylath/Documents/Schoolwork/NYU/High_Performance_Computing/Thesis/NYU_Machine_Learning_Project/pythonMC/proj_helpers/FinObj.py:359: FutureWarning: `rcond` parameter will change to the default of machine precision times ``max(M, N)`` where M and N are the input matrix dimensions.\n",
      "To use the future default and silence this warning we advise to pass `rcond=None`, to keep using the old, explicitly pass `rcond=-1`.\n",
      "  betas = np.linalg.lstsq(X,Ct1)[0]\n"
     ]
    },
    {
     "name": "stdout",
     "output_type": "stream",
     "text": [
      "Warning: No Paths in the Money. Price May Round to Zero.\n",
      "Time : 1.7551310062408447, Paths : 2000 LSM Price Basis 2 : 0.0 LSM Price Basis 3 : 0.6325850419095992 LSM Price Basis 4 : 0.6216870356612672LSM RF Price : 0.6449903407550944 Repeat : 5\n"
     ]
    },
    {
     "name": "stderr",
     "output_type": "stream",
     "text": [
      "/Users/anthonymaylath/Documents/Schoolwork/NYU/High_Performance_Computing/Thesis/NYU_Machine_Learning_Project/pythonMC/proj_helpers/FinObj.py:359: FutureWarning: `rcond` parameter will change to the default of machine precision times ``max(M, N)`` where M and N are the input matrix dimensions.\n",
      "To use the future default and silence this warning we advise to pass `rcond=None`, to keep using the old, explicitly pass `rcond=-1`.\n",
      "  betas = np.linalg.lstsq(X,Ct1)[0]\n"
     ]
    },
    {
     "name": "stdout",
     "output_type": "stream",
     "text": [
      "Warning: No Paths in the Money. Price May Round to Zero.\n",
      "Time : 1.7336530685424805, Paths : 2000 LSM Price Basis 2 : 0.0 LSM Price Basis 3 : 0.6433736114660737 LSM Price Basis 4 : 0.6342103160375193LSM RF Price : 0.6534859039508292 Repeat : 6\n"
     ]
    },
    {
     "name": "stderr",
     "output_type": "stream",
     "text": [
      "/Users/anthonymaylath/Documents/Schoolwork/NYU/High_Performance_Computing/Thesis/NYU_Machine_Learning_Project/pythonMC/proj_helpers/FinObj.py:359: FutureWarning: `rcond` parameter will change to the default of machine precision times ``max(M, N)`` where M and N are the input matrix dimensions.\n",
      "To use the future default and silence this warning we advise to pass `rcond=None`, to keep using the old, explicitly pass `rcond=-1`.\n",
      "  betas = np.linalg.lstsq(X,Ct1)[0]\n"
     ]
    },
    {
     "name": "stdout",
     "output_type": "stream",
     "text": [
      "Time : 1.741386890411377, Paths : 2000 LSM Price Basis 2 : 0.0 LSM Price Basis 3 : 0.6277075979320312 LSM Price Basis 4 : 0.6327843873825525LSM RF Price : 0.6425861480454084 Repeat : 7\n",
      "Warning: No Paths in the Money. Price May Round to Zero.\n"
     ]
    },
    {
     "name": "stderr",
     "output_type": "stream",
     "text": [
      "/Users/anthonymaylath/Documents/Schoolwork/NYU/High_Performance_Computing/Thesis/NYU_Machine_Learning_Project/pythonMC/proj_helpers/FinObj.py:359: FutureWarning: `rcond` parameter will change to the default of machine precision times ``max(M, N)`` where M and N are the input matrix dimensions.\n",
      "To use the future default and silence this warning we advise to pass `rcond=None`, to keep using the old, explicitly pass `rcond=-1`.\n",
      "  betas = np.linalg.lstsq(X,Ct1)[0]\n"
     ]
    },
    {
     "name": "stdout",
     "output_type": "stream",
     "text": [
      "Warning: No Paths in the Money. Price May Round to Zero.\n",
      "Time : 1.7198090553283691, Paths : 2000 LSM Price Basis 2 : 0.0 LSM Price Basis 3 : 0.6331973679465197 LSM Price Basis 4 : 0.6332832565317528LSM RF Price : 0.6345786318586215 Repeat : 8\n"
     ]
    },
    {
     "name": "stderr",
     "output_type": "stream",
     "text": [
      "/Users/anthonymaylath/Documents/Schoolwork/NYU/High_Performance_Computing/Thesis/NYU_Machine_Learning_Project/pythonMC/proj_helpers/FinObj.py:359: FutureWarning: `rcond` parameter will change to the default of machine precision times ``max(M, N)`` where M and N are the input matrix dimensions.\n",
      "To use the future default and silence this warning we advise to pass `rcond=None`, to keep using the old, explicitly pass `rcond=-1`.\n",
      "  betas = np.linalg.lstsq(X,Ct1)[0]\n"
     ]
    },
    {
     "name": "stdout",
     "output_type": "stream",
     "text": [
      "Time : 1.7287318706512451, Paths : 2000 LSM Price Basis 2 : 0.0 LSM Price Basis 3 : 0.6302433138166693 LSM Price Basis 4 : 0.6421991792914263LSM RF Price : 0.6446706133524847 Repeat : 9\n"
     ]
    },
    {
     "name": "stderr",
     "output_type": "stream",
     "text": [
      "/Users/anthonymaylath/Documents/Schoolwork/NYU/High_Performance_Computing/Thesis/NYU_Machine_Learning_Project/pythonMC/proj_helpers/FinObj.py:359: FutureWarning: `rcond` parameter will change to the default of machine precision times ``max(M, N)`` where M and N are the input matrix dimensions.\n",
      "To use the future default and silence this warning we advise to pass `rcond=None`, to keep using the old, explicitly pass `rcond=-1`.\n",
      "  betas = np.linalg.lstsq(X,Ct1)[0]\n"
     ]
    },
    {
     "name": "stdout",
     "output_type": "stream",
     "text": [
      "Time : 1.729433298110962, Paths : 2000 LSM Price Basis 2 : 0.0 LSM Price Basis 3 : 0.642176286233848 LSM Price Basis 4 : 0.6417229370301297LSM RF Price : 0.6370458370800143 Repeat : 10\n",
      "Warning: No Paths in the Money. Price May Round to Zero.\n"
     ]
    },
    {
     "name": "stderr",
     "output_type": "stream",
     "text": [
      "/Users/anthonymaylath/Documents/Schoolwork/NYU/High_Performance_Computing/Thesis/NYU_Machine_Learning_Project/pythonMC/proj_helpers/FinObj.py:359: FutureWarning: `rcond` parameter will change to the default of machine precision times ``max(M, N)`` where M and N are the input matrix dimensions.\n",
      "To use the future default and silence this warning we advise to pass `rcond=None`, to keep using the old, explicitly pass `rcond=-1`.\n",
      "  betas = np.linalg.lstsq(X,Ct1)[0]\n"
     ]
    },
    {
     "name": "stdout",
     "output_type": "stream",
     "text": [
      "Warning: No Paths in the Money. Price May Round to Zero.\n",
      "Time : 1.7754716873168945, Paths : 2000 LSM Price Basis 2 : 0.0 LSM Price Basis 3 : 0.6418244394343895 LSM Price Basis 4 : 0.6309242277853316LSM RF Price : 0.6330973346465416 Repeat : 11\n"
     ]
    },
    {
     "name": "stderr",
     "output_type": "stream",
     "text": [
      "/Users/anthonymaylath/Documents/Schoolwork/NYU/High_Performance_Computing/Thesis/NYU_Machine_Learning_Project/pythonMC/proj_helpers/FinObj.py:359: FutureWarning: `rcond` parameter will change to the default of machine precision times ``max(M, N)`` where M and N are the input matrix dimensions.\n",
      "To use the future default and silence this warning we advise to pass `rcond=None`, to keep using the old, explicitly pass `rcond=-1`.\n",
      "  betas = np.linalg.lstsq(X,Ct1)[0]\n"
     ]
    },
    {
     "name": "stdout",
     "output_type": "stream",
     "text": [
      "Time : 1.7346408367156982, Paths : 2000 LSM Price Basis 2 : 0.0 LSM Price Basis 3 : 0.641890546780808 LSM Price Basis 4 : 0.6396671710990647LSM RF Price : 0.6268959759130541 Repeat : 12\n"
     ]
    },
    {
     "name": "stderr",
     "output_type": "stream",
     "text": [
      "/Users/anthonymaylath/Documents/Schoolwork/NYU/High_Performance_Computing/Thesis/NYU_Machine_Learning_Project/pythonMC/proj_helpers/FinObj.py:359: FutureWarning: `rcond` parameter will change to the default of machine precision times ``max(M, N)`` where M and N are the input matrix dimensions.\n",
      "To use the future default and silence this warning we advise to pass `rcond=None`, to keep using the old, explicitly pass `rcond=-1`.\n",
      "  betas = np.linalg.lstsq(X,Ct1)[0]\n"
     ]
    },
    {
     "name": "stdout",
     "output_type": "stream",
     "text": [
      "Warning: No Paths in the Money. Price May Round to Zero.\n",
      "Time : 1.788154125213623, Paths : 2000 LSM Price Basis 2 : 0.0 LSM Price Basis 3 : 0.638267010309609 LSM Price Basis 4 : 0.6280502385805391LSM RF Price : 0.6388121991561333 Repeat : 13\n",
      "Warning: No Paths in the Money. Price May Round to Zero.\n"
     ]
    },
    {
     "name": "stderr",
     "output_type": "stream",
     "text": [
      "/Users/anthonymaylath/Documents/Schoolwork/NYU/High_Performance_Computing/Thesis/NYU_Machine_Learning_Project/pythonMC/proj_helpers/FinObj.py:359: FutureWarning: `rcond` parameter will change to the default of machine precision times ``max(M, N)`` where M and N are the input matrix dimensions.\n",
      "To use the future default and silence this warning we advise to pass `rcond=None`, to keep using the old, explicitly pass `rcond=-1`.\n",
      "  betas = np.linalg.lstsq(X,Ct1)[0]\n"
     ]
    },
    {
     "name": "stdout",
     "output_type": "stream",
     "text": [
      "Time : 1.7367711067199707, Paths : 2000 LSM Price Basis 2 : 0.0 LSM Price Basis 3 : 0.63453446070808 LSM Price Basis 4 : 0.6480480559072956LSM RF Price : 0.6302461191020218 Repeat : 14\n"
     ]
    },
    {
     "name": "stderr",
     "output_type": "stream",
     "text": [
      "/Users/anthonymaylath/Documents/Schoolwork/NYU/High_Performance_Computing/Thesis/NYU_Machine_Learning_Project/pythonMC/proj_helpers/FinObj.py:359: FutureWarning: `rcond` parameter will change to the default of machine precision times ``max(M, N)`` where M and N are the input matrix dimensions.\n",
      "To use the future default and silence this warning we advise to pass `rcond=None`, to keep using the old, explicitly pass `rcond=-1`.\n",
      "  betas = np.linalg.lstsq(X,Ct1)[0]\n"
     ]
    },
    {
     "name": "stdout",
     "output_type": "stream",
     "text": [
      "Warning: No Paths in the Money. Price May Round to Zero.\n",
      "Time : 1.7359199523925781, Paths : 2000 LSM Price Basis 2 : 0.0 LSM Price Basis 3 : 0.6453375457909133 LSM Price Basis 4 : 0.6400564902213544LSM RF Price : 0.6355895863897978 Repeat : 15\n"
     ]
    },
    {
     "name": "stderr",
     "output_type": "stream",
     "text": [
      "/Users/anthonymaylath/Documents/Schoolwork/NYU/High_Performance_Computing/Thesis/NYU_Machine_Learning_Project/pythonMC/proj_helpers/FinObj.py:359: FutureWarning: `rcond` parameter will change to the default of machine precision times ``max(M, N)`` where M and N are the input matrix dimensions.\n",
      "To use the future default and silence this warning we advise to pass `rcond=None`, to keep using the old, explicitly pass `rcond=-1`.\n",
      "  betas = np.linalg.lstsq(X,Ct1)[0]\n"
     ]
    },
    {
     "name": "stdout",
     "output_type": "stream",
     "text": [
      "Time : 1.7964692115783691, Paths : 2000 LSM Price Basis 2 : 0.0 LSM Price Basis 3 : 0.654596438304106 LSM Price Basis 4 : 0.6466376612941551LSM RF Price : 0.6344058325648758 Repeat : 16\n"
     ]
    },
    {
     "name": "stderr",
     "output_type": "stream",
     "text": [
      "/Users/anthonymaylath/Documents/Schoolwork/NYU/High_Performance_Computing/Thesis/NYU_Machine_Learning_Project/pythonMC/proj_helpers/FinObj.py:359: FutureWarning: `rcond` parameter will change to the default of machine precision times ``max(M, N)`` where M and N are the input matrix dimensions.\n",
      "To use the future default and silence this warning we advise to pass `rcond=None`, to keep using the old, explicitly pass `rcond=-1`.\n",
      "  betas = np.linalg.lstsq(X,Ct1)[0]\n"
     ]
    },
    {
     "name": "stdout",
     "output_type": "stream",
     "text": [
      "Time : 1.7367000579833984, Paths : 2000 LSM Price Basis 2 : 0.0 LSM Price Basis 3 : 0.6388688333490938 LSM Price Basis 4 : 0.6350370486805762LSM RF Price : 0.6403649642120163 Repeat : 17\n"
     ]
    },
    {
     "name": "stderr",
     "output_type": "stream",
     "text": [
      "/Users/anthonymaylath/Documents/Schoolwork/NYU/High_Performance_Computing/Thesis/NYU_Machine_Learning_Project/pythonMC/proj_helpers/FinObj.py:359: FutureWarning: `rcond` parameter will change to the default of machine precision times ``max(M, N)`` where M and N are the input matrix dimensions.\n",
      "To use the future default and silence this warning we advise to pass `rcond=None`, to keep using the old, explicitly pass `rcond=-1`.\n",
      "  betas = np.linalg.lstsq(X,Ct1)[0]\n"
     ]
    },
    {
     "name": "stdout",
     "output_type": "stream",
     "text": [
      "Time : 1.747612714767456, Paths : 2000 LSM Price Basis 2 : 0.0 LSM Price Basis 3 : 0.628964463175603 LSM Price Basis 4 : 0.6541650927171315LSM RF Price : 0.6423033102084856 Repeat : 18\n"
     ]
    },
    {
     "name": "stderr",
     "output_type": "stream",
     "text": [
      "/Users/anthonymaylath/Documents/Schoolwork/NYU/High_Performance_Computing/Thesis/NYU_Machine_Learning_Project/pythonMC/proj_helpers/FinObj.py:359: FutureWarning: `rcond` parameter will change to the default of machine precision times ``max(M, N)`` where M and N are the input matrix dimensions.\n",
      "To use the future default and silence this warning we advise to pass `rcond=None`, to keep using the old, explicitly pass `rcond=-1`.\n",
      "  betas = np.linalg.lstsq(X,Ct1)[0]\n"
     ]
    },
    {
     "name": "stdout",
     "output_type": "stream",
     "text": [
      "Time : 1.7587618827819824, Paths : 2000 LSM Price Basis 2 : 0.0 LSM Price Basis 3 : 0.6549526120580949 LSM Price Basis 4 : 0.6473875857874444LSM RF Price : 0.6543972760510879 Repeat : 19\n",
      "Warning: No Paths in the Money. Price May Round to Zero.\n"
     ]
    },
    {
     "name": "stderr",
     "output_type": "stream",
     "text": [
      "/Users/anthonymaylath/Documents/Schoolwork/NYU/High_Performance_Computing/Thesis/NYU_Machine_Learning_Project/pythonMC/proj_helpers/FinObj.py:359: FutureWarning: `rcond` parameter will change to the default of machine precision times ``max(M, N)`` where M and N are the input matrix dimensions.\n",
      "To use the future default and silence this warning we advise to pass `rcond=None`, to keep using the old, explicitly pass `rcond=-1`.\n",
      "  betas = np.linalg.lstsq(X,Ct1)[0]\n"
     ]
    },
    {
     "name": "stdout",
     "output_type": "stream",
     "text": [
      "Time : 1.812101125717163, Paths : 2000 LSM Price Basis 2 : 0.0 LSM Price Basis 3 : 0.6281387185792537 LSM Price Basis 4 : 0.6384081792432217LSM RF Price : 0.6364835083955728 Repeat : 20\n"
     ]
    },
    {
     "name": "stderr",
     "output_type": "stream",
     "text": [
      "/Users/anthonymaylath/Documents/Schoolwork/NYU/High_Performance_Computing/Thesis/NYU_Machine_Learning_Project/pythonMC/proj_helpers/FinObj.py:359: FutureWarning: `rcond` parameter will change to the default of machine precision times ``max(M, N)`` where M and N are the input matrix dimensions.\n",
      "To use the future default and silence this warning we advise to pass `rcond=None`, to keep using the old, explicitly pass `rcond=-1`.\n",
      "  betas = np.linalg.lstsq(X,Ct1)[0]\n"
     ]
    },
    {
     "name": "stdout",
     "output_type": "stream",
     "text": [
      "Time : 1.7488188743591309, Paths : 2000 LSM Price Basis 2 : 0.0 LSM Price Basis 3 : 0.6273791976176051 LSM Price Basis 4 : 0.6336374235848532LSM RF Price : 0.6416850504878477 Repeat : 21\n"
     ]
    },
    {
     "name": "stderr",
     "output_type": "stream",
     "text": [
      "/Users/anthonymaylath/Documents/Schoolwork/NYU/High_Performance_Computing/Thesis/NYU_Machine_Learning_Project/pythonMC/proj_helpers/FinObj.py:359: FutureWarning: `rcond` parameter will change to the default of machine precision times ``max(M, N)`` where M and N are the input matrix dimensions.\n",
      "To use the future default and silence this warning we advise to pass `rcond=None`, to keep using the old, explicitly pass `rcond=-1`.\n",
      "  betas = np.linalg.lstsq(X,Ct1)[0]\n"
     ]
    },
    {
     "name": "stdout",
     "output_type": "stream",
     "text": [
      "Time : 1.7381677627563477, Paths : 2000 LSM Price Basis 2 : 0.0 LSM Price Basis 3 : 0.640511295354243 LSM Price Basis 4 : 0.6337521497425473LSM RF Price : 0.6203654669249213 Repeat : 22\n"
     ]
    },
    {
     "name": "stderr",
     "output_type": "stream",
     "text": [
      "/Users/anthonymaylath/Documents/Schoolwork/NYU/High_Performance_Computing/Thesis/NYU_Machine_Learning_Project/pythonMC/proj_helpers/FinObj.py:359: FutureWarning: `rcond` parameter will change to the default of machine precision times ``max(M, N)`` where M and N are the input matrix dimensions.\n",
      "To use the future default and silence this warning we advise to pass `rcond=None`, to keep using the old, explicitly pass `rcond=-1`.\n",
      "  betas = np.linalg.lstsq(X,Ct1)[0]\n"
     ]
    },
    {
     "name": "stdout",
     "output_type": "stream",
     "text": [
      "Warning: No Paths in the Money. Price May Round to Zero.\n",
      "Time : 1.8063220977783203, Paths : 2000 LSM Price Basis 2 : 0.0 LSM Price Basis 3 : 0.6453613564024463 LSM Price Basis 4 : 0.6413259565722258LSM RF Price : 0.6538451477973136 Repeat : 23\n"
     ]
    },
    {
     "name": "stderr",
     "output_type": "stream",
     "text": [
      "/Users/anthonymaylath/Documents/Schoolwork/NYU/High_Performance_Computing/Thesis/NYU_Machine_Learning_Project/pythonMC/proj_helpers/FinObj.py:359: FutureWarning: `rcond` parameter will change to the default of machine precision times ``max(M, N)`` where M and N are the input matrix dimensions.\n",
      "To use the future default and silence this warning we advise to pass `rcond=None`, to keep using the old, explicitly pass `rcond=-1`.\n",
      "  betas = np.linalg.lstsq(X,Ct1)[0]\n"
     ]
    },
    {
     "name": "stdout",
     "output_type": "stream",
     "text": [
      "Warning: No Paths in the Money. Price May Round to Zero.\n",
      "Time : 1.7417778968811035, Paths : 2000 LSM Price Basis 2 : 0.0 LSM Price Basis 3 : 0.6359602190871592 LSM Price Basis 4 : 0.6407494988291241LSM RF Price : 0.6428151177198157 Repeat : 24\n"
     ]
    },
    {
     "name": "stderr",
     "output_type": "stream",
     "text": [
      "/Users/anthonymaylath/Documents/Schoolwork/NYU/High_Performance_Computing/Thesis/NYU_Machine_Learning_Project/pythonMC/proj_helpers/FinObj.py:359: FutureWarning: `rcond` parameter will change to the default of machine precision times ``max(M, N)`` where M and N are the input matrix dimensions.\n",
      "To use the future default and silence this warning we advise to pass `rcond=None`, to keep using the old, explicitly pass `rcond=-1`.\n",
      "  betas = np.linalg.lstsq(X,Ct1)[0]\n"
     ]
    },
    {
     "name": "stdout",
     "output_type": "stream",
     "text": [
      "Time : 1.7910950183868408, Paths : 2000 LSM Price Basis 2 : 0.0 LSM Price Basis 3 : 0.6450391865750947 LSM Price Basis 4 : 0.6404346326007226LSM RF Price : 0.6482732542030556 Repeat : 25\n"
     ]
    },
    {
     "name": "stderr",
     "output_type": "stream",
     "text": [
      "/Users/anthonymaylath/Documents/Schoolwork/NYU/High_Performance_Computing/Thesis/NYU_Machine_Learning_Project/pythonMC/proj_helpers/FinObj.py:359: FutureWarning: `rcond` parameter will change to the default of machine precision times ``max(M, N)`` where M and N are the input matrix dimensions.\n",
      "To use the future default and silence this warning we advise to pass `rcond=None`, to keep using the old, explicitly pass `rcond=-1`.\n",
      "  betas = np.linalg.lstsq(X,Ct1)[0]\n"
     ]
    },
    {
     "name": "stdout",
     "output_type": "stream",
     "text": [
      "Time : 1.7259540557861328, Paths : 2000 LSM Price Basis 2 : 0.0 LSM Price Basis 3 : 0.6349984652328295 LSM Price Basis 4 : 0.63043035731552LSM RF Price : 0.6296500597929829 Repeat : 26\n"
     ]
    },
    {
     "name": "stderr",
     "output_type": "stream",
     "text": [
      "/Users/anthonymaylath/Documents/Schoolwork/NYU/High_Performance_Computing/Thesis/NYU_Machine_Learning_Project/pythonMC/proj_helpers/FinObj.py:359: FutureWarning: `rcond` parameter will change to the default of machine precision times ``max(M, N)`` where M and N are the input matrix dimensions.\n",
      "To use the future default and silence this warning we advise to pass `rcond=None`, to keep using the old, explicitly pass `rcond=-1`.\n",
      "  betas = np.linalg.lstsq(X,Ct1)[0]\n"
     ]
    },
    {
     "name": "stdout",
     "output_type": "stream",
     "text": [
      "Time : 1.7266621589660645, Paths : 2000 LSM Price Basis 2 : 0.0 LSM Price Basis 3 : 0.6360361722592177 LSM Price Basis 4 : 0.6390300243576337LSM RF Price : 0.6399931502208196 Repeat : 27\n"
     ]
    },
    {
     "name": "stderr",
     "output_type": "stream",
     "text": [
      "/Users/anthonymaylath/Documents/Schoolwork/NYU/High_Performance_Computing/Thesis/NYU_Machine_Learning_Project/pythonMC/proj_helpers/FinObj.py:359: FutureWarning: `rcond` parameter will change to the default of machine precision times ``max(M, N)`` where M and N are the input matrix dimensions.\n",
      "To use the future default and silence this warning we advise to pass `rcond=None`, to keep using the old, explicitly pass `rcond=-1`.\n",
      "  betas = np.linalg.lstsq(X,Ct1)[0]\n"
     ]
    },
    {
     "name": "stdout",
     "output_type": "stream",
     "text": [
      "Time : 1.717391014099121, Paths : 2000 LSM Price Basis 2 : 0.0 LSM Price Basis 3 : 0.6443505509234142 LSM Price Basis 4 : 0.6246098952143411LSM RF Price : 0.6412425670642719 Repeat : 28\n"
     ]
    },
    {
     "name": "stderr",
     "output_type": "stream",
     "text": [
      "/Users/anthonymaylath/Documents/Schoolwork/NYU/High_Performance_Computing/Thesis/NYU_Machine_Learning_Project/pythonMC/proj_helpers/FinObj.py:359: FutureWarning: `rcond` parameter will change to the default of machine precision times ``max(M, N)`` where M and N are the input matrix dimensions.\n",
      "To use the future default and silence this warning we advise to pass `rcond=None`, to keep using the old, explicitly pass `rcond=-1`.\n",
      "  betas = np.linalg.lstsq(X,Ct1)[0]\n"
     ]
    },
    {
     "name": "stdout",
     "output_type": "stream",
     "text": [
      "Time : 1.803328037261963, Paths : 2000 LSM Price Basis 2 : 0.0 LSM Price Basis 3 : 0.6326924004691057 LSM Price Basis 4 : 0.6341468208869651LSM RF Price : 0.6451179322166293 Repeat : 29\n"
     ]
    },
    {
     "name": "stderr",
     "output_type": "stream",
     "text": [
      "/Users/anthonymaylath/Documents/Schoolwork/NYU/High_Performance_Computing/Thesis/NYU_Machine_Learning_Project/pythonMC/proj_helpers/FinObj.py:359: FutureWarning: `rcond` parameter will change to the default of machine precision times ``max(M, N)`` where M and N are the input matrix dimensions.\n",
      "To use the future default and silence this warning we advise to pass `rcond=None`, to keep using the old, explicitly pass `rcond=-1`.\n",
      "  betas = np.linalg.lstsq(X,Ct1)[0]\n"
     ]
    },
    {
     "name": "stdout",
     "output_type": "stream",
     "text": [
      "Time : 2.4965219497680664, Paths : 5000 LSM Price Basis 2 : 0.0 LSM Price Basis 3 : 0.6350117974951855 LSM Price Basis 4 : 0.6462010019936878LSM RF Price : 0.6310904160303408 Repeat : 0\n"
     ]
    },
    {
     "name": "stderr",
     "output_type": "stream",
     "text": [
      "/Users/anthonymaylath/Documents/Schoolwork/NYU/High_Performance_Computing/Thesis/NYU_Machine_Learning_Project/pythonMC/proj_helpers/FinObj.py:359: FutureWarning: `rcond` parameter will change to the default of machine precision times ``max(M, N)`` where M and N are the input matrix dimensions.\n",
      "To use the future default and silence this warning we advise to pass `rcond=None`, to keep using the old, explicitly pass `rcond=-1`.\n",
      "  betas = np.linalg.lstsq(X,Ct1)[0]\n"
     ]
    },
    {
     "name": "stdout",
     "output_type": "stream",
     "text": [
      "Time : 2.460500955581665, Paths : 5000 LSM Price Basis 2 : 0.0 LSM Price Basis 3 : 0.6407983305533387 LSM Price Basis 4 : 0.6339441992322778LSM RF Price : 0.6372667926700163 Repeat : 1\n"
     ]
    },
    {
     "name": "stderr",
     "output_type": "stream",
     "text": [
      "/Users/anthonymaylath/Documents/Schoolwork/NYU/High_Performance_Computing/Thesis/NYU_Machine_Learning_Project/pythonMC/proj_helpers/FinObj.py:359: FutureWarning: `rcond` parameter will change to the default of machine precision times ``max(M, N)`` where M and N are the input matrix dimensions.\n",
      "To use the future default and silence this warning we advise to pass `rcond=None`, to keep using the old, explicitly pass `rcond=-1`.\n",
      "  betas = np.linalg.lstsq(X,Ct1)[0]\n"
     ]
    },
    {
     "name": "stdout",
     "output_type": "stream",
     "text": [
      "Time : 2.4611127376556396, Paths : 5000 LSM Price Basis 2 : 0.0 LSM Price Basis 3 : 0.640858932061772 LSM Price Basis 4 : 0.632465774510613LSM RF Price : 0.6337441707485048 Repeat : 2\n"
     ]
    },
    {
     "name": "stderr",
     "output_type": "stream",
     "text": [
      "/Users/anthonymaylath/Documents/Schoolwork/NYU/High_Performance_Computing/Thesis/NYU_Machine_Learning_Project/pythonMC/proj_helpers/FinObj.py:359: FutureWarning: `rcond` parameter will change to the default of machine precision times ``max(M, N)`` where M and N are the input matrix dimensions.\n",
      "To use the future default and silence this warning we advise to pass `rcond=None`, to keep using the old, explicitly pass `rcond=-1`.\n",
      "  betas = np.linalg.lstsq(X,Ct1)[0]\n"
     ]
    },
    {
     "name": "stdout",
     "output_type": "stream",
     "text": [
      "Time : 2.4860851764678955, Paths : 5000 LSM Price Basis 2 : 0.0 LSM Price Basis 3 : 0.6407410286932103 LSM Price Basis 4 : 0.6363663929040156LSM RF Price : 0.6439996132870385 Repeat : 3\n"
     ]
    },
    {
     "name": "stderr",
     "output_type": "stream",
     "text": [
      "/Users/anthonymaylath/Documents/Schoolwork/NYU/High_Performance_Computing/Thesis/NYU_Machine_Learning_Project/pythonMC/proj_helpers/FinObj.py:359: FutureWarning: `rcond` parameter will change to the default of machine precision times ``max(M, N)`` where M and N are the input matrix dimensions.\n",
      "To use the future default and silence this warning we advise to pass `rcond=None`, to keep using the old, explicitly pass `rcond=-1`.\n",
      "  betas = np.linalg.lstsq(X,Ct1)[0]\n"
     ]
    },
    {
     "name": "stdout",
     "output_type": "stream",
     "text": [
      "Time : 2.486711025238037, Paths : 5000 LSM Price Basis 2 : 0.0 LSM Price Basis 3 : 0.6352781701591519 LSM Price Basis 4 : 0.6443463902335762LSM RF Price : 0.6460794826242755 Repeat : 4\n"
     ]
    },
    {
     "name": "stderr",
     "output_type": "stream",
     "text": [
      "/Users/anthonymaylath/Documents/Schoolwork/NYU/High_Performance_Computing/Thesis/NYU_Machine_Learning_Project/pythonMC/proj_helpers/FinObj.py:359: FutureWarning: `rcond` parameter will change to the default of machine precision times ``max(M, N)`` where M and N are the input matrix dimensions.\n",
      "To use the future default and silence this warning we advise to pass `rcond=None`, to keep using the old, explicitly pass `rcond=-1`.\n",
      "  betas = np.linalg.lstsq(X,Ct1)[0]\n"
     ]
    },
    {
     "name": "stdout",
     "output_type": "stream",
     "text": [
      "Time : 2.5474071502685547, Paths : 5000 LSM Price Basis 2 : 0.0 LSM Price Basis 3 : 0.6382530368360442 LSM Price Basis 4 : 0.635474513068898LSM RF Price : 0.6448801660672733 Repeat : 5\n"
     ]
    },
    {
     "name": "stderr",
     "output_type": "stream",
     "text": [
      "/Users/anthonymaylath/Documents/Schoolwork/NYU/High_Performance_Computing/Thesis/NYU_Machine_Learning_Project/pythonMC/proj_helpers/FinObj.py:359: FutureWarning: `rcond` parameter will change to the default of machine precision times ``max(M, N)`` where M and N are the input matrix dimensions.\n",
      "To use the future default and silence this warning we advise to pass `rcond=None`, to keep using the old, explicitly pass `rcond=-1`.\n",
      "  betas = np.linalg.lstsq(X,Ct1)[0]\n"
     ]
    },
    {
     "name": "stdout",
     "output_type": "stream",
     "text": [
      "Time : 2.4673540592193604, Paths : 5000 LSM Price Basis 2 : 0.0 LSM Price Basis 3 : 0.6440604254997312 LSM Price Basis 4 : 0.6343232187150263LSM RF Price : 0.6342692713633861 Repeat : 6\n"
     ]
    },
    {
     "name": "stderr",
     "output_type": "stream",
     "text": [
      "/Users/anthonymaylath/Documents/Schoolwork/NYU/High_Performance_Computing/Thesis/NYU_Machine_Learning_Project/pythonMC/proj_helpers/FinObj.py:359: FutureWarning: `rcond` parameter will change to the default of machine precision times ``max(M, N)`` where M and N are the input matrix dimensions.\n",
      "To use the future default and silence this warning we advise to pass `rcond=None`, to keep using the old, explicitly pass `rcond=-1`.\n",
      "  betas = np.linalg.lstsq(X,Ct1)[0]\n"
     ]
    },
    {
     "name": "stdout",
     "output_type": "stream",
     "text": [
      "Time : 2.474677085876465, Paths : 5000 LSM Price Basis 2 : 0.0 LSM Price Basis 3 : 0.6468487903576996 LSM Price Basis 4 : 0.6428434295025783LSM RF Price : 0.6391438838590878 Repeat : 7\n"
     ]
    },
    {
     "name": "stderr",
     "output_type": "stream",
     "text": [
      "/Users/anthonymaylath/Documents/Schoolwork/NYU/High_Performance_Computing/Thesis/NYU_Machine_Learning_Project/pythonMC/proj_helpers/FinObj.py:359: FutureWarning: `rcond` parameter will change to the default of machine precision times ``max(M, N)`` where M and N are the input matrix dimensions.\n",
      "To use the future default and silence this warning we advise to pass `rcond=None`, to keep using the old, explicitly pass `rcond=-1`.\n",
      "  betas = np.linalg.lstsq(X,Ct1)[0]\n"
     ]
    },
    {
     "name": "stdout",
     "output_type": "stream",
     "text": [
      "Time : 2.4697649478912354, Paths : 5000 LSM Price Basis 2 : 0.0 LSM Price Basis 3 : 0.6380906613823921 LSM Price Basis 4 : 0.63591851447829LSM RF Price : 0.6388409288506124 Repeat : 8\n"
     ]
    },
    {
     "name": "stderr",
     "output_type": "stream",
     "text": [
      "/Users/anthonymaylath/Documents/Schoolwork/NYU/High_Performance_Computing/Thesis/NYU_Machine_Learning_Project/pythonMC/proj_helpers/FinObj.py:359: FutureWarning: `rcond` parameter will change to the default of machine precision times ``max(M, N)`` where M and N are the input matrix dimensions.\n",
      "To use the future default and silence this warning we advise to pass `rcond=None`, to keep using the old, explicitly pass `rcond=-1`.\n",
      "  betas = np.linalg.lstsq(X,Ct1)[0]\n"
     ]
    },
    {
     "name": "stdout",
     "output_type": "stream",
     "text": [
      "Warning: No Paths in the Money. Price May Round to Zero.\n",
      "Time : 2.466364860534668, Paths : 5000 LSM Price Basis 2 : 0.0 LSM Price Basis 3 : 0.6417278809327777 LSM Price Basis 4 : 0.6370673616213729LSM RF Price : 0.6362934420130898 Repeat : 9\n"
     ]
    },
    {
     "name": "stderr",
     "output_type": "stream",
     "text": [
      "/Users/anthonymaylath/Documents/Schoolwork/NYU/High_Performance_Computing/Thesis/NYU_Machine_Learning_Project/pythonMC/proj_helpers/FinObj.py:359: FutureWarning: `rcond` parameter will change to the default of machine precision times ``max(M, N)`` where M and N are the input matrix dimensions.\n",
      "To use the future default and silence this warning we advise to pass `rcond=None`, to keep using the old, explicitly pass `rcond=-1`.\n",
      "  betas = np.linalg.lstsq(X,Ct1)[0]\n"
     ]
    },
    {
     "name": "stdout",
     "output_type": "stream",
     "text": [
      "Time : 2.469022035598755, Paths : 5000 LSM Price Basis 2 : 0.0 LSM Price Basis 3 : 0.6458643131429742 LSM Price Basis 4 : 0.6404383778525713LSM RF Price : 0.635424511184012 Repeat : 10\n"
     ]
    },
    {
     "name": "stderr",
     "output_type": "stream",
     "text": [
      "/Users/anthonymaylath/Documents/Schoolwork/NYU/High_Performance_Computing/Thesis/NYU_Machine_Learning_Project/pythonMC/proj_helpers/FinObj.py:359: FutureWarning: `rcond` parameter will change to the default of machine precision times ``max(M, N)`` where M and N are the input matrix dimensions.\n",
      "To use the future default and silence this warning we advise to pass `rcond=None`, to keep using the old, explicitly pass `rcond=-1`.\n",
      "  betas = np.linalg.lstsq(X,Ct1)[0]\n"
     ]
    },
    {
     "name": "stdout",
     "output_type": "stream",
     "text": [
      "Time : 2.5083701610565186, Paths : 5000 LSM Price Basis 2 : 0.0 LSM Price Basis 3 : 0.6425613800736748 LSM Price Basis 4 : 0.6403365015576519LSM RF Price : 0.6409072862299795 Repeat : 11\n"
     ]
    },
    {
     "name": "stderr",
     "output_type": "stream",
     "text": [
      "/Users/anthonymaylath/Documents/Schoolwork/NYU/High_Performance_Computing/Thesis/NYU_Machine_Learning_Project/pythonMC/proj_helpers/FinObj.py:359: FutureWarning: `rcond` parameter will change to the default of machine precision times ``max(M, N)`` where M and N are the input matrix dimensions.\n",
      "To use the future default and silence this warning we advise to pass `rcond=None`, to keep using the old, explicitly pass `rcond=-1`.\n",
      "  betas = np.linalg.lstsq(X,Ct1)[0]\n"
     ]
    },
    {
     "name": "stdout",
     "output_type": "stream",
     "text": [
      "Time : 2.461772918701172, Paths : 5000 LSM Price Basis 2 : 0.0 LSM Price Basis 3 : 0.6409381024363492 LSM Price Basis 4 : 0.6331562506778915LSM RF Price : 0.6349788199125194 Repeat : 12\n"
     ]
    },
    {
     "name": "stderr",
     "output_type": "stream",
     "text": [
      "/Users/anthonymaylath/Documents/Schoolwork/NYU/High_Performance_Computing/Thesis/NYU_Machine_Learning_Project/pythonMC/proj_helpers/FinObj.py:359: FutureWarning: `rcond` parameter will change to the default of machine precision times ``max(M, N)`` where M and N are the input matrix dimensions.\n",
      "To use the future default and silence this warning we advise to pass `rcond=None`, to keep using the old, explicitly pass `rcond=-1`.\n",
      "  betas = np.linalg.lstsq(X,Ct1)[0]\n"
     ]
    },
    {
     "name": "stdout",
     "output_type": "stream",
     "text": [
      "Time : 2.485985040664673, Paths : 5000 LSM Price Basis 2 : 0.0 LSM Price Basis 3 : 0.6389269198081858 LSM Price Basis 4 : 0.6394309965866856LSM RF Price : 0.6382629638639697 Repeat : 13\n"
     ]
    },
    {
     "name": "stderr",
     "output_type": "stream",
     "text": [
      "/Users/anthonymaylath/Documents/Schoolwork/NYU/High_Performance_Computing/Thesis/NYU_Machine_Learning_Project/pythonMC/proj_helpers/FinObj.py:359: FutureWarning: `rcond` parameter will change to the default of machine precision times ``max(M, N)`` where M and N are the input matrix dimensions.\n",
      "To use the future default and silence this warning we advise to pass `rcond=None`, to keep using the old, explicitly pass `rcond=-1`.\n",
      "  betas = np.linalg.lstsq(X,Ct1)[0]\n"
     ]
    },
    {
     "name": "stdout",
     "output_type": "stream",
     "text": [
      "Time : 2.5078840255737305, Paths : 5000 LSM Price Basis 2 : 0.0 LSM Price Basis 3 : 0.641308438447021 LSM Price Basis 4 : 0.6417559017745845LSM RF Price : 0.6339633953230206 Repeat : 14\n"
     ]
    },
    {
     "name": "stderr",
     "output_type": "stream",
     "text": [
      "/Users/anthonymaylath/Documents/Schoolwork/NYU/High_Performance_Computing/Thesis/NYU_Machine_Learning_Project/pythonMC/proj_helpers/FinObj.py:359: FutureWarning: `rcond` parameter will change to the default of machine precision times ``max(M, N)`` where M and N are the input matrix dimensions.\n",
      "To use the future default and silence this warning we advise to pass `rcond=None`, to keep using the old, explicitly pass `rcond=-1`.\n",
      "  betas = np.linalg.lstsq(X,Ct1)[0]\n"
     ]
    },
    {
     "name": "stdout",
     "output_type": "stream",
     "text": [
      "Time : 2.4855008125305176, Paths : 5000 LSM Price Basis 2 : 0.0 LSM Price Basis 3 : 0.6355979262239344 LSM Price Basis 4 : 0.632936806095664LSM RF Price : 0.633138206421579 Repeat : 15\n"
     ]
    },
    {
     "name": "stderr",
     "output_type": "stream",
     "text": [
      "/Users/anthonymaylath/Documents/Schoolwork/NYU/High_Performance_Computing/Thesis/NYU_Machine_Learning_Project/pythonMC/proj_helpers/FinObj.py:359: FutureWarning: `rcond` parameter will change to the default of machine precision times ``max(M, N)`` where M and N are the input matrix dimensions.\n",
      "To use the future default and silence this warning we advise to pass `rcond=None`, to keep using the old, explicitly pass `rcond=-1`.\n",
      "  betas = np.linalg.lstsq(X,Ct1)[0]\n"
     ]
    },
    {
     "name": "stdout",
     "output_type": "stream",
     "text": [
      "Warning: No Paths in the Money. Price May Round to Zero.\n",
      "Time : 2.4776690006256104, Paths : 5000 LSM Price Basis 2 : 0.0 LSM Price Basis 3 : 0.6353512447021421 LSM Price Basis 4 : 0.6357697685821792LSM RF Price : 0.6418333569439281 Repeat : 16\n"
     ]
    },
    {
     "name": "stderr",
     "output_type": "stream",
     "text": [
      "/Users/anthonymaylath/Documents/Schoolwork/NYU/High_Performance_Computing/Thesis/NYU_Machine_Learning_Project/pythonMC/proj_helpers/FinObj.py:359: FutureWarning: `rcond` parameter will change to the default of machine precision times ``max(M, N)`` where M and N are the input matrix dimensions.\n",
      "To use the future default and silence this warning we advise to pass `rcond=None`, to keep using the old, explicitly pass `rcond=-1`.\n",
      "  betas = np.linalg.lstsq(X,Ct1)[0]\n"
     ]
    },
    {
     "name": "stdout",
     "output_type": "stream",
     "text": [
      "Time : 2.551910161972046, Paths : 5000 LSM Price Basis 2 : 0.0 LSM Price Basis 3 : 0.6472223514644704 LSM Price Basis 4 : 0.6416689640091103LSM RF Price : 0.6375024650534982 Repeat : 17\n"
     ]
    },
    {
     "name": "stderr",
     "output_type": "stream",
     "text": [
      "/Users/anthonymaylath/Documents/Schoolwork/NYU/High_Performance_Computing/Thesis/NYU_Machine_Learning_Project/pythonMC/proj_helpers/FinObj.py:359: FutureWarning: `rcond` parameter will change to the default of machine precision times ``max(M, N)`` where M and N are the input matrix dimensions.\n",
      "To use the future default and silence this warning we advise to pass `rcond=None`, to keep using the old, explicitly pass `rcond=-1`.\n",
      "  betas = np.linalg.lstsq(X,Ct1)[0]\n"
     ]
    },
    {
     "name": "stdout",
     "output_type": "stream",
     "text": [
      "Time : 2.490097999572754, Paths : 5000 LSM Price Basis 2 : 0.0 LSM Price Basis 3 : 0.639689911509981 LSM Price Basis 4 : 0.6417575499554823LSM RF Price : 0.6367223599647034 Repeat : 18\n"
     ]
    },
    {
     "name": "stderr",
     "output_type": "stream",
     "text": [
      "/Users/anthonymaylath/Documents/Schoolwork/NYU/High_Performance_Computing/Thesis/NYU_Machine_Learning_Project/pythonMC/proj_helpers/FinObj.py:359: FutureWarning: `rcond` parameter will change to the default of machine precision times ``max(M, N)`` where M and N are the input matrix dimensions.\n",
      "To use the future default and silence this warning we advise to pass `rcond=None`, to keep using the old, explicitly pass `rcond=-1`.\n",
      "  betas = np.linalg.lstsq(X,Ct1)[0]\n"
     ]
    },
    {
     "name": "stdout",
     "output_type": "stream",
     "text": [
      "Time : 2.4837067127227783, Paths : 5000 LSM Price Basis 2 : 0.0 LSM Price Basis 3 : 0.6383188709973274 LSM Price Basis 4 : 0.6445241893093285LSM RF Price : 0.6409798619006453 Repeat : 19\n"
     ]
    },
    {
     "name": "stderr",
     "output_type": "stream",
     "text": [
      "/Users/anthonymaylath/Documents/Schoolwork/NYU/High_Performance_Computing/Thesis/NYU_Machine_Learning_Project/pythonMC/proj_helpers/FinObj.py:359: FutureWarning: `rcond` parameter will change to the default of machine precision times ``max(M, N)`` where M and N are the input matrix dimensions.\n",
      "To use the future default and silence this warning we advise to pass `rcond=None`, to keep using the old, explicitly pass `rcond=-1`.\n",
      "  betas = np.linalg.lstsq(X,Ct1)[0]\n"
     ]
    },
    {
     "name": "stdout",
     "output_type": "stream",
     "text": [
      "Time : 2.517657995223999, Paths : 5000 LSM Price Basis 2 : 0.0 LSM Price Basis 3 : 0.6501790827245677 LSM Price Basis 4 : 0.6373221154183096LSM RF Price : 0.6336705997910387 Repeat : 20\n"
     ]
    },
    {
     "name": "stderr",
     "output_type": "stream",
     "text": [
      "/Users/anthonymaylath/Documents/Schoolwork/NYU/High_Performance_Computing/Thesis/NYU_Machine_Learning_Project/pythonMC/proj_helpers/FinObj.py:359: FutureWarning: `rcond` parameter will change to the default of machine precision times ``max(M, N)`` where M and N are the input matrix dimensions.\n",
      "To use the future default and silence this warning we advise to pass `rcond=None`, to keep using the old, explicitly pass `rcond=-1`.\n",
      "  betas = np.linalg.lstsq(X,Ct1)[0]\n"
     ]
    },
    {
     "name": "stdout",
     "output_type": "stream",
     "text": [
      "Time : 2.4615249633789062, Paths : 5000 LSM Price Basis 2 : 0.0 LSM Price Basis 3 : 0.6345768752701021 LSM Price Basis 4 : 0.6356529036577562LSM RF Price : 0.6386333068947272 Repeat : 21\n"
     ]
    },
    {
     "name": "stderr",
     "output_type": "stream",
     "text": [
      "/Users/anthonymaylath/Documents/Schoolwork/NYU/High_Performance_Computing/Thesis/NYU_Machine_Learning_Project/pythonMC/proj_helpers/FinObj.py:359: FutureWarning: `rcond` parameter will change to the default of machine precision times ``max(M, N)`` where M and N are the input matrix dimensions.\n",
      "To use the future default and silence this warning we advise to pass `rcond=None`, to keep using the old, explicitly pass `rcond=-1`.\n",
      "  betas = np.linalg.lstsq(X,Ct1)[0]\n"
     ]
    },
    {
     "name": "stdout",
     "output_type": "stream",
     "text": [
      "Time : 2.4653589725494385, Paths : 5000 LSM Price Basis 2 : 0.0 LSM Price Basis 3 : 0.6425232463701823 LSM Price Basis 4 : 0.6354751891016984LSM RF Price : 0.6424891434768956 Repeat : 22\n"
     ]
    },
    {
     "name": "stderr",
     "output_type": "stream",
     "text": [
      "/Users/anthonymaylath/Documents/Schoolwork/NYU/High_Performance_Computing/Thesis/NYU_Machine_Learning_Project/pythonMC/proj_helpers/FinObj.py:359: FutureWarning: `rcond` parameter will change to the default of machine precision times ``max(M, N)`` where M and N are the input matrix dimensions.\n",
      "To use the future default and silence this warning we advise to pass `rcond=None`, to keep using the old, explicitly pass `rcond=-1`.\n",
      "  betas = np.linalg.lstsq(X,Ct1)[0]\n"
     ]
    },
    {
     "name": "stdout",
     "output_type": "stream",
     "text": [
      "Time : 2.495760917663574, Paths : 5000 LSM Price Basis 2 : 0.0 LSM Price Basis 3 : 0.6335901501878367 LSM Price Basis 4 : 0.6426832250518935LSM RF Price : 0.6433771062705629 Repeat : 23\n"
     ]
    },
    {
     "name": "stderr",
     "output_type": "stream",
     "text": [
      "/Users/anthonymaylath/Documents/Schoolwork/NYU/High_Performance_Computing/Thesis/NYU_Machine_Learning_Project/pythonMC/proj_helpers/FinObj.py:359: FutureWarning: `rcond` parameter will change to the default of machine precision times ``max(M, N)`` where M and N are the input matrix dimensions.\n",
      "To use the future default and silence this warning we advise to pass `rcond=None`, to keep using the old, explicitly pass `rcond=-1`.\n",
      "  betas = np.linalg.lstsq(X,Ct1)[0]\n"
     ]
    },
    {
     "name": "stdout",
     "output_type": "stream",
     "text": [
      "Time : 2.468827962875366, Paths : 5000 LSM Price Basis 2 : 0.0 LSM Price Basis 3 : 0.6359724662580664 LSM Price Basis 4 : 0.6391964044558821LSM RF Price : 0.6305959462054729 Repeat : 24\n"
     ]
    },
    {
     "name": "stderr",
     "output_type": "stream",
     "text": [
      "/Users/anthonymaylath/Documents/Schoolwork/NYU/High_Performance_Computing/Thesis/NYU_Machine_Learning_Project/pythonMC/proj_helpers/FinObj.py:359: FutureWarning: `rcond` parameter will change to the default of machine precision times ``max(M, N)`` where M and N are the input matrix dimensions.\n",
      "To use the future default and silence this warning we advise to pass `rcond=None`, to keep using the old, explicitly pass `rcond=-1`.\n",
      "  betas = np.linalg.lstsq(X,Ct1)[0]\n"
     ]
    },
    {
     "name": "stdout",
     "output_type": "stream",
     "text": [
      "Time : 2.5360851287841797, Paths : 5000 LSM Price Basis 2 : 0.0 LSM Price Basis 3 : 0.6318227042119443 LSM Price Basis 4 : 0.6451523330233457LSM RF Price : 0.6353615092767848 Repeat : 25\n"
     ]
    },
    {
     "name": "stderr",
     "output_type": "stream",
     "text": [
      "/Users/anthonymaylath/Documents/Schoolwork/NYU/High_Performance_Computing/Thesis/NYU_Machine_Learning_Project/pythonMC/proj_helpers/FinObj.py:359: FutureWarning: `rcond` parameter will change to the default of machine precision times ``max(M, N)`` where M and N are the input matrix dimensions.\n",
      "To use the future default and silence this warning we advise to pass `rcond=None`, to keep using the old, explicitly pass `rcond=-1`.\n",
      "  betas = np.linalg.lstsq(X,Ct1)[0]\n"
     ]
    },
    {
     "name": "stdout",
     "output_type": "stream",
     "text": [
      "Time : 2.5057132244110107, Paths : 5000 LSM Price Basis 2 : 0.0 LSM Price Basis 3 : 0.6372699941500921 LSM Price Basis 4 : 0.6400669706371368LSM RF Price : 0.6441462220050158 Repeat : 26\n"
     ]
    },
    {
     "name": "stderr",
     "output_type": "stream",
     "text": [
      "/Users/anthonymaylath/Documents/Schoolwork/NYU/High_Performance_Computing/Thesis/NYU_Machine_Learning_Project/pythonMC/proj_helpers/FinObj.py:359: FutureWarning: `rcond` parameter will change to the default of machine precision times ``max(M, N)`` where M and N are the input matrix dimensions.\n",
      "To use the future default and silence this warning we advise to pass `rcond=None`, to keep using the old, explicitly pass `rcond=-1`.\n",
      "  betas = np.linalg.lstsq(X,Ct1)[0]\n"
     ]
    },
    {
     "name": "stdout",
     "output_type": "stream",
     "text": [
      "Time : 2.4642412662506104, Paths : 5000 LSM Price Basis 2 : 0.0 LSM Price Basis 3 : 0.6354452299397664 LSM Price Basis 4 : 0.6390231541431151LSM RF Price : 0.6356356178767771 Repeat : 27\n"
     ]
    },
    {
     "name": "stderr",
     "output_type": "stream",
     "text": [
      "/Users/anthonymaylath/Documents/Schoolwork/NYU/High_Performance_Computing/Thesis/NYU_Machine_Learning_Project/pythonMC/proj_helpers/FinObj.py:359: FutureWarning: `rcond` parameter will change to the default of machine precision times ``max(M, N)`` where M and N are the input matrix dimensions.\n",
      "To use the future default and silence this warning we advise to pass `rcond=None`, to keep using the old, explicitly pass `rcond=-1`.\n",
      "  betas = np.linalg.lstsq(X,Ct1)[0]\n"
     ]
    },
    {
     "name": "stdout",
     "output_type": "stream",
     "text": [
      "Time : 2.8061587810516357, Paths : 5000 LSM Price Basis 2 : 0.0 LSM Price Basis 3 : 0.644650502972274 LSM Price Basis 4 : 0.6344248069949872LSM RF Price : 0.6423825084503878 Repeat : 28\n"
     ]
    },
    {
     "name": "stderr",
     "output_type": "stream",
     "text": [
      "/Users/anthonymaylath/Documents/Schoolwork/NYU/High_Performance_Computing/Thesis/NYU_Machine_Learning_Project/pythonMC/proj_helpers/FinObj.py:359: FutureWarning: `rcond` parameter will change to the default of machine precision times ``max(M, N)`` where M and N are the input matrix dimensions.\n",
      "To use the future default and silence this warning we advise to pass `rcond=None`, to keep using the old, explicitly pass `rcond=-1`.\n",
      "  betas = np.linalg.lstsq(X,Ct1)[0]\n"
     ]
    },
    {
     "name": "stdout",
     "output_type": "stream",
     "text": [
      "Time : 2.464293956756592, Paths : 5000 LSM Price Basis 2 : 0.0 LSM Price Basis 3 : 0.6351924637370681 LSM Price Basis 4 : 0.6432616970357921LSM RF Price : 0.6314707534568678 Repeat : 29\n"
     ]
    },
    {
     "name": "stderr",
     "output_type": "stream",
     "text": [
      "/Users/anthonymaylath/Documents/Schoolwork/NYU/High_Performance_Computing/Thesis/NYU_Machine_Learning_Project/pythonMC/proj_helpers/FinObj.py:359: FutureWarning: `rcond` parameter will change to the default of machine precision times ``max(M, N)`` where M and N are the input matrix dimensions.\n",
      "To use the future default and silence this warning we advise to pass `rcond=None`, to keep using the old, explicitly pass `rcond=-1`.\n",
      "  betas = np.linalg.lstsq(X,Ct1)[0]\n"
     ]
    },
    {
     "name": "stdout",
     "output_type": "stream",
     "text": [
      "Time : 3.1723709106445312, Paths : 7500 LSM Price Basis 2 : 0.0 LSM Price Basis 3 : 0.6403458488823647 LSM Price Basis 4 : 0.6430112351631965LSM RF Price : 0.631170852733675 Repeat : 0\n"
     ]
    },
    {
     "name": "stderr",
     "output_type": "stream",
     "text": [
      "/Users/anthonymaylath/Documents/Schoolwork/NYU/High_Performance_Computing/Thesis/NYU_Machine_Learning_Project/pythonMC/proj_helpers/FinObj.py:359: FutureWarning: `rcond` parameter will change to the default of machine precision times ``max(M, N)`` where M and N are the input matrix dimensions.\n",
      "To use the future default and silence this warning we advise to pass `rcond=None`, to keep using the old, explicitly pass `rcond=-1`.\n",
      "  betas = np.linalg.lstsq(X,Ct1)[0]\n"
     ]
    },
    {
     "name": "stdout",
     "output_type": "stream",
     "text": [
      "Time : 3.1357429027557373, Paths : 7500 LSM Price Basis 2 : 0.0 LSM Price Basis 3 : 0.6444188849373345 LSM Price Basis 4 : 0.6437047519844974LSM RF Price : 0.6364849242087873 Repeat : 1\n"
     ]
    },
    {
     "name": "stderr",
     "output_type": "stream",
     "text": [
      "/Users/anthonymaylath/Documents/Schoolwork/NYU/High_Performance_Computing/Thesis/NYU_Machine_Learning_Project/pythonMC/proj_helpers/FinObj.py:359: FutureWarning: `rcond` parameter will change to the default of machine precision times ``max(M, N)`` where M and N are the input matrix dimensions.\n",
      "To use the future default and silence this warning we advise to pass `rcond=None`, to keep using the old, explicitly pass `rcond=-1`.\n",
      "  betas = np.linalg.lstsq(X,Ct1)[0]\n"
     ]
    },
    {
     "name": "stdout",
     "output_type": "stream",
     "text": [
      "Time : 3.113823890686035, Paths : 7500 LSM Price Basis 2 : 0.0 LSM Price Basis 3 : 0.6379344925810507 LSM Price Basis 4 : 0.6391948507746459LSM RF Price : 0.6336780618926959 Repeat : 2\n"
     ]
    },
    {
     "name": "stderr",
     "output_type": "stream",
     "text": [
      "/Users/anthonymaylath/Documents/Schoolwork/NYU/High_Performance_Computing/Thesis/NYU_Machine_Learning_Project/pythonMC/proj_helpers/FinObj.py:359: FutureWarning: `rcond` parameter will change to the default of machine precision times ``max(M, N)`` where M and N are the input matrix dimensions.\n",
      "To use the future default and silence this warning we advise to pass `rcond=None`, to keep using the old, explicitly pass `rcond=-1`.\n",
      "  betas = np.linalg.lstsq(X,Ct1)[0]\n"
     ]
    },
    {
     "name": "stdout",
     "output_type": "stream",
     "text": [
      "Time : 3.166219711303711, Paths : 7500 LSM Price Basis 2 : 0.0 LSM Price Basis 3 : 0.6424190496200215 LSM Price Basis 4 : 0.6365790768040265LSM RF Price : 0.6363655106723477 Repeat : 3\n"
     ]
    },
    {
     "name": "stderr",
     "output_type": "stream",
     "text": [
      "/Users/anthonymaylath/Documents/Schoolwork/NYU/High_Performance_Computing/Thesis/NYU_Machine_Learning_Project/pythonMC/proj_helpers/FinObj.py:359: FutureWarning: `rcond` parameter will change to the default of machine precision times ``max(M, N)`` where M and N are the input matrix dimensions.\n",
      "To use the future default and silence this warning we advise to pass `rcond=None`, to keep using the old, explicitly pass `rcond=-1`.\n",
      "  betas = np.linalg.lstsq(X,Ct1)[0]\n"
     ]
    },
    {
     "name": "stdout",
     "output_type": "stream",
     "text": [
      "Time : 3.1335649490356445, Paths : 7500 LSM Price Basis 2 : 0.0 LSM Price Basis 3 : 0.6379193459852376 LSM Price Basis 4 : 0.6405328502987276LSM RF Price : 0.635162494807776 Repeat : 4\n"
     ]
    },
    {
     "name": "stderr",
     "output_type": "stream",
     "text": [
      "/Users/anthonymaylath/Documents/Schoolwork/NYU/High_Performance_Computing/Thesis/NYU_Machine_Learning_Project/pythonMC/proj_helpers/FinObj.py:359: FutureWarning: `rcond` parameter will change to the default of machine precision times ``max(M, N)`` where M and N are the input matrix dimensions.\n",
      "To use the future default and silence this warning we advise to pass `rcond=None`, to keep using the old, explicitly pass `rcond=-1`.\n",
      "  betas = np.linalg.lstsq(X,Ct1)[0]\n"
     ]
    },
    {
     "name": "stdout",
     "output_type": "stream",
     "text": [
      "Time : 3.1242833137512207, Paths : 7500 LSM Price Basis 2 : 0.0 LSM Price Basis 3 : 0.6323570302659585 LSM Price Basis 4 : 0.6459377202904808LSM RF Price : 0.635596771870669 Repeat : 5\n"
     ]
    },
    {
     "name": "stderr",
     "output_type": "stream",
     "text": [
      "/Users/anthonymaylath/Documents/Schoolwork/NYU/High_Performance_Computing/Thesis/NYU_Machine_Learning_Project/pythonMC/proj_helpers/FinObj.py:359: FutureWarning: `rcond` parameter will change to the default of machine precision times ``max(M, N)`` where M and N are the input matrix dimensions.\n",
      "To use the future default and silence this warning we advise to pass `rcond=None`, to keep using the old, explicitly pass `rcond=-1`.\n",
      "  betas = np.linalg.lstsq(X,Ct1)[0]\n"
     ]
    },
    {
     "name": "stdout",
     "output_type": "stream",
     "text": [
      "Time : 3.1731510162353516, Paths : 7500 LSM Price Basis 2 : 0.0 LSM Price Basis 3 : 0.640449898100389 LSM Price Basis 4 : 0.6338355636760907LSM RF Price : 0.6367746052045486 Repeat : 6\n"
     ]
    },
    {
     "name": "stderr",
     "output_type": "stream",
     "text": [
      "/Users/anthonymaylath/Documents/Schoolwork/NYU/High_Performance_Computing/Thesis/NYU_Machine_Learning_Project/pythonMC/proj_helpers/FinObj.py:359: FutureWarning: `rcond` parameter will change to the default of machine precision times ``max(M, N)`` where M and N are the input matrix dimensions.\n",
      "To use the future default and silence this warning we advise to pass `rcond=None`, to keep using the old, explicitly pass `rcond=-1`.\n",
      "  betas = np.linalg.lstsq(X,Ct1)[0]\n"
     ]
    },
    {
     "name": "stdout",
     "output_type": "stream",
     "text": [
      "Time : 3.1464178562164307, Paths : 7500 LSM Price Basis 2 : 0.0 LSM Price Basis 3 : 0.6404199408733349 LSM Price Basis 4 : 0.6357363350509169LSM RF Price : 0.6411973845652819 Repeat : 7\n"
     ]
    },
    {
     "name": "stderr",
     "output_type": "stream",
     "text": [
      "/Users/anthonymaylath/Documents/Schoolwork/NYU/High_Performance_Computing/Thesis/NYU_Machine_Learning_Project/pythonMC/proj_helpers/FinObj.py:359: FutureWarning: `rcond` parameter will change to the default of machine precision times ``max(M, N)`` where M and N are the input matrix dimensions.\n",
      "To use the future default and silence this warning we advise to pass `rcond=None`, to keep using the old, explicitly pass `rcond=-1`.\n",
      "  betas = np.linalg.lstsq(X,Ct1)[0]\n"
     ]
    },
    {
     "name": "stdout",
     "output_type": "stream",
     "text": [
      "Time : 3.1369941234588623, Paths : 7500 LSM Price Basis 2 : 0.0 LSM Price Basis 3 : 0.642535019898362 LSM Price Basis 4 : 0.6389266225048374LSM RF Price : 0.6313068253643004 Repeat : 8\n"
     ]
    },
    {
     "name": "stderr",
     "output_type": "stream",
     "text": [
      "/Users/anthonymaylath/Documents/Schoolwork/NYU/High_Performance_Computing/Thesis/NYU_Machine_Learning_Project/pythonMC/proj_helpers/FinObj.py:359: FutureWarning: `rcond` parameter will change to the default of machine precision times ``max(M, N)`` where M and N are the input matrix dimensions.\n",
      "To use the future default and silence this warning we advise to pass `rcond=None`, to keep using the old, explicitly pass `rcond=-1`.\n",
      "  betas = np.linalg.lstsq(X,Ct1)[0]\n"
     ]
    },
    {
     "name": "stdout",
     "output_type": "stream",
     "text": [
      "Time : 3.196417808532715, Paths : 7500 LSM Price Basis 2 : 0.0 LSM Price Basis 3 : 0.6357777929139867 LSM Price Basis 4 : 0.6393693806686597LSM RF Price : 0.6415132824525407 Repeat : 9\n"
     ]
    },
    {
     "name": "stderr",
     "output_type": "stream",
     "text": [
      "/Users/anthonymaylath/Documents/Schoolwork/NYU/High_Performance_Computing/Thesis/NYU_Machine_Learning_Project/pythonMC/proj_helpers/FinObj.py:359: FutureWarning: `rcond` parameter will change to the default of machine precision times ``max(M, N)`` where M and N are the input matrix dimensions.\n",
      "To use the future default and silence this warning we advise to pass `rcond=None`, to keep using the old, explicitly pass `rcond=-1`.\n",
      "  betas = np.linalg.lstsq(X,Ct1)[0]\n"
     ]
    },
    {
     "name": "stdout",
     "output_type": "stream",
     "text": [
      "Time : 3.1228322982788086, Paths : 7500 LSM Price Basis 2 : 0.0 LSM Price Basis 3 : 0.6313697203247942 LSM Price Basis 4 : 0.6461339038424974LSM RF Price : 0.6339290540462552 Repeat : 10\n"
     ]
    },
    {
     "name": "stderr",
     "output_type": "stream",
     "text": [
      "/Users/anthonymaylath/Documents/Schoolwork/NYU/High_Performance_Computing/Thesis/NYU_Machine_Learning_Project/pythonMC/proj_helpers/FinObj.py:359: FutureWarning: `rcond` parameter will change to the default of machine precision times ``max(M, N)`` where M and N are the input matrix dimensions.\n",
      "To use the future default and silence this warning we advise to pass `rcond=None`, to keep using the old, explicitly pass `rcond=-1`.\n",
      "  betas = np.linalg.lstsq(X,Ct1)[0]\n"
     ]
    },
    {
     "name": "stdout",
     "output_type": "stream",
     "text": [
      "Time : 3.150810956954956, Paths : 7500 LSM Price Basis 2 : 0.0 LSM Price Basis 3 : 0.6415006857114187 LSM Price Basis 4 : 0.6421572571372814LSM RF Price : 0.6418168330349945 Repeat : 11\n"
     ]
    },
    {
     "name": "stderr",
     "output_type": "stream",
     "text": [
      "/Users/anthonymaylath/Documents/Schoolwork/NYU/High_Performance_Computing/Thesis/NYU_Machine_Learning_Project/pythonMC/proj_helpers/FinObj.py:359: FutureWarning: `rcond` parameter will change to the default of machine precision times ``max(M, N)`` where M and N are the input matrix dimensions.\n",
      "To use the future default and silence this warning we advise to pass `rcond=None`, to keep using the old, explicitly pass `rcond=-1`.\n",
      "  betas = np.linalg.lstsq(X,Ct1)[0]\n"
     ]
    },
    {
     "name": "stdout",
     "output_type": "stream",
     "text": [
      "Time : 3.180345058441162, Paths : 7500 LSM Price Basis 2 : 0.0 LSM Price Basis 3 : 0.6353954489672146 LSM Price Basis 4 : 0.6381243187063315LSM RF Price : 0.6406881139713464 Repeat : 12\n"
     ]
    },
    {
     "name": "stderr",
     "output_type": "stream",
     "text": [
      "/Users/anthonymaylath/Documents/Schoolwork/NYU/High_Performance_Computing/Thesis/NYU_Machine_Learning_Project/pythonMC/proj_helpers/FinObj.py:359: FutureWarning: `rcond` parameter will change to the default of machine precision times ``max(M, N)`` where M and N are the input matrix dimensions.\n",
      "To use the future default and silence this warning we advise to pass `rcond=None`, to keep using the old, explicitly pass `rcond=-1`.\n",
      "  betas = np.linalg.lstsq(X,Ct1)[0]\n"
     ]
    },
    {
     "name": "stdout",
     "output_type": "stream",
     "text": [
      "Time : 3.1147749423980713, Paths : 7500 LSM Price Basis 2 : 0.0 LSM Price Basis 3 : 0.6378794492894916 LSM Price Basis 4 : 0.635615807608321LSM RF Price : 0.6304596886745903 Repeat : 13\n"
     ]
    },
    {
     "name": "stderr",
     "output_type": "stream",
     "text": [
      "/Users/anthonymaylath/Documents/Schoolwork/NYU/High_Performance_Computing/Thesis/NYU_Machine_Learning_Project/pythonMC/proj_helpers/FinObj.py:359: FutureWarning: `rcond` parameter will change to the default of machine precision times ``max(M, N)`` where M and N are the input matrix dimensions.\n",
      "To use the future default and silence this warning we advise to pass `rcond=None`, to keep using the old, explicitly pass `rcond=-1`.\n",
      "  betas = np.linalg.lstsq(X,Ct1)[0]\n"
     ]
    },
    {
     "name": "stdout",
     "output_type": "stream",
     "text": [
      "Time : 3.1319642066955566, Paths : 7500 LSM Price Basis 2 : 0.0 LSM Price Basis 3 : 0.6407324963851245 LSM Price Basis 4 : 0.6359206061939889LSM RF Price : 0.6422403032915391 Repeat : 14\n"
     ]
    },
    {
     "name": "stderr",
     "output_type": "stream",
     "text": [
      "/Users/anthonymaylath/Documents/Schoolwork/NYU/High_Performance_Computing/Thesis/NYU_Machine_Learning_Project/pythonMC/proj_helpers/FinObj.py:359: FutureWarning: `rcond` parameter will change to the default of machine precision times ``max(M, N)`` where M and N are the input matrix dimensions.\n",
      "To use the future default and silence this warning we advise to pass `rcond=None`, to keep using the old, explicitly pass `rcond=-1`.\n",
      "  betas = np.linalg.lstsq(X,Ct1)[0]\n"
     ]
    },
    {
     "name": "stdout",
     "output_type": "stream",
     "text": [
      "Time : 3.113173007965088, Paths : 7500 LSM Price Basis 2 : 0.0 LSM Price Basis 3 : 0.6366353446611691 LSM Price Basis 4 : 0.6332732613343246LSM RF Price : 0.6442088893648646 Repeat : 15\n"
     ]
    },
    {
     "name": "stderr",
     "output_type": "stream",
     "text": [
      "/Users/anthonymaylath/Documents/Schoolwork/NYU/High_Performance_Computing/Thesis/NYU_Machine_Learning_Project/pythonMC/proj_helpers/FinObj.py:359: FutureWarning: `rcond` parameter will change to the default of machine precision times ``max(M, N)`` where M and N are the input matrix dimensions.\n",
      "To use the future default and silence this warning we advise to pass `rcond=None`, to keep using the old, explicitly pass `rcond=-1`.\n",
      "  betas = np.linalg.lstsq(X,Ct1)[0]\n"
     ]
    },
    {
     "name": "stdout",
     "output_type": "stream",
     "text": [
      "Time : 3.133929967880249, Paths : 7500 LSM Price Basis 2 : 0.0 LSM Price Basis 3 : 0.6410507187650302 LSM Price Basis 4 : 0.642816391688089LSM RF Price : 0.6448517645162994 Repeat : 16\n"
     ]
    },
    {
     "name": "stderr",
     "output_type": "stream",
     "text": [
      "/Users/anthonymaylath/Documents/Schoolwork/NYU/High_Performance_Computing/Thesis/NYU_Machine_Learning_Project/pythonMC/proj_helpers/FinObj.py:359: FutureWarning: `rcond` parameter will change to the default of machine precision times ``max(M, N)`` where M and N are the input matrix dimensions.\n",
      "To use the future default and silence this warning we advise to pass `rcond=None`, to keep using the old, explicitly pass `rcond=-1`.\n",
      "  betas = np.linalg.lstsq(X,Ct1)[0]\n"
     ]
    },
    {
     "name": "stdout",
     "output_type": "stream",
     "text": [
      "Time : 3.203023672103882, Paths : 7500 LSM Price Basis 2 : 0.0 LSM Price Basis 3 : 0.6393622092470367 LSM Price Basis 4 : 0.6352343461445693LSM RF Price : 0.6399874368399042 Repeat : 17\n"
     ]
    },
    {
     "name": "stderr",
     "output_type": "stream",
     "text": [
      "/Users/anthonymaylath/Documents/Schoolwork/NYU/High_Performance_Computing/Thesis/NYU_Machine_Learning_Project/pythonMC/proj_helpers/FinObj.py:359: FutureWarning: `rcond` parameter will change to the default of machine precision times ``max(M, N)`` where M and N are the input matrix dimensions.\n",
      "To use the future default and silence this warning we advise to pass `rcond=None`, to keep using the old, explicitly pass `rcond=-1`.\n",
      "  betas = np.linalg.lstsq(X,Ct1)[0]\n"
     ]
    },
    {
     "name": "stdout",
     "output_type": "stream",
     "text": [
      "Time : 3.134704113006592, Paths : 7500 LSM Price Basis 2 : 0.0 LSM Price Basis 3 : 0.6386462764495757 LSM Price Basis 4 : 0.6427643786189663LSM RF Price : 0.6408251754848786 Repeat : 18\n"
     ]
    },
    {
     "name": "stderr",
     "output_type": "stream",
     "text": [
      "/Users/anthonymaylath/Documents/Schoolwork/NYU/High_Performance_Computing/Thesis/NYU_Machine_Learning_Project/pythonMC/proj_helpers/FinObj.py:359: FutureWarning: `rcond` parameter will change to the default of machine precision times ``max(M, N)`` where M and N are the input matrix dimensions.\n",
      "To use the future default and silence this warning we advise to pass `rcond=None`, to keep using the old, explicitly pass `rcond=-1`.\n",
      "  betas = np.linalg.lstsq(X,Ct1)[0]\n"
     ]
    },
    {
     "name": "stdout",
     "output_type": "stream",
     "text": [
      "Time : 3.118377923965454, Paths : 7500 LSM Price Basis 2 : 0.0 LSM Price Basis 3 : 0.6416306556385395 LSM Price Basis 4 : 0.6350031674400821LSM RF Price : 0.6377763588486749 Repeat : 19\n"
     ]
    },
    {
     "name": "stderr",
     "output_type": "stream",
     "text": [
      "/Users/anthonymaylath/Documents/Schoolwork/NYU/High_Performance_Computing/Thesis/NYU_Machine_Learning_Project/pythonMC/proj_helpers/FinObj.py:359: FutureWarning: `rcond` parameter will change to the default of machine precision times ``max(M, N)`` where M and N are the input matrix dimensions.\n",
      "To use the future default and silence this warning we advise to pass `rcond=None`, to keep using the old, explicitly pass `rcond=-1`.\n",
      "  betas = np.linalg.lstsq(X,Ct1)[0]\n"
     ]
    },
    {
     "name": "stdout",
     "output_type": "stream",
     "text": [
      "Time : 3.1557040214538574, Paths : 7500 LSM Price Basis 2 : 0.0 LSM Price Basis 3 : 0.6355267799740271 LSM Price Basis 4 : 0.6478013604097942LSM RF Price : 0.6390346312280036 Repeat : 20\n"
     ]
    },
    {
     "name": "stderr",
     "output_type": "stream",
     "text": [
      "/Users/anthonymaylath/Documents/Schoolwork/NYU/High_Performance_Computing/Thesis/NYU_Machine_Learning_Project/pythonMC/proj_helpers/FinObj.py:359: FutureWarning: `rcond` parameter will change to the default of machine precision times ``max(M, N)`` where M and N are the input matrix dimensions.\n",
      "To use the future default and silence this warning we advise to pass `rcond=None`, to keep using the old, explicitly pass `rcond=-1`.\n",
      "  betas = np.linalg.lstsq(X,Ct1)[0]\n"
     ]
    },
    {
     "name": "stdout",
     "output_type": "stream",
     "text": [
      "Time : 3.1393611431121826, Paths : 7500 LSM Price Basis 2 : 0.0 LSM Price Basis 3 : 0.635337163311123 LSM Price Basis 4 : 0.6335084890194311LSM RF Price : 0.6390470050142224 Repeat : 21\n"
     ]
    },
    {
     "name": "stderr",
     "output_type": "stream",
     "text": [
      "/Users/anthonymaylath/Documents/Schoolwork/NYU/High_Performance_Computing/Thesis/NYU_Machine_Learning_Project/pythonMC/proj_helpers/FinObj.py:359: FutureWarning: `rcond` parameter will change to the default of machine precision times ``max(M, N)`` where M and N are the input matrix dimensions.\n",
      "To use the future default and silence this warning we advise to pass `rcond=None`, to keep using the old, explicitly pass `rcond=-1`.\n",
      "  betas = np.linalg.lstsq(X,Ct1)[0]\n"
     ]
    },
    {
     "name": "stdout",
     "output_type": "stream",
     "text": [
      "Time : 3.129096031188965, Paths : 7500 LSM Price Basis 2 : 0.0 LSM Price Basis 3 : 0.6469500894724187 LSM Price Basis 4 : 0.6342267477803467LSM RF Price : 0.6354475494083986 Repeat : 22\n"
     ]
    },
    {
     "name": "stderr",
     "output_type": "stream",
     "text": [
      "/Users/anthonymaylath/Documents/Schoolwork/NYU/High_Performance_Computing/Thesis/NYU_Machine_Learning_Project/pythonMC/proj_helpers/FinObj.py:359: FutureWarning: `rcond` parameter will change to the default of machine precision times ``max(M, N)`` where M and N are the input matrix dimensions.\n",
      "To use the future default and silence this warning we advise to pass `rcond=None`, to keep using the old, explicitly pass `rcond=-1`.\n",
      "  betas = np.linalg.lstsq(X,Ct1)[0]\n"
     ]
    },
    {
     "name": "stdout",
     "output_type": "stream",
     "text": [
      "Time : 3.1281793117523193, Paths : 7500 LSM Price Basis 2 : 0.0 LSM Price Basis 3 : 0.6405238599895641 LSM Price Basis 4 : 0.6364242408458165LSM RF Price : 0.6477693614378848 Repeat : 23\n"
     ]
    },
    {
     "name": "stderr",
     "output_type": "stream",
     "text": [
      "/Users/anthonymaylath/Documents/Schoolwork/NYU/High_Performance_Computing/Thesis/NYU_Machine_Learning_Project/pythonMC/proj_helpers/FinObj.py:359: FutureWarning: `rcond` parameter will change to the default of machine precision times ``max(M, N)`` where M and N are the input matrix dimensions.\n",
      "To use the future default and silence this warning we advise to pass `rcond=None`, to keep using the old, explicitly pass `rcond=-1`.\n",
      "  betas = np.linalg.lstsq(X,Ct1)[0]\n"
     ]
    },
    {
     "name": "stdout",
     "output_type": "stream",
     "text": [
      "Time : 3.1262929439544678, Paths : 7500 LSM Price Basis 2 : 0.0 LSM Price Basis 3 : 0.6322041939089451 LSM Price Basis 4 : 0.6378107972870221LSM RF Price : 0.6388763747786288 Repeat : 24\n"
     ]
    },
    {
     "name": "stderr",
     "output_type": "stream",
     "text": [
      "/Users/anthonymaylath/Documents/Schoolwork/NYU/High_Performance_Computing/Thesis/NYU_Machine_Learning_Project/pythonMC/proj_helpers/FinObj.py:359: FutureWarning: `rcond` parameter will change to the default of machine precision times ``max(M, N)`` where M and N are the input matrix dimensions.\n",
      "To use the future default and silence this warning we advise to pass `rcond=None`, to keep using the old, explicitly pass `rcond=-1`.\n",
      "  betas = np.linalg.lstsq(X,Ct1)[0]\n"
     ]
    },
    {
     "name": "stdout",
     "output_type": "stream",
     "text": [
      "Time : 3.168053150177002, Paths : 7500 LSM Price Basis 2 : 0.0 LSM Price Basis 3 : 0.6400974080942348 LSM Price Basis 4 : 0.6443215793508688LSM RF Price : 0.640710229714329 Repeat : 25\n"
     ]
    },
    {
     "name": "stderr",
     "output_type": "stream",
     "text": [
      "/Users/anthonymaylath/Documents/Schoolwork/NYU/High_Performance_Computing/Thesis/NYU_Machine_Learning_Project/pythonMC/proj_helpers/FinObj.py:359: FutureWarning: `rcond` parameter will change to the default of machine precision times ``max(M, N)`` where M and N are the input matrix dimensions.\n",
      "To use the future default and silence this warning we advise to pass `rcond=None`, to keep using the old, explicitly pass `rcond=-1`.\n",
      "  betas = np.linalg.lstsq(X,Ct1)[0]\n"
     ]
    },
    {
     "name": "stdout",
     "output_type": "stream",
     "text": [
      "Time : 3.3512821197509766, Paths : 7500 LSM Price Basis 2 : 0.0 LSM Price Basis 3 : 0.6445411952032565 LSM Price Basis 4 : 0.6364357357156478LSM RF Price : 0.6455252944743447 Repeat : 26\n"
     ]
    },
    {
     "name": "stderr",
     "output_type": "stream",
     "text": [
      "/Users/anthonymaylath/Documents/Schoolwork/NYU/High_Performance_Computing/Thesis/NYU_Machine_Learning_Project/pythonMC/proj_helpers/FinObj.py:359: FutureWarning: `rcond` parameter will change to the default of machine precision times ``max(M, N)`` where M and N are the input matrix dimensions.\n",
      "To use the future default and silence this warning we advise to pass `rcond=None`, to keep using the old, explicitly pass `rcond=-1`.\n",
      "  betas = np.linalg.lstsq(X,Ct1)[0]\n"
     ]
    },
    {
     "name": "stdout",
     "output_type": "stream",
     "text": [
      "Time : 3.236884832382202, Paths : 7500 LSM Price Basis 2 : 0.0 LSM Price Basis 3 : 0.6415781282508155 LSM Price Basis 4 : 0.6401024192447389LSM RF Price : 0.6327883312554168 Repeat : 27\n"
     ]
    },
    {
     "name": "stderr",
     "output_type": "stream",
     "text": [
      "/Users/anthonymaylath/Documents/Schoolwork/NYU/High_Performance_Computing/Thesis/NYU_Machine_Learning_Project/pythonMC/proj_helpers/FinObj.py:359: FutureWarning: `rcond` parameter will change to the default of machine precision times ``max(M, N)`` where M and N are the input matrix dimensions.\n",
      "To use the future default and silence this warning we advise to pass `rcond=None`, to keep using the old, explicitly pass `rcond=-1`.\n",
      "  betas = np.linalg.lstsq(X,Ct1)[0]\n"
     ]
    },
    {
     "name": "stdout",
     "output_type": "stream",
     "text": [
      "Time : 3.911055326461792, Paths : 7500 LSM Price Basis 2 : 0.0 LSM Price Basis 3 : 0.6381720602350579 LSM Price Basis 4 : 0.6366866623827421LSM RF Price : 0.6363890355321337 Repeat : 28\n"
     ]
    },
    {
     "name": "stderr",
     "output_type": "stream",
     "text": [
      "/Users/anthonymaylath/Documents/Schoolwork/NYU/High_Performance_Computing/Thesis/NYU_Machine_Learning_Project/pythonMC/proj_helpers/FinObj.py:359: FutureWarning: `rcond` parameter will change to the default of machine precision times ``max(M, N)`` where M and N are the input matrix dimensions.\n",
      "To use the future default and silence this warning we advise to pass `rcond=None`, to keep using the old, explicitly pass `rcond=-1`.\n",
      "  betas = np.linalg.lstsq(X,Ct1)[0]\n"
     ]
    },
    {
     "name": "stdout",
     "output_type": "stream",
     "text": [
      "Time : 3.0876660346984863, Paths : 7500 LSM Price Basis 2 : 0.0 LSM Price Basis 3 : 0.6336853012391411 LSM Price Basis 4 : 0.6423644156263105LSM RF Price : 0.6368247957031264 Repeat : 29\n"
     ]
    },
    {
     "name": "stderr",
     "output_type": "stream",
     "text": [
      "/Users/anthonymaylath/Documents/Schoolwork/NYU/High_Performance_Computing/Thesis/NYU_Machine_Learning_Project/pythonMC/proj_helpers/FinObj.py:359: FutureWarning: `rcond` parameter will change to the default of machine precision times ``max(M, N)`` where M and N are the input matrix dimensions.\n",
      "To use the future default and silence this warning we advise to pass `rcond=None`, to keep using the old, explicitly pass `rcond=-1`.\n",
      "  betas = np.linalg.lstsq(X,Ct1)[0]\n"
     ]
    },
    {
     "name": "stdout",
     "output_type": "stream",
     "text": [
      "Time : 4.726452827453613, Paths : 10000 LSM Price Basis 2 : 0.0 LSM Price Basis 3 : 0.6383378390681345 LSM Price Basis 4 : 0.6393416981087721LSM RF Price : 0.64192351641498 Repeat : 0\n"
     ]
    },
    {
     "name": "stderr",
     "output_type": "stream",
     "text": [
      "/Users/anthonymaylath/Documents/Schoolwork/NYU/High_Performance_Computing/Thesis/NYU_Machine_Learning_Project/pythonMC/proj_helpers/FinObj.py:359: FutureWarning: `rcond` parameter will change to the default of machine precision times ``max(M, N)`` where M and N are the input matrix dimensions.\n",
      "To use the future default and silence this warning we advise to pass `rcond=None`, to keep using the old, explicitly pass `rcond=-1`.\n",
      "  betas = np.linalg.lstsq(X,Ct1)[0]\n"
     ]
    },
    {
     "name": "stdout",
     "output_type": "stream",
     "text": [
      "Time : 4.175424814224243, Paths : 10000 LSM Price Basis 2 : 0.0 LSM Price Basis 3 : 0.6380989106800007 LSM Price Basis 4 : 0.637242006968099LSM RF Price : 0.6333550260677976 Repeat : 1\n"
     ]
    },
    {
     "name": "stderr",
     "output_type": "stream",
     "text": [
      "/Users/anthonymaylath/Documents/Schoolwork/NYU/High_Performance_Computing/Thesis/NYU_Machine_Learning_Project/pythonMC/proj_helpers/FinObj.py:359: FutureWarning: `rcond` parameter will change to the default of machine precision times ``max(M, N)`` where M and N are the input matrix dimensions.\n",
      "To use the future default and silence this warning we advise to pass `rcond=None`, to keep using the old, explicitly pass `rcond=-1`.\n",
      "  betas = np.linalg.lstsq(X,Ct1)[0]\n"
     ]
    },
    {
     "name": "stdout",
     "output_type": "stream",
     "text": [
      "Time : 3.828275203704834, Paths : 10000 LSM Price Basis 2 : 0.0 LSM Price Basis 3 : 0.6383236276257911 LSM Price Basis 4 : 0.637641719920607LSM RF Price : 0.6398511370759131 Repeat : 2\n"
     ]
    },
    {
     "name": "stderr",
     "output_type": "stream",
     "text": [
      "/Users/anthonymaylath/Documents/Schoolwork/NYU/High_Performance_Computing/Thesis/NYU_Machine_Learning_Project/pythonMC/proj_helpers/FinObj.py:359: FutureWarning: `rcond` parameter will change to the default of machine precision times ``max(M, N)`` where M and N are the input matrix dimensions.\n",
      "To use the future default and silence this warning we advise to pass `rcond=None`, to keep using the old, explicitly pass `rcond=-1`.\n",
      "  betas = np.linalg.lstsq(X,Ct1)[0]\n"
     ]
    },
    {
     "name": "stdout",
     "output_type": "stream",
     "text": [
      "Time : 3.650132894515991, Paths : 10000 LSM Price Basis 2 : 0.0 LSM Price Basis 3 : 0.6416877513724359 LSM Price Basis 4 : 0.6378947200619535LSM RF Price : 0.6340538143131145 Repeat : 3\n"
     ]
    },
    {
     "name": "stderr",
     "output_type": "stream",
     "text": [
      "/Users/anthonymaylath/Documents/Schoolwork/NYU/High_Performance_Computing/Thesis/NYU_Machine_Learning_Project/pythonMC/proj_helpers/FinObj.py:359: FutureWarning: `rcond` parameter will change to the default of machine precision times ``max(M, N)`` where M and N are the input matrix dimensions.\n",
      "To use the future default and silence this warning we advise to pass `rcond=None`, to keep using the old, explicitly pass `rcond=-1`.\n",
      "  betas = np.linalg.lstsq(X,Ct1)[0]\n"
     ]
    },
    {
     "name": "stdout",
     "output_type": "stream",
     "text": [
      "Time : 3.6889090538024902, Paths : 10000 LSM Price Basis 2 : 0.0 LSM Price Basis 3 : 0.6350901633677025 LSM Price Basis 4 : 0.6371538548611224LSM RF Price : 0.639993902264859 Repeat : 4\n"
     ]
    },
    {
     "name": "stderr",
     "output_type": "stream",
     "text": [
      "/Users/anthonymaylath/Documents/Schoolwork/NYU/High_Performance_Computing/Thesis/NYU_Machine_Learning_Project/pythonMC/proj_helpers/FinObj.py:359: FutureWarning: `rcond` parameter will change to the default of machine precision times ``max(M, N)`` where M and N are the input matrix dimensions.\n",
      "To use the future default and silence this warning we advise to pass `rcond=None`, to keep using the old, explicitly pass `rcond=-1`.\n",
      "  betas = np.linalg.lstsq(X,Ct1)[0]\n"
     ]
    },
    {
     "name": "stdout",
     "output_type": "stream",
     "text": [
      "Time : 3.593029737472534, Paths : 10000 LSM Price Basis 2 : 0.0 LSM Price Basis 3 : 0.6442358510886254 LSM Price Basis 4 : 0.6371100166622448LSM RF Price : 0.6408058970899351 Repeat : 5\n"
     ]
    },
    {
     "name": "stderr",
     "output_type": "stream",
     "text": [
      "/Users/anthonymaylath/Documents/Schoolwork/NYU/High_Performance_Computing/Thesis/NYU_Machine_Learning_Project/pythonMC/proj_helpers/FinObj.py:359: FutureWarning: `rcond` parameter will change to the default of machine precision times ``max(M, N)`` where M and N are the input matrix dimensions.\n",
      "To use the future default and silence this warning we advise to pass `rcond=None`, to keep using the old, explicitly pass `rcond=-1`.\n",
      "  betas = np.linalg.lstsq(X,Ct1)[0]\n"
     ]
    },
    {
     "name": "stdout",
     "output_type": "stream",
     "text": [
      "Time : 4.019016981124878, Paths : 10000 LSM Price Basis 2 : 0.0 LSM Price Basis 3 : 0.6327876601801908 LSM Price Basis 4 : 0.6342089484911632LSM RF Price : 0.6429944817879674 Repeat : 6\n"
     ]
    },
    {
     "name": "stderr",
     "output_type": "stream",
     "text": [
      "/Users/anthonymaylath/Documents/Schoolwork/NYU/High_Performance_Computing/Thesis/NYU_Machine_Learning_Project/pythonMC/proj_helpers/FinObj.py:359: FutureWarning: `rcond` parameter will change to the default of machine precision times ``max(M, N)`` where M and N are the input matrix dimensions.\n",
      "To use the future default and silence this warning we advise to pass `rcond=None`, to keep using the old, explicitly pass `rcond=-1`.\n",
      "  betas = np.linalg.lstsq(X,Ct1)[0]\n"
     ]
    },
    {
     "name": "stdout",
     "output_type": "stream",
     "text": [
      "Time : 4.259343147277832, Paths : 10000 LSM Price Basis 2 : 0.0 LSM Price Basis 3 : 0.6371313724987157 LSM Price Basis 4 : 0.6404269348782913LSM RF Price : 0.629593831827122 Repeat : 7\n"
     ]
    },
    {
     "name": "stderr",
     "output_type": "stream",
     "text": [
      "/Users/anthonymaylath/Documents/Schoolwork/NYU/High_Performance_Computing/Thesis/NYU_Machine_Learning_Project/pythonMC/proj_helpers/FinObj.py:359: FutureWarning: `rcond` parameter will change to the default of machine precision times ``max(M, N)`` where M and N are the input matrix dimensions.\n",
      "To use the future default and silence this warning we advise to pass `rcond=None`, to keep using the old, explicitly pass `rcond=-1`.\n",
      "  betas = np.linalg.lstsq(X,Ct1)[0]\n"
     ]
    },
    {
     "name": "stdout",
     "output_type": "stream",
     "text": [
      "Time : 3.8695380687713623, Paths : 10000 LSM Price Basis 2 : 0.0 LSM Price Basis 3 : 0.6405228036553579 LSM Price Basis 4 : 0.6377071990715305LSM RF Price : 0.6423046317974093 Repeat : 8\n"
     ]
    },
    {
     "name": "stderr",
     "output_type": "stream",
     "text": [
      "/Users/anthonymaylath/Documents/Schoolwork/NYU/High_Performance_Computing/Thesis/NYU_Machine_Learning_Project/pythonMC/proj_helpers/FinObj.py:359: FutureWarning: `rcond` parameter will change to the default of machine precision times ``max(M, N)`` where M and N are the input matrix dimensions.\n",
      "To use the future default and silence this warning we advise to pass `rcond=None`, to keep using the old, explicitly pass `rcond=-1`.\n",
      "  betas = np.linalg.lstsq(X,Ct1)[0]\n"
     ]
    },
    {
     "name": "stdout",
     "output_type": "stream",
     "text": [
      "Time : 3.6065289974212646, Paths : 10000 LSM Price Basis 2 : 0.0 LSM Price Basis 3 : 0.6364065299815855 LSM Price Basis 4 : 0.639145212370135LSM RF Price : 0.6382253050339229 Repeat : 9\n"
     ]
    },
    {
     "name": "stderr",
     "output_type": "stream",
     "text": [
      "/Users/anthonymaylath/Documents/Schoolwork/NYU/High_Performance_Computing/Thesis/NYU_Machine_Learning_Project/pythonMC/proj_helpers/FinObj.py:359: FutureWarning: `rcond` parameter will change to the default of machine precision times ``max(M, N)`` where M and N are the input matrix dimensions.\n",
      "To use the future default and silence this warning we advise to pass `rcond=None`, to keep using the old, explicitly pass `rcond=-1`.\n",
      "  betas = np.linalg.lstsq(X,Ct1)[0]\n"
     ]
    },
    {
     "name": "stdout",
     "output_type": "stream",
     "text": [
      "Time : 3.5762438774108887, Paths : 10000 LSM Price Basis 2 : 0.0 LSM Price Basis 3 : 0.6393016993288727 LSM Price Basis 4 : 0.6429574432871117LSM RF Price : 0.6344771643887716 Repeat : 10\n"
     ]
    },
    {
     "name": "stderr",
     "output_type": "stream",
     "text": [
      "/Users/anthonymaylath/Documents/Schoolwork/NYU/High_Performance_Computing/Thesis/NYU_Machine_Learning_Project/pythonMC/proj_helpers/FinObj.py:359: FutureWarning: `rcond` parameter will change to the default of machine precision times ``max(M, N)`` where M and N are the input matrix dimensions.\n",
      "To use the future default and silence this warning we advise to pass `rcond=None`, to keep using the old, explicitly pass `rcond=-1`.\n",
      "  betas = np.linalg.lstsq(X,Ct1)[0]\n"
     ]
    },
    {
     "name": "stdout",
     "output_type": "stream",
     "text": [
      "Time : 3.8448538780212402, Paths : 10000 LSM Price Basis 2 : 0.0 LSM Price Basis 3 : 0.6415740321149985 LSM Price Basis 4 : 0.6356291101383106LSM RF Price : 0.6431499265959663 Repeat : 11\n"
     ]
    },
    {
     "name": "stderr",
     "output_type": "stream",
     "text": [
      "/Users/anthonymaylath/Documents/Schoolwork/NYU/High_Performance_Computing/Thesis/NYU_Machine_Learning_Project/pythonMC/proj_helpers/FinObj.py:359: FutureWarning: `rcond` parameter will change to the default of machine precision times ``max(M, N)`` where M and N are the input matrix dimensions.\n",
      "To use the future default and silence this warning we advise to pass `rcond=None`, to keep using the old, explicitly pass `rcond=-1`.\n",
      "  betas = np.linalg.lstsq(X,Ct1)[0]\n"
     ]
    },
    {
     "name": "stdout",
     "output_type": "stream",
     "text": [
      "Time : 3.723896026611328, Paths : 10000 LSM Price Basis 2 : 0.0 LSM Price Basis 3 : 0.6404806848464499 LSM Price Basis 4 : 0.6370247391973235LSM RF Price : 0.6329254180639861 Repeat : 12\n"
     ]
    },
    {
     "name": "stderr",
     "output_type": "stream",
     "text": [
      "/Users/anthonymaylath/Documents/Schoolwork/NYU/High_Performance_Computing/Thesis/NYU_Machine_Learning_Project/pythonMC/proj_helpers/FinObj.py:359: FutureWarning: `rcond` parameter will change to the default of machine precision times ``max(M, N)`` where M and N are the input matrix dimensions.\n",
      "To use the future default and silence this warning we advise to pass `rcond=None`, to keep using the old, explicitly pass `rcond=-1`.\n",
      "  betas = np.linalg.lstsq(X,Ct1)[0]\n"
     ]
    },
    {
     "name": "stdout",
     "output_type": "stream",
     "text": [
      "Time : 3.7152950763702393, Paths : 10000 LSM Price Basis 2 : 0.0 LSM Price Basis 3 : 0.6298179930925731 LSM Price Basis 4 : 0.6410294880913808LSM RF Price : 0.6350889807753964 Repeat : 13\n"
     ]
    },
    {
     "name": "stderr",
     "output_type": "stream",
     "text": [
      "/Users/anthonymaylath/Documents/Schoolwork/NYU/High_Performance_Computing/Thesis/NYU_Machine_Learning_Project/pythonMC/proj_helpers/FinObj.py:359: FutureWarning: `rcond` parameter will change to the default of machine precision times ``max(M, N)`` where M and N are the input matrix dimensions.\n",
      "To use the future default and silence this warning we advise to pass `rcond=None`, to keep using the old, explicitly pass `rcond=-1`.\n",
      "  betas = np.linalg.lstsq(X,Ct1)[0]\n"
     ]
    },
    {
     "name": "stdout",
     "output_type": "stream",
     "text": [
      "Time : 3.90222430229187, Paths : 10000 LSM Price Basis 2 : 0.0 LSM Price Basis 3 : 0.6422807473211922 LSM Price Basis 4 : 0.641049200389653LSM RF Price : 0.6385213353148204 Repeat : 14\n"
     ]
    },
    {
     "name": "stderr",
     "output_type": "stream",
     "text": [
      "/Users/anthonymaylath/Documents/Schoolwork/NYU/High_Performance_Computing/Thesis/NYU_Machine_Learning_Project/pythonMC/proj_helpers/FinObj.py:359: FutureWarning: `rcond` parameter will change to the default of machine precision times ``max(M, N)`` where M and N are the input matrix dimensions.\n",
      "To use the future default and silence this warning we advise to pass `rcond=None`, to keep using the old, explicitly pass `rcond=-1`.\n",
      "  betas = np.linalg.lstsq(X,Ct1)[0]\n"
     ]
    },
    {
     "name": "stdout",
     "output_type": "stream",
     "text": [
      "Time : 3.8520147800445557, Paths : 10000 LSM Price Basis 2 : 0.0 LSM Price Basis 3 : 0.6373612677217378 LSM Price Basis 4 : 0.635678312330726LSM RF Price : 0.6397896584482736 Repeat : 15\n"
     ]
    },
    {
     "name": "stderr",
     "output_type": "stream",
     "text": [
      "/Users/anthonymaylath/Documents/Schoolwork/NYU/High_Performance_Computing/Thesis/NYU_Machine_Learning_Project/pythonMC/proj_helpers/FinObj.py:359: FutureWarning: `rcond` parameter will change to the default of machine precision times ``max(M, N)`` where M and N are the input matrix dimensions.\n",
      "To use the future default and silence this warning we advise to pass `rcond=None`, to keep using the old, explicitly pass `rcond=-1`.\n",
      "  betas = np.linalg.lstsq(X,Ct1)[0]\n"
     ]
    },
    {
     "name": "stdout",
     "output_type": "stream",
     "text": [
      "Time : 3.66637921333313, Paths : 10000 LSM Price Basis 2 : 0.0 LSM Price Basis 3 : 0.6360714330289307 LSM Price Basis 4 : 0.6361445670028403LSM RF Price : 0.640562517034139 Repeat : 16\n"
     ]
    },
    {
     "name": "stderr",
     "output_type": "stream",
     "text": [
      "/Users/anthonymaylath/Documents/Schoolwork/NYU/High_Performance_Computing/Thesis/NYU_Machine_Learning_Project/pythonMC/proj_helpers/FinObj.py:359: FutureWarning: `rcond` parameter will change to the default of machine precision times ``max(M, N)`` where M and N are the input matrix dimensions.\n",
      "To use the future default and silence this warning we advise to pass `rcond=None`, to keep using the old, explicitly pass `rcond=-1`.\n",
      "  betas = np.linalg.lstsq(X,Ct1)[0]\n"
     ]
    },
    {
     "name": "stdout",
     "output_type": "stream",
     "text": [
      "Time : 3.9976589679718018, Paths : 10000 LSM Price Basis 2 : 0.0 LSM Price Basis 3 : 0.6389326661448016 LSM Price Basis 4 : 0.6348082695162794LSM RF Price : 0.6418149221293578 Repeat : 17\n"
     ]
    },
    {
     "name": "stderr",
     "output_type": "stream",
     "text": [
      "/Users/anthonymaylath/Documents/Schoolwork/NYU/High_Performance_Computing/Thesis/NYU_Machine_Learning_Project/pythonMC/proj_helpers/FinObj.py:359: FutureWarning: `rcond` parameter will change to the default of machine precision times ``max(M, N)`` where M and N are the input matrix dimensions.\n",
      "To use the future default and silence this warning we advise to pass `rcond=None`, to keep using the old, explicitly pass `rcond=-1`.\n",
      "  betas = np.linalg.lstsq(X,Ct1)[0]\n"
     ]
    },
    {
     "name": "stdout",
     "output_type": "stream",
     "text": [
      "Time : 3.769136905670166, Paths : 10000 LSM Price Basis 2 : 0.0 LSM Price Basis 3 : 0.6349639350121862 LSM Price Basis 4 : 0.6373527706671468LSM RF Price : 0.6360295512448907 Repeat : 18\n"
     ]
    },
    {
     "name": "stderr",
     "output_type": "stream",
     "text": [
      "/Users/anthonymaylath/Documents/Schoolwork/NYU/High_Performance_Computing/Thesis/NYU_Machine_Learning_Project/pythonMC/proj_helpers/FinObj.py:359: FutureWarning: `rcond` parameter will change to the default of machine precision times ``max(M, N)`` where M and N are the input matrix dimensions.\n",
      "To use the future default and silence this warning we advise to pass `rcond=None`, to keep using the old, explicitly pass `rcond=-1`.\n",
      "  betas = np.linalg.lstsq(X,Ct1)[0]\n"
     ]
    },
    {
     "name": "stdout",
     "output_type": "stream",
     "text": [
      "Time : 3.7421247959136963, Paths : 10000 LSM Price Basis 2 : 0.0 LSM Price Basis 3 : 0.6387372558550661 LSM Price Basis 4 : 0.6389891850104575LSM RF Price : 0.6399216622639213 Repeat : 19\n"
     ]
    },
    {
     "name": "stderr",
     "output_type": "stream",
     "text": [
      "/Users/anthonymaylath/Documents/Schoolwork/NYU/High_Performance_Computing/Thesis/NYU_Machine_Learning_Project/pythonMC/proj_helpers/FinObj.py:359: FutureWarning: `rcond` parameter will change to the default of machine precision times ``max(M, N)`` where M and N are the input matrix dimensions.\n",
      "To use the future default and silence this warning we advise to pass `rcond=None`, to keep using the old, explicitly pass `rcond=-1`.\n",
      "  betas = np.linalg.lstsq(X,Ct1)[0]\n"
     ]
    },
    {
     "name": "stdout",
     "output_type": "stream",
     "text": [
      "Time : 3.7816100120544434, Paths : 10000 LSM Price Basis 2 : 0.0 LSM Price Basis 3 : 0.6442219307058791 LSM Price Basis 4 : 0.6435800808455109LSM RF Price : 0.6401245165366608 Repeat : 20\n"
     ]
    },
    {
     "name": "stderr",
     "output_type": "stream",
     "text": [
      "/Users/anthonymaylath/Documents/Schoolwork/NYU/High_Performance_Computing/Thesis/NYU_Machine_Learning_Project/pythonMC/proj_helpers/FinObj.py:359: FutureWarning: `rcond` parameter will change to the default of machine precision times ``max(M, N)`` where M and N are the input matrix dimensions.\n",
      "To use the future default and silence this warning we advise to pass `rcond=None`, to keep using the old, explicitly pass `rcond=-1`.\n",
      "  betas = np.linalg.lstsq(X,Ct1)[0]\n"
     ]
    },
    {
     "name": "stdout",
     "output_type": "stream",
     "text": [
      "Time : 3.718924045562744, Paths : 10000 LSM Price Basis 2 : 0.0 LSM Price Basis 3 : 0.6395509637322486 LSM Price Basis 4 : 0.6462441479609236LSM RF Price : 0.6348875077477065 Repeat : 21\n"
     ]
    },
    {
     "name": "stderr",
     "output_type": "stream",
     "text": [
      "/Users/anthonymaylath/Documents/Schoolwork/NYU/High_Performance_Computing/Thesis/NYU_Machine_Learning_Project/pythonMC/proj_helpers/FinObj.py:359: FutureWarning: `rcond` parameter will change to the default of machine precision times ``max(M, N)`` where M and N are the input matrix dimensions.\n",
      "To use the future default and silence this warning we advise to pass `rcond=None`, to keep using the old, explicitly pass `rcond=-1`.\n",
      "  betas = np.linalg.lstsq(X,Ct1)[0]\n"
     ]
    },
    {
     "name": "stdout",
     "output_type": "stream",
     "text": [
      "Time : 3.7811689376831055, Paths : 10000 LSM Price Basis 2 : 0.0 LSM Price Basis 3 : 0.6346297731156837 LSM Price Basis 4 : 0.645005845821971LSM RF Price : 0.6352405606736926 Repeat : 22\n"
     ]
    },
    {
     "name": "stderr",
     "output_type": "stream",
     "text": [
      "/Users/anthonymaylath/Documents/Schoolwork/NYU/High_Performance_Computing/Thesis/NYU_Machine_Learning_Project/pythonMC/proj_helpers/FinObj.py:359: FutureWarning: `rcond` parameter will change to the default of machine precision times ``max(M, N)`` where M and N are the input matrix dimensions.\n",
      "To use the future default and silence this warning we advise to pass `rcond=None`, to keep using the old, explicitly pass `rcond=-1`.\n",
      "  betas = np.linalg.lstsq(X,Ct1)[0]\n"
     ]
    },
    {
     "name": "stdout",
     "output_type": "stream",
     "text": [
      "Time : 3.760557174682617, Paths : 10000 LSM Price Basis 2 : 0.0 LSM Price Basis 3 : 0.6452655196873301 LSM Price Basis 4 : 0.6374346316977857LSM RF Price : 0.6421396989396 Repeat : 23\n"
     ]
    },
    {
     "name": "stderr",
     "output_type": "stream",
     "text": [
      "/Users/anthonymaylath/Documents/Schoolwork/NYU/High_Performance_Computing/Thesis/NYU_Machine_Learning_Project/pythonMC/proj_helpers/FinObj.py:359: FutureWarning: `rcond` parameter will change to the default of machine precision times ``max(M, N)`` where M and N are the input matrix dimensions.\n",
      "To use the future default and silence this warning we advise to pass `rcond=None`, to keep using the old, explicitly pass `rcond=-1`.\n",
      "  betas = np.linalg.lstsq(X,Ct1)[0]\n"
     ]
    },
    {
     "name": "stdout",
     "output_type": "stream",
     "text": [
      "Time : 3.792726755142212, Paths : 10000 LSM Price Basis 2 : 0.0 LSM Price Basis 3 : 0.6422887690788311 LSM Price Basis 4 : 0.6391976340299339LSM RF Price : 0.6357691210669038 Repeat : 24\n"
     ]
    },
    {
     "name": "stderr",
     "output_type": "stream",
     "text": [
      "/Users/anthonymaylath/Documents/Schoolwork/NYU/High_Performance_Computing/Thesis/NYU_Machine_Learning_Project/pythonMC/proj_helpers/FinObj.py:359: FutureWarning: `rcond` parameter will change to the default of machine precision times ``max(M, N)`` where M and N are the input matrix dimensions.\n",
      "To use the future default and silence this warning we advise to pass `rcond=None`, to keep using the old, explicitly pass `rcond=-1`.\n",
      "  betas = np.linalg.lstsq(X,Ct1)[0]\n"
     ]
    },
    {
     "name": "stdout",
     "output_type": "stream",
     "text": [
      "Time : 3.7123141288757324, Paths : 10000 LSM Price Basis 2 : 0.0 LSM Price Basis 3 : 0.6417273211352787 LSM Price Basis 4 : 0.639565336796647LSM RF Price : 0.6368899187970999 Repeat : 25\n"
     ]
    },
    {
     "name": "stderr",
     "output_type": "stream",
     "text": [
      "/Users/anthonymaylath/Documents/Schoolwork/NYU/High_Performance_Computing/Thesis/NYU_Machine_Learning_Project/pythonMC/proj_helpers/FinObj.py:359: FutureWarning: `rcond` parameter will change to the default of machine precision times ``max(M, N)`` where M and N are the input matrix dimensions.\n",
      "To use the future default and silence this warning we advise to pass `rcond=None`, to keep using the old, explicitly pass `rcond=-1`.\n",
      "  betas = np.linalg.lstsq(X,Ct1)[0]\n"
     ]
    },
    {
     "name": "stdout",
     "output_type": "stream",
     "text": [
      "Time : 3.7216708660125732, Paths : 10000 LSM Price Basis 2 : 0.0 LSM Price Basis 3 : 0.6379795787335534 LSM Price Basis 4 : 0.6336487408112867LSM RF Price : 0.642658631855983 Repeat : 26\n"
     ]
    },
    {
     "name": "stderr",
     "output_type": "stream",
     "text": [
      "/Users/anthonymaylath/Documents/Schoolwork/NYU/High_Performance_Computing/Thesis/NYU_Machine_Learning_Project/pythonMC/proj_helpers/FinObj.py:359: FutureWarning: `rcond` parameter will change to the default of machine precision times ``max(M, N)`` where M and N are the input matrix dimensions.\n",
      "To use the future default and silence this warning we advise to pass `rcond=None`, to keep using the old, explicitly pass `rcond=-1`.\n",
      "  betas = np.linalg.lstsq(X,Ct1)[0]\n"
     ]
    },
    {
     "name": "stdout",
     "output_type": "stream",
     "text": [
      "Time : 3.7554502487182617, Paths : 10000 LSM Price Basis 2 : 0.0 LSM Price Basis 3 : 0.6397792286780551 LSM Price Basis 4 : 0.6446188636528286LSM RF Price : 0.6338088447362381 Repeat : 27\n"
     ]
    },
    {
     "name": "stderr",
     "output_type": "stream",
     "text": [
      "/Users/anthonymaylath/Documents/Schoolwork/NYU/High_Performance_Computing/Thesis/NYU_Machine_Learning_Project/pythonMC/proj_helpers/FinObj.py:359: FutureWarning: `rcond` parameter will change to the default of machine precision times ``max(M, N)`` where M and N are the input matrix dimensions.\n",
      "To use the future default and silence this warning we advise to pass `rcond=None`, to keep using the old, explicitly pass `rcond=-1`.\n",
      "  betas = np.linalg.lstsq(X,Ct1)[0]\n"
     ]
    },
    {
     "name": "stdout",
     "output_type": "stream",
     "text": [
      "Time : 3.7229809761047363, Paths : 10000 LSM Price Basis 2 : 0.0 LSM Price Basis 3 : 0.6416029144143366 LSM Price Basis 4 : 0.6351945980799701LSM RF Price : 0.639602132666958 Repeat : 28\n"
     ]
    },
    {
     "name": "stderr",
     "output_type": "stream",
     "text": [
      "/Users/anthonymaylath/Documents/Schoolwork/NYU/High_Performance_Computing/Thesis/NYU_Machine_Learning_Project/pythonMC/proj_helpers/FinObj.py:359: FutureWarning: `rcond` parameter will change to the default of machine precision times ``max(M, N)`` where M and N are the input matrix dimensions.\n",
      "To use the future default and silence this warning we advise to pass `rcond=None`, to keep using the old, explicitly pass `rcond=-1`.\n",
      "  betas = np.linalg.lstsq(X,Ct1)[0]\n"
     ]
    },
    {
     "name": "stdout",
     "output_type": "stream",
     "text": [
      "Time : 3.734970808029175, Paths : 10000 LSM Price Basis 2 : 0.0 LSM Price Basis 3 : 0.6368694660546772 LSM Price Basis 4 : 0.6416448665744059LSM RF Price : 0.6360828474587776 Repeat : 29\n"
     ]
    },
    {
     "name": "stderr",
     "output_type": "stream",
     "text": [
      "/Users/anthonymaylath/Documents/Schoolwork/NYU/High_Performance_Computing/Thesis/NYU_Machine_Learning_Project/pythonMC/proj_helpers/FinObj.py:359: FutureWarning: `rcond` parameter will change to the default of machine precision times ``max(M, N)`` where M and N are the input matrix dimensions.\n",
      "To use the future default and silence this warning we advise to pass `rcond=None`, to keep using the old, explicitly pass `rcond=-1`.\n",
      "  betas = np.linalg.lstsq(X,Ct1)[0]\n"
     ]
    },
    {
     "name": "stdout",
     "output_type": "stream",
     "text": [
      "Time : 7.671696186065674, Paths : 25000 LSM Price Basis 2 : 0.0 LSM Price Basis 3 : 0.6375899880414654 LSM Price Basis 4 : 0.6364426380702155LSM RF Price : 0.6401688007185931 Repeat : 0\n"
     ]
    },
    {
     "name": "stderr",
     "output_type": "stream",
     "text": [
      "/Users/anthonymaylath/Documents/Schoolwork/NYU/High_Performance_Computing/Thesis/NYU_Machine_Learning_Project/pythonMC/proj_helpers/FinObj.py:359: FutureWarning: `rcond` parameter will change to the default of machine precision times ``max(M, N)`` where M and N are the input matrix dimensions.\n",
      "To use the future default and silence this warning we advise to pass `rcond=None`, to keep using the old, explicitly pass `rcond=-1`.\n",
      "  betas = np.linalg.lstsq(X,Ct1)[0]\n"
     ]
    },
    {
     "name": "stdout",
     "output_type": "stream",
     "text": [
      "Time : 7.594844341278076, Paths : 25000 LSM Price Basis 2 : 0.0 LSM Price Basis 3 : 0.6419571826249952 LSM Price Basis 4 : 0.6375188035064457LSM RF Price : 0.6366925939089421 Repeat : 1\n"
     ]
    },
    {
     "name": "stderr",
     "output_type": "stream",
     "text": [
      "/Users/anthonymaylath/Documents/Schoolwork/NYU/High_Performance_Computing/Thesis/NYU_Machine_Learning_Project/pythonMC/proj_helpers/FinObj.py:359: FutureWarning: `rcond` parameter will change to the default of machine precision times ``max(M, N)`` where M and N are the input matrix dimensions.\n",
      "To use the future default and silence this warning we advise to pass `rcond=None`, to keep using the old, explicitly pass `rcond=-1`.\n",
      "  betas = np.linalg.lstsq(X,Ct1)[0]\n"
     ]
    },
    {
     "name": "stdout",
     "output_type": "stream",
     "text": [
      "Time : 7.632093906402588, Paths : 25000 LSM Price Basis 2 : 0.0 LSM Price Basis 3 : 0.6369057674318803 LSM Price Basis 4 : 0.6355821769946102LSM RF Price : 0.6415746715552252 Repeat : 2\n"
     ]
    },
    {
     "name": "stderr",
     "output_type": "stream",
     "text": [
      "/Users/anthonymaylath/Documents/Schoolwork/NYU/High_Performance_Computing/Thesis/NYU_Machine_Learning_Project/pythonMC/proj_helpers/FinObj.py:359: FutureWarning: `rcond` parameter will change to the default of machine precision times ``max(M, N)`` where M and N are the input matrix dimensions.\n",
      "To use the future default and silence this warning we advise to pass `rcond=None`, to keep using the old, explicitly pass `rcond=-1`.\n",
      "  betas = np.linalg.lstsq(X,Ct1)[0]\n"
     ]
    },
    {
     "name": "stdout",
     "output_type": "stream",
     "text": [
      "Time : 7.618762016296387, Paths : 25000 LSM Price Basis 2 : 0.0 LSM Price Basis 3 : 0.6377238031630226 LSM Price Basis 4 : 0.63957878076506LSM RF Price : 0.6383285735452152 Repeat : 3\n"
     ]
    },
    {
     "name": "stderr",
     "output_type": "stream",
     "text": [
      "/Users/anthonymaylath/Documents/Schoolwork/NYU/High_Performance_Computing/Thesis/NYU_Machine_Learning_Project/pythonMC/proj_helpers/FinObj.py:359: FutureWarning: `rcond` parameter will change to the default of machine precision times ``max(M, N)`` where M and N are the input matrix dimensions.\n",
      "To use the future default and silence this warning we advise to pass `rcond=None`, to keep using the old, explicitly pass `rcond=-1`.\n",
      "  betas = np.linalg.lstsq(X,Ct1)[0]\n"
     ]
    },
    {
     "name": "stdout",
     "output_type": "stream",
     "text": [
      "Time : 7.606371164321899, Paths : 25000 LSM Price Basis 2 : 0.0 LSM Price Basis 3 : 0.634939544604489 LSM Price Basis 4 : 0.636742278878847LSM RF Price : 0.6368805587099872 Repeat : 4\n"
     ]
    },
    {
     "name": "stderr",
     "output_type": "stream",
     "text": [
      "/Users/anthonymaylath/Documents/Schoolwork/NYU/High_Performance_Computing/Thesis/NYU_Machine_Learning_Project/pythonMC/proj_helpers/FinObj.py:359: FutureWarning: `rcond` parameter will change to the default of machine precision times ``max(M, N)`` where M and N are the input matrix dimensions.\n",
      "To use the future default and silence this warning we advise to pass `rcond=None`, to keep using the old, explicitly pass `rcond=-1`.\n",
      "  betas = np.linalg.lstsq(X,Ct1)[0]\n"
     ]
    },
    {
     "name": "stdout",
     "output_type": "stream",
     "text": [
      "Time : 7.567623138427734, Paths : 25000 LSM Price Basis 2 : 0.0 LSM Price Basis 3 : 0.6372005326281095 LSM Price Basis 4 : 0.6343864501877525LSM RF Price : 0.6373718127535698 Repeat : 5\n"
     ]
    },
    {
     "name": "stderr",
     "output_type": "stream",
     "text": [
      "/Users/anthonymaylath/Documents/Schoolwork/NYU/High_Performance_Computing/Thesis/NYU_Machine_Learning_Project/pythonMC/proj_helpers/FinObj.py:359: FutureWarning: `rcond` parameter will change to the default of machine precision times ``max(M, N)`` where M and N are the input matrix dimensions.\n",
      "To use the future default and silence this warning we advise to pass `rcond=None`, to keep using the old, explicitly pass `rcond=-1`.\n",
      "  betas = np.linalg.lstsq(X,Ct1)[0]\n"
     ]
    },
    {
     "name": "stdout",
     "output_type": "stream",
     "text": [
      "Time : 7.6262829303741455, Paths : 25000 LSM Price Basis 2 : 0.0 LSM Price Basis 3 : 0.6384751273982988 LSM Price Basis 4 : 0.6382558540736284LSM RF Price : 0.6394104016244997 Repeat : 6\n"
     ]
    },
    {
     "name": "stderr",
     "output_type": "stream",
     "text": [
      "/Users/anthonymaylath/Documents/Schoolwork/NYU/High_Performance_Computing/Thesis/NYU_Machine_Learning_Project/pythonMC/proj_helpers/FinObj.py:359: FutureWarning: `rcond` parameter will change to the default of machine precision times ``max(M, N)`` where M and N are the input matrix dimensions.\n",
      "To use the future default and silence this warning we advise to pass `rcond=None`, to keep using the old, explicitly pass `rcond=-1`.\n",
      "  betas = np.linalg.lstsq(X,Ct1)[0]\n"
     ]
    },
    {
     "name": "stdout",
     "output_type": "stream",
     "text": [
      "Time : 7.665430784225464, Paths : 25000 LSM Price Basis 2 : 0.0 LSM Price Basis 3 : 0.6372362729406436 LSM Price Basis 4 : 0.6377422787272171LSM RF Price : 0.6365398520146213 Repeat : 7\n"
     ]
    },
    {
     "name": "stderr",
     "output_type": "stream",
     "text": [
      "/Users/anthonymaylath/Documents/Schoolwork/NYU/High_Performance_Computing/Thesis/NYU_Machine_Learning_Project/pythonMC/proj_helpers/FinObj.py:359: FutureWarning: `rcond` parameter will change to the default of machine precision times ``max(M, N)`` where M and N are the input matrix dimensions.\n",
      "To use the future default and silence this warning we advise to pass `rcond=None`, to keep using the old, explicitly pass `rcond=-1`.\n",
      "  betas = np.linalg.lstsq(X,Ct1)[0]\n"
     ]
    },
    {
     "name": "stdout",
     "output_type": "stream",
     "text": [
      "Time : 7.597986936569214, Paths : 25000 LSM Price Basis 2 : 0.0 LSM Price Basis 3 : 0.6387181721399372 LSM Price Basis 4 : 0.6394057904612532LSM RF Price : 0.6371404863116092 Repeat : 8\n"
     ]
    },
    {
     "name": "stderr",
     "output_type": "stream",
     "text": [
      "/Users/anthonymaylath/Documents/Schoolwork/NYU/High_Performance_Computing/Thesis/NYU_Machine_Learning_Project/pythonMC/proj_helpers/FinObj.py:359: FutureWarning: `rcond` parameter will change to the default of machine precision times ``max(M, N)`` where M and N are the input matrix dimensions.\n",
      "To use the future default and silence this warning we advise to pass `rcond=None`, to keep using the old, explicitly pass `rcond=-1`.\n",
      "  betas = np.linalg.lstsq(X,Ct1)[0]\n"
     ]
    },
    {
     "name": "stdout",
     "output_type": "stream",
     "text": [
      "Time : 7.622927904129028, Paths : 25000 LSM Price Basis 2 : 0.0 LSM Price Basis 3 : 0.6381550567933353 LSM Price Basis 4 : 0.6385732679636497LSM RF Price : 0.6433525166481288 Repeat : 9\n"
     ]
    },
    {
     "name": "stderr",
     "output_type": "stream",
     "text": [
      "/Users/anthonymaylath/Documents/Schoolwork/NYU/High_Performance_Computing/Thesis/NYU_Machine_Learning_Project/pythonMC/proj_helpers/FinObj.py:359: FutureWarning: `rcond` parameter will change to the default of machine precision times ``max(M, N)`` where M and N are the input matrix dimensions.\n",
      "To use the future default and silence this warning we advise to pass `rcond=None`, to keep using the old, explicitly pass `rcond=-1`.\n",
      "  betas = np.linalg.lstsq(X,Ct1)[0]\n"
     ]
    },
    {
     "name": "stdout",
     "output_type": "stream",
     "text": [
      "Time : 7.643960952758789, Paths : 25000 LSM Price Basis 2 : 0.0 LSM Price Basis 3 : 0.6392748243226364 LSM Price Basis 4 : 0.6340646689953293LSM RF Price : 0.6412662373047662 Repeat : 10\n"
     ]
    },
    {
     "name": "stderr",
     "output_type": "stream",
     "text": [
      "/Users/anthonymaylath/Documents/Schoolwork/NYU/High_Performance_Computing/Thesis/NYU_Machine_Learning_Project/pythonMC/proj_helpers/FinObj.py:359: FutureWarning: `rcond` parameter will change to the default of machine precision times ``max(M, N)`` where M and N are the input matrix dimensions.\n",
      "To use the future default and silence this warning we advise to pass `rcond=None`, to keep using the old, explicitly pass `rcond=-1`.\n",
      "  betas = np.linalg.lstsq(X,Ct1)[0]\n"
     ]
    },
    {
     "name": "stdout",
     "output_type": "stream",
     "text": [
      "Time : 7.584365129470825, Paths : 25000 LSM Price Basis 2 : 0.0 LSM Price Basis 3 : 0.6355265890221188 LSM Price Basis 4 : 0.6398859228409LSM RF Price : 0.6312618319809542 Repeat : 11\n"
     ]
    },
    {
     "name": "stderr",
     "output_type": "stream",
     "text": [
      "/Users/anthonymaylath/Documents/Schoolwork/NYU/High_Performance_Computing/Thesis/NYU_Machine_Learning_Project/pythonMC/proj_helpers/FinObj.py:359: FutureWarning: `rcond` parameter will change to the default of machine precision times ``max(M, N)`` where M and N are the input matrix dimensions.\n",
      "To use the future default and silence this warning we advise to pass `rcond=None`, to keep using the old, explicitly pass `rcond=-1`.\n",
      "  betas = np.linalg.lstsq(X,Ct1)[0]\n"
     ]
    },
    {
     "name": "stdout",
     "output_type": "stream",
     "text": [
      "Time : 7.832758188247681, Paths : 25000 LSM Price Basis 2 : 0.0 LSM Price Basis 3 : 0.6390404568918127 LSM Price Basis 4 : 0.6355783953631005LSM RF Price : 0.6365982811993022 Repeat : 12\n"
     ]
    },
    {
     "name": "stderr",
     "output_type": "stream",
     "text": [
      "/Users/anthonymaylath/Documents/Schoolwork/NYU/High_Performance_Computing/Thesis/NYU_Machine_Learning_Project/pythonMC/proj_helpers/FinObj.py:359: FutureWarning: `rcond` parameter will change to the default of machine precision times ``max(M, N)`` where M and N are the input matrix dimensions.\n",
      "To use the future default and silence this warning we advise to pass `rcond=None`, to keep using the old, explicitly pass `rcond=-1`.\n",
      "  betas = np.linalg.lstsq(X,Ct1)[0]\n"
     ]
    },
    {
     "name": "stdout",
     "output_type": "stream",
     "text": [
      "Time : 7.630259037017822, Paths : 25000 LSM Price Basis 2 : 0.0 LSM Price Basis 3 : 0.6403251382995387 LSM Price Basis 4 : 0.6399703860548157LSM RF Price : 0.6406636240184778 Repeat : 13\n"
     ]
    },
    {
     "name": "stderr",
     "output_type": "stream",
     "text": [
      "/Users/anthonymaylath/Documents/Schoolwork/NYU/High_Performance_Computing/Thesis/NYU_Machine_Learning_Project/pythonMC/proj_helpers/FinObj.py:359: FutureWarning: `rcond` parameter will change to the default of machine precision times ``max(M, N)`` where M and N are the input matrix dimensions.\n",
      "To use the future default and silence this warning we advise to pass `rcond=None`, to keep using the old, explicitly pass `rcond=-1`.\n",
      "  betas = np.linalg.lstsq(X,Ct1)[0]\n"
     ]
    },
    {
     "name": "stdout",
     "output_type": "stream",
     "text": [
      "Time : 7.591452121734619, Paths : 25000 LSM Price Basis 2 : 0.0 LSM Price Basis 3 : 0.6418393391963096 LSM Price Basis 4 : 0.6389304671335841LSM RF Price : 0.6340641948284479 Repeat : 14\n"
     ]
    },
    {
     "name": "stderr",
     "output_type": "stream",
     "text": [
      "/Users/anthonymaylath/Documents/Schoolwork/NYU/High_Performance_Computing/Thesis/NYU_Machine_Learning_Project/pythonMC/proj_helpers/FinObj.py:359: FutureWarning: `rcond` parameter will change to the default of machine precision times ``max(M, N)`` where M and N are the input matrix dimensions.\n",
      "To use the future default and silence this warning we advise to pass `rcond=None`, to keep using the old, explicitly pass `rcond=-1`.\n",
      "  betas = np.linalg.lstsq(X,Ct1)[0]\n"
     ]
    },
    {
     "name": "stdout",
     "output_type": "stream",
     "text": [
      "Time : 7.58776593208313, Paths : 25000 LSM Price Basis 2 : 0.0 LSM Price Basis 3 : 0.6410592252648619 LSM Price Basis 4 : 0.6359956419383853LSM RF Price : 0.6367757218615478 Repeat : 15\n"
     ]
    },
    {
     "name": "stderr",
     "output_type": "stream",
     "text": [
      "/Users/anthonymaylath/Documents/Schoolwork/NYU/High_Performance_Computing/Thesis/NYU_Machine_Learning_Project/pythonMC/proj_helpers/FinObj.py:359: FutureWarning: `rcond` parameter will change to the default of machine precision times ``max(M, N)`` where M and N are the input matrix dimensions.\n",
      "To use the future default and silence this warning we advise to pass `rcond=None`, to keep using the old, explicitly pass `rcond=-1`.\n",
      "  betas = np.linalg.lstsq(X,Ct1)[0]\n"
     ]
    },
    {
     "name": "stdout",
     "output_type": "stream",
     "text": [
      "Time : 7.714889049530029, Paths : 25000 LSM Price Basis 2 : 0.0 LSM Price Basis 3 : 0.6368687008753017 LSM Price Basis 4 : 0.6385778834253929LSM RF Price : 0.6421099692060702 Repeat : 16\n"
     ]
    },
    {
     "name": "stderr",
     "output_type": "stream",
     "text": [
      "/Users/anthonymaylath/Documents/Schoolwork/NYU/High_Performance_Computing/Thesis/NYU_Machine_Learning_Project/pythonMC/proj_helpers/FinObj.py:359: FutureWarning: `rcond` parameter will change to the default of machine precision times ``max(M, N)`` where M and N are the input matrix dimensions.\n",
      "To use the future default and silence this warning we advise to pass `rcond=None`, to keep using the old, explicitly pass `rcond=-1`.\n",
      "  betas = np.linalg.lstsq(X,Ct1)[0]\n"
     ]
    },
    {
     "name": "stdout",
     "output_type": "stream",
     "text": [
      "Time : 7.616459131240845, Paths : 25000 LSM Price Basis 2 : 0.0 LSM Price Basis 3 : 0.6360184151884849 LSM Price Basis 4 : 0.6384891177913606LSM RF Price : 0.6385025784387861 Repeat : 17\n"
     ]
    },
    {
     "name": "stderr",
     "output_type": "stream",
     "text": [
      "/Users/anthonymaylath/Documents/Schoolwork/NYU/High_Performance_Computing/Thesis/NYU_Machine_Learning_Project/pythonMC/proj_helpers/FinObj.py:359: FutureWarning: `rcond` parameter will change to the default of machine precision times ``max(M, N)`` where M and N are the input matrix dimensions.\n",
      "To use the future default and silence this warning we advise to pass `rcond=None`, to keep using the old, explicitly pass `rcond=-1`.\n",
      "  betas = np.linalg.lstsq(X,Ct1)[0]\n"
     ]
    },
    {
     "name": "stdout",
     "output_type": "stream",
     "text": [
      "Time : 7.646806001663208, Paths : 25000 LSM Price Basis 2 : 0.0 LSM Price Basis 3 : 0.6357214211310332 LSM Price Basis 4 : 0.6410000246503001LSM RF Price : 0.6368607149340842 Repeat : 18\n"
     ]
    },
    {
     "name": "stderr",
     "output_type": "stream",
     "text": [
      "/Users/anthonymaylath/Documents/Schoolwork/NYU/High_Performance_Computing/Thesis/NYU_Machine_Learning_Project/pythonMC/proj_helpers/FinObj.py:359: FutureWarning: `rcond` parameter will change to the default of machine precision times ``max(M, N)`` where M and N are the input matrix dimensions.\n",
      "To use the future default and silence this warning we advise to pass `rcond=None`, to keep using the old, explicitly pass `rcond=-1`.\n",
      "  betas = np.linalg.lstsq(X,Ct1)[0]\n"
     ]
    },
    {
     "name": "stdout",
     "output_type": "stream",
     "text": [
      "Time : 7.582871675491333, Paths : 25000 LSM Price Basis 2 : 0.0 LSM Price Basis 3 : 0.640114644553111 LSM Price Basis 4 : 0.6392591422085606LSM RF Price : 0.6381253239532128 Repeat : 19\n"
     ]
    },
    {
     "name": "stderr",
     "output_type": "stream",
     "text": [
      "/Users/anthonymaylath/Documents/Schoolwork/NYU/High_Performance_Computing/Thesis/NYU_Machine_Learning_Project/pythonMC/proj_helpers/FinObj.py:359: FutureWarning: `rcond` parameter will change to the default of machine precision times ``max(M, N)`` where M and N are the input matrix dimensions.\n",
      "To use the future default and silence this warning we advise to pass `rcond=None`, to keep using the old, explicitly pass `rcond=-1`.\n",
      "  betas = np.linalg.lstsq(X,Ct1)[0]\n"
     ]
    },
    {
     "name": "stdout",
     "output_type": "stream",
     "text": [
      "Time : 7.574438095092773, Paths : 25000 LSM Price Basis 2 : 0.0 LSM Price Basis 3 : 0.6388626919969044 LSM Price Basis 4 : 0.6389578683179258LSM RF Price : 0.6382563533723594 Repeat : 20\n"
     ]
    },
    {
     "name": "stderr",
     "output_type": "stream",
     "text": [
      "/Users/anthonymaylath/Documents/Schoolwork/NYU/High_Performance_Computing/Thesis/NYU_Machine_Learning_Project/pythonMC/proj_helpers/FinObj.py:359: FutureWarning: `rcond` parameter will change to the default of machine precision times ``max(M, N)`` where M and N are the input matrix dimensions.\n",
      "To use the future default and silence this warning we advise to pass `rcond=None`, to keep using the old, explicitly pass `rcond=-1`.\n",
      "  betas = np.linalg.lstsq(X,Ct1)[0]\n"
     ]
    },
    {
     "name": "stdout",
     "output_type": "stream",
     "text": [
      "Time : 7.581045866012573, Paths : 25000 LSM Price Basis 2 : 0.0 LSM Price Basis 3 : 0.6394358056466525 LSM Price Basis 4 : 0.6423390536505795LSM RF Price : 0.6366682382695444 Repeat : 21\n"
     ]
    },
    {
     "name": "stderr",
     "output_type": "stream",
     "text": [
      "/Users/anthonymaylath/Documents/Schoolwork/NYU/High_Performance_Computing/Thesis/NYU_Machine_Learning_Project/pythonMC/proj_helpers/FinObj.py:359: FutureWarning: `rcond` parameter will change to the default of machine precision times ``max(M, N)`` where M and N are the input matrix dimensions.\n",
      "To use the future default and silence this warning we advise to pass `rcond=None`, to keep using the old, explicitly pass `rcond=-1`.\n",
      "  betas = np.linalg.lstsq(X,Ct1)[0]\n"
     ]
    },
    {
     "name": "stdout",
     "output_type": "stream",
     "text": [
      "Time : 7.600395679473877, Paths : 25000 LSM Price Basis 2 : 0.0 LSM Price Basis 3 : 0.6411852119018697 LSM Price Basis 4 : 0.6418597878237303LSM RF Price : 0.6389797797448648 Repeat : 22\n"
     ]
    },
    {
     "name": "stderr",
     "output_type": "stream",
     "text": [
      "/Users/anthonymaylath/Documents/Schoolwork/NYU/High_Performance_Computing/Thesis/NYU_Machine_Learning_Project/pythonMC/proj_helpers/FinObj.py:359: FutureWarning: `rcond` parameter will change to the default of machine precision times ``max(M, N)`` where M and N are the input matrix dimensions.\n",
      "To use the future default and silence this warning we advise to pass `rcond=None`, to keep using the old, explicitly pass `rcond=-1`.\n",
      "  betas = np.linalg.lstsq(X,Ct1)[0]\n"
     ]
    },
    {
     "name": "stdout",
     "output_type": "stream",
     "text": [
      "Time : 7.612015008926392, Paths : 25000 LSM Price Basis 2 : 0.0 LSM Price Basis 3 : 0.6421064907721475 LSM Price Basis 4 : 0.634138223192721LSM RF Price : 0.6392763047227737 Repeat : 23\n"
     ]
    },
    {
     "name": "stderr",
     "output_type": "stream",
     "text": [
      "/Users/anthonymaylath/Documents/Schoolwork/NYU/High_Performance_Computing/Thesis/NYU_Machine_Learning_Project/pythonMC/proj_helpers/FinObj.py:359: FutureWarning: `rcond` parameter will change to the default of machine precision times ``max(M, N)`` where M and N are the input matrix dimensions.\n",
      "To use the future default and silence this warning we advise to pass `rcond=None`, to keep using the old, explicitly pass `rcond=-1`.\n",
      "  betas = np.linalg.lstsq(X,Ct1)[0]\n"
     ]
    },
    {
     "name": "stdout",
     "output_type": "stream",
     "text": [
      "Time : 7.625732183456421, Paths : 25000 LSM Price Basis 2 : 0.0 LSM Price Basis 3 : 0.6363455717901784 LSM Price Basis 4 : 0.6413492072157956LSM RF Price : 0.636358949474617 Repeat : 24\n"
     ]
    },
    {
     "name": "stderr",
     "output_type": "stream",
     "text": [
      "/Users/anthonymaylath/Documents/Schoolwork/NYU/High_Performance_Computing/Thesis/NYU_Machine_Learning_Project/pythonMC/proj_helpers/FinObj.py:359: FutureWarning: `rcond` parameter will change to the default of machine precision times ``max(M, N)`` where M and N are the input matrix dimensions.\n",
      "To use the future default and silence this warning we advise to pass `rcond=None`, to keep using the old, explicitly pass `rcond=-1`.\n",
      "  betas = np.linalg.lstsq(X,Ct1)[0]\n"
     ]
    },
    {
     "name": "stdout",
     "output_type": "stream",
     "text": [
      "Time : 7.554677963256836, Paths : 25000 LSM Price Basis 2 : 0.0 LSM Price Basis 3 : 0.640377612117331 LSM Price Basis 4 : 0.6390103122356273LSM RF Price : 0.6330259590499634 Repeat : 25\n"
     ]
    },
    {
     "name": "stderr",
     "output_type": "stream",
     "text": [
      "/Users/anthonymaylath/Documents/Schoolwork/NYU/High_Performance_Computing/Thesis/NYU_Machine_Learning_Project/pythonMC/proj_helpers/FinObj.py:359: FutureWarning: `rcond` parameter will change to the default of machine precision times ``max(M, N)`` where M and N are the input matrix dimensions.\n",
      "To use the future default and silence this warning we advise to pass `rcond=None`, to keep using the old, explicitly pass `rcond=-1`.\n",
      "  betas = np.linalg.lstsq(X,Ct1)[0]\n"
     ]
    },
    {
     "name": "stdout",
     "output_type": "stream",
     "text": [
      "Time : 7.556065082550049, Paths : 25000 LSM Price Basis 2 : 0.0 LSM Price Basis 3 : 0.6377508674937784 LSM Price Basis 4 : 0.6375970071131712LSM RF Price : 0.6345890143663291 Repeat : 26\n"
     ]
    },
    {
     "name": "stderr",
     "output_type": "stream",
     "text": [
      "/Users/anthonymaylath/Documents/Schoolwork/NYU/High_Performance_Computing/Thesis/NYU_Machine_Learning_Project/pythonMC/proj_helpers/FinObj.py:359: FutureWarning: `rcond` parameter will change to the default of machine precision times ``max(M, N)`` where M and N are the input matrix dimensions.\n",
      "To use the future default and silence this warning we advise to pass `rcond=None`, to keep using the old, explicitly pass `rcond=-1`.\n",
      "  betas = np.linalg.lstsq(X,Ct1)[0]\n"
     ]
    },
    {
     "name": "stdout",
     "output_type": "stream",
     "text": [
      "Time : 7.588555097579956, Paths : 25000 LSM Price Basis 2 : 0.0 LSM Price Basis 3 : 0.637372463328598 LSM Price Basis 4 : 0.6404579254056647LSM RF Price : 0.638232128897051 Repeat : 27\n"
     ]
    },
    {
     "name": "stderr",
     "output_type": "stream",
     "text": [
      "/Users/anthonymaylath/Documents/Schoolwork/NYU/High_Performance_Computing/Thesis/NYU_Machine_Learning_Project/pythonMC/proj_helpers/FinObj.py:359: FutureWarning: `rcond` parameter will change to the default of machine precision times ``max(M, N)`` where M and N are the input matrix dimensions.\n",
      "To use the future default and silence this warning we advise to pass `rcond=None`, to keep using the old, explicitly pass `rcond=-1`.\n",
      "  betas = np.linalg.lstsq(X,Ct1)[0]\n"
     ]
    },
    {
     "name": "stdout",
     "output_type": "stream",
     "text": [
      "Time : 7.657789945602417, Paths : 25000 LSM Price Basis 2 : 0.0 LSM Price Basis 3 : 0.6373563283611998 LSM Price Basis 4 : 0.6378185303771244LSM RF Price : 0.6354087253240995 Repeat : 28\n"
     ]
    },
    {
     "name": "stderr",
     "output_type": "stream",
     "text": [
      "/Users/anthonymaylath/Documents/Schoolwork/NYU/High_Performance_Computing/Thesis/NYU_Machine_Learning_Project/pythonMC/proj_helpers/FinObj.py:359: FutureWarning: `rcond` parameter will change to the default of machine precision times ``max(M, N)`` where M and N are the input matrix dimensions.\n",
      "To use the future default and silence this warning we advise to pass `rcond=None`, to keep using the old, explicitly pass `rcond=-1`.\n",
      "  betas = np.linalg.lstsq(X,Ct1)[0]\n"
     ]
    },
    {
     "name": "stdout",
     "output_type": "stream",
     "text": [
      "Time : 7.598539113998413, Paths : 25000 LSM Price Basis 2 : 0.0 LSM Price Basis 3 : 0.6373479312465523 LSM Price Basis 4 : 0.6409010573380038LSM RF Price : 0.63839044842787 Repeat : 29\n"
     ]
    },
    {
     "name": "stderr",
     "output_type": "stream",
     "text": [
      "/Users/anthonymaylath/Documents/Schoolwork/NYU/High_Performance_Computing/Thesis/NYU_Machine_Learning_Project/pythonMC/proj_helpers/FinObj.py:359: FutureWarning: `rcond` parameter will change to the default of machine precision times ``max(M, N)`` where M and N are the input matrix dimensions.\n",
      "To use the future default and silence this warning we advise to pass `rcond=None`, to keep using the old, explicitly pass `rcond=-1`.\n",
      "  betas = np.linalg.lstsq(X,Ct1)[0]\n"
     ]
    },
    {
     "name": "stdout",
     "output_type": "stream",
     "text": [
      "Time : 14.775455951690674, Paths : 50000 LSM Price Basis 2 : 0.0 LSM Price Basis 3 : 0.6394393456795852 LSM Price Basis 4 : 0.637565355337606LSM RF Price : 0.6402855428532462 Repeat : 0\n"
     ]
    },
    {
     "name": "stderr",
     "output_type": "stream",
     "text": [
      "/Users/anthonymaylath/Documents/Schoolwork/NYU/High_Performance_Computing/Thesis/NYU_Machine_Learning_Project/pythonMC/proj_helpers/FinObj.py:359: FutureWarning: `rcond` parameter will change to the default of machine precision times ``max(M, N)`` where M and N are the input matrix dimensions.\n",
      "To use the future default and silence this warning we advise to pass `rcond=None`, to keep using the old, explicitly pass `rcond=-1`.\n",
      "  betas = np.linalg.lstsq(X,Ct1)[0]\n"
     ]
    },
    {
     "name": "stdout",
     "output_type": "stream",
     "text": [
      "Time : 14.685644626617432, Paths : 50000 LSM Price Basis 2 : 0.0 LSM Price Basis 3 : 0.6364353482636229 LSM Price Basis 4 : 0.6376807171113671LSM RF Price : 0.6385576630962654 Repeat : 1\n"
     ]
    },
    {
     "name": "stderr",
     "output_type": "stream",
     "text": [
      "/Users/anthonymaylath/Documents/Schoolwork/NYU/High_Performance_Computing/Thesis/NYU_Machine_Learning_Project/pythonMC/proj_helpers/FinObj.py:359: FutureWarning: `rcond` parameter will change to the default of machine precision times ``max(M, N)`` where M and N are the input matrix dimensions.\n",
      "To use the future default and silence this warning we advise to pass `rcond=None`, to keep using the old, explicitly pass `rcond=-1`.\n",
      "  betas = np.linalg.lstsq(X,Ct1)[0]\n"
     ]
    },
    {
     "name": "stdout",
     "output_type": "stream",
     "text": [
      "Time : 14.684648752212524, Paths : 50000 LSM Price Basis 2 : 0.0 LSM Price Basis 3 : 0.6391404976231337 LSM Price Basis 4 : 0.6386255097143223LSM RF Price : 0.6382387386220737 Repeat : 2\n"
     ]
    },
    {
     "name": "stderr",
     "output_type": "stream",
     "text": [
      "/Users/anthonymaylath/Documents/Schoolwork/NYU/High_Performance_Computing/Thesis/NYU_Machine_Learning_Project/pythonMC/proj_helpers/FinObj.py:359: FutureWarning: `rcond` parameter will change to the default of machine precision times ``max(M, N)`` where M and N are the input matrix dimensions.\n",
      "To use the future default and silence this warning we advise to pass `rcond=None`, to keep using the old, explicitly pass `rcond=-1`.\n",
      "  betas = np.linalg.lstsq(X,Ct1)[0]\n"
     ]
    },
    {
     "name": "stdout",
     "output_type": "stream",
     "text": [
      "Time : 14.684326171875, Paths : 50000 LSM Price Basis 2 : 0.0 LSM Price Basis 3 : 0.6388873471290962 LSM Price Basis 4 : 0.6381977583134706LSM RF Price : 0.6373464031460361 Repeat : 3\n"
     ]
    },
    {
     "name": "stderr",
     "output_type": "stream",
     "text": [
      "/Users/anthonymaylath/Documents/Schoolwork/NYU/High_Performance_Computing/Thesis/NYU_Machine_Learning_Project/pythonMC/proj_helpers/FinObj.py:359: FutureWarning: `rcond` parameter will change to the default of machine precision times ``max(M, N)`` where M and N are the input matrix dimensions.\n",
      "To use the future default and silence this warning we advise to pass `rcond=None`, to keep using the old, explicitly pass `rcond=-1`.\n",
      "  betas = np.linalg.lstsq(X,Ct1)[0]\n"
     ]
    },
    {
     "name": "stdout",
     "output_type": "stream",
     "text": [
      "Time : 15.421875953674316, Paths : 50000 LSM Price Basis 2 : 0.0 LSM Price Basis 3 : 0.6401272029428493 LSM Price Basis 4 : 0.6399624672990417LSM RF Price : 0.6383341775918326 Repeat : 4\n"
     ]
    },
    {
     "name": "stderr",
     "output_type": "stream",
     "text": [
      "/Users/anthonymaylath/Documents/Schoolwork/NYU/High_Performance_Computing/Thesis/NYU_Machine_Learning_Project/pythonMC/proj_helpers/FinObj.py:359: FutureWarning: `rcond` parameter will change to the default of machine precision times ``max(M, N)`` where M and N are the input matrix dimensions.\n",
      "To use the future default and silence this warning we advise to pass `rcond=None`, to keep using the old, explicitly pass `rcond=-1`.\n",
      "  betas = np.linalg.lstsq(X,Ct1)[0]\n"
     ]
    },
    {
     "name": "stdout",
     "output_type": "stream",
     "text": [
      "Time : 14.86397385597229, Paths : 50000 LSM Price Basis 2 : 0.0 LSM Price Basis 3 : 0.639485136728062 LSM Price Basis 4 : 0.637752833254892LSM RF Price : 0.6383585498353731 Repeat : 5\n"
     ]
    },
    {
     "name": "stderr",
     "output_type": "stream",
     "text": [
      "/Users/anthonymaylath/Documents/Schoolwork/NYU/High_Performance_Computing/Thesis/NYU_Machine_Learning_Project/pythonMC/proj_helpers/FinObj.py:359: FutureWarning: `rcond` parameter will change to the default of machine precision times ``max(M, N)`` where M and N are the input matrix dimensions.\n",
      "To use the future default and silence this warning we advise to pass `rcond=None`, to keep using the old, explicitly pass `rcond=-1`.\n",
      "  betas = np.linalg.lstsq(X,Ct1)[0]\n"
     ]
    },
    {
     "name": "stdout",
     "output_type": "stream",
     "text": [
      "Time : 16.239565134048462, Paths : 50000 LSM Price Basis 2 : 0.0 LSM Price Basis 3 : 0.6364447981584734 LSM Price Basis 4 : 0.6395296923116598LSM RF Price : 0.6391896265605357 Repeat : 6\n"
     ]
    },
    {
     "name": "stderr",
     "output_type": "stream",
     "text": [
      "/Users/anthonymaylath/Documents/Schoolwork/NYU/High_Performance_Computing/Thesis/NYU_Machine_Learning_Project/pythonMC/proj_helpers/FinObj.py:359: FutureWarning: `rcond` parameter will change to the default of machine precision times ``max(M, N)`` where M and N are the input matrix dimensions.\n",
      "To use the future default and silence this warning we advise to pass `rcond=None`, to keep using the old, explicitly pass `rcond=-1`.\n",
      "  betas = np.linalg.lstsq(X,Ct1)[0]\n"
     ]
    },
    {
     "name": "stdout",
     "output_type": "stream",
     "text": [
      "Time : 14.761409044265747, Paths : 50000 LSM Price Basis 2 : 0.0 LSM Price Basis 3 : 0.6375368029026822 LSM Price Basis 4 : 0.6377505662466711LSM RF Price : 0.6382091990040439 Repeat : 7\n"
     ]
    },
    {
     "name": "stderr",
     "output_type": "stream",
     "text": [
      "/Users/anthonymaylath/Documents/Schoolwork/NYU/High_Performance_Computing/Thesis/NYU_Machine_Learning_Project/pythonMC/proj_helpers/FinObj.py:359: FutureWarning: `rcond` parameter will change to the default of machine precision times ``max(M, N)`` where M and N are the input matrix dimensions.\n",
      "To use the future default and silence this warning we advise to pass `rcond=None`, to keep using the old, explicitly pass `rcond=-1`.\n",
      "  betas = np.linalg.lstsq(X,Ct1)[0]\n"
     ]
    },
    {
     "name": "stdout",
     "output_type": "stream",
     "text": [
      "Time : 14.816256999969482, Paths : 50000 LSM Price Basis 2 : 0.0 LSM Price Basis 3 : 0.6380072569313777 LSM Price Basis 4 : 0.6382411877413527LSM RF Price : 0.6415560425428801 Repeat : 8\n"
     ]
    },
    {
     "name": "stderr",
     "output_type": "stream",
     "text": [
      "/Users/anthonymaylath/Documents/Schoolwork/NYU/High_Performance_Computing/Thesis/NYU_Machine_Learning_Project/pythonMC/proj_helpers/FinObj.py:359: FutureWarning: `rcond` parameter will change to the default of machine precision times ``max(M, N)`` where M and N are the input matrix dimensions.\n",
      "To use the future default and silence this warning we advise to pass `rcond=None`, to keep using the old, explicitly pass `rcond=-1`.\n",
      "  betas = np.linalg.lstsq(X,Ct1)[0]\n"
     ]
    },
    {
     "name": "stdout",
     "output_type": "stream",
     "text": [
      "Time : 14.68006682395935, Paths : 50000 LSM Price Basis 2 : 0.0 LSM Price Basis 3 : 0.6382191393330304 LSM Price Basis 4 : 0.6375666594598272LSM RF Price : 0.6361942419640206 Repeat : 9\n"
     ]
    },
    {
     "name": "stderr",
     "output_type": "stream",
     "text": [
      "/Users/anthonymaylath/Documents/Schoolwork/NYU/High_Performance_Computing/Thesis/NYU_Machine_Learning_Project/pythonMC/proj_helpers/FinObj.py:359: FutureWarning: `rcond` parameter will change to the default of machine precision times ``max(M, N)`` where M and N are the input matrix dimensions.\n",
      "To use the future default and silence this warning we advise to pass `rcond=None`, to keep using the old, explicitly pass `rcond=-1`.\n",
      "  betas = np.linalg.lstsq(X,Ct1)[0]\n"
     ]
    },
    {
     "name": "stdout",
     "output_type": "stream",
     "text": [
      "Time : 14.745208978652954, Paths : 50000 LSM Price Basis 2 : 0.0 LSM Price Basis 3 : 0.6388555959633494 LSM Price Basis 4 : 0.6405078209709966LSM RF Price : 0.6376494888443057 Repeat : 10\n"
     ]
    },
    {
     "name": "stderr",
     "output_type": "stream",
     "text": [
      "/Users/anthonymaylath/Documents/Schoolwork/NYU/High_Performance_Computing/Thesis/NYU_Machine_Learning_Project/pythonMC/proj_helpers/FinObj.py:359: FutureWarning: `rcond` parameter will change to the default of machine precision times ``max(M, N)`` where M and N are the input matrix dimensions.\n",
      "To use the future default and silence this warning we advise to pass `rcond=None`, to keep using the old, explicitly pass `rcond=-1`.\n",
      "  betas = np.linalg.lstsq(X,Ct1)[0]\n"
     ]
    },
    {
     "name": "stdout",
     "output_type": "stream",
     "text": [
      "Time : 15.574679136276245, Paths : 50000 LSM Price Basis 2 : 0.0 LSM Price Basis 3 : 0.6384141887922417 LSM Price Basis 4 : 0.6404730094739984LSM RF Price : 0.6397230216065123 Repeat : 11\n"
     ]
    },
    {
     "name": "stderr",
     "output_type": "stream",
     "text": [
      "/Users/anthonymaylath/Documents/Schoolwork/NYU/High_Performance_Computing/Thesis/NYU_Machine_Learning_Project/pythonMC/proj_helpers/FinObj.py:359: FutureWarning: `rcond` parameter will change to the default of machine precision times ``max(M, N)`` where M and N are the input matrix dimensions.\n",
      "To use the future default and silence this warning we advise to pass `rcond=None`, to keep using the old, explicitly pass `rcond=-1`.\n",
      "  betas = np.linalg.lstsq(X,Ct1)[0]\n"
     ]
    },
    {
     "name": "stdout",
     "output_type": "stream",
     "text": [
      "Time : 15.168282985687256, Paths : 50000 LSM Price Basis 2 : 0.0 LSM Price Basis 3 : 0.6386373694812216 LSM Price Basis 4 : 0.639083021986637LSM RF Price : 0.6368886773933697 Repeat : 12\n"
     ]
    },
    {
     "name": "stderr",
     "output_type": "stream",
     "text": [
      "/Users/anthonymaylath/Documents/Schoolwork/NYU/High_Performance_Computing/Thesis/NYU_Machine_Learning_Project/pythonMC/proj_helpers/FinObj.py:359: FutureWarning: `rcond` parameter will change to the default of machine precision times ``max(M, N)`` where M and N are the input matrix dimensions.\n",
      "To use the future default and silence this warning we advise to pass `rcond=None`, to keep using the old, explicitly pass `rcond=-1`.\n",
      "  betas = np.linalg.lstsq(X,Ct1)[0]\n"
     ]
    },
    {
     "name": "stdout",
     "output_type": "stream",
     "text": [
      "Time : 14.755529880523682, Paths : 50000 LSM Price Basis 2 : 0.0 LSM Price Basis 3 : 0.6370619272681068 LSM Price Basis 4 : 0.6392794727114575LSM RF Price : 0.6370583090315015 Repeat : 13\n"
     ]
    },
    {
     "name": "stderr",
     "output_type": "stream",
     "text": [
      "/Users/anthonymaylath/Documents/Schoolwork/NYU/High_Performance_Computing/Thesis/NYU_Machine_Learning_Project/pythonMC/proj_helpers/FinObj.py:359: FutureWarning: `rcond` parameter will change to the default of machine precision times ``max(M, N)`` where M and N are the input matrix dimensions.\n",
      "To use the future default and silence this warning we advise to pass `rcond=None`, to keep using the old, explicitly pass `rcond=-1`.\n",
      "  betas = np.linalg.lstsq(X,Ct1)[0]\n"
     ]
    },
    {
     "name": "stdout",
     "output_type": "stream",
     "text": [
      "Time : 14.82236099243164, Paths : 50000 LSM Price Basis 2 : 0.0 LSM Price Basis 3 : 0.6385723292595145 LSM Price Basis 4 : 0.6398373280794839LSM RF Price : 0.6371058679420538 Repeat : 14\n"
     ]
    },
    {
     "name": "stderr",
     "output_type": "stream",
     "text": [
      "/Users/anthonymaylath/Documents/Schoolwork/NYU/High_Performance_Computing/Thesis/NYU_Machine_Learning_Project/pythonMC/proj_helpers/FinObj.py:359: FutureWarning: `rcond` parameter will change to the default of machine precision times ``max(M, N)`` where M and N are the input matrix dimensions.\n",
      "To use the future default and silence this warning we advise to pass `rcond=None`, to keep using the old, explicitly pass `rcond=-1`.\n",
      "  betas = np.linalg.lstsq(X,Ct1)[0]\n"
     ]
    },
    {
     "name": "stdout",
     "output_type": "stream",
     "text": [
      "Time : 14.669909000396729, Paths : 50000 LSM Price Basis 2 : 0.0 LSM Price Basis 3 : 0.640096157899302 LSM Price Basis 4 : 0.6389215618824615LSM RF Price : 0.6374365081512244 Repeat : 15\n"
     ]
    },
    {
     "name": "stderr",
     "output_type": "stream",
     "text": [
      "/Users/anthonymaylath/Documents/Schoolwork/NYU/High_Performance_Computing/Thesis/NYU_Machine_Learning_Project/pythonMC/proj_helpers/FinObj.py:359: FutureWarning: `rcond` parameter will change to the default of machine precision times ``max(M, N)`` where M and N are the input matrix dimensions.\n",
      "To use the future default and silence this warning we advise to pass `rcond=None`, to keep using the old, explicitly pass `rcond=-1`.\n",
      "  betas = np.linalg.lstsq(X,Ct1)[0]\n"
     ]
    },
    {
     "name": "stdout",
     "output_type": "stream",
     "text": [
      "Time : 14.662901878356934, Paths : 50000 LSM Price Basis 2 : 0.0 LSM Price Basis 3 : 0.6369435478028048 LSM Price Basis 4 : 0.642022330541448LSM RF Price : 0.6354975882960568 Repeat : 16\n"
     ]
    },
    {
     "name": "stderr",
     "output_type": "stream",
     "text": [
      "/Users/anthonymaylath/Documents/Schoolwork/NYU/High_Performance_Computing/Thesis/NYU_Machine_Learning_Project/pythonMC/proj_helpers/FinObj.py:359: FutureWarning: `rcond` parameter will change to the default of machine precision times ``max(M, N)`` where M and N are the input matrix dimensions.\n",
      "To use the future default and silence this warning we advise to pass `rcond=None`, to keep using the old, explicitly pass `rcond=-1`.\n",
      "  betas = np.linalg.lstsq(X,Ct1)[0]\n"
     ]
    },
    {
     "name": "stdout",
     "output_type": "stream",
     "text": [
      "Time : 14.711595058441162, Paths : 50000 LSM Price Basis 2 : 0.0 LSM Price Basis 3 : 0.6371262961393599 LSM Price Basis 4 : 0.6389268785217261LSM RF Price : 0.6402595383166533 Repeat : 17\n"
     ]
    },
    {
     "name": "stderr",
     "output_type": "stream",
     "text": [
      "/Users/anthonymaylath/Documents/Schoolwork/NYU/High_Performance_Computing/Thesis/NYU_Machine_Learning_Project/pythonMC/proj_helpers/FinObj.py:359: FutureWarning: `rcond` parameter will change to the default of machine precision times ``max(M, N)`` where M and N are the input matrix dimensions.\n",
      "To use the future default and silence this warning we advise to pass `rcond=None`, to keep using the old, explicitly pass `rcond=-1`.\n",
      "  betas = np.linalg.lstsq(X,Ct1)[0]\n"
     ]
    },
    {
     "name": "stdout",
     "output_type": "stream",
     "text": [
      "Time : 15.467120170593262, Paths : 50000 LSM Price Basis 2 : 0.0 LSM Price Basis 3 : 0.641407908775318 LSM Price Basis 4 : 0.6369092710404682LSM RF Price : 0.6386838883872286 Repeat : 18\n"
     ]
    },
    {
     "name": "stderr",
     "output_type": "stream",
     "text": [
      "/Users/anthonymaylath/Documents/Schoolwork/NYU/High_Performance_Computing/Thesis/NYU_Machine_Learning_Project/pythonMC/proj_helpers/FinObj.py:359: FutureWarning: `rcond` parameter will change to the default of machine precision times ``max(M, N)`` where M and N are the input matrix dimensions.\n",
      "To use the future default and silence this warning we advise to pass `rcond=None`, to keep using the old, explicitly pass `rcond=-1`.\n",
      "  betas = np.linalg.lstsq(X,Ct1)[0]\n"
     ]
    },
    {
     "name": "stdout",
     "output_type": "stream",
     "text": [
      "Time : 14.985976934432983, Paths : 50000 LSM Price Basis 2 : 0.0 LSM Price Basis 3 : 0.6389225913984953 LSM Price Basis 4 : 0.6385213224105207LSM RF Price : 0.6372517864209799 Repeat : 19\n"
     ]
    },
    {
     "name": "stderr",
     "output_type": "stream",
     "text": [
      "/Users/anthonymaylath/Documents/Schoolwork/NYU/High_Performance_Computing/Thesis/NYU_Machine_Learning_Project/pythonMC/proj_helpers/FinObj.py:359: FutureWarning: `rcond` parameter will change to the default of machine precision times ``max(M, N)`` where M and N are the input matrix dimensions.\n",
      "To use the future default and silence this warning we advise to pass `rcond=None`, to keep using the old, explicitly pass `rcond=-1`.\n",
      "  betas = np.linalg.lstsq(X,Ct1)[0]\n"
     ]
    },
    {
     "name": "stdout",
     "output_type": "stream",
     "text": [
      "Time : 14.654680013656616, Paths : 50000 LSM Price Basis 2 : 0.0 LSM Price Basis 3 : 0.6381499112185756 LSM Price Basis 4 : 0.6402129381865885LSM RF Price : 0.6365355663995662 Repeat : 20\n"
     ]
    },
    {
     "name": "stderr",
     "output_type": "stream",
     "text": [
      "/Users/anthonymaylath/Documents/Schoolwork/NYU/High_Performance_Computing/Thesis/NYU_Machine_Learning_Project/pythonMC/proj_helpers/FinObj.py:359: FutureWarning: `rcond` parameter will change to the default of machine precision times ``max(M, N)`` where M and N are the input matrix dimensions.\n",
      "To use the future default and silence this warning we advise to pass `rcond=None`, to keep using the old, explicitly pass `rcond=-1`.\n",
      "  betas = np.linalg.lstsq(X,Ct1)[0]\n"
     ]
    },
    {
     "name": "stdout",
     "output_type": "stream",
     "text": [
      "Time : 14.86468505859375, Paths : 50000 LSM Price Basis 2 : 0.0 LSM Price Basis 3 : 0.6398900319591289 LSM Price Basis 4 : 0.6390547829331684LSM RF Price : 0.6381327076979085 Repeat : 21\n"
     ]
    },
    {
     "name": "stderr",
     "output_type": "stream",
     "text": [
      "/Users/anthonymaylath/Documents/Schoolwork/NYU/High_Performance_Computing/Thesis/NYU_Machine_Learning_Project/pythonMC/proj_helpers/FinObj.py:359: FutureWarning: `rcond` parameter will change to the default of machine precision times ``max(M, N)`` where M and N are the input matrix dimensions.\n",
      "To use the future default and silence this warning we advise to pass `rcond=None`, to keep using the old, explicitly pass `rcond=-1`.\n",
      "  betas = np.linalg.lstsq(X,Ct1)[0]\n"
     ]
    },
    {
     "name": "stdout",
     "output_type": "stream",
     "text": [
      "Time : 14.725119829177856, Paths : 50000 LSM Price Basis 2 : 0.0 LSM Price Basis 3 : 0.6402423371199837 LSM Price Basis 4 : 0.641268217103421LSM RF Price : 0.6393553569083885 Repeat : 22\n"
     ]
    },
    {
     "name": "stderr",
     "output_type": "stream",
     "text": [
      "/Users/anthonymaylath/Documents/Schoolwork/NYU/High_Performance_Computing/Thesis/NYU_Machine_Learning_Project/pythonMC/proj_helpers/FinObj.py:359: FutureWarning: `rcond` parameter will change to the default of machine precision times ``max(M, N)`` where M and N are the input matrix dimensions.\n",
      "To use the future default and silence this warning we advise to pass `rcond=None`, to keep using the old, explicitly pass `rcond=-1`.\n",
      "  betas = np.linalg.lstsq(X,Ct1)[0]\n"
     ]
    },
    {
     "name": "stdout",
     "output_type": "stream",
     "text": [
      "Time : 14.687821865081787, Paths : 50000 LSM Price Basis 2 : 0.0 LSM Price Basis 3 : 0.6385985448609753 LSM Price Basis 4 : 0.638522177018995LSM RF Price : 0.6371661511388327 Repeat : 23\n"
     ]
    },
    {
     "name": "stderr",
     "output_type": "stream",
     "text": [
      "/Users/anthonymaylath/Documents/Schoolwork/NYU/High_Performance_Computing/Thesis/NYU_Machine_Learning_Project/pythonMC/proj_helpers/FinObj.py:359: FutureWarning: `rcond` parameter will change to the default of machine precision times ``max(M, N)`` where M and N are the input matrix dimensions.\n",
      "To use the future default and silence this warning we advise to pass `rcond=None`, to keep using the old, explicitly pass `rcond=-1`.\n",
      "  betas = np.linalg.lstsq(X,Ct1)[0]\n"
     ]
    },
    {
     "name": "stdout",
     "output_type": "stream",
     "text": [
      "Time : 14.765383005142212, Paths : 50000 LSM Price Basis 2 : 0.0 LSM Price Basis 3 : 0.64111098763174 LSM Price Basis 4 : 0.6367259944181135LSM RF Price : 0.6406705735568295 Repeat : 24\n"
     ]
    },
    {
     "name": "stderr",
     "output_type": "stream",
     "text": [
      "/Users/anthonymaylath/Documents/Schoolwork/NYU/High_Performance_Computing/Thesis/NYU_Machine_Learning_Project/pythonMC/proj_helpers/FinObj.py:359: FutureWarning: `rcond` parameter will change to the default of machine precision times ``max(M, N)`` where M and N are the input matrix dimensions.\n",
      "To use the future default and silence this warning we advise to pass `rcond=None`, to keep using the old, explicitly pass `rcond=-1`.\n",
      "  betas = np.linalg.lstsq(X,Ct1)[0]\n"
     ]
    },
    {
     "name": "stdout",
     "output_type": "stream",
     "text": [
      "Time : 14.68175983428955, Paths : 50000 LSM Price Basis 2 : 0.0 LSM Price Basis 3 : 0.6385945092904352 LSM Price Basis 4 : 0.6387637381239907LSM RF Price : 0.6391714449363856 Repeat : 25\n"
     ]
    },
    {
     "name": "stderr",
     "output_type": "stream",
     "text": [
      "/Users/anthonymaylath/Documents/Schoolwork/NYU/High_Performance_Computing/Thesis/NYU_Machine_Learning_Project/pythonMC/proj_helpers/FinObj.py:359: FutureWarning: `rcond` parameter will change to the default of machine precision times ``max(M, N)`` where M and N are the input matrix dimensions.\n",
      "To use the future default and silence this warning we advise to pass `rcond=None`, to keep using the old, explicitly pass `rcond=-1`.\n",
      "  betas = np.linalg.lstsq(X,Ct1)[0]\n"
     ]
    },
    {
     "name": "stdout",
     "output_type": "stream",
     "text": [
      "Time : 14.735171794891357, Paths : 50000 LSM Price Basis 2 : 0.0 LSM Price Basis 3 : 0.6357408070457585 LSM Price Basis 4 : 0.6376036544537835LSM RF Price : 0.6379843910417572 Repeat : 26\n"
     ]
    },
    {
     "name": "stderr",
     "output_type": "stream",
     "text": [
      "/Users/anthonymaylath/Documents/Schoolwork/NYU/High_Performance_Computing/Thesis/NYU_Machine_Learning_Project/pythonMC/proj_helpers/FinObj.py:359: FutureWarning: `rcond` parameter will change to the default of machine precision times ``max(M, N)`` where M and N are the input matrix dimensions.\n",
      "To use the future default and silence this warning we advise to pass `rcond=None`, to keep using the old, explicitly pass `rcond=-1`.\n",
      "  betas = np.linalg.lstsq(X,Ct1)[0]\n"
     ]
    },
    {
     "name": "stdout",
     "output_type": "stream",
     "text": [
      "Time : 14.67794418334961, Paths : 50000 LSM Price Basis 2 : 0.0 LSM Price Basis 3 : 0.640626466885212 LSM Price Basis 4 : 0.6386167529373228LSM RF Price : 0.6385662453611459 Repeat : 27\n"
     ]
    },
    {
     "name": "stderr",
     "output_type": "stream",
     "text": [
      "/Users/anthonymaylath/Documents/Schoolwork/NYU/High_Performance_Computing/Thesis/NYU_Machine_Learning_Project/pythonMC/proj_helpers/FinObj.py:359: FutureWarning: `rcond` parameter will change to the default of machine precision times ``max(M, N)`` where M and N are the input matrix dimensions.\n",
      "To use the future default and silence this warning we advise to pass `rcond=None`, to keep using the old, explicitly pass `rcond=-1`.\n",
      "  betas = np.linalg.lstsq(X,Ct1)[0]\n"
     ]
    },
    {
     "name": "stdout",
     "output_type": "stream",
     "text": [
      "Time : 15.61251974105835, Paths : 50000 LSM Price Basis 2 : 0.0 LSM Price Basis 3 : 0.6363585825893817 LSM Price Basis 4 : 0.639144200941909LSM RF Price : 0.6357755875024503 Repeat : 28\n"
     ]
    },
    {
     "name": "stderr",
     "output_type": "stream",
     "text": [
      "/Users/anthonymaylath/Documents/Schoolwork/NYU/High_Performance_Computing/Thesis/NYU_Machine_Learning_Project/pythonMC/proj_helpers/FinObj.py:359: FutureWarning: `rcond` parameter will change to the default of machine precision times ``max(M, N)`` where M and N are the input matrix dimensions.\n",
      "To use the future default and silence this warning we advise to pass `rcond=None`, to keep using the old, explicitly pass `rcond=-1`.\n",
      "  betas = np.linalg.lstsq(X,Ct1)[0]\n"
     ]
    },
    {
     "name": "stdout",
     "output_type": "stream",
     "text": [
      "Time : 15.450029850006104, Paths : 50000 LSM Price Basis 2 : 0.0 LSM Price Basis 3 : 0.6381170581977845 LSM Price Basis 4 : 0.6389837393958558LSM RF Price : 0.6405713346493883 Repeat : 29\n"
     ]
    },
    {
     "name": "stderr",
     "output_type": "stream",
     "text": [
      "/Users/anthonymaylath/Documents/Schoolwork/NYU/High_Performance_Computing/Thesis/NYU_Machine_Learning_Project/pythonMC/proj_helpers/FinObj.py:359: FutureWarning: `rcond` parameter will change to the default of machine precision times ``max(M, N)`` where M and N are the input matrix dimensions.\n",
      "To use the future default and silence this warning we advise to pass `rcond=None`, to keep using the old, explicitly pass `rcond=-1`.\n",
      "  betas = np.linalg.lstsq(X,Ct1)[0]\n"
     ]
    },
    {
     "name": "stdout",
     "output_type": "stream",
     "text": [
      "Time : 22.011120080947876, Paths : 75000 LSM Price Basis 2 : 0.0 LSM Price Basis 3 : 0.6387943900874582 LSM Price Basis 4 : 0.6397009741756902LSM RF Price : 0.638122687454397 Repeat : 0\n"
     ]
    },
    {
     "name": "stderr",
     "output_type": "stream",
     "text": [
      "/Users/anthonymaylath/Documents/Schoolwork/NYU/High_Performance_Computing/Thesis/NYU_Machine_Learning_Project/pythonMC/proj_helpers/FinObj.py:359: FutureWarning: `rcond` parameter will change to the default of machine precision times ``max(M, N)`` where M and N are the input matrix dimensions.\n",
      "To use the future default and silence this warning we advise to pass `rcond=None`, to keep using the old, explicitly pass `rcond=-1`.\n",
      "  betas = np.linalg.lstsq(X,Ct1)[0]\n"
     ]
    },
    {
     "name": "stdout",
     "output_type": "stream",
     "text": [
      "Time : 21.948874950408936, Paths : 75000 LSM Price Basis 2 : 0.0 LSM Price Basis 3 : 0.6392088425234208 LSM Price Basis 4 : 0.6375905458168551LSM RF Price : 0.640215956395674 Repeat : 1\n"
     ]
    },
    {
     "name": "stderr",
     "output_type": "stream",
     "text": [
      "/Users/anthonymaylath/Documents/Schoolwork/NYU/High_Performance_Computing/Thesis/NYU_Machine_Learning_Project/pythonMC/proj_helpers/FinObj.py:359: FutureWarning: `rcond` parameter will change to the default of machine precision times ``max(M, N)`` where M and N are the input matrix dimensions.\n",
      "To use the future default and silence this warning we advise to pass `rcond=None`, to keep using the old, explicitly pass `rcond=-1`.\n",
      "  betas = np.linalg.lstsq(X,Ct1)[0]\n"
     ]
    },
    {
     "name": "stdout",
     "output_type": "stream",
     "text": [
      "Time : 21.873519897460938, Paths : 75000 LSM Price Basis 2 : 0.0 LSM Price Basis 3 : 0.6401895167039675 LSM Price Basis 4 : 0.6408573744836235LSM RF Price : 0.6396271726484966 Repeat : 2\n"
     ]
    },
    {
     "name": "stderr",
     "output_type": "stream",
     "text": [
      "/Users/anthonymaylath/Documents/Schoolwork/NYU/High_Performance_Computing/Thesis/NYU_Machine_Learning_Project/pythonMC/proj_helpers/FinObj.py:359: FutureWarning: `rcond` parameter will change to the default of machine precision times ``max(M, N)`` where M and N are the input matrix dimensions.\n",
      "To use the future default and silence this warning we advise to pass `rcond=None`, to keep using the old, explicitly pass `rcond=-1`.\n",
      "  betas = np.linalg.lstsq(X,Ct1)[0]\n"
     ]
    },
    {
     "name": "stdout",
     "output_type": "stream",
     "text": [
      "Time : 21.92013692855835, Paths : 75000 LSM Price Basis 2 : 0.0 LSM Price Basis 3 : 0.6393189710659875 LSM Price Basis 4 : 0.6382903533447669LSM RF Price : 0.6379061025047955 Repeat : 3\n"
     ]
    },
    {
     "name": "stderr",
     "output_type": "stream",
     "text": [
      "/Users/anthonymaylath/Documents/Schoolwork/NYU/High_Performance_Computing/Thesis/NYU_Machine_Learning_Project/pythonMC/proj_helpers/FinObj.py:359: FutureWarning: `rcond` parameter will change to the default of machine precision times ``max(M, N)`` where M and N are the input matrix dimensions.\n",
      "To use the future default and silence this warning we advise to pass `rcond=None`, to keep using the old, explicitly pass `rcond=-1`.\n",
      "  betas = np.linalg.lstsq(X,Ct1)[0]\n"
     ]
    },
    {
     "name": "stdout",
     "output_type": "stream",
     "text": [
      "Time : 21.860337257385254, Paths : 75000 LSM Price Basis 2 : 0.0 LSM Price Basis 3 : 0.6401519358478821 LSM Price Basis 4 : 0.6401693230293236LSM RF Price : 0.6362830981983281 Repeat : 4\n"
     ]
    },
    {
     "name": "stderr",
     "output_type": "stream",
     "text": [
      "/Users/anthonymaylath/Documents/Schoolwork/NYU/High_Performance_Computing/Thesis/NYU_Machine_Learning_Project/pythonMC/proj_helpers/FinObj.py:359: FutureWarning: `rcond` parameter will change to the default of machine precision times ``max(M, N)`` where M and N are the input matrix dimensions.\n",
      "To use the future default and silence this warning we advise to pass `rcond=None`, to keep using the old, explicitly pass `rcond=-1`.\n",
      "  betas = np.linalg.lstsq(X,Ct1)[0]\n"
     ]
    },
    {
     "name": "stdout",
     "output_type": "stream",
     "text": [
      "Time : 21.760905027389526, Paths : 75000 LSM Price Basis 2 : 0.0 LSM Price Basis 3 : 0.6358841928299978 LSM Price Basis 4 : 0.6393352113627166LSM RF Price : 0.6374614834858963 Repeat : 5\n"
     ]
    },
    {
     "name": "stderr",
     "output_type": "stream",
     "text": [
      "/Users/anthonymaylath/Documents/Schoolwork/NYU/High_Performance_Computing/Thesis/NYU_Machine_Learning_Project/pythonMC/proj_helpers/FinObj.py:359: FutureWarning: `rcond` parameter will change to the default of machine precision times ``max(M, N)`` where M and N are the input matrix dimensions.\n",
      "To use the future default and silence this warning we advise to pass `rcond=None`, to keep using the old, explicitly pass `rcond=-1`.\n",
      "  betas = np.linalg.lstsq(X,Ct1)[0]\n"
     ]
    },
    {
     "name": "stdout",
     "output_type": "stream",
     "text": [
      "Time : 21.733082056045532, Paths : 75000 LSM Price Basis 2 : 0.0 LSM Price Basis 3 : 0.6391960602301252 LSM Price Basis 4 : 0.638904012186748LSM RF Price : 0.6390996828187615 Repeat : 6\n"
     ]
    },
    {
     "name": "stderr",
     "output_type": "stream",
     "text": [
      "/Users/anthonymaylath/Documents/Schoolwork/NYU/High_Performance_Computing/Thesis/NYU_Machine_Learning_Project/pythonMC/proj_helpers/FinObj.py:359: FutureWarning: `rcond` parameter will change to the default of machine precision times ``max(M, N)`` where M and N are the input matrix dimensions.\n",
      "To use the future default and silence this warning we advise to pass `rcond=None`, to keep using the old, explicitly pass `rcond=-1`.\n",
      "  betas = np.linalg.lstsq(X,Ct1)[0]\n"
     ]
    },
    {
     "name": "stdout",
     "output_type": "stream",
     "text": [
      "Time : 21.904173135757446, Paths : 75000 LSM Price Basis 2 : 0.0 LSM Price Basis 3 : 0.6375671391157224 LSM Price Basis 4 : 0.6417719130620366LSM RF Price : 0.6382771073388431 Repeat : 7\n"
     ]
    },
    {
     "name": "stderr",
     "output_type": "stream",
     "text": [
      "/Users/anthonymaylath/Documents/Schoolwork/NYU/High_Performance_Computing/Thesis/NYU_Machine_Learning_Project/pythonMC/proj_helpers/FinObj.py:359: FutureWarning: `rcond` parameter will change to the default of machine precision times ``max(M, N)`` where M and N are the input matrix dimensions.\n",
      "To use the future default and silence this warning we advise to pass `rcond=None`, to keep using the old, explicitly pass `rcond=-1`.\n",
      "  betas = np.linalg.lstsq(X,Ct1)[0]\n"
     ]
    },
    {
     "name": "stdout",
     "output_type": "stream",
     "text": [
      "Time : 21.778274059295654, Paths : 75000 LSM Price Basis 2 : 0.0 LSM Price Basis 3 : 0.6382285760904475 LSM Price Basis 4 : 0.6381509769460655LSM RF Price : 0.6373221181623098 Repeat : 8\n"
     ]
    },
    {
     "name": "stderr",
     "output_type": "stream",
     "text": [
      "/Users/anthonymaylath/Documents/Schoolwork/NYU/High_Performance_Computing/Thesis/NYU_Machine_Learning_Project/pythonMC/proj_helpers/FinObj.py:359: FutureWarning: `rcond` parameter will change to the default of machine precision times ``max(M, N)`` where M and N are the input matrix dimensions.\n",
      "To use the future default and silence this warning we advise to pass `rcond=None`, to keep using the old, explicitly pass `rcond=-1`.\n",
      "  betas = np.linalg.lstsq(X,Ct1)[0]\n"
     ]
    },
    {
     "name": "stdout",
     "output_type": "stream",
     "text": [
      "Time : 21.67952609062195, Paths : 75000 LSM Price Basis 2 : 0.0 LSM Price Basis 3 : 0.6385154607187825 LSM Price Basis 4 : 0.6396839947565238LSM RF Price : 0.6394081026654285 Repeat : 9\n"
     ]
    },
    {
     "name": "stderr",
     "output_type": "stream",
     "text": [
      "/Users/anthonymaylath/Documents/Schoolwork/NYU/High_Performance_Computing/Thesis/NYU_Machine_Learning_Project/pythonMC/proj_helpers/FinObj.py:359: FutureWarning: `rcond` parameter will change to the default of machine precision times ``max(M, N)`` where M and N are the input matrix dimensions.\n",
      "To use the future default and silence this warning we advise to pass `rcond=None`, to keep using the old, explicitly pass `rcond=-1`.\n",
      "  betas = np.linalg.lstsq(X,Ct1)[0]\n"
     ]
    },
    {
     "name": "stdout",
     "output_type": "stream",
     "text": [
      "Time : 21.823094844818115, Paths : 75000 LSM Price Basis 2 : 0.0 LSM Price Basis 3 : 0.6376977988884011 LSM Price Basis 4 : 0.6406005020497944LSM RF Price : 0.6386626789259021 Repeat : 10\n"
     ]
    },
    {
     "name": "stderr",
     "output_type": "stream",
     "text": [
      "/Users/anthonymaylath/Documents/Schoolwork/NYU/High_Performance_Computing/Thesis/NYU_Machine_Learning_Project/pythonMC/proj_helpers/FinObj.py:359: FutureWarning: `rcond` parameter will change to the default of machine precision times ``max(M, N)`` where M and N are the input matrix dimensions.\n",
      "To use the future default and silence this warning we advise to pass `rcond=None`, to keep using the old, explicitly pass `rcond=-1`.\n",
      "  betas = np.linalg.lstsq(X,Ct1)[0]\n"
     ]
    },
    {
     "name": "stdout",
     "output_type": "stream",
     "text": [
      "Time : 21.689337730407715, Paths : 75000 LSM Price Basis 2 : 0.0 LSM Price Basis 3 : 0.6388208339735555 LSM Price Basis 4 : 0.6392889354470453LSM RF Price : 0.639240171176355 Repeat : 11\n"
     ]
    },
    {
     "name": "stderr",
     "output_type": "stream",
     "text": [
      "/Users/anthonymaylath/Documents/Schoolwork/NYU/High_Performance_Computing/Thesis/NYU_Machine_Learning_Project/pythonMC/proj_helpers/FinObj.py:359: FutureWarning: `rcond` parameter will change to the default of machine precision times ``max(M, N)`` where M and N are the input matrix dimensions.\n",
      "To use the future default and silence this warning we advise to pass `rcond=None`, to keep using the old, explicitly pass `rcond=-1`.\n",
      "  betas = np.linalg.lstsq(X,Ct1)[0]\n"
     ]
    },
    {
     "name": "stdout",
     "output_type": "stream",
     "text": [
      "Time : 21.75182795524597, Paths : 75000 LSM Price Basis 2 : 0.0 LSM Price Basis 3 : 0.6385810969383956 LSM Price Basis 4 : 0.638424364646009LSM RF Price : 0.6389397542514647 Repeat : 12\n"
     ]
    },
    {
     "name": "stderr",
     "output_type": "stream",
     "text": [
      "/Users/anthonymaylath/Documents/Schoolwork/NYU/High_Performance_Computing/Thesis/NYU_Machine_Learning_Project/pythonMC/proj_helpers/FinObj.py:359: FutureWarning: `rcond` parameter will change to the default of machine precision times ``max(M, N)`` where M and N are the input matrix dimensions.\n",
      "To use the future default and silence this warning we advise to pass `rcond=None`, to keep using the old, explicitly pass `rcond=-1`.\n",
      "  betas = np.linalg.lstsq(X,Ct1)[0]\n"
     ]
    },
    {
     "name": "stdout",
     "output_type": "stream",
     "text": [
      "Time : 23.332773685455322, Paths : 75000 LSM Price Basis 2 : 0.0 LSM Price Basis 3 : 0.639790868623874 LSM Price Basis 4 : 0.6382897442903757LSM RF Price : 0.6376981317090582 Repeat : 13\n"
     ]
    },
    {
     "name": "stderr",
     "output_type": "stream",
     "text": [
      "/Users/anthonymaylath/Documents/Schoolwork/NYU/High_Performance_Computing/Thesis/NYU_Machine_Learning_Project/pythonMC/proj_helpers/FinObj.py:359: FutureWarning: `rcond` parameter will change to the default of machine precision times ``max(M, N)`` where M and N are the input matrix dimensions.\n",
      "To use the future default and silence this warning we advise to pass `rcond=None`, to keep using the old, explicitly pass `rcond=-1`.\n",
      "  betas = np.linalg.lstsq(X,Ct1)[0]\n"
     ]
    },
    {
     "name": "stdout",
     "output_type": "stream",
     "text": [
      "Time : 21.822616815567017, Paths : 75000 LSM Price Basis 2 : 0.0 LSM Price Basis 3 : 0.6378192971829881 LSM Price Basis 4 : 0.6383051113123442LSM RF Price : 0.6418324838001414 Repeat : 14\n"
     ]
    },
    {
     "name": "stderr",
     "output_type": "stream",
     "text": [
      "/Users/anthonymaylath/Documents/Schoolwork/NYU/High_Performance_Computing/Thesis/NYU_Machine_Learning_Project/pythonMC/proj_helpers/FinObj.py:359: FutureWarning: `rcond` parameter will change to the default of machine precision times ``max(M, N)`` where M and N are the input matrix dimensions.\n",
      "To use the future default and silence this warning we advise to pass `rcond=None`, to keep using the old, explicitly pass `rcond=-1`.\n",
      "  betas = np.linalg.lstsq(X,Ct1)[0]\n"
     ]
    },
    {
     "name": "stdout",
     "output_type": "stream",
     "text": [
      "Time : 22.216729879379272, Paths : 75000 LSM Price Basis 2 : 0.0 LSM Price Basis 3 : 0.6384706089837188 LSM Price Basis 4 : 0.6398577345095094LSM RF Price : 0.6395579812963774 Repeat : 15\n"
     ]
    },
    {
     "name": "stderr",
     "output_type": "stream",
     "text": [
      "/Users/anthonymaylath/Documents/Schoolwork/NYU/High_Performance_Computing/Thesis/NYU_Machine_Learning_Project/pythonMC/proj_helpers/FinObj.py:359: FutureWarning: `rcond` parameter will change to the default of machine precision times ``max(M, N)`` where M and N are the input matrix dimensions.\n",
      "To use the future default and silence this warning we advise to pass `rcond=None`, to keep using the old, explicitly pass `rcond=-1`.\n",
      "  betas = np.linalg.lstsq(X,Ct1)[0]\n"
     ]
    },
    {
     "name": "stdout",
     "output_type": "stream",
     "text": [
      "Time : 21.863306999206543, Paths : 75000 LSM Price Basis 2 : 0.0 LSM Price Basis 3 : 0.6375221092247009 LSM Price Basis 4 : 0.6386275904810657LSM RF Price : 0.639054359130975 Repeat : 16\n"
     ]
    },
    {
     "name": "stderr",
     "output_type": "stream",
     "text": [
      "/Users/anthonymaylath/Documents/Schoolwork/NYU/High_Performance_Computing/Thesis/NYU_Machine_Learning_Project/pythonMC/proj_helpers/FinObj.py:359: FutureWarning: `rcond` parameter will change to the default of machine precision times ``max(M, N)`` where M and N are the input matrix dimensions.\n",
      "To use the future default and silence this warning we advise to pass `rcond=None`, to keep using the old, explicitly pass `rcond=-1`.\n",
      "  betas = np.linalg.lstsq(X,Ct1)[0]\n"
     ]
    },
    {
     "name": "stdout",
     "output_type": "stream",
     "text": [
      "Time : 21.78162932395935, Paths : 75000 LSM Price Basis 2 : 0.0 LSM Price Basis 3 : 0.6383902985650339 LSM Price Basis 4 : 0.6395540358920011LSM RF Price : 0.6390908172790796 Repeat : 17\n"
     ]
    },
    {
     "name": "stderr",
     "output_type": "stream",
     "text": [
      "/Users/anthonymaylath/Documents/Schoolwork/NYU/High_Performance_Computing/Thesis/NYU_Machine_Learning_Project/pythonMC/proj_helpers/FinObj.py:359: FutureWarning: `rcond` parameter will change to the default of machine precision times ``max(M, N)`` where M and N are the input matrix dimensions.\n",
      "To use the future default and silence this warning we advise to pass `rcond=None`, to keep using the old, explicitly pass `rcond=-1`.\n",
      "  betas = np.linalg.lstsq(X,Ct1)[0]\n"
     ]
    },
    {
     "name": "stdout",
     "output_type": "stream",
     "text": [
      "Time : 21.885227918624878, Paths : 75000 LSM Price Basis 2 : 0.0 LSM Price Basis 3 : 0.63885624930465 LSM Price Basis 4 : 0.6382154013468246LSM RF Price : 0.6397884669661448 Repeat : 18\n"
     ]
    },
    {
     "name": "stderr",
     "output_type": "stream",
     "text": [
      "/Users/anthonymaylath/Documents/Schoolwork/NYU/High_Performance_Computing/Thesis/NYU_Machine_Learning_Project/pythonMC/proj_helpers/FinObj.py:359: FutureWarning: `rcond` parameter will change to the default of machine precision times ``max(M, N)`` where M and N are the input matrix dimensions.\n",
      "To use the future default and silence this warning we advise to pass `rcond=None`, to keep using the old, explicitly pass `rcond=-1`.\n",
      "  betas = np.linalg.lstsq(X,Ct1)[0]\n"
     ]
    },
    {
     "name": "stdout",
     "output_type": "stream",
     "text": [
      "Time : 24.85149598121643, Paths : 75000 LSM Price Basis 2 : 0.0 LSM Price Basis 3 : 0.6357035515060937 LSM Price Basis 4 : 0.6388804183279926LSM RF Price : 0.636505333441323 Repeat : 19\n"
     ]
    },
    {
     "name": "stderr",
     "output_type": "stream",
     "text": [
      "/Users/anthonymaylath/Documents/Schoolwork/NYU/High_Performance_Computing/Thesis/NYU_Machine_Learning_Project/pythonMC/proj_helpers/FinObj.py:359: FutureWarning: `rcond` parameter will change to the default of machine precision times ``max(M, N)`` where M and N are the input matrix dimensions.\n",
      "To use the future default and silence this warning we advise to pass `rcond=None`, to keep using the old, explicitly pass `rcond=-1`.\n",
      "  betas = np.linalg.lstsq(X,Ct1)[0]\n"
     ]
    },
    {
     "name": "stdout",
     "output_type": "stream",
     "text": [
      "Time : 24.505146026611328, Paths : 75000 LSM Price Basis 2 : 0.0 LSM Price Basis 3 : 0.6392417045319335 LSM Price Basis 4 : 0.6385164964365196LSM RF Price : 0.6392796833605283 Repeat : 20\n"
     ]
    },
    {
     "name": "stderr",
     "output_type": "stream",
     "text": [
      "/Users/anthonymaylath/Documents/Schoolwork/NYU/High_Performance_Computing/Thesis/NYU_Machine_Learning_Project/pythonMC/proj_helpers/FinObj.py:359: FutureWarning: `rcond` parameter will change to the default of machine precision times ``max(M, N)`` where M and N are the input matrix dimensions.\n",
      "To use the future default and silence this warning we advise to pass `rcond=None`, to keep using the old, explicitly pass `rcond=-1`.\n",
      "  betas = np.linalg.lstsq(X,Ct1)[0]\n"
     ]
    },
    {
     "name": "stdout",
     "output_type": "stream",
     "text": [
      "Time : 21.95416283607483, Paths : 75000 LSM Price Basis 2 : 0.0 LSM Price Basis 3 : 0.6365441969635703 LSM Price Basis 4 : 0.640877061846716LSM RF Price : 0.6384376576462651 Repeat : 21\n"
     ]
    },
    {
     "name": "stderr",
     "output_type": "stream",
     "text": [
      "/Users/anthonymaylath/Documents/Schoolwork/NYU/High_Performance_Computing/Thesis/NYU_Machine_Learning_Project/pythonMC/proj_helpers/FinObj.py:359: FutureWarning: `rcond` parameter will change to the default of machine precision times ``max(M, N)`` where M and N are the input matrix dimensions.\n",
      "To use the future default and silence this warning we advise to pass `rcond=None`, to keep using the old, explicitly pass `rcond=-1`.\n",
      "  betas = np.linalg.lstsq(X,Ct1)[0]\n"
     ]
    },
    {
     "name": "stdout",
     "output_type": "stream",
     "text": [
      "Time : 21.940747022628784, Paths : 75000 LSM Price Basis 2 : 0.0 LSM Price Basis 3 : 0.6422281177238177 LSM Price Basis 4 : 0.6373051077405051LSM RF Price : 0.6376097576779691 Repeat : 22\n"
     ]
    },
    {
     "name": "stderr",
     "output_type": "stream",
     "text": [
      "/Users/anthonymaylath/Documents/Schoolwork/NYU/High_Performance_Computing/Thesis/NYU_Machine_Learning_Project/pythonMC/proj_helpers/FinObj.py:359: FutureWarning: `rcond` parameter will change to the default of machine precision times ``max(M, N)`` where M and N are the input matrix dimensions.\n",
      "To use the future default and silence this warning we advise to pass `rcond=None`, to keep using the old, explicitly pass `rcond=-1`.\n",
      "  betas = np.linalg.lstsq(X,Ct1)[0]\n"
     ]
    },
    {
     "name": "stdout",
     "output_type": "stream",
     "text": [
      "Time : 21.9345121383667, Paths : 75000 LSM Price Basis 2 : 0.0 LSM Price Basis 3 : 0.6395524283479092 LSM Price Basis 4 : 0.6394735248309751LSM RF Price : 0.6377352980556213 Repeat : 23\n"
     ]
    },
    {
     "name": "stderr",
     "output_type": "stream",
     "text": [
      "/Users/anthonymaylath/Documents/Schoolwork/NYU/High_Performance_Computing/Thesis/NYU_Machine_Learning_Project/pythonMC/proj_helpers/FinObj.py:359: FutureWarning: `rcond` parameter will change to the default of machine precision times ``max(M, N)`` where M and N are the input matrix dimensions.\n",
      "To use the future default and silence this warning we advise to pass `rcond=None`, to keep using the old, explicitly pass `rcond=-1`.\n",
      "  betas = np.linalg.lstsq(X,Ct1)[0]\n"
     ]
    },
    {
     "name": "stdout",
     "output_type": "stream",
     "text": [
      "Time : 21.855568885803223, Paths : 75000 LSM Price Basis 2 : 0.0 LSM Price Basis 3 : 0.6385540231345576 LSM Price Basis 4 : 0.6391801678323773LSM RF Price : 0.6391166452967767 Repeat : 24\n"
     ]
    },
    {
     "name": "stderr",
     "output_type": "stream",
     "text": [
      "/Users/anthonymaylath/Documents/Schoolwork/NYU/High_Performance_Computing/Thesis/NYU_Machine_Learning_Project/pythonMC/proj_helpers/FinObj.py:359: FutureWarning: `rcond` parameter will change to the default of machine precision times ``max(M, N)`` where M and N are the input matrix dimensions.\n",
      "To use the future default and silence this warning we advise to pass `rcond=None`, to keep using the old, explicitly pass `rcond=-1`.\n",
      "  betas = np.linalg.lstsq(X,Ct1)[0]\n"
     ]
    },
    {
     "name": "stdout",
     "output_type": "stream",
     "text": [
      "Time : 21.850216150283813, Paths : 75000 LSM Price Basis 2 : 0.0 LSM Price Basis 3 : 0.6376356094795839 LSM Price Basis 4 : 0.6391963397932281LSM RF Price : 0.6376022591953534 Repeat : 25\n"
     ]
    },
    {
     "name": "stderr",
     "output_type": "stream",
     "text": [
      "/Users/anthonymaylath/Documents/Schoolwork/NYU/High_Performance_Computing/Thesis/NYU_Machine_Learning_Project/pythonMC/proj_helpers/FinObj.py:359: FutureWarning: `rcond` parameter will change to the default of machine precision times ``max(M, N)`` where M and N are the input matrix dimensions.\n",
      "To use the future default and silence this warning we advise to pass `rcond=None`, to keep using the old, explicitly pass `rcond=-1`.\n",
      "  betas = np.linalg.lstsq(X,Ct1)[0]\n"
     ]
    },
    {
     "name": "stdout",
     "output_type": "stream",
     "text": [
      "Time : 22.00717520713806, Paths : 75000 LSM Price Basis 2 : 0.0 LSM Price Basis 3 : 0.6385026589853973 LSM Price Basis 4 : 0.6364120670148448LSM RF Price : 0.6402664891882416 Repeat : 26\n"
     ]
    },
    {
     "name": "stderr",
     "output_type": "stream",
     "text": [
      "/Users/anthonymaylath/Documents/Schoolwork/NYU/High_Performance_Computing/Thesis/NYU_Machine_Learning_Project/pythonMC/proj_helpers/FinObj.py:359: FutureWarning: `rcond` parameter will change to the default of machine precision times ``max(M, N)`` where M and N are the input matrix dimensions.\n",
      "To use the future default and silence this warning we advise to pass `rcond=None`, to keep using the old, explicitly pass `rcond=-1`.\n",
      "  betas = np.linalg.lstsq(X,Ct1)[0]\n"
     ]
    },
    {
     "name": "stdout",
     "output_type": "stream",
     "text": [
      "Time : 21.861586093902588, Paths : 75000 LSM Price Basis 2 : 0.0 LSM Price Basis 3 : 0.6387115820470499 LSM Price Basis 4 : 0.6368123638167088LSM RF Price : 0.6374888357896292 Repeat : 27\n"
     ]
    },
    {
     "name": "stderr",
     "output_type": "stream",
     "text": [
      "/Users/anthonymaylath/Documents/Schoolwork/NYU/High_Performance_Computing/Thesis/NYU_Machine_Learning_Project/pythonMC/proj_helpers/FinObj.py:359: FutureWarning: `rcond` parameter will change to the default of machine precision times ``max(M, N)`` where M and N are the input matrix dimensions.\n",
      "To use the future default and silence this warning we advise to pass `rcond=None`, to keep using the old, explicitly pass `rcond=-1`.\n",
      "  betas = np.linalg.lstsq(X,Ct1)[0]\n"
     ]
    },
    {
     "name": "stdout",
     "output_type": "stream",
     "text": [
      "Time : 21.72295308113098, Paths : 75000 LSM Price Basis 2 : 0.0 LSM Price Basis 3 : 0.6369040276775885 LSM Price Basis 4 : 0.6376085957478219LSM RF Price : 0.6389021287538936 Repeat : 28\n"
     ]
    },
    {
     "name": "stderr",
     "output_type": "stream",
     "text": [
      "/Users/anthonymaylath/Documents/Schoolwork/NYU/High_Performance_Computing/Thesis/NYU_Machine_Learning_Project/pythonMC/proj_helpers/FinObj.py:359: FutureWarning: `rcond` parameter will change to the default of machine precision times ``max(M, N)`` where M and N are the input matrix dimensions.\n",
      "To use the future default and silence this warning we advise to pass `rcond=None`, to keep using the old, explicitly pass `rcond=-1`.\n",
      "  betas = np.linalg.lstsq(X,Ct1)[0]\n"
     ]
    },
    {
     "name": "stdout",
     "output_type": "stream",
     "text": [
      "Time : 21.831112146377563, Paths : 75000 LSM Price Basis 2 : 0.0 LSM Price Basis 3 : 0.6375420108957338 LSM Price Basis 4 : 0.6396468173588082LSM RF Price : 0.6378347655114307 Repeat : 29\n"
     ]
    },
    {
     "name": "stderr",
     "output_type": "stream",
     "text": [
      "/Users/anthonymaylath/Documents/Schoolwork/NYU/High_Performance_Computing/Thesis/NYU_Machine_Learning_Project/pythonMC/proj_helpers/FinObj.py:359: FutureWarning: `rcond` parameter will change to the default of machine precision times ``max(M, N)`` where M and N are the input matrix dimensions.\n",
      "To use the future default and silence this warning we advise to pass `rcond=None`, to keep using the old, explicitly pass `rcond=-1`.\n",
      "  betas = np.linalg.lstsq(X,Ct1)[0]\n"
     ]
    },
    {
     "name": "stdout",
     "output_type": "stream",
     "text": [
      "Time : 29.684802055358887, Paths : 100000 LSM Price Basis 2 : 0.0 LSM Price Basis 3 : 0.6387706338071235 LSM Price Basis 4 : 0.6399536635018445LSM RF Price : 0.6382780933602828 Repeat : 0\n"
     ]
    },
    {
     "name": "stderr",
     "output_type": "stream",
     "text": [
      "/Users/anthonymaylath/Documents/Schoolwork/NYU/High_Performance_Computing/Thesis/NYU_Machine_Learning_Project/pythonMC/proj_helpers/FinObj.py:359: FutureWarning: `rcond` parameter will change to the default of machine precision times ``max(M, N)`` where M and N are the input matrix dimensions.\n",
      "To use the future default and silence this warning we advise to pass `rcond=None`, to keep using the old, explicitly pass `rcond=-1`.\n",
      "  betas = np.linalg.lstsq(X,Ct1)[0]\n"
     ]
    },
    {
     "name": "stdout",
     "output_type": "stream",
     "text": [
      "Time : 29.489310026168823, Paths : 100000 LSM Price Basis 2 : 0.0 LSM Price Basis 3 : 0.6391381028600471 LSM Price Basis 4 : 0.6388978450619538LSM RF Price : 0.6389478005194148 Repeat : 1\n"
     ]
    },
    {
     "name": "stderr",
     "output_type": "stream",
     "text": [
      "/Users/anthonymaylath/Documents/Schoolwork/NYU/High_Performance_Computing/Thesis/NYU_Machine_Learning_Project/pythonMC/proj_helpers/FinObj.py:359: FutureWarning: `rcond` parameter will change to the default of machine precision times ``max(M, N)`` where M and N are the input matrix dimensions.\n",
      "To use the future default and silence this warning we advise to pass `rcond=None`, to keep using the old, explicitly pass `rcond=-1`.\n",
      "  betas = np.linalg.lstsq(X,Ct1)[0]\n"
     ]
    },
    {
     "name": "stdout",
     "output_type": "stream",
     "text": [
      "Time : 29.375175952911377, Paths : 100000 LSM Price Basis 2 : 0.0 LSM Price Basis 3 : 0.6385636515673964 LSM Price Basis 4 : 0.6395686998231663LSM RF Price : 0.6392226746417267 Repeat : 2\n"
     ]
    },
    {
     "name": "stderr",
     "output_type": "stream",
     "text": [
      "/Users/anthonymaylath/Documents/Schoolwork/NYU/High_Performance_Computing/Thesis/NYU_Machine_Learning_Project/pythonMC/proj_helpers/FinObj.py:359: FutureWarning: `rcond` parameter will change to the default of machine precision times ``max(M, N)`` where M and N are the input matrix dimensions.\n",
      "To use the future default and silence this warning we advise to pass `rcond=None`, to keep using the old, explicitly pass `rcond=-1`.\n",
      "  betas = np.linalg.lstsq(X,Ct1)[0]\n"
     ]
    },
    {
     "name": "stdout",
     "output_type": "stream",
     "text": [
      "Time : 29.45077395439148, Paths : 100000 LSM Price Basis 2 : 0.0 LSM Price Basis 3 : 0.6402207834529938 LSM Price Basis 4 : 0.6402989429173463LSM RF Price : 0.6372404080724537 Repeat : 3\n"
     ]
    },
    {
     "name": "stderr",
     "output_type": "stream",
     "text": [
      "/Users/anthonymaylath/Documents/Schoolwork/NYU/High_Performance_Computing/Thesis/NYU_Machine_Learning_Project/pythonMC/proj_helpers/FinObj.py:359: FutureWarning: `rcond` parameter will change to the default of machine precision times ``max(M, N)`` where M and N are the input matrix dimensions.\n",
      "To use the future default and silence this warning we advise to pass `rcond=None`, to keep using the old, explicitly pass `rcond=-1`.\n",
      "  betas = np.linalg.lstsq(X,Ct1)[0]\n"
     ]
    },
    {
     "name": "stdout",
     "output_type": "stream",
     "text": [
      "Time : 29.59885311126709, Paths : 100000 LSM Price Basis 2 : 0.0 LSM Price Basis 3 : 0.6385300697950248 LSM Price Basis 4 : 0.6373302086703945LSM RF Price : 0.6367763033842782 Repeat : 4\n"
     ]
    },
    {
     "name": "stderr",
     "output_type": "stream",
     "text": [
      "/Users/anthonymaylath/Documents/Schoolwork/NYU/High_Performance_Computing/Thesis/NYU_Machine_Learning_Project/pythonMC/proj_helpers/FinObj.py:359: FutureWarning: `rcond` parameter will change to the default of machine precision times ``max(M, N)`` where M and N are the input matrix dimensions.\n",
      "To use the future default and silence this warning we advise to pass `rcond=None`, to keep using the old, explicitly pass `rcond=-1`.\n",
      "  betas = np.linalg.lstsq(X,Ct1)[0]\n"
     ]
    },
    {
     "name": "stdout",
     "output_type": "stream",
     "text": [
      "Time : 29.40263867378235, Paths : 100000 LSM Price Basis 2 : 0.0 LSM Price Basis 3 : 0.6389838047348378 LSM Price Basis 4 : 0.6396064071598607LSM RF Price : 0.6385235522534295 Repeat : 5\n"
     ]
    },
    {
     "name": "stderr",
     "output_type": "stream",
     "text": [
      "/Users/anthonymaylath/Documents/Schoolwork/NYU/High_Performance_Computing/Thesis/NYU_Machine_Learning_Project/pythonMC/proj_helpers/FinObj.py:359: FutureWarning: `rcond` parameter will change to the default of machine precision times ``max(M, N)`` where M and N are the input matrix dimensions.\n",
      "To use the future default and silence this warning we advise to pass `rcond=None`, to keep using the old, explicitly pass `rcond=-1`.\n",
      "  betas = np.linalg.lstsq(X,Ct1)[0]\n"
     ]
    },
    {
     "name": "stdout",
     "output_type": "stream",
     "text": [
      "Time : 29.44419813156128, Paths : 100000 LSM Price Basis 2 : 0.0 LSM Price Basis 3 : 0.6395567390740794 LSM Price Basis 4 : 0.6391791911171704LSM RF Price : 0.6389024001565543 Repeat : 6\n"
     ]
    },
    {
     "name": "stderr",
     "output_type": "stream",
     "text": [
      "/Users/anthonymaylath/Documents/Schoolwork/NYU/High_Performance_Computing/Thesis/NYU_Machine_Learning_Project/pythonMC/proj_helpers/FinObj.py:359: FutureWarning: `rcond` parameter will change to the default of machine precision times ``max(M, N)`` where M and N are the input matrix dimensions.\n",
      "To use the future default and silence this warning we advise to pass `rcond=None`, to keep using the old, explicitly pass `rcond=-1`.\n",
      "  betas = np.linalg.lstsq(X,Ct1)[0]\n"
     ]
    },
    {
     "name": "stdout",
     "output_type": "stream",
     "text": [
      "Time : 29.48565697669983, Paths : 100000 LSM Price Basis 2 : 0.0 LSM Price Basis 3 : 0.6398603727257253 LSM Price Basis 4 : 0.6391245867121179LSM RF Price : 0.6389347265082436 Repeat : 7\n"
     ]
    },
    {
     "name": "stderr",
     "output_type": "stream",
     "text": [
      "/Users/anthonymaylath/Documents/Schoolwork/NYU/High_Performance_Computing/Thesis/NYU_Machine_Learning_Project/pythonMC/proj_helpers/FinObj.py:359: FutureWarning: `rcond` parameter will change to the default of machine precision times ``max(M, N)`` where M and N are the input matrix dimensions.\n",
      "To use the future default and silence this warning we advise to pass `rcond=None`, to keep using the old, explicitly pass `rcond=-1`.\n",
      "  betas = np.linalg.lstsq(X,Ct1)[0]\n"
     ]
    },
    {
     "name": "stdout",
     "output_type": "stream",
     "text": [
      "Time : 29.507107734680176, Paths : 100000 LSM Price Basis 2 : 0.0 LSM Price Basis 3 : 0.6386353084464625 LSM Price Basis 4 : 0.6398753536882517LSM RF Price : 0.6376744776877151 Repeat : 8\n"
     ]
    },
    {
     "name": "stderr",
     "output_type": "stream",
     "text": [
      "/Users/anthonymaylath/Documents/Schoolwork/NYU/High_Performance_Computing/Thesis/NYU_Machine_Learning_Project/pythonMC/proj_helpers/FinObj.py:359: FutureWarning: `rcond` parameter will change to the default of machine precision times ``max(M, N)`` where M and N are the input matrix dimensions.\n",
      "To use the future default and silence this warning we advise to pass `rcond=None`, to keep using the old, explicitly pass `rcond=-1`.\n",
      "  betas = np.linalg.lstsq(X,Ct1)[0]\n"
     ]
    },
    {
     "name": "stdout",
     "output_type": "stream",
     "text": [
      "Time : 29.489309072494507, Paths : 100000 LSM Price Basis 2 : 0.0 LSM Price Basis 3 : 0.6401084749535658 LSM Price Basis 4 : 0.6403783412455893LSM RF Price : 0.6398908597270563 Repeat : 9\n"
     ]
    },
    {
     "name": "stderr",
     "output_type": "stream",
     "text": [
      "/Users/anthonymaylath/Documents/Schoolwork/NYU/High_Performance_Computing/Thesis/NYU_Machine_Learning_Project/pythonMC/proj_helpers/FinObj.py:359: FutureWarning: `rcond` parameter will change to the default of machine precision times ``max(M, N)`` where M and N are the input matrix dimensions.\n",
      "To use the future default and silence this warning we advise to pass `rcond=None`, to keep using the old, explicitly pass `rcond=-1`.\n",
      "  betas = np.linalg.lstsq(X,Ct1)[0]\n"
     ]
    },
    {
     "name": "stdout",
     "output_type": "stream",
     "text": [
      "Time : 29.51302194595337, Paths : 100000 LSM Price Basis 2 : 0.0 LSM Price Basis 3 : 0.6379629340835041 LSM Price Basis 4 : 0.637635028742871LSM RF Price : 0.6391919805332967 Repeat : 10\n"
     ]
    },
    {
     "name": "stderr",
     "output_type": "stream",
     "text": [
      "/Users/anthonymaylath/Documents/Schoolwork/NYU/High_Performance_Computing/Thesis/NYU_Machine_Learning_Project/pythonMC/proj_helpers/FinObj.py:359: FutureWarning: `rcond` parameter will change to the default of machine precision times ``max(M, N)`` where M and N are the input matrix dimensions.\n",
      "To use the future default and silence this warning we advise to pass `rcond=None`, to keep using the old, explicitly pass `rcond=-1`.\n",
      "  betas = np.linalg.lstsq(X,Ct1)[0]\n"
     ]
    },
    {
     "name": "stdout",
     "output_type": "stream",
     "text": [
      "Time : 29.336719036102295, Paths : 100000 LSM Price Basis 2 : 0.0 LSM Price Basis 3 : 0.6397117100293962 LSM Price Basis 4 : 0.6395017269354523LSM RF Price : 0.6391220261060245 Repeat : 11\n"
     ]
    },
    {
     "name": "stderr",
     "output_type": "stream",
     "text": [
      "/Users/anthonymaylath/Documents/Schoolwork/NYU/High_Performance_Computing/Thesis/NYU_Machine_Learning_Project/pythonMC/proj_helpers/FinObj.py:359: FutureWarning: `rcond` parameter will change to the default of machine precision times ``max(M, N)`` where M and N are the input matrix dimensions.\n",
      "To use the future default and silence this warning we advise to pass `rcond=None`, to keep using the old, explicitly pass `rcond=-1`.\n",
      "  betas = np.linalg.lstsq(X,Ct1)[0]\n"
     ]
    },
    {
     "name": "stdout",
     "output_type": "stream",
     "text": [
      "Time : 29.682551860809326, Paths : 100000 LSM Price Basis 2 : 0.0 LSM Price Basis 3 : 0.6382015241656979 LSM Price Basis 4 : 0.6398939485736221LSM RF Price : 0.6388604895531652 Repeat : 12\n"
     ]
    },
    {
     "name": "stderr",
     "output_type": "stream",
     "text": [
      "/Users/anthonymaylath/Documents/Schoolwork/NYU/High_Performance_Computing/Thesis/NYU_Machine_Learning_Project/pythonMC/proj_helpers/FinObj.py:359: FutureWarning: `rcond` parameter will change to the default of machine precision times ``max(M, N)`` where M and N are the input matrix dimensions.\n",
      "To use the future default and silence this warning we advise to pass `rcond=None`, to keep using the old, explicitly pass `rcond=-1`.\n",
      "  betas = np.linalg.lstsq(X,Ct1)[0]\n"
     ]
    },
    {
     "name": "stdout",
     "output_type": "stream",
     "text": [
      "Time : 31.89587688446045, Paths : 100000 LSM Price Basis 2 : 0.0 LSM Price Basis 3 : 0.6383734717495088 LSM Price Basis 4 : 0.6375181957260763LSM RF Price : 0.6377675795517915 Repeat : 13\n"
     ]
    },
    {
     "name": "stderr",
     "output_type": "stream",
     "text": [
      "/Users/anthonymaylath/Documents/Schoolwork/NYU/High_Performance_Computing/Thesis/NYU_Machine_Learning_Project/pythonMC/proj_helpers/FinObj.py:359: FutureWarning: `rcond` parameter will change to the default of machine precision times ``max(M, N)`` where M and N are the input matrix dimensions.\n",
      "To use the future default and silence this warning we advise to pass `rcond=None`, to keep using the old, explicitly pass `rcond=-1`.\n",
      "  betas = np.linalg.lstsq(X,Ct1)[0]\n"
     ]
    },
    {
     "name": "stdout",
     "output_type": "stream",
     "text": [
      "Time : 29.344025135040283, Paths : 100000 LSM Price Basis 2 : 0.0 LSM Price Basis 3 : 0.6390383888315497 LSM Price Basis 4 : 0.6391953815987427LSM RF Price : 0.6388202187415162 Repeat : 14\n"
     ]
    },
    {
     "name": "stderr",
     "output_type": "stream",
     "text": [
      "/Users/anthonymaylath/Documents/Schoolwork/NYU/High_Performance_Computing/Thesis/NYU_Machine_Learning_Project/pythonMC/proj_helpers/FinObj.py:359: FutureWarning: `rcond` parameter will change to the default of machine precision times ``max(M, N)`` where M and N are the input matrix dimensions.\n",
      "To use the future default and silence this warning we advise to pass `rcond=None`, to keep using the old, explicitly pass `rcond=-1`.\n",
      "  betas = np.linalg.lstsq(X,Ct1)[0]\n"
     ]
    },
    {
     "name": "stdout",
     "output_type": "stream",
     "text": [
      "Time : 29.379401206970215, Paths : 100000 LSM Price Basis 2 : 0.0 LSM Price Basis 3 : 0.6381483667779857 LSM Price Basis 4 : 0.6371495175551137LSM RF Price : 0.6382291855037376 Repeat : 15\n"
     ]
    },
    {
     "name": "stderr",
     "output_type": "stream",
     "text": [
      "/Users/anthonymaylath/Documents/Schoolwork/NYU/High_Performance_Computing/Thesis/NYU_Machine_Learning_Project/pythonMC/proj_helpers/FinObj.py:359: FutureWarning: `rcond` parameter will change to the default of machine precision times ``max(M, N)`` where M and N are the input matrix dimensions.\n",
      "To use the future default and silence this warning we advise to pass `rcond=None`, to keep using the old, explicitly pass `rcond=-1`.\n",
      "  betas = np.linalg.lstsq(X,Ct1)[0]\n"
     ]
    },
    {
     "name": "stdout",
     "output_type": "stream",
     "text": [
      "Time : 29.4819118976593, Paths : 100000 LSM Price Basis 2 : 0.0 LSM Price Basis 3 : 0.6382477485482014 LSM Price Basis 4 : 0.6391044786129199LSM RF Price : 0.6378291255479005 Repeat : 16\n"
     ]
    },
    {
     "name": "stderr",
     "output_type": "stream",
     "text": [
      "/Users/anthonymaylath/Documents/Schoolwork/NYU/High_Performance_Computing/Thesis/NYU_Machine_Learning_Project/pythonMC/proj_helpers/FinObj.py:359: FutureWarning: `rcond` parameter will change to the default of machine precision times ``max(M, N)`` where M and N are the input matrix dimensions.\n",
      "To use the future default and silence this warning we advise to pass `rcond=None`, to keep using the old, explicitly pass `rcond=-1`.\n",
      "  betas = np.linalg.lstsq(X,Ct1)[0]\n"
     ]
    },
    {
     "name": "stdout",
     "output_type": "stream",
     "text": [
      "Time : 29.49277901649475, Paths : 100000 LSM Price Basis 2 : 0.0 LSM Price Basis 3 : 0.6389760984470998 LSM Price Basis 4 : 0.6367769076016887LSM RF Price : 0.6385763829125017 Repeat : 17\n"
     ]
    },
    {
     "name": "stderr",
     "output_type": "stream",
     "text": [
      "/Users/anthonymaylath/Documents/Schoolwork/NYU/High_Performance_Computing/Thesis/NYU_Machine_Learning_Project/pythonMC/proj_helpers/FinObj.py:359: FutureWarning: `rcond` parameter will change to the default of machine precision times ``max(M, N)`` where M and N are the input matrix dimensions.\n",
      "To use the future default and silence this warning we advise to pass `rcond=None`, to keep using the old, explicitly pass `rcond=-1`.\n",
      "  betas = np.linalg.lstsq(X,Ct1)[0]\n"
     ]
    },
    {
     "name": "stdout",
     "output_type": "stream",
     "text": [
      "Time : 29.554642915725708, Paths : 100000 LSM Price Basis 2 : 0.0 LSM Price Basis 3 : 0.6375319112758964 LSM Price Basis 4 : 0.6385296640427864LSM RF Price : 0.638531689070868 Repeat : 18\n"
     ]
    },
    {
     "name": "stderr",
     "output_type": "stream",
     "text": [
      "/Users/anthonymaylath/Documents/Schoolwork/NYU/High_Performance_Computing/Thesis/NYU_Machine_Learning_Project/pythonMC/proj_helpers/FinObj.py:359: FutureWarning: `rcond` parameter will change to the default of machine precision times ``max(M, N)`` where M and N are the input matrix dimensions.\n",
      "To use the future default and silence this warning we advise to pass `rcond=None`, to keep using the old, explicitly pass `rcond=-1`.\n",
      "  betas = np.linalg.lstsq(X,Ct1)[0]\n"
     ]
    },
    {
     "name": "stdout",
     "output_type": "stream",
     "text": [
      "Time : 29.56831407546997, Paths : 100000 LSM Price Basis 2 : 0.0 LSM Price Basis 3 : 0.6385558255380007 LSM Price Basis 4 : 0.6382463328261319LSM RF Price : 0.6386760376872541 Repeat : 19\n"
     ]
    },
    {
     "name": "stderr",
     "output_type": "stream",
     "text": [
      "/Users/anthonymaylath/Documents/Schoolwork/NYU/High_Performance_Computing/Thesis/NYU_Machine_Learning_Project/pythonMC/proj_helpers/FinObj.py:359: FutureWarning: `rcond` parameter will change to the default of machine precision times ``max(M, N)`` where M and N are the input matrix dimensions.\n",
      "To use the future default and silence this warning we advise to pass `rcond=None`, to keep using the old, explicitly pass `rcond=-1`.\n",
      "  betas = np.linalg.lstsq(X,Ct1)[0]\n"
     ]
    },
    {
     "name": "stdout",
     "output_type": "stream",
     "text": [
      "Time : 29.738924026489258, Paths : 100000 LSM Price Basis 2 : 0.0 LSM Price Basis 3 : 0.6381917725424726 LSM Price Basis 4 : 0.6372773539396307LSM RF Price : 0.6382378717690711 Repeat : 20\n"
     ]
    },
    {
     "name": "stderr",
     "output_type": "stream",
     "text": [
      "/Users/anthonymaylath/Documents/Schoolwork/NYU/High_Performance_Computing/Thesis/NYU_Machine_Learning_Project/pythonMC/proj_helpers/FinObj.py:359: FutureWarning: `rcond` parameter will change to the default of machine precision times ``max(M, N)`` where M and N are the input matrix dimensions.\n",
      "To use the future default and silence this warning we advise to pass `rcond=None`, to keep using the old, explicitly pass `rcond=-1`.\n",
      "  betas = np.linalg.lstsq(X,Ct1)[0]\n"
     ]
    },
    {
     "name": "stdout",
     "output_type": "stream",
     "text": [
      "Time : 29.695996046066284, Paths : 100000 LSM Price Basis 2 : 0.0 LSM Price Basis 3 : 0.6374401928588099 LSM Price Basis 4 : 0.638273883883233LSM RF Price : 0.638701195590738 Repeat : 21\n"
     ]
    },
    {
     "name": "stderr",
     "output_type": "stream",
     "text": [
      "/Users/anthonymaylath/Documents/Schoolwork/NYU/High_Performance_Computing/Thesis/NYU_Machine_Learning_Project/pythonMC/proj_helpers/FinObj.py:359: FutureWarning: `rcond` parameter will change to the default of machine precision times ``max(M, N)`` where M and N are the input matrix dimensions.\n",
      "To use the future default and silence this warning we advise to pass `rcond=None`, to keep using the old, explicitly pass `rcond=-1`.\n",
      "  betas = np.linalg.lstsq(X,Ct1)[0]\n"
     ]
    },
    {
     "name": "stdout",
     "output_type": "stream",
     "text": [
      "Time : 30.747424840927124, Paths : 100000 LSM Price Basis 2 : 0.0 LSM Price Basis 3 : 0.6388664588982919 LSM Price Basis 4 : 0.6383092238762591LSM RF Price : 0.6395763070285246 Repeat : 22\n"
     ]
    },
    {
     "name": "stderr",
     "output_type": "stream",
     "text": [
      "/Users/anthonymaylath/Documents/Schoolwork/NYU/High_Performance_Computing/Thesis/NYU_Machine_Learning_Project/pythonMC/proj_helpers/FinObj.py:359: FutureWarning: `rcond` parameter will change to the default of machine precision times ``max(M, N)`` where M and N are the input matrix dimensions.\n",
      "To use the future default and silence this warning we advise to pass `rcond=None`, to keep using the old, explicitly pass `rcond=-1`.\n",
      "  betas = np.linalg.lstsq(X,Ct1)[0]\n"
     ]
    },
    {
     "name": "stdout",
     "output_type": "stream",
     "text": [
      "Time : 29.717780113220215, Paths : 100000 LSM Price Basis 2 : 0.0 LSM Price Basis 3 : 0.6364331431180456 LSM Price Basis 4 : 0.6385903202415916LSM RF Price : 0.6379500116503052 Repeat : 23\n"
     ]
    },
    {
     "name": "stderr",
     "output_type": "stream",
     "text": [
      "/Users/anthonymaylath/Documents/Schoolwork/NYU/High_Performance_Computing/Thesis/NYU_Machine_Learning_Project/pythonMC/proj_helpers/FinObj.py:359: FutureWarning: `rcond` parameter will change to the default of machine precision times ``max(M, N)`` where M and N are the input matrix dimensions.\n",
      "To use the future default and silence this warning we advise to pass `rcond=None`, to keep using the old, explicitly pass `rcond=-1`.\n",
      "  betas = np.linalg.lstsq(X,Ct1)[0]\n"
     ]
    },
    {
     "name": "stdout",
     "output_type": "stream",
     "text": [
      "Time : 30.330078840255737, Paths : 100000 LSM Price Basis 2 : 0.0 LSM Price Basis 3 : 0.6379281794523709 LSM Price Basis 4 : 0.640116363531514LSM RF Price : 0.638349655038173 Repeat : 24\n"
     ]
    },
    {
     "name": "stderr",
     "output_type": "stream",
     "text": [
      "/Users/anthonymaylath/Documents/Schoolwork/NYU/High_Performance_Computing/Thesis/NYU_Machine_Learning_Project/pythonMC/proj_helpers/FinObj.py:359: FutureWarning: `rcond` parameter will change to the default of machine precision times ``max(M, N)`` where M and N are the input matrix dimensions.\n",
      "To use the future default and silence this warning we advise to pass `rcond=None`, to keep using the old, explicitly pass `rcond=-1`.\n",
      "  betas = np.linalg.lstsq(X,Ct1)[0]\n"
     ]
    },
    {
     "name": "stdout",
     "output_type": "stream",
     "text": [
      "Time : 29.545222997665405, Paths : 100000 LSM Price Basis 2 : 0.0 LSM Price Basis 3 : 0.638583388462428 LSM Price Basis 4 : 0.6383563350087639LSM RF Price : 0.6374879779460976 Repeat : 25\n"
     ]
    },
    {
     "name": "stderr",
     "output_type": "stream",
     "text": [
      "/Users/anthonymaylath/Documents/Schoolwork/NYU/High_Performance_Computing/Thesis/NYU_Machine_Learning_Project/pythonMC/proj_helpers/FinObj.py:359: FutureWarning: `rcond` parameter will change to the default of machine precision times ``max(M, N)`` where M and N are the input matrix dimensions.\n",
      "To use the future default and silence this warning we advise to pass `rcond=None`, to keep using the old, explicitly pass `rcond=-1`.\n",
      "  betas = np.linalg.lstsq(X,Ct1)[0]\n"
     ]
    },
    {
     "name": "stdout",
     "output_type": "stream",
     "text": [
      "Time : 28.334547996520996, Paths : 100000 LSM Price Basis 2 : 0.0 LSM Price Basis 3 : 0.6373545835398841 LSM Price Basis 4 : 0.6392636885099423LSM RF Price : 0.6379725069146996 Repeat : 26\n"
     ]
    },
    {
     "name": "stderr",
     "output_type": "stream",
     "text": [
      "/Users/anthonymaylath/Documents/Schoolwork/NYU/High_Performance_Computing/Thesis/NYU_Machine_Learning_Project/pythonMC/proj_helpers/FinObj.py:359: FutureWarning: `rcond` parameter will change to the default of machine precision times ``max(M, N)`` where M and N are the input matrix dimensions.\n",
      "To use the future default and silence this warning we advise to pass `rcond=None`, to keep using the old, explicitly pass `rcond=-1`.\n",
      "  betas = np.linalg.lstsq(X,Ct1)[0]\n"
     ]
    },
    {
     "name": "stdout",
     "output_type": "stream",
     "text": [
      "Time : 28.51423406600952, Paths : 100000 LSM Price Basis 2 : 0.0 LSM Price Basis 3 : 0.6386740551337685 LSM Price Basis 4 : 0.6376331043728373LSM RF Price : 0.6394240767953195 Repeat : 27\n"
     ]
    },
    {
     "name": "stderr",
     "output_type": "stream",
     "text": [
      "/Users/anthonymaylath/Documents/Schoolwork/NYU/High_Performance_Computing/Thesis/NYU_Machine_Learning_Project/pythonMC/proj_helpers/FinObj.py:359: FutureWarning: `rcond` parameter will change to the default of machine precision times ``max(M, N)`` where M and N are the input matrix dimensions.\n",
      "To use the future default and silence this warning we advise to pass `rcond=None`, to keep using the old, explicitly pass `rcond=-1`.\n",
      "  betas = np.linalg.lstsq(X,Ct1)[0]\n"
     ]
    },
    {
     "name": "stdout",
     "output_type": "stream",
     "text": [
      "Time : 28.438781261444092, Paths : 100000 LSM Price Basis 2 : 0.0 LSM Price Basis 3 : 0.6385771314298339 LSM Price Basis 4 : 0.6378458680820858LSM RF Price : 0.6393410866193937 Repeat : 28\n"
     ]
    },
    {
     "name": "stderr",
     "output_type": "stream",
     "text": [
      "/Users/anthonymaylath/Documents/Schoolwork/NYU/High_Performance_Computing/Thesis/NYU_Machine_Learning_Project/pythonMC/proj_helpers/FinObj.py:359: FutureWarning: `rcond` parameter will change to the default of machine precision times ``max(M, N)`` where M and N are the input matrix dimensions.\n",
      "To use the future default and silence this warning we advise to pass `rcond=None`, to keep using the old, explicitly pass `rcond=-1`.\n",
      "  betas = np.linalg.lstsq(X,Ct1)[0]\n"
     ]
    },
    {
     "name": "stdout",
     "output_type": "stream",
     "text": [
      "Time : 28.618947744369507, Paths : 100000 LSM Price Basis 2 : 0.0 LSM Price Basis 3 : 0.6389528533618329 LSM Price Basis 4 : 0.6383937731156237LSM RF Price : 0.6380121484611151 Repeat : 29\n"
     ]
    },
    {
     "name": "stderr",
     "output_type": "stream",
     "text": [
      "/Users/anthonymaylath/Documents/Schoolwork/NYU/High_Performance_Computing/Thesis/NYU_Machine_Learning_Project/pythonMC/proj_helpers/FinObj.py:359: FutureWarning: `rcond` parameter will change to the default of machine precision times ``max(M, N)`` where M and N are the input matrix dimensions.\n",
      "To use the future default and silence this warning we advise to pass `rcond=None`, to keep using the old, explicitly pass `rcond=-1`.\n",
      "  betas = np.linalg.lstsq(X,Ct1)[0]\n"
     ]
    },
    {
     "name": "stdout",
     "output_type": "stream",
     "text": [
      "Time : 77.40270686149597, Paths : 250000 LSM Price Basis 2 : 0.0 LSM Price Basis 3 : 0.6382083771768384 LSM Price Basis 4 : 0.6385034503648799LSM RF Price : 0.6372761057488092 Repeat : 0\n"
     ]
    },
    {
     "name": "stderr",
     "output_type": "stream",
     "text": [
      "/Users/anthonymaylath/Documents/Schoolwork/NYU/High_Performance_Computing/Thesis/NYU_Machine_Learning_Project/pythonMC/proj_helpers/FinObj.py:359: FutureWarning: `rcond` parameter will change to the default of machine precision times ``max(M, N)`` where M and N are the input matrix dimensions.\n",
      "To use the future default and silence this warning we advise to pass `rcond=None`, to keep using the old, explicitly pass `rcond=-1`.\n",
      "  betas = np.linalg.lstsq(X,Ct1)[0]\n"
     ]
    },
    {
     "name": "stdout",
     "output_type": "stream",
     "text": [
      "Time : 77.28588104248047, Paths : 250000 LSM Price Basis 2 : 0.0 LSM Price Basis 3 : 0.6383319233523088 LSM Price Basis 4 : 0.6388778511536644LSM RF Price : 0.639893858761882 Repeat : 1\n"
     ]
    },
    {
     "name": "stderr",
     "output_type": "stream",
     "text": [
      "/Users/anthonymaylath/Documents/Schoolwork/NYU/High_Performance_Computing/Thesis/NYU_Machine_Learning_Project/pythonMC/proj_helpers/FinObj.py:359: FutureWarning: `rcond` parameter will change to the default of machine precision times ``max(M, N)`` where M and N are the input matrix dimensions.\n",
      "To use the future default and silence this warning we advise to pass `rcond=None`, to keep using the old, explicitly pass `rcond=-1`.\n",
      "  betas = np.linalg.lstsq(X,Ct1)[0]\n"
     ]
    },
    {
     "name": "stdout",
     "output_type": "stream",
     "text": [
      "Time : 77.44875907897949, Paths : 250000 LSM Price Basis 2 : 0.0 LSM Price Basis 3 : 0.638687048359884 LSM Price Basis 4 : 0.6391166954971178LSM RF Price : 0.6371765514791288 Repeat : 2\n"
     ]
    },
    {
     "name": "stderr",
     "output_type": "stream",
     "text": [
      "/Users/anthonymaylath/Documents/Schoolwork/NYU/High_Performance_Computing/Thesis/NYU_Machine_Learning_Project/pythonMC/proj_helpers/FinObj.py:359: FutureWarning: `rcond` parameter will change to the default of machine precision times ``max(M, N)`` where M and N are the input matrix dimensions.\n",
      "To use the future default and silence this warning we advise to pass `rcond=None`, to keep using the old, explicitly pass `rcond=-1`.\n",
      "  betas = np.linalg.lstsq(X,Ct1)[0]\n"
     ]
    },
    {
     "name": "stdout",
     "output_type": "stream",
     "text": [
      "Time : 76.81418824195862, Paths : 250000 LSM Price Basis 2 : 0.0 LSM Price Basis 3 : 0.6375559509248709 LSM Price Basis 4 : 0.6390436262857458LSM RF Price : 0.6379854809615048 Repeat : 3\n"
     ]
    },
    {
     "name": "stderr",
     "output_type": "stream",
     "text": [
      "/Users/anthonymaylath/Documents/Schoolwork/NYU/High_Performance_Computing/Thesis/NYU_Machine_Learning_Project/pythonMC/proj_helpers/FinObj.py:359: FutureWarning: `rcond` parameter will change to the default of machine precision times ``max(M, N)`` where M and N are the input matrix dimensions.\n",
      "To use the future default and silence this warning we advise to pass `rcond=None`, to keep using the old, explicitly pass `rcond=-1`.\n",
      "  betas = np.linalg.lstsq(X,Ct1)[0]\n"
     ]
    },
    {
     "name": "stdout",
     "output_type": "stream",
     "text": [
      "Time : 76.67720675468445, Paths : 250000 LSM Price Basis 2 : 0.0 LSM Price Basis 3 : 0.6388290562319673 LSM Price Basis 4 : 0.6387573385346809LSM RF Price : 0.6396889123424463 Repeat : 4\n"
     ]
    },
    {
     "name": "stderr",
     "output_type": "stream",
     "text": [
      "/Users/anthonymaylath/Documents/Schoolwork/NYU/High_Performance_Computing/Thesis/NYU_Machine_Learning_Project/pythonMC/proj_helpers/FinObj.py:359: FutureWarning: `rcond` parameter will change to the default of machine precision times ``max(M, N)`` where M and N are the input matrix dimensions.\n",
      "To use the future default and silence this warning we advise to pass `rcond=None`, to keep using the old, explicitly pass `rcond=-1`.\n",
      "  betas = np.linalg.lstsq(X,Ct1)[0]\n"
     ]
    },
    {
     "name": "stdout",
     "output_type": "stream",
     "text": [
      "Time : 76.309326171875, Paths : 250000 LSM Price Basis 2 : 0.0 LSM Price Basis 3 : 0.6385461262278272 LSM Price Basis 4 : 0.6389506831391332LSM RF Price : 0.6383981446340942 Repeat : 5\n"
     ]
    },
    {
     "name": "stderr",
     "output_type": "stream",
     "text": [
      "/Users/anthonymaylath/Documents/Schoolwork/NYU/High_Performance_Computing/Thesis/NYU_Machine_Learning_Project/pythonMC/proj_helpers/FinObj.py:359: FutureWarning: `rcond` parameter will change to the default of machine precision times ``max(M, N)`` where M and N are the input matrix dimensions.\n",
      "To use the future default and silence this warning we advise to pass `rcond=None`, to keep using the old, explicitly pass `rcond=-1`.\n",
      "  betas = np.linalg.lstsq(X,Ct1)[0]\n"
     ]
    },
    {
     "name": "stdout",
     "output_type": "stream",
     "text": [
      "Time : 77.91952109336853, Paths : 250000 LSM Price Basis 2 : 0.0 LSM Price Basis 3 : 0.6389879980510094 LSM Price Basis 4 : 0.6379244606506475LSM RF Price : 0.6385538653854385 Repeat : 6\n"
     ]
    },
    {
     "name": "stderr",
     "output_type": "stream",
     "text": [
      "/Users/anthonymaylath/Documents/Schoolwork/NYU/High_Performance_Computing/Thesis/NYU_Machine_Learning_Project/pythonMC/proj_helpers/FinObj.py:359: FutureWarning: `rcond` parameter will change to the default of machine precision times ``max(M, N)`` where M and N are the input matrix dimensions.\n",
      "To use the future default and silence this warning we advise to pass `rcond=None`, to keep using the old, explicitly pass `rcond=-1`.\n",
      "  betas = np.linalg.lstsq(X,Ct1)[0]\n"
     ]
    },
    {
     "name": "stdout",
     "output_type": "stream",
     "text": [
      "Time : 76.97810697555542, Paths : 250000 LSM Price Basis 2 : 0.0 LSM Price Basis 3 : 0.6389240900380938 LSM Price Basis 4 : 0.6386861786155336LSM RF Price : 0.6371434560753071 Repeat : 7\n"
     ]
    },
    {
     "name": "stderr",
     "output_type": "stream",
     "text": [
      "/Users/anthonymaylath/Documents/Schoolwork/NYU/High_Performance_Computing/Thesis/NYU_Machine_Learning_Project/pythonMC/proj_helpers/FinObj.py:359: FutureWarning: `rcond` parameter will change to the default of machine precision times ``max(M, N)`` where M and N are the input matrix dimensions.\n",
      "To use the future default and silence this warning we advise to pass `rcond=None`, to keep using the old, explicitly pass `rcond=-1`.\n",
      "  betas = np.linalg.lstsq(X,Ct1)[0]\n"
     ]
    },
    {
     "name": "stdout",
     "output_type": "stream",
     "text": [
      "Time : 78.08185505867004, Paths : 250000 LSM Price Basis 2 : 0.0 LSM Price Basis 3 : 0.6387439714295542 LSM Price Basis 4 : 0.6383194969495843LSM RF Price : 0.6373225169075677 Repeat : 8\n"
     ]
    },
    {
     "name": "stderr",
     "output_type": "stream",
     "text": [
      "/Users/anthonymaylath/Documents/Schoolwork/NYU/High_Performance_Computing/Thesis/NYU_Machine_Learning_Project/pythonMC/proj_helpers/FinObj.py:359: FutureWarning: `rcond` parameter will change to the default of machine precision times ``max(M, N)`` where M and N are the input matrix dimensions.\n",
      "To use the future default and silence this warning we advise to pass `rcond=None`, to keep using the old, explicitly pass `rcond=-1`.\n",
      "  betas = np.linalg.lstsq(X,Ct1)[0]\n"
     ]
    },
    {
     "name": "stdout",
     "output_type": "stream",
     "text": [
      "Time : 79.32903695106506, Paths : 250000 LSM Price Basis 2 : 0.0 LSM Price Basis 3 : 0.6387992931973437 LSM Price Basis 4 : 0.639338193925675LSM RF Price : 0.6379672190812223 Repeat : 9\n"
     ]
    },
    {
     "name": "stderr",
     "output_type": "stream",
     "text": [
      "/Users/anthonymaylath/Documents/Schoolwork/NYU/High_Performance_Computing/Thesis/NYU_Machine_Learning_Project/pythonMC/proj_helpers/FinObj.py:359: FutureWarning: `rcond` parameter will change to the default of machine precision times ``max(M, N)`` where M and N are the input matrix dimensions.\n",
      "To use the future default and silence this warning we advise to pass `rcond=None`, to keep using the old, explicitly pass `rcond=-1`.\n",
      "  betas = np.linalg.lstsq(X,Ct1)[0]\n"
     ]
    },
    {
     "name": "stdout",
     "output_type": "stream",
     "text": [
      "Time : 83.03781199455261, Paths : 250000 LSM Price Basis 2 : 0.0 LSM Price Basis 3 : 0.639104866262093 LSM Price Basis 4 : 0.6378850556985434LSM RF Price : 0.6381437200883369 Repeat : 10\n"
     ]
    },
    {
     "name": "stderr",
     "output_type": "stream",
     "text": [
      "/Users/anthonymaylath/Documents/Schoolwork/NYU/High_Performance_Computing/Thesis/NYU_Machine_Learning_Project/pythonMC/proj_helpers/FinObj.py:359: FutureWarning: `rcond` parameter will change to the default of machine precision times ``max(M, N)`` where M and N are the input matrix dimensions.\n",
      "To use the future default and silence this warning we advise to pass `rcond=None`, to keep using the old, explicitly pass `rcond=-1`.\n",
      "  betas = np.linalg.lstsq(X,Ct1)[0]\n"
     ]
    },
    {
     "name": "stdout",
     "output_type": "stream",
     "text": [
      "Time : 76.0102379322052, Paths : 250000 LSM Price Basis 2 : 0.0 LSM Price Basis 3 : 0.6386891005096711 LSM Price Basis 4 : 0.6389899515298949LSM RF Price : 0.6379162109868408 Repeat : 11\n"
     ]
    },
    {
     "name": "stderr",
     "output_type": "stream",
     "text": [
      "/Users/anthonymaylath/Documents/Schoolwork/NYU/High_Performance_Computing/Thesis/NYU_Machine_Learning_Project/pythonMC/proj_helpers/FinObj.py:359: FutureWarning: `rcond` parameter will change to the default of machine precision times ``max(M, N)`` where M and N are the input matrix dimensions.\n",
      "To use the future default and silence this warning we advise to pass `rcond=None`, to keep using the old, explicitly pass `rcond=-1`.\n",
      "  betas = np.linalg.lstsq(X,Ct1)[0]\n"
     ]
    },
    {
     "name": "stdout",
     "output_type": "stream",
     "text": [
      "Time : 77.14625668525696, Paths : 250000 LSM Price Basis 2 : 0.0 LSM Price Basis 3 : 0.6385568872393901 LSM Price Basis 4 : 0.639173535254989LSM RF Price : 0.6384534707518373 Repeat : 12\n"
     ]
    },
    {
     "name": "stderr",
     "output_type": "stream",
     "text": [
      "/Users/anthonymaylath/Documents/Schoolwork/NYU/High_Performance_Computing/Thesis/NYU_Machine_Learning_Project/pythonMC/proj_helpers/FinObj.py:359: FutureWarning: `rcond` parameter will change to the default of machine precision times ``max(M, N)`` where M and N are the input matrix dimensions.\n",
      "To use the future default and silence this warning we advise to pass `rcond=None`, to keep using the old, explicitly pass `rcond=-1`.\n",
      "  betas = np.linalg.lstsq(X,Ct1)[0]\n"
     ]
    },
    {
     "name": "stdout",
     "output_type": "stream",
     "text": [
      "Time : 79.51486897468567, Paths : 250000 LSM Price Basis 2 : 0.0 LSM Price Basis 3 : 0.6406497803848213 LSM Price Basis 4 : 0.6385289272050936LSM RF Price : 0.6377416553616558 Repeat : 13\n"
     ]
    },
    {
     "name": "stderr",
     "output_type": "stream",
     "text": [
      "/Users/anthonymaylath/Documents/Schoolwork/NYU/High_Performance_Computing/Thesis/NYU_Machine_Learning_Project/pythonMC/proj_helpers/FinObj.py:359: FutureWarning: `rcond` parameter will change to the default of machine precision times ``max(M, N)`` where M and N are the input matrix dimensions.\n",
      "To use the future default and silence this warning we advise to pass `rcond=None`, to keep using the old, explicitly pass `rcond=-1`.\n",
      "  betas = np.linalg.lstsq(X,Ct1)[0]\n"
     ]
    },
    {
     "name": "stdout",
     "output_type": "stream",
     "text": [
      "Time : 77.65836906433105, Paths : 250000 LSM Price Basis 2 : 0.0 LSM Price Basis 3 : 0.6385737676764459 LSM Price Basis 4 : 0.6393089122830227LSM RF Price : 0.6382787826340345 Repeat : 14\n"
     ]
    },
    {
     "name": "stderr",
     "output_type": "stream",
     "text": [
      "/Users/anthonymaylath/Documents/Schoolwork/NYU/High_Performance_Computing/Thesis/NYU_Machine_Learning_Project/pythonMC/proj_helpers/FinObj.py:359: FutureWarning: `rcond` parameter will change to the default of machine precision times ``max(M, N)`` where M and N are the input matrix dimensions.\n",
      "To use the future default and silence this warning we advise to pass `rcond=None`, to keep using the old, explicitly pass `rcond=-1`.\n",
      "  betas = np.linalg.lstsq(X,Ct1)[0]\n"
     ]
    },
    {
     "name": "stdout",
     "output_type": "stream",
     "text": [
      "Time : 76.69334197044373, Paths : 250000 LSM Price Basis 2 : 0.0 LSM Price Basis 3 : 0.6387562110177749 LSM Price Basis 4 : 0.6382830144745831LSM RF Price : 0.6380944040429296 Repeat : 15\n"
     ]
    },
    {
     "name": "stderr",
     "output_type": "stream",
     "text": [
      "/Users/anthonymaylath/Documents/Schoolwork/NYU/High_Performance_Computing/Thesis/NYU_Machine_Learning_Project/pythonMC/proj_helpers/FinObj.py:359: FutureWarning: `rcond` parameter will change to the default of machine precision times ``max(M, N)`` where M and N are the input matrix dimensions.\n",
      "To use the future default and silence this warning we advise to pass `rcond=None`, to keep using the old, explicitly pass `rcond=-1`.\n",
      "  betas = np.linalg.lstsq(X,Ct1)[0]\n"
     ]
    },
    {
     "name": "stdout",
     "output_type": "stream",
     "text": [
      "Time : 77.80890965461731, Paths : 250000 LSM Price Basis 2 : 0.0 LSM Price Basis 3 : 0.6379184570083956 LSM Price Basis 4 : 0.6393517793020438LSM RF Price : 0.6387650112600454 Repeat : 16\n"
     ]
    },
    {
     "name": "stderr",
     "output_type": "stream",
     "text": [
      "/Users/anthonymaylath/Documents/Schoolwork/NYU/High_Performance_Computing/Thesis/NYU_Machine_Learning_Project/pythonMC/proj_helpers/FinObj.py:359: FutureWarning: `rcond` parameter will change to the default of machine precision times ``max(M, N)`` where M and N are the input matrix dimensions.\n",
      "To use the future default and silence this warning we advise to pass `rcond=None`, to keep using the old, explicitly pass `rcond=-1`.\n",
      "  betas = np.linalg.lstsq(X,Ct1)[0]\n"
     ]
    },
    {
     "name": "stdout",
     "output_type": "stream",
     "text": [
      "Time : 76.79018902778625, Paths : 250000 LSM Price Basis 2 : 0.0 LSM Price Basis 3 : 0.6384699230859634 LSM Price Basis 4 : 0.6396108787289415LSM RF Price : 0.6383244921161811 Repeat : 17\n"
     ]
    },
    {
     "name": "stderr",
     "output_type": "stream",
     "text": [
      "/Users/anthonymaylath/Documents/Schoolwork/NYU/High_Performance_Computing/Thesis/NYU_Machine_Learning_Project/pythonMC/proj_helpers/FinObj.py:359: FutureWarning: `rcond` parameter will change to the default of machine precision times ``max(M, N)`` where M and N are the input matrix dimensions.\n",
      "To use the future default and silence this warning we advise to pass `rcond=None`, to keep using the old, explicitly pass `rcond=-1`.\n",
      "  betas = np.linalg.lstsq(X,Ct1)[0]\n"
     ]
    },
    {
     "name": "stdout",
     "output_type": "stream",
     "text": [
      "Time : 80.60121011734009, Paths : 250000 LSM Price Basis 2 : 0.0 LSM Price Basis 3 : 0.6380048090408654 LSM Price Basis 4 : 0.6390433795003377LSM RF Price : 0.6375840935813927 Repeat : 18\n"
     ]
    },
    {
     "name": "stderr",
     "output_type": "stream",
     "text": [
      "/Users/anthonymaylath/Documents/Schoolwork/NYU/High_Performance_Computing/Thesis/NYU_Machine_Learning_Project/pythonMC/proj_helpers/FinObj.py:359: FutureWarning: `rcond` parameter will change to the default of machine precision times ``max(M, N)`` where M and N are the input matrix dimensions.\n",
      "To use the future default and silence this warning we advise to pass `rcond=None`, to keep using the old, explicitly pass `rcond=-1`.\n",
      "  betas = np.linalg.lstsq(X,Ct1)[0]\n"
     ]
    },
    {
     "name": "stdout",
     "output_type": "stream",
     "text": [
      "Time : 78.38798999786377, Paths : 250000 LSM Price Basis 2 : 0.0 LSM Price Basis 3 : 0.6380937089902892 LSM Price Basis 4 : 0.6391535164245311LSM RF Price : 0.6383123095060983 Repeat : 19\n"
     ]
    },
    {
     "name": "stderr",
     "output_type": "stream",
     "text": [
      "/Users/anthonymaylath/Documents/Schoolwork/NYU/High_Performance_Computing/Thesis/NYU_Machine_Learning_Project/pythonMC/proj_helpers/FinObj.py:359: FutureWarning: `rcond` parameter will change to the default of machine precision times ``max(M, N)`` where M and N are the input matrix dimensions.\n",
      "To use the future default and silence this warning we advise to pass `rcond=None`, to keep using the old, explicitly pass `rcond=-1`.\n",
      "  betas = np.linalg.lstsq(X,Ct1)[0]\n"
     ]
    },
    {
     "name": "stdout",
     "output_type": "stream",
     "text": [
      "Time : 79.95951986312866, Paths : 250000 LSM Price Basis 2 : 0.0 LSM Price Basis 3 : 0.6394935141125647 LSM Price Basis 4 : 0.6375858213070036LSM RF Price : 0.637338355630595 Repeat : 20\n"
     ]
    },
    {
     "name": "stderr",
     "output_type": "stream",
     "text": [
      "/Users/anthonymaylath/Documents/Schoolwork/NYU/High_Performance_Computing/Thesis/NYU_Machine_Learning_Project/pythonMC/proj_helpers/FinObj.py:359: FutureWarning: `rcond` parameter will change to the default of machine precision times ``max(M, N)`` where M and N are the input matrix dimensions.\n",
      "To use the future default and silence this warning we advise to pass `rcond=None`, to keep using the old, explicitly pass `rcond=-1`.\n",
      "  betas = np.linalg.lstsq(X,Ct1)[0]\n"
     ]
    },
    {
     "name": "stdout",
     "output_type": "stream",
     "text": [
      "Time : 78.24805498123169, Paths : 250000 LSM Price Basis 2 : 0.0 LSM Price Basis 3 : 0.6391306304175621 LSM Price Basis 4 : 0.6385113491066211LSM RF Price : 0.637673663485643 Repeat : 21\n"
     ]
    },
    {
     "name": "stderr",
     "output_type": "stream",
     "text": [
      "/Users/anthonymaylath/Documents/Schoolwork/NYU/High_Performance_Computing/Thesis/NYU_Machine_Learning_Project/pythonMC/proj_helpers/FinObj.py:359: FutureWarning: `rcond` parameter will change to the default of machine precision times ``max(M, N)`` where M and N are the input matrix dimensions.\n",
      "To use the future default and silence this warning we advise to pass `rcond=None`, to keep using the old, explicitly pass `rcond=-1`.\n",
      "  betas = np.linalg.lstsq(X,Ct1)[0]\n"
     ]
    },
    {
     "name": "stdout",
     "output_type": "stream",
     "text": [
      "Time : 77.5731840133667, Paths : 250000 LSM Price Basis 2 : 0.0 LSM Price Basis 3 : 0.6375997386103714 LSM Price Basis 4 : 0.637859014949966LSM RF Price : 0.6378755429905718 Repeat : 22\n"
     ]
    },
    {
     "name": "stderr",
     "output_type": "stream",
     "text": [
      "/Users/anthonymaylath/Documents/Schoolwork/NYU/High_Performance_Computing/Thesis/NYU_Machine_Learning_Project/pythonMC/proj_helpers/FinObj.py:359: FutureWarning: `rcond` parameter will change to the default of machine precision times ``max(M, N)`` where M and N are the input matrix dimensions.\n",
      "To use the future default and silence this warning we advise to pass `rcond=None`, to keep using the old, explicitly pass `rcond=-1`.\n",
      "  betas = np.linalg.lstsq(X,Ct1)[0]\n"
     ]
    },
    {
     "name": "stdout",
     "output_type": "stream",
     "text": [
      "Time : 80.76791191101074, Paths : 250000 LSM Price Basis 2 : 0.0 LSM Price Basis 3 : 0.6388487368779262 LSM Price Basis 4 : 0.6391590030642847LSM RF Price : 0.6386095387460999 Repeat : 23\n"
     ]
    },
    {
     "name": "stderr",
     "output_type": "stream",
     "text": [
      "/Users/anthonymaylath/Documents/Schoolwork/NYU/High_Performance_Computing/Thesis/NYU_Machine_Learning_Project/pythonMC/proj_helpers/FinObj.py:359: FutureWarning: `rcond` parameter will change to the default of machine precision times ``max(M, N)`` where M and N are the input matrix dimensions.\n",
      "To use the future default and silence this warning we advise to pass `rcond=None`, to keep using the old, explicitly pass `rcond=-1`.\n",
      "  betas = np.linalg.lstsq(X,Ct1)[0]\n"
     ]
    },
    {
     "name": "stdout",
     "output_type": "stream",
     "text": [
      "Time : 93.86115288734436, Paths : 250000 LSM Price Basis 2 : 0.0 LSM Price Basis 3 : 0.6390082094914052 LSM Price Basis 4 : 0.6392181602889728LSM RF Price : 0.6384296700026555 Repeat : 24\n"
     ]
    },
    {
     "name": "stderr",
     "output_type": "stream",
     "text": [
      "/Users/anthonymaylath/Documents/Schoolwork/NYU/High_Performance_Computing/Thesis/NYU_Machine_Learning_Project/pythonMC/proj_helpers/FinObj.py:359: FutureWarning: `rcond` parameter will change to the default of machine precision times ``max(M, N)`` where M and N are the input matrix dimensions.\n",
      "To use the future default and silence this warning we advise to pass `rcond=None`, to keep using the old, explicitly pass `rcond=-1`.\n",
      "  betas = np.linalg.lstsq(X,Ct1)[0]\n"
     ]
    },
    {
     "name": "stdout",
     "output_type": "stream",
     "text": [
      "Time : 88.37023615837097, Paths : 250000 LSM Price Basis 2 : 0.0 LSM Price Basis 3 : 0.6394028292722488 LSM Price Basis 4 : 0.6376203735797558LSM RF Price : 0.6371047784691868 Repeat : 25\n"
     ]
    },
    {
     "name": "stderr",
     "output_type": "stream",
     "text": [
      "/Users/anthonymaylath/Documents/Schoolwork/NYU/High_Performance_Computing/Thesis/NYU_Machine_Learning_Project/pythonMC/proj_helpers/FinObj.py:359: FutureWarning: `rcond` parameter will change to the default of machine precision times ``max(M, N)`` where M and N are the input matrix dimensions.\n",
      "To use the future default and silence this warning we advise to pass `rcond=None`, to keep using the old, explicitly pass `rcond=-1`.\n",
      "  betas = np.linalg.lstsq(X,Ct1)[0]\n"
     ]
    },
    {
     "name": "stdout",
     "output_type": "stream",
     "text": [
      "Time : 88.09527826309204, Paths : 250000 LSM Price Basis 2 : 0.0 LSM Price Basis 3 : 0.6380334892753984 LSM Price Basis 4 : 0.6387283639711793LSM RF Price : 0.6379043136688775 Repeat : 26\n"
     ]
    },
    {
     "name": "stderr",
     "output_type": "stream",
     "text": [
      "/Users/anthonymaylath/Documents/Schoolwork/NYU/High_Performance_Computing/Thesis/NYU_Machine_Learning_Project/pythonMC/proj_helpers/FinObj.py:359: FutureWarning: `rcond` parameter will change to the default of machine precision times ``max(M, N)`` where M and N are the input matrix dimensions.\n",
      "To use the future default and silence this warning we advise to pass `rcond=None`, to keep using the old, explicitly pass `rcond=-1`.\n",
      "  betas = np.linalg.lstsq(X,Ct1)[0]\n"
     ]
    },
    {
     "name": "stdout",
     "output_type": "stream",
     "text": [
      "Time : 88.37270092964172, Paths : 250000 LSM Price Basis 2 : 0.0 LSM Price Basis 3 : 0.6380019349988822 LSM Price Basis 4 : 0.6390914832800006LSM RF Price : 0.6372467355214958 Repeat : 27\n"
     ]
    },
    {
     "name": "stderr",
     "output_type": "stream",
     "text": [
      "/Users/anthonymaylath/Documents/Schoolwork/NYU/High_Performance_Computing/Thesis/NYU_Machine_Learning_Project/pythonMC/proj_helpers/FinObj.py:359: FutureWarning: `rcond` parameter will change to the default of machine precision times ``max(M, N)`` where M and N are the input matrix dimensions.\n",
      "To use the future default and silence this warning we advise to pass `rcond=None`, to keep using the old, explicitly pass `rcond=-1`.\n",
      "  betas = np.linalg.lstsq(X,Ct1)[0]\n"
     ]
    },
    {
     "name": "stdout",
     "output_type": "stream",
     "text": [
      "Time : 87.63822889328003, Paths : 250000 LSM Price Basis 2 : 0.0 LSM Price Basis 3 : 0.639022632610038 LSM Price Basis 4 : 0.6388182113613391LSM RF Price : 0.6379775860791888 Repeat : 28\n"
     ]
    },
    {
     "name": "stderr",
     "output_type": "stream",
     "text": [
      "/Users/anthonymaylath/Documents/Schoolwork/NYU/High_Performance_Computing/Thesis/NYU_Machine_Learning_Project/pythonMC/proj_helpers/FinObj.py:359: FutureWarning: `rcond` parameter will change to the default of machine precision times ``max(M, N)`` where M and N are the input matrix dimensions.\n",
      "To use the future default and silence this warning we advise to pass `rcond=None`, to keep using the old, explicitly pass `rcond=-1`.\n",
      "  betas = np.linalg.lstsq(X,Ct1)[0]\n"
     ]
    },
    {
     "name": "stdout",
     "output_type": "stream",
     "text": [
      "Time : 90.97133088111877, Paths : 250000 LSM Price Basis 2 : 0.0 LSM Price Basis 3 : 0.6385914293536838 LSM Price Basis 4 : 0.6386049169240787LSM RF Price : 0.6383146357717788 Repeat : 29\n"
     ]
    }
   ],
   "source": [
    "share1.spot = 110\n",
    "\n",
    "cake_con = 0.6383549372234368 #Estimated convergance\n",
    "\n",
    "#Perform Tests for wedding cake\n",
    "payoff=fin.birthdayVec #Define option payoff\n",
    "\n",
    "#Option Parameters\n",
    "myOption = fin.Option(share1,payoff,time_s,strike,\\\n",
    "                      t_unit,birthday={\"rng\":[1,5],\"pay\":[1.0,0.5]})\n",
    "\n",
    "#Birthday cake for path size\n",
    "import time\n",
    "wed_lsm2 = {} #put prices as a function of path size\n",
    "wed_lsm3 = {} #put prices as a function of path size\n",
    "wed_lsm4 = {} #put prices as a function of path size\n",
    "wed_lsmrf = {} #put prices as a function of path size random forest\n",
    "path_array = [10,100,250,500,750,1000,2000,5000,\\\n",
    "              7500,10000,25000,50000,75000,100000,250000]\n",
    "repeat = 30\n",
    "\n",
    "for paths in path_array:\n",
    "    wed_lsm3[paths] = np.zeros(repeat) \n",
    "    wed_lsm4[paths] = np.zeros(repeat) \n",
    "    wed_lsmrf[paths] = np.zeros(repeat) \n",
    "    for rep in range(0,repeat):\n",
    "        t0=time.time()\n",
    "        wed_lsm3[paths][rep]=fin.priceLSM(share1,myOption,paths,time_s,t_unit,\\\n",
    "                                  anti=True,regressor=fin.getCont,num_basis=3)\n",
    "        wed_lsm4[paths][rep]=fin.priceLSM(share1,myOption,paths,time_s,t_unit,\\\n",
    "                                  anti=True,regressor=fin.getCont,num_basis=5)\n",
    "        wed_lsmrf[paths][rep]= fin.priceLSM(share1,myOption,paths,time_s,t_unit,\\\n",
    "                                  anti=True,regressor=fin.getContRF,\\\n",
    "                                        num_trees=5,max_depth=5,min_samples_leaf=0.1)\n",
    "        print(\"Time : \"+str(time.time()-t0)+\", Paths : \"+str(paths)\\\n",
    "             +\" LSM Price Basis 3 : \"+str(wed_lsm3[paths][rep])\\\n",
    "              +\" LSM Price Basis 4 : \"+str(wed_lsm4[paths][rep])+\\\n",
    "             \"LSM RF Price : \"+str(wed_lsmrf[paths][rep])\\\n",
    "             +\" Repeat : \" + str(rep))\n",
    "share1.spot = spot #Reset spot price"
   ]
  },
  {
   "cell_type": "code",
   "execution_count": 116,
   "metadata": {
    "scrolled": true
   },
   "outputs": [
    {
     "data": {
      "image/png": "[encoded data removed]",
      "text/plain": [
       "<matplotlib.figure.Figure at 0x11066cf28>"
      ]
     },
     "metadata": {},
     "output_type": "display_data"
    }
   ],
   "source": [
    "cnames = ['lsm3','lsm4','lsmrf']\n",
    "for x in range(0,len(cnames)):\n",
    "    toplot = mylist[\"Means\"][cnames[x]].values()\n",
    "    pplot.plot(np.log(path_array)*2,np.log(list(toplot)),label=cnames[x])\n",
    "pplot.legend()\n",
    "pplot.xlabel('Paths')\n",
    "pplot.ylabel('Price')\n",
    "pplot.show()"
   ]
  },
  {
   "cell_type": "code",
   "execution_count": 68,
   "metadata": {},
   "outputs": [
    {
     "data": {
      "text/plain": [
       "dict_keys(['Mean', 'Max', 'Min', 'Range', 'Std', 'Errors'])"
      ]
     },
     "execution_count": 68,
     "metadata": {},
     "output_type": "execute_result"
    }
   ],
   "source": []
  },
  {
   "cell_type": "code",
   "execution_count": 99,
   "metadata": {},
   "outputs": [],
   "source": [
    "  "
   ]
  },
  {
   "cell_type": "code",
   "execution_count": 103,
   "metadata": {},
   "outputs": [
    {
     "data": {
      "text/plain": [
       "{'lsm3': {10: 0.07456837437883568,\n",
       "  100: 0.008070275576931296,\n",
       "  250: 0.0003238596799478577,\n",
       "  500: 0.0010521256663680312,\n",
       "  750: 0.001720053326572657,\n",
       "  1000: 0.001732405623981359,\n",
       "  2000: 0.0008742151851257596,\n",
       "  5000: 0.0012674370632053122,\n",
       "  7500: 0.0005582790824305572,\n",
       "  10000: 0.0005137190872704922,\n",
       "  25000: 7.276868211647525e-05,\n",
       "  50000: 0.00021806361891663073,\n",
       "  75000: 0.00011586804964136554,\n",
       "  100000: 0.00024898543195783773,\n",
       "  250000: 0.00029721248407954537},\n",
       " 'lsm4': {10: 0.04658627347746669,\n",
       "  100: 0.026940046289121056,\n",
       "  250: 0.0011682290500243386,\n",
       "  500: 0.00045573390548070414,\n",
       "  750: 0.00197468467678219,\n",
       "  1000: 0.00339759012100882,\n",
       "  2000: 0.0008180153230540332,\n",
       "  5000: 0.0004112261826098029,\n",
       "  7500: 0.0007635385630047065,\n",
       "  10000: 0.0004674008864434809,\n",
       "  25000: 7.97246674499874e-06,\n",
       "  50000: 0.0005200947739817385,\n",
       "  75000: 0.0006292981060903591,\n",
       "  100000: 0.0003725406657159036,\n",
       "  250000: 0.00037985022162467796},\n",
       " 'lsmrf': {10: 0.03770652424347365,\n",
       "  100: 0.015879360763896844,\n",
       "  250: 0.006334861690723836,\n",
       "  500: 0.003427037295562041,\n",
       "  750: 0.0009611636710387117,\n",
       "  1000: 0.003035170574076984,\n",
       "  2000: 0.0014722978720035362,\n",
       "  5000: 0.0004521336229030837,\n",
       "  7500: 7.337254368811053e-05,\n",
       "  10000: 0.0002687218763646193,\n",
       "  25000: 0.0005924489845862135,\n",
       "  50000: 9.646326347534373e-05,\n",
       "  75000: 0.00025730311407867745,\n",
       "  100000: 0.00014669108765141825,\n",
       "  250000: 0.00030510115434201346}}"
      ]
     },
     "execution_count": 103,
     "metadata": {},
     "output_type": "execute_result"
    }
   ],
   "source": []
  },
  {
   "cell_type": "code",
   "execution_count": 101,
   "metadata": {},
   "outputs": [],
   "source": [
    "dist_mean = {}\n",
    "dist_max = {}\n",
    "dist_min = {}\n",
    "dist_range = {}\n",
    "dist_std = {}\n",
    "dist_err = {}\n",
    "for x in cnames_comp:\n",
    "    dist_mean[x] = {}\n",
    "    dist_max[x] = {}\n",
    "    dist_min[x] = {}\n",
    "    dist_range[x] = {}\n",
    "    dist_std[x] = {}\n",
    "    dist_err[x] = {}\n",
    "    for y in path_array:\n",
    "        dist_mean[x][y] = np.mean(new_dict[x][y])\n",
    "        dist_max[x][y] = np.max(new_dict[x][y])\n",
    "        dist_min[x][y] = np.min(new_dict[x][y])\n",
    "        dist_range[x][y] = dist_max[x][y]-dist_min[x][y]\n",
    "        dist_std[x][y] = np.std(new_dict[x][y])\n",
    "        dist_err[x][y] = abs(dist_mean[x][y]-cake_con)"
   ]
  },
  {
   "cell_type": "code",
   "execution_count": 105,
   "metadata": {},
   "outputs": [],
   "source": [
    "#Pickle results\n",
    "import pickle\n",
    "mylist = {\"Errors\":dist_err,\"Means\":dist_mean,\"Max\":dist_max,\"Min\":dist_min,\"Range\":dist_range,\"Std\":dist_std}\n",
    "with open('results/wedding_spot_110_vol_0.2_rate_0.02_paths_200_trees_5_depth_3_largeDist_stat.pkl', 'wb') as f:\n",
    "    pickle.dump(mylist, f)"
   ]
  },
  {
   "cell_type": "code",
   "execution_count": 92,
   "metadata": {},
   "outputs": [
    {
     "data": {
      "text/plain": [
       "-0.00030510115434201346"
      ]
     },
     "execution_count": 92,
     "metadata": {},
     "output_type": "execute_result"
    }
   ],
   "source": []
  },
  {
   "cell_type": "code",
   "execution_count": null,
   "metadata": {
    "collapsed": true
   },
   "outputs": [],
   "source": []
  }
 ],
 "metadata": {
  "kernelspec": {
   "display_name": "Python 3",
   "language": "python",
   "name": "python3"
  },
  "language_info": {
   "codemirror_mode": {
    "name": "ipython",
    "version": 3
   },
   "file_extension": ".py",
   "mimetype": "text/x-python",
   "name": "python",
   "nbconvert_exporter": "python",
   "pygments_lexer": "ipython3",
   "version": "3.6.3"
  }
 },
 "nbformat": 4,
 "nbformat_minor": 2
}
