{
 "cells": [
  {
   "cell_type": "code",
   "execution_count": 2,
   "metadata": {},
   "outputs": [
    {
     "ename": "ModuleNotFoundError",
     "evalue": "No module named 'riskEngine'",
     "output_type": "error",
     "traceback": [
      "\u001b[0;31m---------------------------------------------------------------------------\u001b[0m",
      "\u001b[0;31mModuleNotFoundError\u001b[0m                       Traceback (most recent call last)",
      "\u001b[0;32m<ipython-input-2-f7cd221cccdc>\u001b[0m in \u001b[0;36m<module>\u001b[0;34m()\u001b[0m\n\u001b[1;32m      1\u001b[0m \u001b[0;32mimport\u001b[0m \u001b[0mproj_helpers\u001b[0m\u001b[0;34m.\u001b[0m\u001b[0mFinObj\u001b[0m \u001b[0;32mas\u001b[0m \u001b[0mfin\u001b[0m\u001b[0;34m\u001b[0m\u001b[0m\n\u001b[1;32m      2\u001b[0m \u001b[0;32mimport\u001b[0m \u001b[0mnumpy\u001b[0m \u001b[0;32mas\u001b[0m \u001b[0mnp\u001b[0m\u001b[0;34m\u001b[0m\u001b[0m\n\u001b[0;32m----> 3\u001b[0;31m \u001b[0;32mimport\u001b[0m \u001b[0mriskEngine\u001b[0m \u001b[0;32mas\u001b[0m \u001b[0mrisk\u001b[0m\u001b[0;34m\u001b[0m\u001b[0m\n\u001b[0m",
      "\u001b[0;31mModuleNotFoundError\u001b[0m: No module named 'riskEngine'"
     ]
    }
   ],
   "source": [
    "import proj_helpers.FinObj as fin\n",
    "import numpy as np\n",
    "import proj_helpers.riskEngine as risk"
   ]
  },
  {
   "cell_type": "code",
   "execution_count": 2,
   "metadata": {
    "collapsed": true
   },
   "outputs": [],
   "source": [
    "#Map for units of time\n",
    "t_map = {'2y':0.5,'year':1,'semester':2,'quarter':4,'month':12,'week':52,'2day':180,'day':360}"
   ]
  },
  {
   "cell_type": "code",
   "execution_count": 3,
   "metadata": {
    "collapsed": true
   },
   "outputs": [],
   "source": [
    "#MC Parameters\n",
    "paths = 1000000\n",
    "t_del = 1\n",
    "\n",
    "t_unit = 200 #Unit of time: default = 1 for years, 12 for months, 360 for days etc...\n",
    "time_s = 200 #Total number of time steps in t_units"
   ]
  },
  {
   "cell_type": "code",
   "execution_count": 4,
   "metadata": {},
   "outputs": [],
   "source": [
    "#Stock Parameters\n",
    "spot = 100\n",
    "vol = 0.11 #vol per year\n",
    "rate = 0.01 #Rate in years\n",
    "div = 0.0\n",
    "expr = time_s/t_unit\n",
    "\n",
    "#Share object\n",
    "share1 = fin.Stock(spot,vol,t_unit,rate)"
   ]
  },
  {
   "cell_type": "code",
   "execution_count": 5,
   "metadata": {
    "collapsed": true
   },
   "outputs": [],
   "source": [
    "strike=100\n",
    "payoff=fin.amCallVec #Define option payoff\n",
    "\n",
    "#Option Parameters\n",
    "myOption = fin.Option(share1,payoff,time_s,strike,t_unit)\n",
    "\n",
    "callbs=risk.BSCall(spot, strike, div, rate, vol, expr) #Compute black scholes price"
   ]
  },
  {
   "cell_type": "code",
   "execution_count": 8,
   "metadata": {},
   "outputs": [
    {
     "name": "stderr",
     "output_type": "stream",
     "text": [
      "/Users/anthonymaylath/Documents/Schoolwork/NYU/High_Performance_Computing/Thesis/proposal/FinObj.py:308: FutureWarning: `rcond` parameter will change to the default of machine precision times ``max(M, N)`` where M and N are the input matrix dimensions.\n",
      "To use the future default and silence this warning we advise to pass `rcond=None`, to keep using the old, explicitly pass `rcond=-1`.\n",
      "  betas = np.linalg.lstsq(X,Ct1)[0]\n"
     ]
    },
    {
     "name": "stdout",
     "output_type": "stream",
     "text": [
      "Time : 0.10587596893310547, Paths : 10 LSM Price : 6.0573151585696845 BS Price : 4.879844122033347\n",
      "Time : 0.05973386764526367, Paths : 100 LSM Price : 5.393154602868865 BS Price : 4.879844122033347\n",
      "Time : 0.06856822967529297, Paths : 250 LSM Price : 5.150649008585289 BS Price : 4.879844122033347\n",
      "Time : 0.11909770965576172, Paths : 500 LSM Price : 4.856439163572509 BS Price : 4.879844122033347\n",
      "Time : 0.13626384735107422, Paths : 1000 LSM Price : 4.845970186847629 BS Price : 4.879844122033347\n",
      "Time : 0.1997830867767334, Paths : 2000 LSM Price : 4.709113535166813 BS Price : 4.879844122033347\n",
      "Time : 0.3949849605560303, Paths : 5000 LSM Price : 4.8195149325043865 BS Price : 4.879844122033347\n",
      "Time : 0.48931193351745605, Paths : 7500 LSM Price : 4.832486962119053 BS Price : 4.879844122033347\n",
      "Time : 0.6429600715637207, Paths : 10000 LSM Price : 4.844155873539234 BS Price : 4.879844122033347\n",
      "Time : 1.6379780769348145, Paths : 25000 LSM Price : 4.896091446403425 BS Price : 4.879844122033347\n",
      "Time : 3.6384429931640625, Paths : 50000 LSM Price : 4.846801108729556 BS Price : 4.879844122033347\n",
      "Time : 7.988642930984497, Paths : 100000 LSM Price : 4.854882742184432 BS Price : 4.879844122033347\n",
      "Time : 48.943379163742065, Paths : 500000 LSM Price : 4.878361900740078 BS Price : 4.879844122033347\n",
      "Time : 100.98293399810791, Paths : 1000000 LSM Price : 4.875284691533485 BS Price : 4.879844122033347\n"
     ]
    }
   ],
   "source": [
    "#Test against BS Call Price for paths\n",
    "import time\n",
    "call_p = {} #Call prices as a function of path size\n",
    "path_array = [10,100,250,500,1000,2000,5000,7500,10000,25000,50000,100000,500000,1000000]\n",
    "for paths in path_array:\n",
    "    t0=time.time()\n",
    "    test=fin.bridgePayoffs(share1,myOption,paths,time_s,t_unit,scheme=fin.mc_Mil,anti=True,num_basis=4)\n",
    "    call_p[paths]=np.mean(test)\n",
    "    print(\"Time : \"+str(time.time()-t0)+\", Paths : \"+str(paths)\\\n",
    "         +\" LSM Price : \"+str(call_p[paths])+\" BS Price : \"+str(callbs))"
   ]
  },
  {
   "cell_type": "code",
   "execution_count": 12,
   "metadata": {},
   "outputs": [
    {
     "name": "stderr",
     "output_type": "stream",
     "text": [
      "/Users/anthonymaylath/Documents/Schoolwork/NYU/High_Performance_Computing/Thesis/proposal/FinObj.py:292: FutureWarning: `rcond` parameter will change to the default of machine precision times ``max(M, N)`` where M and N are the input matrix dimensions.\n",
      "To use the future default and silence this warning we advise to pass `rcond=None`, to keep using the old, explicitly pass `rcond=-1`.\n",
      "  betas = np.linalg.lstsq(X,Ct1)[0]\n"
     ]
    },
    {
     "name": "stdout",
     "output_type": "stream",
     "text": [
      "Time : 0.7198131084442139, Time Steps : 2 LSM Price : 0.4428938251960017 BS Price : 4.879844122033347\n",
      "Time : 3.8499081134796143, Time Steps : 10 LSM Price : 1.004695127660715 BS Price : 4.879844122033347\n",
      "Time : 9.6913743019104, Time Steps : 25 LSM Price : 1.5842309162677668 BS Price : 4.879844122033347\n",
      "Time : 19.513951301574707, Time Steps : 50 LSM Price : 2.3050218275262746 BS Price : 4.879844122033347\n",
      "Time : 29.66097068786621, Time Steps : 75 LSM Price : 2.831532056172122 BS Price : 4.879844122033347\n",
      "Time : 39.63576531410217, Time Steps : 100 LSM Price : 3.273075765993928 BS Price : 4.879844122033347\n",
      "Time : 60.1817741394043, Time Steps : 150 LSM Price : 4.132118408536446 BS Price : 4.879844122033347\n",
      "Time : 82.74747109413147, Time Steps : 200 LSM Price : 4.881429652736654 BS Price : 4.879844122033347\n"
     ]
    }
   ],
   "source": [
    "#Test against BS Call Price for time steps\n",
    "paths = 75000\n",
    "call_pst = {} #Call prices as a function of path size\n",
    "step_array = [2,10,25,50,75,100,150,200]\n",
    "for t in step_array:\n",
    "    t0=time.time()\n",
    "    test=fin.bridgePayoffs(share1,myOption,paths,t,t_unit,scheme=fin.mc_Mil,anti=True,num_basis=4)\n",
    "    call_pst[t]=np.mean(test)\n",
    "    print(\"Time : \"+str(time.time()-t0)+\", Time Steps : \"+str(t)\\\n",
    "         +\" LSM Price : \"+str(call_pst[t])+\" BS Price : \"+str(callbs))"
   ]
  }
 ],
 "metadata": {
  "kernelspec": {
   "display_name": "Python 3",
   "language": "python",
   "name": "python3"
  }
 },
 "nbformat": 4,
 "nbformat_minor": 2
}
