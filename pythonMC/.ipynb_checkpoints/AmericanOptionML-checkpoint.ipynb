{
 "cells": [
  {
   "cell_type": "code",
   "execution_count": 26,
   "metadata": {},
   "outputs": [],
   "source": [
    "import proj_helpers.FinObj as fin\n",
    "import numpy as np\n",
    "import proj_helpers.riskEngine as risk"
   ]
  },
  {
   "cell_type": "code",
   "execution_count": 27,
   "metadata": {
    "collapsed": true
   },
   "outputs": [],
   "source": [
    "#Map for units of time\n",
    "t_map = {'2y':0.5,'year':1,'semester':2,'quarter':4,'month':12,'week':52,'2day':180,'day':360}"
   ]
  },
  {
   "cell_type": "code",
   "execution_count": 28,
   "metadata": {
    "collapsed": true
   },
   "outputs": [],
   "source": [
    "#MC Parameters\n",
    "paths = 50000\n",
    "t_del = 1\n",
    "\n",
    "t_unit = 200 #Unit of time: default = 1 for years, 12 for months, 360 for days etc...\n",
    "time_s = 200 #Total number of time steps in t_units"
   ]
  },
  {
   "cell_type": "code",
   "execution_count": 35,
   "metadata": {
    "collapsed": true
   },
   "outputs": [],
   "source": [
    "#Stock Parameters\n",
    "spot = 100\n",
    "vol = 0.20 #vol per year\n",
    "rate = 0.02 #Rate in years\n",
    "div = 0.0\n",
    "expr = time_s/t_unit\n",
    "\n",
    "#Share object\n",
    "share1 = fin.Stock(spot,vol,t_unit,rate)"
   ]
  },
  {
   "cell_type": "code",
   "execution_count": 30,
   "metadata": {},
   "outputs": [],
   "source": [
    "strike=100\n",
    "payoff=fin.amCallVec #Define option payoff\n",
    "\n",
    "#Option Parameters\n",
    "myOption = fin.Option(share1,payoff,time_s,strike,t_unit)\n"
   ]
  },
  {
   "cell_type": "code",
   "execution_count": 31,
   "metadata": {},
   "outputs": [
    {
     "name": "stderr",
     "output_type": "stream",
     "text": [
      "/Users/anthonymaylath/Documents/Schoolwork/NYU/High_Performance_Computing/Thesis/NYU_Machine_Learning_Project/pythonMC/proj_helpers/FinObj.py:310: FutureWarning: `rcond` parameter will change to the default of machine precision times ``max(M, N)`` where M and N are the input matrix dimensions.\n",
      "To use the future default and silence this warning we advise to pass `rcond=None`, to keep using the old, explicitly pass `rcond=-1`.\n",
      "  betas = np.linalg.lstsq(X,Ct1)[0]\n"
     ]
    },
    {
     "name": "stdout",
     "output_type": "stream",
     "text": [
      "Warning: No Paths in the Money. Price May Round to Zero.\n",
      "Spot : 80.0 BS Price : 1.8594195728121825 LSM Price 1.8294963061304976\n",
      "Warning: No Paths in the Money. Price May Round to Zero.\n",
      "Spot : 82.10526315789474 BS Price : 2.368812862210522 LSM Price 2.3345336587963534\n",
      "Warning: No Paths in the Money. Price May Round to Zero.\n",
      "Spot : 84.21052631578948 BS Price : 2.9660674654600285 LSM Price 2.9401251430310107\n",
      "Warning: No Paths in the Money. Price May Round to Zero.\n",
      "Spot : 86.3157894736842 BS Price : 3.655423498090421 LSM Price 3.5628012353301224\n",
      "Warning: No Paths in the Money. Price May Round to Zero.\n",
      "Spot : 88.42105263157895 BS Price : 4.43974043382002 LSM Price 4.395490530711209\n",
      "Warning: No Paths in the Money. Price May Round to Zero.\n",
      "Spot : 90.52631578947368 BS Price : 5.320470535194538 LSM Price 5.363526068441256\n",
      "Warning: No Paths in the Money. Price May Round to Zero.\n",
      "Spot : 92.63157894736842 BS Price : 6.297694921737872 LSM Price 6.317060997739553\n",
      "Spot : 94.73684210526315 BS Price : 7.370212769650713 LSM Price 7.307171755158896\n",
      "Spot : 96.84210526315789 BS Price : 8.535671979244107 LSM Price 8.487293904814717\n",
      "Spot : 98.94736842105263 BS Price : 9.790728828494693 LSM Price 9.80264460964186\n",
      "Spot : 101.05263157894737 BS Price : 11.1312244350488 LSM Price 11.085528318744114\n",
      "Spot : 103.15789473684211 BS Price : 12.552366995612637 LSM Price 12.559932707005792\n",
      "Spot : 105.26315789473685 BS Price : 14.048910469346922 LSM Price 14.041712857053739\n",
      "Spot : 107.36842105263158 BS Price : 15.61532235176054 LSM Price 15.571287947809799\n",
      "Spot : 109.47368421052632 BS Price : 17.245935223318355 LSM Price 17.196638780128694\n",
      "Spot : 111.57894736842105 BS Price : 18.935078682724225 LSM Price 18.896233570587313\n",
      "Spot : 113.68421052631578 BS Price : 20.677189974154146 LSM Price 20.584289294417772\n",
      "Spot : 115.78947368421052 BS Price : 22.466903026157937 LSM Price 22.606166451190195\n",
      "Spot : 117.89473684210526 BS Price : 24.299116714229527 LSM Price 24.275143691937906\n",
      "Spot : 120.0 BS Price : 26.169043946847296 LSM Price 26.22169129620585\n"
     ]
    }
   ],
   "source": [
    "#Plot BS call vs. LSM call against spot\n",
    "import matplotlib.pyplot as pplot\n",
    "spots=np.linspace(80,120,20)\n",
    "call_bs = {}\n",
    "call_lsm = {}\n",
    "for s in spots:\n",
    "    call_bs[s] = risk.BSCall(s, strike, div, rate, vol, expr)\n",
    "    share1.setSpot(s) #Change spot price for LSM\n",
    "    call_lsm[s] = fin.priceLSM(share1,myOption,paths,time_s,t_unit,anti=True,num_basis=4)\n",
    "    print(\"Spot : \" + str(s) + \" BS Price : \" + str(call_bs[s]) + \" LSM Price \" + str(call_lsm[s]))"
   ]
  },
  {
   "cell_type": "code",
   "execution_count": 32,
   "metadata": {},
   "outputs": [
    {
     "data": {
      "image/png": "[encoded data removed]",
      "text/plain": [
       "<matplotlib.figure.Figure at 0x1082ecb70>"
      ]
     },
     "metadata": {},
     "output_type": "display_data"
    }
   ],
   "source": [
    "pplot.plot(spots,call_bs.values(),label='Black Scholes Call')\n",
    "pplot.plot(spots,call_lsm.values(),label='My LSM Call')\n",
    "pplot.legend()\n",
    "pplot.xlabel('Spot')\n",
    "pplot.ylabel('Price')\n",
    "pplot.show()"
   ]
  },
  {
   "cell_type": "code",
   "execution_count": null,
   "metadata": {},
   "outputs": [
    {
     "name": "stderr",
     "output_type": "stream",
     "text": [
      "/Users/anthonymaylath/Documents/Schoolwork/NYU/High_Performance_Computing/Thesis/NYU_Machine_Learning_Project/pythonMC/proj_helpers/FinObj.py:310: FutureWarning: `rcond` parameter will change to the default of machine precision times ``max(M, N)`` where M and N are the input matrix dimensions.\n",
      "To use the future default and silence this warning we advise to pass `rcond=None`, to keep using the old, explicitly pass `rcond=-1`.\n",
      "  betas = np.linalg.lstsq(X,Ct1)[0]\n"
     ]
    },
    {
     "name": "stdout",
     "output_type": "stream",
     "text": [
      "Spot : 40.0 BS Price : 58.01987680512821 LSM Price 59.99400029999003\n",
      "Spot : 42.758620689655174 BS Price : 55.261293952694416 LSM Price 57.23565545861116\n",
      "Spot : 45.51724137931035 BS Price : 52.50282062581439 LSM Price 54.47731061723231\n"
     ]
    }
   ],
   "source": [
    "payoff=fin.amPutVec #Define option payoff\n",
    "\n",
    "#Option Parameters\n",
    "myOption = fin.Option(share1,payoff,time_s,strike,t_unit)\n",
    "\n",
    "spots=np.linspace(40,120,30)\n",
    "put_bs = {}\n",
    "put_lsm = {}\n",
    "for s in spots:\n",
    "    put_bs[s] = risk.BSPut(s, strike, div, rate, vol, expr)\n",
    "    share1.setSpot(s) #Change spot price for LSM\n",
    "    put_lsm[s] = fin.priceLSM(share1,myOption,paths,time_s,t_unit,anti=True,num_basis=4)\n",
    "    print(\"Spot : \" + str(s) + \" BS Price : \" + str(put_bs[s]) + \" LSM Price \" + str(put_lsm[s]))"
   ]
  },
  {
   "cell_type": "code",
   "execution_count": null,
   "metadata": {},
   "outputs": [],
   "source": [
    "pplot.plot(spots,put_bs.values(),label='Black Scholes Put')\n",
    "pplot.plot(spots,put_lsm.values(),label='My LSM Put')\n",
    "pplot.legend()\n",
    "pplot.xlabel('Spot')\n",
    "pplot.ylabel('Price')\n",
    "pplot.show()"
   ]
  },
  {
   "cell_type": "code",
   "execution_count": 18,
   "metadata": {},
   "outputs": [],
   "source": [
    "# #Test against BS Call Price for paths\n",
    "# import time\n",
    "# call_p = {} #Call prices as a function of path size\n",
    "# path_array = [10,100,250,500,1000,2000,5000,7500,10000,25000,50000,100000,500000,1000000]\n",
    "# for paths in path_array:\n",
    "#     t0=time.time()\n",
    "#     test=fin.bridgePayoffs(share1,myOption,paths,time_s,t_unit,scheme=fin.mc_Mil,anti=True,num_basis=4)\n",
    "#     call_p[paths]=np.mean(test)\n",
    "#     print(\"Time : \"+str(time.time()-t0)+\", Paths : \"+str(paths)\\\n",
    "#          +\" LSM Price : \"+str(call_p[paths])+\" BS Price : \"+str(callbs))"
   ]
  },
  {
   "cell_type": "code",
   "execution_count": 19,
   "metadata": {
    "collapsed": true
   },
   "outputs": [],
   "source": [
    "# #Test against BS Call Price for time steps\n",
    "# paths = 75000\n",
    "# call_pst = {} #Call prices as a function of path size\n",
    "# step_array = [2,10,25,50,75,100,150,200]\n",
    "# for t in step_array:\n",
    "#     t0=time.time()\n",
    "#     test=fin.bridgePayoffs(share1,myOption,paths,t,t_unit,scheme=fin.mc_Mil,anti=True,num_basis=4)\n",
    "#     call_pst[t]=np.mean(test)\n",
    "#     print(\"Time : \"+str(time.time()-t0)+\", Time Steps : \"+str(t)\\\n",
    "#          +\" LSM Price : \"+str(call_pst[t])+\" BS Price : \"+str(callbs))"
   ]
  },
  {
   "cell_type": "code",
   "execution_count": null,
   "metadata": {
    "collapsed": true
   },
   "outputs": [],
   "source": []
  }
 ],
 "metadata": {
  "kernelspec": {
   "display_name": "Python 3",
   "language": "python",
   "name": "python3"
  },
  "language_info": {
   "codemirror_mode": {
    "name": "ipython",
    "version": 3
   },
   "file_extension": ".py",
   "mimetype": "text/x-python",
   "name": "python",
   "nbconvert_exporter": "python",
   "pygments_lexer": "ipython3",
   "version": "3.6.3"
  }
 },
 "nbformat": 4,
 "nbformat_minor": 2
}
