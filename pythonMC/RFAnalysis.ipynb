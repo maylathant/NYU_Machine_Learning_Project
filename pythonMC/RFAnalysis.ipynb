{
 "cells": [
  {
   "cell_type": "code",
   "execution_count": 1,
   "metadata": {
    "collapsed": true
   },
   "outputs": [],
   "source": [
    "import pickle\n",
    "import glob"
   ]
  },
  {
   "cell_type": "code",
   "execution_count": 29,
   "metadata": {
    "collapsed": true
   },
   "outputs": [],
   "source": [
    "LSM_step = 100\n",
    "spot = \"90.0\"\n",
    "paths = 2000\n",
    "gen_path = 'results/step_{steps}_paths_{path}_<function {func} at *>_spot_{spot}.pkl'"
   ]
  },
  {
   "cell_type": "code",
   "execution_count": 30,
   "metadata": {},
   "outputs": [],
   "source": [
    "lsm_path = gen_path.format(steps=LSM_step,path=paths,spot=spot,func=\"getCont\")\n",
    "with open(glob.glob(lsm_path)[0], 'rb') as f:\n",
    "    mynewlist = pickle.load(f)"
   ]
  },
  {
   "cell_type": "code",
   "execution_count": 31,
   "metadata": {},
   "outputs": [
    {
     "data": {
      "image/png": "[encoded data removed]",
      "text/plain": [
       "<matplotlib.figure.Figure at 0x11237c080>"
      ]
     },
     "metadata": {},
     "output_type": "display_data"
    }
   ],
   "source": [
    "import matplotlib.pyplot as pplot\n",
    "pplot.scatter(mynewlist['stockp'],mynewlist['payoff'])\n",
    "pplot.scatter(mynewlist['stockp'],mynewlist['Continuation'])\n",
    "pplot.show()"
   ]
  },
  {
   "cell_type": "code",
   "execution_count": 32,
   "metadata": {},
   "outputs": [],
   "source": [
    "gen_path = 'results/step_{steps}_paths_{path}_<function {func} at *>_spot_{spot}.pkl'\n",
    "rf_path = gen_path.format(steps=LSM_step,path=paths,spot=spot,func=\"getContRF\")\n",
    "with open(glob.glob(rf_path)[0], 'rb') as f:\n",
    "    mynewlist = pickle.load(f)"
   ]
  },
  {
   "cell_type": "code",
   "execution_count": 33,
   "metadata": {},
   "outputs": [
    {
     "data": {
      "image/png": "[encoded data removed]",
      "text/plain": [
       "<matplotlib.figure.Figure at 0x112372f60>"
      ]
     },
     "metadata": {},
     "output_type": "display_data"
    }
   ],
   "source": [
    "import matplotlib.pyplot as pplot\n",
    "pplot.scatter(mynewlist['stockp'],mynewlist['payoff'])\n",
    "pplot.scatter(mynewlist['stockp'],mynewlist['Continuation'])\n",
    "pplot.show()"
   ]
  },
  {
   "cell_type": "code",
   "execution_count": null,
   "metadata": {
    "collapsed": true
   },
   "outputs": [],
   "source": []
  }
 ],
 "metadata": {
  "kernelspec": {
   "display_name": "Python 3",
   "language": "python",
   "name": "python3"
  },
  "language_info": {
   "codemirror_mode": {
    "name": "ipython",
    "version": 3
   },
   "file_extension": ".py",
   "mimetype": "text/x-python",
   "name": "python",
   "nbconvert_exporter": "python",
   "pygments_lexer": "ipython3",
   "version": "3.6.3"
  }
 },
 "nbformat": 4,
 "nbformat_minor": 2
}
